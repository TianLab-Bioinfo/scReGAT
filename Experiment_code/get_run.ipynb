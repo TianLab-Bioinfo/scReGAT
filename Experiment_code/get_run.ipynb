{
 "cells": [
  {
   "cell_type": "code",
   "execution_count": 1,
   "id": "41a1752f",
   "metadata": {},
   "outputs": [],
   "source": [
    "import os\n",
    "import pandas as pd\n",
    "import torch\n",
    "import anndata as ad\n",
    "from torch_geometric.loader import DataLoader\n",
    "import scanpy as sc\n",
    "from scregat.data_process import prepare_model_input,sum_counts,plot_edge, ATACGraphDataset\n",
    "import numpy as np\n",
    "from scregat.model import train_scregat, explain_model_ig\n",
    "import pickle"
   ]
  },
  {
   "cell_type": "code",
   "execution_count": 2,
   "id": "e1ecc7b8",
   "metadata": {},
   "outputs": [],
   "source": [
    "import pickle\n",
    "with open('./dataset_atac.pkl', 'rb') as f:\n",
    "    dataset_atac = pickle.load(f)\n",
    "dataset_graph = ATACGraphDataset('./input_graph/')"
   ]
  },
  {
   "cell_type": "code",
   "execution_count": 4,
   "id": "45ee8a48",
   "metadata": {},
   "outputs": [],
   "source": [
    "test_cell = pd.read_csv('./test_cell_name.txt')['x'].values"
   ]
  },
  {
   "cell_type": "code",
   "execution_count": 6,
   "id": "1a4a7290",
   "metadata": {},
   "outputs": [
    {
     "name": "stderr",
     "output_type": "stream",
     "text": [
      "Processing samples: 100%|██████████| 8821/8821 [00:03<00:00, 2828.54it/s]\n"
     ]
    }
   ],
   "source": [
    "#import os\n",
    "import pandas as pd\n",
    "import torch\n",
    "import anndata as ad\n",
    "from torch_geometric.loader import DataLoader\n",
    "import scanpy as sc\n",
    "from scregat.data_process import prepare_model_input,sum_counts,plot_edge, ATACGraphDataset\n",
    "import numpy as np\n",
    "import pickle\n",
    "import random\n",
    "from tqdm import tqdm\n",
    "\n",
    "seq_vec = torch.load('./seq.pth')\n",
    "\n",
    "data = dataset_atac.array_peak\n",
    "torch_vector = torch.zeros(len(data))\n",
    "for idx, item in enumerate(data):\n",
    "    if item.startswith('chr'):\n",
    "        torch_vector[idx] = 0 \n",
    "    else:\n",
    "        torch_vector[idx] = 1 \n",
    "train_graph = []\n",
    "test_graph = []\n",
    "test_cell_type = []\n",
    "train_cell_type = []\n",
    "for i, sample in tqdm(enumerate(dataset_graph), total=len(dataset_graph), desc='Processing samples'):\n",
    "\n",
    "    seq_data = seq_vec\n",
    "    sample.seq_data = seq_data\n",
    "    sample.id_vec = torch_vector\n",
    "\n",
    "    \n",
    "    if sample.cell in test_cell:\n",
    "        test_graph.append(sample)\n",
    "        test_cell_type.append(sample.y.item())\n",
    "    else:\n",
    "        train_graph.append(sample)\n",
    "        train_cell_type.append(sample.y.item())\n",
    "\n"
   ]
  },
  {
   "cell_type": "code",
   "execution_count": 16,
   "id": "dd2437db",
   "metadata": {},
   "outputs": [],
   "source": [
    "import torch\n",
    "import torch.nn as nn\n",
    "import torch.nn.functional as F\n",
    "from torch_geometric.nn import GATConv\n",
    "\n",
    "class SCReGAT(torch.nn.Module):\n",
    "    def __init__(self,\n",
    "                 node_input_dim=2,\n",
    "                 node_output_dim=8,\n",
    "                 edge_embedding_dim=8,\n",
    "                 hidden_channels=16,  # 增加 hidden_channels\n",
    "                 gat_input_channels=8,\n",
    "                 gat_hidden_channels=8,  # 增加 GAT 隐藏通道\n",
    "                 seq_dim=768,\n",
    "                 seq2node_dim=1,\n",
    "                 max_tokens=1024,\n",
    "                 dropout=0.4,  # 增加 dropout\n",
    "                 num_head_1=16,  # 增加 GAT 头数\n",
    "                 num_head_2=16):  # 增加 GAT 头数\n",
    "        super(SCReGAT, self).__init__()\n",
    "\n",
    "        # Sequence transformation layer (currently commented out in forward)\n",
    "        self.NN_seq = nn.Sequential(\n",
    "            nn.Linear(seq_dim, 512),\n",
    "            nn.LayerNorm(512),\n",
    "            nn.LeakyReLU(),\n",
    "            nn.Linear(512, 128),\n",
    "            nn.LayerNorm(128),\n",
    "            nn.LeakyReLU(),\n",
    "            nn.Linear(128, seq2node_dim),\n",
    "        )\n",
    "\n",
    "        # Node feature transformation with BatchNorm\n",
    "        self.NN_node = nn.Sequential(\n",
    "            nn.Linear(node_input_dim, 128),\n",
    "            nn.LayerNorm(128),\n",
    "            nn.LeakyReLU(),\n",
    "            nn.Linear(128, 64),\n",
    "            nn.LayerNorm(64),\n",
    "            nn.LeakyReLU(),\n",
    "            nn.Linear(64, node_output_dim),\n",
    "        )\n",
    "\n",
    "        # Edge feature transformation with BatchNorm\n",
    "        self.NN_edge = nn.Sequential(\n",
    "            nn.Linear(1, 12),\n",
    "            nn.LayerNorm(12),\n",
    "            nn.LeakyReLU(),\n",
    "            nn.Linear(12, edge_embedding_dim),\n",
    "            nn.LeakyReLU()\n",
    "        )\n",
    "\n",
    "        # GAT layers with increased heads and self-loops\n",
    "        self.NN_conv1 = GATConv(node_output_dim, hidden_channels, heads=num_head_1, dropout=dropout, edge_dim=edge_embedding_dim, add_self_loops=False)\n",
    "        self.NN_flatten1 = nn.Linear(num_head_1 * hidden_channels, hidden_channels)\n",
    "\n",
    "        self.NN_conv2 = GATConv(hidden_channels, hidden_channels, heads=num_head_2, dropout=dropout, add_self_loops=False)\n",
    "        self.NN_flatten2 = nn.Linear(num_head_2 * hidden_channels, hidden_channels)\n",
    "\n",
    "        self.dropout = nn.Dropout(0.2)  \n",
    "        self.relu = nn.ReLU()\n",
    "        self.leaky = nn.LeakyReLU()\n",
    "        \n",
    "        self.NN_cell_type = nn.Sequential(\n",
    "            nn.Linear(1882, 128),\n",
    "            nn.LayerNorm(128),\n",
    "            nn.LeakyReLU(),\n",
    "            nn.Linear(128, 64),\n",
    "            nn.LayerNorm(64),\n",
    "            nn.LeakyReLU(),\n",
    "            nn.Linear(64, 9),\n",
    "            nn.Softmax()\n",
    "        )\n",
    "        \n",
    "\n",
    "    def forward(self, seq_data, raw_x, edge_index, edge_tf, batch, gene_num):\n",
    "        data = raw_x\n",
    "        seq_data = self.NN_seq(seq_data)\n",
    "        data = torch.cat((data, seq_data), dim=1)\n",
    "        data = self.NN_node(data)\n",
    "        \n",
    "        hidden_edge_input = raw_x[edge_index[0]] * raw_x[edge_index[1]]\n",
    "        hidden_edge = self.NN_edge(hidden_edge_input).sigmoid()\n",
    "        model.edge = torch.median(hidden_edge, dim=1)[0]\n",
    "        data, atten_w1 = self.NN_conv1(data, edge_index, edge_attr=hidden_edge, return_attention_weights=True)\n",
    "        data_1 = self.leaky(self.NN_flatten1(data))\n",
    "\n",
    "        data_2, atten_w2 = self.NN_conv2(data_1, edge_tf, return_attention_weights=True)\n",
    "        data_2 = self.leaky(self.NN_flatten2(data_2))\n",
    "        \n",
    "        data = data_1 + data_2\n",
    "        self.data = data\n",
    "        cell_type = self.NN_cell_type(torch.mean(data[:gene_num], dim=1))\n",
    "        gene_out = -F.log_softmax(data[:gene_num], dim=1)[:, 0]\n",
    "        return gene_out, atten_w1, cell_type\n",
    "\n",
    "import torch\n",
    "import torch.nn as nn"
   ]
  },
  {
   "cell_type": "code",
   "execution_count": 17,
   "id": "87306fcb",
   "metadata": {},
   "outputs": [],
   "source": [
    "model = SCReGAT()"
   ]
  },
  {
   "cell_type": "code",
   "execution_count": 18,
   "id": "8f9d2b83",
   "metadata": {},
   "outputs": [
    {
     "data": {
      "text/plain": [
       "1882"
      ]
     },
     "execution_count": 18,
     "metadata": {},
     "output_type": "execute_result"
    }
   ],
   "source": [
    "non_chr_peaks = [t for t in dataset_atac.array_peak if not t.startswith('chr')]\n",
    "len(non_chr_peaks)"
   ]
  },
  {
   "cell_type": "code",
   "execution_count": 20,
   "id": "88423c24",
   "metadata": {},
   "outputs": [],
   "source": [
    "import torch\n",
    "import torch.nn as nn\n",
    "\n",
    "class EdgeSparsityLoss(nn.Module):\n",
    "    def __init__(self, alpha=1.0, beta=1.0, gamma=5.0, threshold=0.1):\n",
    "        \"\"\"\n",
    "        自定义稀疏性损失函数\n",
    "        :param alpha: 控制L1稀疏正则化的权重\n",
    "        :param beta: 控制高权重边的激励\n",
    "        :param gamma: 控制阈值惩罚的权重\n",
    "        :param threshold: 边权重的阈值，小于该值的边将受到额外惩罚\n",
    "        \"\"\"\n",
    "        super(EdgeSparsityLoss, self).__init__()\n",
    "        self.alpha = alpha\n",
    "        self.beta = beta\n",
    "        self.gamma = gamma\n",
    "        self.threshold = threshold\n",
    "\n",
    "    def forward(self, edge_weights):\n",
    "        \"\"\"\n",
    "        计算自定义稀疏性损失\n",
    "        :param edge_weights: 模型生成的边权重向量 (torch.Tensor)\n",
    "        :return: 计算出的稀疏性损失 (torch.Tensor)\n",
    "        \"\"\"\n",
    "        # L1 正则化：鼓励稀疏性\n",
    "        sparsity_loss = self.alpha * torch.sum(torch.abs(edge_weights))\n",
    "\n",
    "        # 高权重激励：放大较大的权重\n",
    "        amplification_loss = -self.beta * torch.sum(torch.log(edge_weights + 1e-6))\n",
    "\n",
    "        # 阈值惩罚：将小于阈值的边权重推向 0\n",
    "        threshold_mask = edge_weights < self.threshold\n",
    "        threshold_penalty = self.gamma * torch.sum(torch.pow(edge_weights[threshold_mask], 2))\n",
    "\n",
    "        # 总损失：稀疏性、激励和阈值惩罚的组合\n",
    "        loss = sparsity_loss + amplification_loss + threshold_penalty\n",
    "        return loss\n"
   ]
  },
  {
   "cell_type": "code",
   "execution_count": 21,
   "id": "0f833965",
   "metadata": {},
   "outputs": [
    {
     "data": {
      "text/plain": [
       "9"
      ]
     },
     "execution_count": 21,
     "metadata": {},
     "output_type": "execute_result"
    }
   ],
   "source": [
    "len(dataset_atac.array_celltype)"
   ]
  },
  {
   "cell_type": "code",
   "execution_count": 22,
   "id": "987dbc42",
   "metadata": {},
   "outputs": [
    {
     "name": "stderr",
     "output_type": "stream",
     "text": [
      "Epoch 1/200:   0%|          | 0/200 [00:00<?, ?batch/s] UserWarning:/root/anaconda3/envs/HT2VEC/lib/python3.8/site-packages/torch/nn/modules/container.py:217: Implicit dimension choice for softmax has been deprecated. Change the call to include dim=X as an argument.\n",
      "Epoch 1/200: 100%|██████████| 200/200 [01:08<00:00,  2.94batch/s, attention_loss=0.03, cell_loss=2.2, loss=33, loss1=0.00406, sparse_loss=30.8]  \n"
     ]
    },
    {
     "name": "stdout",
     "output_type": "stream",
     "text": [
      "Epoch [1/200], Average Loss: 32.9970, Loss1: 0.0041, Attention Loss: 0.0300, Sparse Loss: 30.7605, Cell Loss: 2.2025\n"
     ]
    },
    {
     "name": "stderr",
     "output_type": "stream",
     "text": [
      "Epoch 2/200: 100%|██████████| 200/200 [01:06<00:00,  3.01batch/s, attention_loss=0.03, cell_loss=2.2, loss=32.3, loss1=0.00372, sparse_loss=30.1]\n"
     ]
    },
    {
     "name": "stdout",
     "output_type": "stream",
     "text": [
      "Epoch [2/200], Average Loss: 32.3267, Loss1: 0.0037, Attention Loss: 0.0300, Sparse Loss: 30.0938, Cell Loss: 2.1992\n"
     ]
    },
    {
     "name": "stderr",
     "output_type": "stream",
     "text": [
      "Epoch 3/200: 100%|██████████| 200/200 [01:08<00:00,  2.91batch/s, attention_loss=0.03, cell_loss=2.2, loss=32.1, loss1=0.00414, sparse_loss=29.9] \n"
     ]
    },
    {
     "name": "stdout",
     "output_type": "stream",
     "text": [
      "Epoch [3/200], Average Loss: 32.1496, Loss1: 0.0041, Attention Loss: 0.0300, Sparse Loss: 29.9141, Cell Loss: 2.2014\n"
     ]
    },
    {
     "name": "stderr",
     "output_type": "stream",
     "text": [
      "Epoch 4/200: 100%|██████████| 200/200 [01:06<00:00,  3.01batch/s, attention_loss=0.03, cell_loss=2.19, loss=32.1, loss1=0.0052, sparse_loss=29.9] \n"
     ]
    },
    {
     "name": "stdout",
     "output_type": "stream",
     "text": [
      "Epoch [4/200], Average Loss: 32.0985, Loss1: 0.0052, Attention Loss: 0.0300, Sparse Loss: 29.8734, Cell Loss: 2.1898\n"
     ]
    },
    {
     "name": "stderr",
     "output_type": "stream",
     "text": [
      "Epoch 5/200: 100%|██████████| 200/200 [01:07<00:00,  2.97batch/s, attention_loss=0.03, cell_loss=2.01, loss=31.9, loss1=0.0052, sparse_loss=29.9] \n"
     ]
    },
    {
     "name": "stdout",
     "output_type": "stream",
     "text": [
      "Epoch [5/200], Average Loss: 31.9078, Loss1: 0.0052, Attention Loss: 0.0300, Sparse Loss: 29.8591, Cell Loss: 2.0135\n"
     ]
    },
    {
     "name": "stderr",
     "output_type": "stream",
     "text": [
      "Epoch 6/200: 100%|██████████| 200/200 [01:06<00:00,  3.00batch/s, attention_loss=0.03, cell_loss=1.73, loss=31.6, loss1=0.00531, sparse_loss=29.9]\n"
     ]
    },
    {
     "name": "stdout",
     "output_type": "stream",
     "text": [
      "Epoch [6/200], Average Loss: 31.6220, Loss1: 0.0053, Attention Loss: 0.0300, Sparse Loss: 29.8533, Cell Loss: 1.7333\n"
     ]
    },
    {
     "name": "stderr",
     "output_type": "stream",
     "text": [
      "Epoch 7/200: 100%|██████████| 200/200 [01:07<00:00,  2.97batch/s, attention_loss=0.03, cell_loss=1.63, loss=31.5, loss1=0.00524, sparse_loss=29.8]\n"
     ]
    },
    {
     "name": "stdout",
     "output_type": "stream",
     "text": [
      "Epoch [7/200], Average Loss: 31.5111, Loss1: 0.0052, Attention Loss: 0.0300, Sparse Loss: 29.8493, Cell Loss: 1.6266\n"
     ]
    },
    {
     "name": "stderr",
     "output_type": "stream",
     "text": [
      "Epoch 8/200: 100%|██████████| 200/200 [01:06<00:00,  2.99batch/s, attention_loss=0.03, cell_loss=1.57, loss=31.5, loss1=0.00511, sparse_loss=29.8]\n"
     ]
    },
    {
     "name": "stdout",
     "output_type": "stream",
     "text": [
      "Epoch [8/200], Average Loss: 31.4562, Loss1: 0.0051, Attention Loss: 0.0300, Sparse Loss: 29.8462, Cell Loss: 1.5749\n"
     ]
    },
    {
     "name": "stderr",
     "output_type": "stream",
     "text": [
      "Epoch 9/200: 100%|██████████| 200/200 [01:07<00:00,  2.98batch/s, attention_loss=0.03, cell_loss=1.56, loss=31.4, loss1=0.00409, sparse_loss=29.8]\n"
     ]
    },
    {
     "name": "stdout",
     "output_type": "stream",
     "text": [
      "Epoch [9/200], Average Loss: 31.4340, Loss1: 0.0041, Attention Loss: 0.0300, Sparse Loss: 29.8440, Cell Loss: 1.5559\n"
     ]
    },
    {
     "name": "stderr",
     "output_type": "stream",
     "text": [
      "Epoch 10/200: 100%|██████████| 200/200 [01:06<00:00,  3.00batch/s, attention_loss=0.03, cell_loss=1.51, loss=31.4, loss1=0.00379, sparse_loss=29.8]\n"
     ]
    },
    {
     "name": "stdout",
     "output_type": "stream",
     "text": [
      "Epoch [10/200], Average Loss: 31.3912, Loss1: 0.0038, Attention Loss: 0.0300, Sparse Loss: 29.8425, Cell Loss: 1.5150\n"
     ]
    },
    {
     "name": "stderr",
     "output_type": "stream",
     "text": [
      "Epoch 11/200: 100%|██████████| 200/200 [01:07<00:00,  2.97batch/s, attention_loss=0.03, cell_loss=1.53, loss=31.4, loss1=0.00375, sparse_loss=29.8]\n"
     ]
    },
    {
     "name": "stdout",
     "output_type": "stream",
     "text": [
      "Epoch [11/200], Average Loss: 31.4068, Loss1: 0.0038, Attention Loss: 0.0300, Sparse Loss: 29.8412, Cell Loss: 1.5318\n"
     ]
    },
    {
     "name": "stderr",
     "output_type": "stream",
     "text": [
      "Epoch 12/200: 100%|██████████| 200/200 [01:05<00:00,  3.05batch/s, attention_loss=0.03, cell_loss=1.5, loss=31.4, loss1=0.00378, sparse_loss=29.8] \n"
     ]
    },
    {
     "name": "stdout",
     "output_type": "stream",
     "text": [
      "Epoch [12/200], Average Loss: 31.3721, Loss1: 0.0038, Attention Loss: 0.0300, Sparse Loss: 29.8404, Cell Loss: 1.4980\n"
     ]
    },
    {
     "name": "stderr",
     "output_type": "stream",
     "text": [
      "Epoch 13/200: 100%|██████████| 200/200 [01:06<00:00,  3.00batch/s, attention_loss=0.03, cell_loss=1.5, loss=31.4, loss1=0.00374, sparse_loss=29.8] \n"
     ]
    },
    {
     "name": "stdout",
     "output_type": "stream",
     "text": [
      "Epoch [13/200], Average Loss: 31.3772, Loss1: 0.0037, Attention Loss: 0.0300, Sparse Loss: 29.8397, Cell Loss: 1.5037\n"
     ]
    },
    {
     "name": "stderr",
     "output_type": "stream",
     "text": [
      "Epoch 14/200: 100%|██████████| 200/200 [01:07<00:00,  2.96batch/s, attention_loss=0.03, cell_loss=1.49, loss=31.4, loss1=0.00373, sparse_loss=29.8]\n"
     ]
    },
    {
     "name": "stdout",
     "output_type": "stream",
     "text": [
      "Epoch [14/200], Average Loss: 31.3602, Loss1: 0.0037, Attention Loss: 0.0300, Sparse Loss: 29.8393, Cell Loss: 1.4873\n"
     ]
    },
    {
     "name": "stderr",
     "output_type": "stream",
     "text": [
      "Epoch 15/200: 100%|██████████| 200/200 [01:06<00:00,  2.99batch/s, attention_loss=0.03, cell_loss=1.5, loss=31.4, loss1=0.00376, sparse_loss=29.8] \n"
     ]
    },
    {
     "name": "stdout",
     "output_type": "stream",
     "text": [
      "Epoch [15/200], Average Loss: 31.3679, Loss1: 0.0038, Attention Loss: 0.0300, Sparse Loss: 29.8389, Cell Loss: 1.4953\n"
     ]
    },
    {
     "name": "stderr",
     "output_type": "stream",
     "text": [
      "Epoch 16/200: 100%|██████████| 200/200 [01:07<00:00,  2.98batch/s, attention_loss=0.03, cell_loss=1.44, loss=31.3, loss1=0.00376, sparse_loss=29.8]\n"
     ]
    },
    {
     "name": "stdout",
     "output_type": "stream",
     "text": [
      "Epoch [16/200], Average Loss: 31.3162, Loss1: 0.0038, Attention Loss: 0.0300, Sparse Loss: 29.8386, Cell Loss: 1.4438\n"
     ]
    },
    {
     "name": "stderr",
     "output_type": "stream",
     "text": [
      "Epoch 17/200: 100%|██████████| 200/200 [01:05<00:00,  3.03batch/s, attention_loss=0.03, cell_loss=1.49, loss=31.4, loss1=0.00375, sparse_loss=29.8]\n"
     ]
    },
    {
     "name": "stdout",
     "output_type": "stream",
     "text": [
      "Epoch [17/200], Average Loss: 31.3577, Loss1: 0.0037, Attention Loss: 0.0300, Sparse Loss: 29.8383, Cell Loss: 1.4856\n"
     ]
    },
    {
     "name": "stderr",
     "output_type": "stream",
     "text": [
      "Epoch 18/200: 100%|██████████| 200/200 [01:06<00:00,  3.02batch/s, attention_loss=0.03, cell_loss=1.44, loss=31.3, loss1=0.00374, sparse_loss=29.8]\n"
     ]
    },
    {
     "name": "stdout",
     "output_type": "stream",
     "text": [
      "Epoch [18/200], Average Loss: 31.3073, Loss1: 0.0037, Attention Loss: 0.0300, Sparse Loss: 29.8382, Cell Loss: 1.4354\n"
     ]
    },
    {
     "name": "stderr",
     "output_type": "stream",
     "text": [
      "Epoch 19/200: 100%|██████████| 200/200 [01:08<00:00,  2.91batch/s, attention_loss=0.03, cell_loss=1.48, loss=31.4, loss1=0.00374, sparse_loss=29.8]\n"
     ]
    },
    {
     "name": "stdout",
     "output_type": "stream",
     "text": [
      "Epoch [19/200], Average Loss: 31.3536, Loss1: 0.0037, Attention Loss: 0.0300, Sparse Loss: 29.8380, Cell Loss: 1.4819\n"
     ]
    },
    {
     "name": "stderr",
     "output_type": "stream",
     "text": [
      "Epoch 20/200: 100%|██████████| 200/200 [01:15<00:00,  2.65batch/s, attention_loss=0.03, cell_loss=1.49, loss=31.4, loss1=0.00375, sparse_loss=29.8]\n"
     ]
    },
    {
     "name": "stdout",
     "output_type": "stream",
     "text": [
      "Epoch [20/200], Average Loss: 31.3625, Loss1: 0.0037, Attention Loss: 0.0300, Sparse Loss: 29.8379, Cell Loss: 1.4909\n"
     ]
    },
    {
     "name": "stderr",
     "output_type": "stream",
     "text": [
      "Epoch 21/200: 100%|██████████| 200/200 [01:17<00:00,  2.59batch/s, attention_loss=0.03, cell_loss=1.47, loss=31.3, loss1=0.00373, sparse_loss=29.8]\n"
     ]
    },
    {
     "name": "stdout",
     "output_type": "stream",
     "text": [
      "Epoch [21/200], Average Loss: 31.3457, Loss1: 0.0037, Attention Loss: 0.0300, Sparse Loss: 29.8378, Cell Loss: 1.4742\n"
     ]
    },
    {
     "name": "stderr",
     "output_type": "stream",
     "text": [
      "Epoch 22/200: 100%|██████████| 200/200 [01:15<00:00,  2.66batch/s, attention_loss=0.03, cell_loss=1.46, loss=31.3, loss1=0.00375, sparse_loss=29.8]\n"
     ]
    },
    {
     "name": "stdout",
     "output_type": "stream",
     "text": [
      "Epoch [22/200], Average Loss: 31.3348, Loss1: 0.0037, Attention Loss: 0.0300, Sparse Loss: 29.8377, Cell Loss: 1.4634\n"
     ]
    },
    {
     "name": "stderr",
     "output_type": "stream",
     "text": [
      "Epoch 23/200: 100%|██████████| 200/200 [01:15<00:00,  2.66batch/s, attention_loss=0.03, cell_loss=1.47, loss=31.3, loss1=0.00375, sparse_loss=29.8]\n"
     ]
    },
    {
     "name": "stdout",
     "output_type": "stream",
     "text": [
      "Epoch [23/200], Average Loss: 31.3371, Loss1: 0.0037, Attention Loss: 0.0300, Sparse Loss: 29.8376, Cell Loss: 1.4657\n"
     ]
    },
    {
     "name": "stderr",
     "output_type": "stream",
     "text": [
      "Epoch 24/200: 100%|██████████| 200/200 [01:14<00:00,  2.70batch/s, attention_loss=0.03, cell_loss=1.51, loss=31.4, loss1=0.00374, sparse_loss=29.8]\n"
     ]
    },
    {
     "name": "stdout",
     "output_type": "stream",
     "text": [
      "Epoch [24/200], Average Loss: 31.3765, Loss1: 0.0037, Attention Loss: 0.0300, Sparse Loss: 29.8375, Cell Loss: 1.5052\n"
     ]
    },
    {
     "name": "stderr",
     "output_type": "stream",
     "text": [
      "Epoch 25/200: 100%|██████████| 200/200 [01:13<00:00,  2.73batch/s, attention_loss=0.03, cell_loss=1.44, loss=31.3, loss1=0.00374, sparse_loss=29.8]\n"
     ]
    },
    {
     "name": "stdout",
     "output_type": "stream",
     "text": [
      "Epoch [25/200], Average Loss: 31.3111, Loss1: 0.0037, Attention Loss: 0.0300, Sparse Loss: 29.8375, Cell Loss: 1.4399\n"
     ]
    },
    {
     "name": "stderr",
     "output_type": "stream",
     "text": [
      "Epoch 26/200: 100%|██████████| 200/200 [01:13<00:00,  2.71batch/s, attention_loss=0.03, cell_loss=1.48, loss=31.4, loss1=0.00373, sparse_loss=29.8]\n"
     ]
    },
    {
     "name": "stdout",
     "output_type": "stream",
     "text": [
      "Epoch [26/200], Average Loss: 31.3556, Loss1: 0.0037, Attention Loss: 0.0300, Sparse Loss: 29.8374, Cell Loss: 1.4844\n"
     ]
    },
    {
     "name": "stderr",
     "output_type": "stream",
     "text": [
      "Epoch 27/200: 100%|██████████| 200/200 [01:13<00:00,  2.74batch/s, attention_loss=0.03, cell_loss=1.47, loss=31.3, loss1=0.00373, sparse_loss=29.8]\n"
     ]
    },
    {
     "name": "stdout",
     "output_type": "stream",
     "text": [
      "Epoch [27/200], Average Loss: 31.3369, Loss1: 0.0037, Attention Loss: 0.0300, Sparse Loss: 29.8374, Cell Loss: 1.4658\n"
     ]
    },
    {
     "name": "stderr",
     "output_type": "stream",
     "text": [
      "Epoch 28/200: 100%|██████████| 200/200 [01:16<00:00,  2.63batch/s, attention_loss=0.03, cell_loss=1.44, loss=31.3, loss1=0.00374, sparse_loss=29.8]\n"
     ]
    },
    {
     "name": "stdout",
     "output_type": "stream",
     "text": [
      "Epoch [28/200], Average Loss: 31.3157, Loss1: 0.0037, Attention Loss: 0.0300, Sparse Loss: 29.8374, Cell Loss: 1.4446\n"
     ]
    },
    {
     "name": "stderr",
     "output_type": "stream",
     "text": [
      "Epoch 29/200: 100%|██████████| 200/200 [01:13<00:00,  2.71batch/s, attention_loss=0.03, cell_loss=1.45, loss=31.3, loss1=0.00373, sparse_loss=29.8]\n"
     ]
    },
    {
     "name": "stdout",
     "output_type": "stream",
     "text": [
      "Epoch [29/200], Average Loss: 31.3181, Loss1: 0.0037, Attention Loss: 0.0300, Sparse Loss: 29.8373, Cell Loss: 1.4470\n"
     ]
    },
    {
     "name": "stderr",
     "output_type": "stream",
     "text": [
      "Epoch 30/200: 100%|██████████| 200/200 [01:12<00:00,  2.74batch/s, attention_loss=0.03, cell_loss=1.48, loss=31.4, loss1=0.00373, sparse_loss=29.8]\n"
     ]
    },
    {
     "name": "stdout",
     "output_type": "stream",
     "text": [
      "Epoch [30/200], Average Loss: 31.3556, Loss1: 0.0037, Attention Loss: 0.0300, Sparse Loss: 29.8373, Cell Loss: 1.4845\n"
     ]
    },
    {
     "name": "stderr",
     "output_type": "stream",
     "text": [
      "Epoch 31/200: 100%|██████████| 200/200 [01:13<00:00,  2.72batch/s, attention_loss=0.03, cell_loss=1.44, loss=31.3, loss1=0.00374, sparse_loss=29.8]\n"
     ]
    },
    {
     "name": "stdout",
     "output_type": "stream",
     "text": [
      "Epoch [31/200], Average Loss: 31.3135, Loss1: 0.0037, Attention Loss: 0.0300, Sparse Loss: 29.8373, Cell Loss: 1.4424\n"
     ]
    },
    {
     "name": "stderr",
     "output_type": "stream",
     "text": [
      "Epoch 32/200: 100%|██████████| 200/200 [01:18<00:00,  2.54batch/s, attention_loss=0.03, cell_loss=1.46, loss=31.3, loss1=0.00374, sparse_loss=29.8]\n"
     ]
    },
    {
     "name": "stdout",
     "output_type": "stream",
     "text": [
      "Epoch [32/200], Average Loss: 31.3317, Loss1: 0.0037, Attention Loss: 0.0300, Sparse Loss: 29.8373, Cell Loss: 1.4607\n"
     ]
    },
    {
     "name": "stderr",
     "output_type": "stream",
     "text": [
      "Epoch 33/200: 100%|██████████| 200/200 [01:17<00:00,  2.57batch/s, attention_loss=0.03, cell_loss=1.44, loss=31.3, loss1=0.00374, sparse_loss=29.8]\n"
     ]
    },
    {
     "name": "stdout",
     "output_type": "stream",
     "text": [
      "Epoch [33/200], Average Loss: 31.3098, Loss1: 0.0037, Attention Loss: 0.0300, Sparse Loss: 29.8373, Cell Loss: 1.4388\n"
     ]
    },
    {
     "name": "stderr",
     "output_type": "stream",
     "text": [
      "Epoch 34/200: 100%|██████████| 200/200 [01:18<00:00,  2.56batch/s, attention_loss=0.03, cell_loss=1.45, loss=31.3, loss1=0.00373, sparse_loss=29.8]\n"
     ]
    },
    {
     "name": "stdout",
     "output_type": "stream",
     "text": [
      "Epoch [34/200], Average Loss: 31.3166, Loss1: 0.0037, Attention Loss: 0.0300, Sparse Loss: 29.8372, Cell Loss: 1.4457\n"
     ]
    },
    {
     "name": "stderr",
     "output_type": "stream",
     "text": [
      "Epoch 35/200: 100%|██████████| 200/200 [01:18<00:00,  2.55batch/s, attention_loss=0.03, cell_loss=1.48, loss=31.3, loss1=0.00373, sparse_loss=29.8]\n"
     ]
    },
    {
     "name": "stdout",
     "output_type": "stream",
     "text": [
      "Epoch [35/200], Average Loss: 31.3483, Loss1: 0.0037, Attention Loss: 0.0300, Sparse Loss: 29.8372, Cell Loss: 1.4773\n"
     ]
    },
    {
     "name": "stderr",
     "output_type": "stream",
     "text": [
      "Epoch 36/200: 100%|██████████| 200/200 [01:18<00:00,  2.56batch/s, attention_loss=0.03, cell_loss=1.45, loss=31.3, loss1=0.00373, sparse_loss=29.8]\n"
     ]
    },
    {
     "name": "stdout",
     "output_type": "stream",
     "text": [
      "Epoch [36/200], Average Loss: 31.3234, Loss1: 0.0037, Attention Loss: 0.0300, Sparse Loss: 29.8372, Cell Loss: 1.4525\n"
     ]
    },
    {
     "name": "stderr",
     "output_type": "stream",
     "text": [
      "Epoch 37/200: 100%|██████████| 200/200 [01:17<00:00,  2.57batch/s, attention_loss=0.03, cell_loss=1.49, loss=31.4, loss1=0.00373, sparse_loss=29.8]\n"
     ]
    },
    {
     "name": "stdout",
     "output_type": "stream",
     "text": [
      "Epoch [37/200], Average Loss: 31.3582, Loss1: 0.0037, Attention Loss: 0.0300, Sparse Loss: 29.8372, Cell Loss: 1.4872\n"
     ]
    },
    {
     "name": "stderr",
     "output_type": "stream",
     "text": [
      "Epoch 38/200: 100%|██████████| 200/200 [01:17<00:00,  2.60batch/s, attention_loss=0.03, cell_loss=1.43, loss=31.3, loss1=0.00373, sparse_loss=29.8]\n"
     ]
    },
    {
     "name": "stdout",
     "output_type": "stream",
     "text": [
      "Epoch [38/200], Average Loss: 31.3045, Loss1: 0.0037, Attention Loss: 0.0300, Sparse Loss: 29.8372, Cell Loss: 1.4336\n"
     ]
    },
    {
     "name": "stderr",
     "output_type": "stream",
     "text": [
      "Epoch 39/200: 100%|██████████| 200/200 [01:16<00:00,  2.61batch/s, attention_loss=0.03, cell_loss=1.45, loss=31.3, loss1=0.00373, sparse_loss=29.8]\n"
     ]
    },
    {
     "name": "stdout",
     "output_type": "stream",
     "text": [
      "Epoch [39/200], Average Loss: 31.3216, Loss1: 0.0037, Attention Loss: 0.0300, Sparse Loss: 29.8372, Cell Loss: 1.4507\n"
     ]
    },
    {
     "name": "stderr",
     "output_type": "stream",
     "text": [
      "Epoch 40/200: 100%|██████████| 200/200 [01:16<00:00,  2.62batch/s, attention_loss=0.03, cell_loss=1.47, loss=31.3, loss1=0.00373, sparse_loss=29.8]\n"
     ]
    },
    {
     "name": "stdout",
     "output_type": "stream",
     "text": [
      "Epoch [40/200], Average Loss: 31.3452, Loss1: 0.0037, Attention Loss: 0.0300, Sparse Loss: 29.8372, Cell Loss: 1.4743\n"
     ]
    },
    {
     "name": "stderr",
     "output_type": "stream",
     "text": [
      "Epoch 41/200: 100%|██████████| 200/200 [01:16<00:00,  2.60batch/s, attention_loss=0.03, cell_loss=1.45, loss=31.3, loss1=0.00373, sparse_loss=29.8]\n"
     ]
    },
    {
     "name": "stdout",
     "output_type": "stream",
     "text": [
      "Epoch [41/200], Average Loss: 31.3254, Loss1: 0.0037, Attention Loss: 0.0300, Sparse Loss: 29.8372, Cell Loss: 1.4545\n"
     ]
    },
    {
     "name": "stderr",
     "output_type": "stream",
     "text": [
      "Epoch 42/200: 100%|██████████| 200/200 [01:18<00:00,  2.55batch/s, attention_loss=0.03, cell_loss=1.44, loss=31.3, loss1=0.00373, sparse_loss=29.8]\n"
     ]
    },
    {
     "name": "stdout",
     "output_type": "stream",
     "text": [
      "Epoch [42/200], Average Loss: 31.3151, Loss1: 0.0037, Attention Loss: 0.0300, Sparse Loss: 29.8372, Cell Loss: 1.4442\n"
     ]
    },
    {
     "name": "stderr",
     "output_type": "stream",
     "text": [
      "Epoch 43/200: 100%|██████████| 200/200 [01:17<00:00,  2.60batch/s, attention_loss=0.03, cell_loss=1.44, loss=31.3, loss1=0.00373, sparse_loss=29.8]\n"
     ]
    },
    {
     "name": "stdout",
     "output_type": "stream",
     "text": [
      "Epoch [43/200], Average Loss: 31.3071, Loss1: 0.0037, Attention Loss: 0.0300, Sparse Loss: 29.8372, Cell Loss: 1.4362\n"
     ]
    },
    {
     "name": "stderr",
     "output_type": "stream",
     "text": [
      "Epoch 44/200: 100%|██████████| 200/200 [01:17<00:00,  2.57batch/s, attention_loss=0.03, cell_loss=1.44, loss=31.3, loss1=0.00373, sparse_loss=29.8]\n"
     ]
    },
    {
     "name": "stdout",
     "output_type": "stream",
     "text": [
      "Epoch [44/200], Average Loss: 31.3113, Loss1: 0.0037, Attention Loss: 0.0300, Sparse Loss: 29.8372, Cell Loss: 1.4404\n"
     ]
    },
    {
     "name": "stderr",
     "output_type": "stream",
     "text": [
      "Epoch 45/200: 100%|██████████| 200/200 [01:15<00:00,  2.64batch/s, attention_loss=0.03, cell_loss=1.51, loss=31.4, loss1=0.00373, sparse_loss=29.8]\n"
     ]
    },
    {
     "name": "stdout",
     "output_type": "stream",
     "text": [
      "Epoch [45/200], Average Loss: 31.3845, Loss1: 0.0037, Attention Loss: 0.0300, Sparse Loss: 29.8372, Cell Loss: 1.5136\n"
     ]
    },
    {
     "name": "stderr",
     "output_type": "stream",
     "text": [
      "Epoch 46/200: 100%|██████████| 200/200 [01:17<00:00,  2.58batch/s, attention_loss=0.03, cell_loss=1.45, loss=31.3, loss1=0.00373, sparse_loss=29.8]\n"
     ]
    },
    {
     "name": "stdout",
     "output_type": "stream",
     "text": [
      "Epoch [46/200], Average Loss: 31.3254, Loss1: 0.0037, Attention Loss: 0.0300, Sparse Loss: 29.8372, Cell Loss: 1.4546\n"
     ]
    },
    {
     "name": "stderr",
     "output_type": "stream",
     "text": [
      "Epoch 47/200: 100%|██████████| 200/200 [01:16<00:00,  2.60batch/s, attention_loss=0.03, cell_loss=1.46, loss=31.3, loss1=0.00374, sparse_loss=29.8]\n"
     ]
    },
    {
     "name": "stdout",
     "output_type": "stream",
     "text": [
      "Epoch [47/200], Average Loss: 31.3288, Loss1: 0.0037, Attention Loss: 0.0300, Sparse Loss: 29.8372, Cell Loss: 1.4579\n"
     ]
    },
    {
     "name": "stderr",
     "output_type": "stream",
     "text": [
      "Epoch 48/200: 100%|██████████| 200/200 [01:16<00:00,  2.61batch/s, attention_loss=0.03, cell_loss=1.49, loss=31.4, loss1=0.00373, sparse_loss=29.8]\n"
     ]
    },
    {
     "name": "stdout",
     "output_type": "stream",
     "text": [
      "Epoch [48/200], Average Loss: 31.3626, Loss1: 0.0037, Attention Loss: 0.0300, Sparse Loss: 29.8371, Cell Loss: 1.4917\n"
     ]
    },
    {
     "name": "stderr",
     "output_type": "stream",
     "text": [
      "Epoch 49/200: 100%|██████████| 200/200 [01:17<00:00,  2.58batch/s, attention_loss=0.03, cell_loss=1.44, loss=31.3, loss1=0.00373, sparse_loss=29.8]\n"
     ]
    },
    {
     "name": "stdout",
     "output_type": "stream",
     "text": [
      "Epoch [49/200], Average Loss: 31.3061, Loss1: 0.0037, Attention Loss: 0.0300, Sparse Loss: 29.8371, Cell Loss: 1.4353\n"
     ]
    },
    {
     "name": "stderr",
     "output_type": "stream",
     "text": [
      "Epoch 50/200: 100%|██████████| 200/200 [01:17<00:00,  2.57batch/s, attention_loss=0.03, cell_loss=1.42, loss=31.3, loss1=0.00373, sparse_loss=29.8]\n"
     ]
    },
    {
     "name": "stdout",
     "output_type": "stream",
     "text": [
      "Epoch [50/200], Average Loss: 31.2898, Loss1: 0.0037, Attention Loss: 0.0300, Sparse Loss: 29.8371, Cell Loss: 1.4189\n"
     ]
    },
    {
     "name": "stderr",
     "output_type": "stream",
     "text": [
      "Epoch 51/200: 100%|██████████| 200/200 [01:17<00:00,  2.58batch/s, attention_loss=0.03, cell_loss=1.43, loss=31.3, loss1=0.00373, sparse_loss=29.8]\n"
     ]
    },
    {
     "name": "stdout",
     "output_type": "stream",
     "text": [
      "Epoch [51/200], Average Loss: 31.2980, Loss1: 0.0037, Attention Loss: 0.0300, Sparse Loss: 29.8371, Cell Loss: 1.4272\n"
     ]
    },
    {
     "name": "stderr",
     "output_type": "stream",
     "text": [
      "Epoch 52/200: 100%|██████████| 200/200 [01:17<00:00,  2.58batch/s, attention_loss=0.03, cell_loss=1.47, loss=31.3, loss1=0.00373, sparse_loss=29.8]\n"
     ]
    },
    {
     "name": "stdout",
     "output_type": "stream",
     "text": [
      "Epoch [52/200], Average Loss: 31.3430, Loss1: 0.0037, Attention Loss: 0.0300, Sparse Loss: 29.8371, Cell Loss: 1.4722\n"
     ]
    },
    {
     "name": "stderr",
     "output_type": "stream",
     "text": [
      "Epoch 53/200: 100%|██████████| 200/200 [01:17<00:00,  2.57batch/s, attention_loss=0.03, cell_loss=1.43, loss=31.3, loss1=0.00373, sparse_loss=29.8]\n"
     ]
    },
    {
     "name": "stdout",
     "output_type": "stream",
     "text": [
      "Epoch [53/200], Average Loss: 31.3019, Loss1: 0.0037, Attention Loss: 0.0300, Sparse Loss: 29.8371, Cell Loss: 1.4310\n"
     ]
    },
    {
     "name": "stderr",
     "output_type": "stream",
     "text": [
      "Epoch 54/200: 100%|██████████| 200/200 [01:16<00:00,  2.60batch/s, attention_loss=0.03, cell_loss=1.46, loss=31.3, loss1=0.00373, sparse_loss=29.8]\n"
     ]
    },
    {
     "name": "stdout",
     "output_type": "stream",
     "text": [
      "Epoch [54/200], Average Loss: 31.3264, Loss1: 0.0037, Attention Loss: 0.0300, Sparse Loss: 29.8371, Cell Loss: 1.4555\n"
     ]
    },
    {
     "name": "stderr",
     "output_type": "stream",
     "text": [
      "Epoch 55/200: 100%|██████████| 200/200 [01:17<00:00,  2.58batch/s, attention_loss=0.03, cell_loss=1.44, loss=31.3, loss1=0.00373, sparse_loss=29.8]\n"
     ]
    },
    {
     "name": "stdout",
     "output_type": "stream",
     "text": [
      "Epoch [55/200], Average Loss: 31.3098, Loss1: 0.0037, Attention Loss: 0.0300, Sparse Loss: 29.8371, Cell Loss: 1.4389\n"
     ]
    },
    {
     "name": "stderr",
     "output_type": "stream",
     "text": [
      "Epoch 56/200: 100%|██████████| 200/200 [01:17<00:00,  2.58batch/s, attention_loss=0.03, cell_loss=1.45, loss=31.3, loss1=0.00373, sparse_loss=29.8]\n"
     ]
    },
    {
     "name": "stdout",
     "output_type": "stream",
     "text": [
      "Epoch [56/200], Average Loss: 31.3166, Loss1: 0.0037, Attention Loss: 0.0300, Sparse Loss: 29.8371, Cell Loss: 1.4457\n"
     ]
    },
    {
     "name": "stderr",
     "output_type": "stream",
     "text": [
      "Epoch 57/200: 100%|██████████| 200/200 [01:17<00:00,  2.58batch/s, attention_loss=0.03, cell_loss=1.43, loss=31.3, loss1=0.00372, sparse_loss=29.8]\n"
     ]
    },
    {
     "name": "stdout",
     "output_type": "stream",
     "text": [
      "Epoch [57/200], Average Loss: 31.2992, Loss1: 0.0037, Attention Loss: 0.0300, Sparse Loss: 29.8371, Cell Loss: 1.4284\n"
     ]
    },
    {
     "name": "stderr",
     "output_type": "stream",
     "text": [
      "Epoch 58/200: 100%|██████████| 200/200 [01:16<00:00,  2.60batch/s, attention_loss=0.03, cell_loss=1.41, loss=31.3, loss1=0.00373, sparse_loss=29.8]\n"
     ]
    },
    {
     "name": "stdout",
     "output_type": "stream",
     "text": [
      "Epoch [58/200], Average Loss: 31.2828, Loss1: 0.0037, Attention Loss: 0.0300, Sparse Loss: 29.8371, Cell Loss: 1.4119\n"
     ]
    },
    {
     "name": "stderr",
     "output_type": "stream",
     "text": [
      "Epoch 59/200: 100%|██████████| 200/200 [01:18<00:00,  2.56batch/s, attention_loss=0.03, cell_loss=1.45, loss=31.3, loss1=0.00373, sparse_loss=29.8]\n"
     ]
    },
    {
     "name": "stdout",
     "output_type": "stream",
     "text": [
      "Epoch [59/200], Average Loss: 31.3217, Loss1: 0.0037, Attention Loss: 0.0300, Sparse Loss: 29.8371, Cell Loss: 1.4509\n"
     ]
    },
    {
     "name": "stderr",
     "output_type": "stream",
     "text": [
      "Epoch 60/200: 100%|██████████| 200/200 [01:16<00:00,  2.63batch/s, attention_loss=0.03, cell_loss=1.44, loss=31.3, loss1=0.00373, sparse_loss=29.8]\n"
     ]
    },
    {
     "name": "stdout",
     "output_type": "stream",
     "text": [
      "Epoch [60/200], Average Loss: 31.3133, Loss1: 0.0037, Attention Loss: 0.0300, Sparse Loss: 29.8371, Cell Loss: 1.4425\n"
     ]
    },
    {
     "name": "stderr",
     "output_type": "stream",
     "text": [
      "Epoch 61/200: 100%|██████████| 200/200 [01:16<00:00,  2.60batch/s, attention_loss=0.03, cell_loss=1.42, loss=31.3, loss1=0.00372, sparse_loss=29.8]\n"
     ]
    },
    {
     "name": "stdout",
     "output_type": "stream",
     "text": [
      "Epoch [61/200], Average Loss: 31.2865, Loss1: 0.0037, Attention Loss: 0.0300, Sparse Loss: 29.8371, Cell Loss: 1.4157\n"
     ]
    },
    {
     "name": "stderr",
     "output_type": "stream",
     "text": [
      "Epoch 62/200: 100%|██████████| 200/200 [01:17<00:00,  2.59batch/s, attention_loss=0.03, cell_loss=1.44, loss=31.3, loss1=0.00373, sparse_loss=29.8]\n"
     ]
    },
    {
     "name": "stdout",
     "output_type": "stream",
     "text": [
      "Epoch [62/200], Average Loss: 31.3122, Loss1: 0.0037, Attention Loss: 0.0300, Sparse Loss: 29.8371, Cell Loss: 1.4413\n"
     ]
    },
    {
     "name": "stderr",
     "output_type": "stream",
     "text": [
      "Epoch 63/200: 100%|██████████| 200/200 [01:18<00:00,  2.56batch/s, attention_loss=0.03, cell_loss=1.46, loss=31.3, loss1=0.00373, sparse_loss=29.8]\n"
     ]
    },
    {
     "name": "stdout",
     "output_type": "stream",
     "text": [
      "Epoch [63/200], Average Loss: 31.3281, Loss1: 0.0037, Attention Loss: 0.0300, Sparse Loss: 29.8371, Cell Loss: 1.4572\n"
     ]
    },
    {
     "name": "stderr",
     "output_type": "stream",
     "text": [
      "Epoch 64/200: 100%|██████████| 200/200 [01:16<00:00,  2.60batch/s, attention_loss=0.03, cell_loss=1.46, loss=31.3, loss1=0.00373, sparse_loss=29.8]\n"
     ]
    },
    {
     "name": "stdout",
     "output_type": "stream",
     "text": [
      "Epoch [64/200], Average Loss: 31.3269, Loss1: 0.0037, Attention Loss: 0.0300, Sparse Loss: 29.8371, Cell Loss: 1.4560\n"
     ]
    },
    {
     "name": "stderr",
     "output_type": "stream",
     "text": [
      "Epoch 65/200: 100%|██████████| 200/200 [01:16<00:00,  2.60batch/s, attention_loss=0.03, cell_loss=1.48, loss=31.4, loss1=0.00374, sparse_loss=29.8]\n"
     ]
    },
    {
     "name": "stdout",
     "output_type": "stream",
     "text": [
      "Epoch [65/200], Average Loss: 31.3507, Loss1: 0.0037, Attention Loss: 0.0300, Sparse Loss: 29.8371, Cell Loss: 1.4798\n"
     ]
    },
    {
     "name": "stderr",
     "output_type": "stream",
     "text": [
      "Epoch 66/200: 100%|██████████| 200/200 [01:18<00:00,  2.56batch/s, attention_loss=0.03, cell_loss=1.45, loss=31.3, loss1=0.00373, sparse_loss=29.8]\n"
     ]
    },
    {
     "name": "stdout",
     "output_type": "stream",
     "text": [
      "Epoch [66/200], Average Loss: 31.3163, Loss1: 0.0037, Attention Loss: 0.0300, Sparse Loss: 29.8371, Cell Loss: 1.4454\n"
     ]
    },
    {
     "name": "stderr",
     "output_type": "stream",
     "text": [
      "Epoch 67/200: 100%|██████████| 200/200 [01:17<00:00,  2.57batch/s, attention_loss=0.03, cell_loss=1.44, loss=31.3, loss1=0.00373, sparse_loss=29.8]\n"
     ]
    },
    {
     "name": "stdout",
     "output_type": "stream",
     "text": [
      "Epoch [67/200], Average Loss: 31.3111, Loss1: 0.0037, Attention Loss: 0.0300, Sparse Loss: 29.8371, Cell Loss: 1.4403\n"
     ]
    },
    {
     "name": "stderr",
     "output_type": "stream",
     "text": [
      "Epoch 68/200: 100%|██████████| 200/200 [01:17<00:00,  2.58batch/s, attention_loss=0.03, cell_loss=1.43, loss=31.3, loss1=0.00373, sparse_loss=29.8]\n"
     ]
    },
    {
     "name": "stdout",
     "output_type": "stream",
     "text": [
      "Epoch [68/200], Average Loss: 31.3026, Loss1: 0.0037, Attention Loss: 0.0300, Sparse Loss: 29.8371, Cell Loss: 1.4317\n"
     ]
    },
    {
     "name": "stderr",
     "output_type": "stream",
     "text": [
      "Epoch 69/200: 100%|██████████| 200/200 [01:17<00:00,  2.58batch/s, attention_loss=0.03, cell_loss=1.5, loss=31.4, loss1=0.00373, sparse_loss=29.8] \n"
     ]
    },
    {
     "name": "stdout",
     "output_type": "stream",
     "text": [
      "Epoch [69/200], Average Loss: 31.3667, Loss1: 0.0037, Attention Loss: 0.0300, Sparse Loss: 29.8371, Cell Loss: 1.4958\n"
     ]
    },
    {
     "name": "stderr",
     "output_type": "stream",
     "text": [
      "Epoch 70/200: 100%|██████████| 200/200 [01:17<00:00,  2.58batch/s, attention_loss=0.03, cell_loss=2.28, loss=32.1, loss1=0.00372, sparse_loss=29.8]\n"
     ]
    },
    {
     "name": "stdout",
     "output_type": "stream",
     "text": [
      "Epoch [70/200], Average Loss: 32.1478, Loss1: 0.0037, Attention Loss: 0.0300, Sparse Loss: 29.8371, Cell Loss: 2.2770\n"
     ]
    },
    {
     "name": "stderr",
     "output_type": "stream",
     "text": [
      "Epoch 71/200: 100%|██████████| 200/200 [01:17<00:00,  2.57batch/s, attention_loss=0.03, cell_loss=2.27, loss=32.1, loss1=0.00372, sparse_loss=29.8]\n"
     ]
    },
    {
     "name": "stdout",
     "output_type": "stream",
     "text": [
      "Epoch [71/200], Average Loss: 32.1428, Loss1: 0.0037, Attention Loss: 0.0300, Sparse Loss: 29.8371, Cell Loss: 2.2720\n"
     ]
    },
    {
     "name": "stderr",
     "output_type": "stream",
     "text": [
      "Epoch 72/200: 100%|██████████| 200/200 [01:16<00:00,  2.61batch/s, attention_loss=0.03, cell_loss=2.25, loss=32.1, loss1=0.00372, sparse_loss=29.8]\n"
     ]
    },
    {
     "name": "stdout",
     "output_type": "stream",
     "text": [
      "Epoch [72/200], Average Loss: 32.1178, Loss1: 0.0037, Attention Loss: 0.0300, Sparse Loss: 29.8371, Cell Loss: 2.2470\n"
     ]
    },
    {
     "name": "stderr",
     "output_type": "stream",
     "text": [
      "Epoch 73/200: 100%|██████████| 200/200 [01:17<00:00,  2.57batch/s, attention_loss=0.03, cell_loss=2.24, loss=32.1, loss1=0.00372, sparse_loss=29.8]\n"
     ]
    },
    {
     "name": "stdout",
     "output_type": "stream",
     "text": [
      "Epoch [73/200], Average Loss: 32.1128, Loss1: 0.0037, Attention Loss: 0.0300, Sparse Loss: 29.8371, Cell Loss: 2.2420\n"
     ]
    },
    {
     "name": "stderr",
     "output_type": "stream",
     "text": [
      "Epoch 74/200: 100%|██████████| 200/200 [01:16<00:00,  2.60batch/s, attention_loss=0.03, cell_loss=2.28, loss=32.2, loss1=0.00372, sparse_loss=29.8]\n"
     ]
    },
    {
     "name": "stdout",
     "output_type": "stream",
     "text": [
      "Epoch [74/200], Average Loss: 32.1528, Loss1: 0.0037, Attention Loss: 0.0300, Sparse Loss: 29.8371, Cell Loss: 2.2820\n"
     ]
    },
    {
     "name": "stderr",
     "output_type": "stream",
     "text": [
      "Epoch 75/200: 100%|██████████| 200/200 [01:17<00:00,  2.58batch/s, attention_loss=0.03, cell_loss=2.21, loss=32.1, loss1=0.00372, sparse_loss=29.8]\n"
     ]
    },
    {
     "name": "stdout",
     "output_type": "stream",
     "text": [
      "Epoch [75/200], Average Loss: 32.0828, Loss1: 0.0037, Attention Loss: 0.0300, Sparse Loss: 29.8371, Cell Loss: 2.2120\n"
     ]
    },
    {
     "name": "stderr",
     "output_type": "stream",
     "text": [
      "Epoch 76/200: 100%|██████████| 200/200 [01:16<00:00,  2.60batch/s, attention_loss=0.03, cell_loss=2.28, loss=32.1, loss1=0.00372, sparse_loss=29.8]\n"
     ]
    },
    {
     "name": "stdout",
     "output_type": "stream",
     "text": [
      "Epoch [76/200], Average Loss: 32.1478, Loss1: 0.0037, Attention Loss: 0.0300, Sparse Loss: 29.8371, Cell Loss: 2.2770\n"
     ]
    },
    {
     "name": "stderr",
     "output_type": "stream",
     "text": [
      "Epoch 77/200: 100%|██████████| 200/200 [01:18<00:00,  2.53batch/s, attention_loss=0.03, cell_loss=2.2, loss=32.1, loss1=0.00372, sparse_loss=29.8] \n"
     ]
    },
    {
     "name": "stdout",
     "output_type": "stream",
     "text": [
      "Epoch [77/200], Average Loss: 32.0678, Loss1: 0.0037, Attention Loss: 0.0300, Sparse Loss: 29.8371, Cell Loss: 2.1970\n"
     ]
    },
    {
     "name": "stderr",
     "output_type": "stream",
     "text": [
      "Epoch 78/200: 100%|██████████| 200/200 [01:17<00:00,  2.58batch/s, attention_loss=0.03, cell_loss=2.26, loss=32.1, loss1=0.00372, sparse_loss=29.8]\n"
     ]
    },
    {
     "name": "stdout",
     "output_type": "stream",
     "text": [
      "Epoch [78/200], Average Loss: 32.1278, Loss1: 0.0037, Attention Loss: 0.0300, Sparse Loss: 29.8371, Cell Loss: 2.2570\n"
     ]
    },
    {
     "name": "stderr",
     "output_type": "stream",
     "text": [
      "Epoch 79/200: 100%|██████████| 200/200 [01:17<00:00,  2.58batch/s, attention_loss=0.03, cell_loss=2.27, loss=32.1, loss1=0.00372, sparse_loss=29.8]\n"
     ]
    },
    {
     "name": "stdout",
     "output_type": "stream",
     "text": [
      "Epoch [79/200], Average Loss: 32.1428, Loss1: 0.0037, Attention Loss: 0.0300, Sparse Loss: 29.8371, Cell Loss: 2.2720\n"
     ]
    },
    {
     "name": "stderr",
     "output_type": "stream",
     "text": [
      "Epoch 80/200: 100%|██████████| 200/200 [01:17<00:00,  2.57batch/s, attention_loss=0.03, cell_loss=2.29, loss=32.2, loss1=0.00372, sparse_loss=29.8]\n"
     ]
    },
    {
     "name": "stdout",
     "output_type": "stream",
     "text": [
      "Epoch [80/200], Average Loss: 32.1578, Loss1: 0.0037, Attention Loss: 0.0300, Sparse Loss: 29.8371, Cell Loss: 2.2870\n"
     ]
    },
    {
     "name": "stderr",
     "output_type": "stream",
     "text": [
      "Epoch 81/200: 100%|██████████| 200/200 [01:16<00:00,  2.60batch/s, attention_loss=0.03, cell_loss=2.28, loss=32.1, loss1=0.00373, sparse_loss=29.8]\n"
     ]
    },
    {
     "name": "stdout",
     "output_type": "stream",
     "text": [
      "Epoch [81/200], Average Loss: 32.1478, Loss1: 0.0037, Attention Loss: 0.0300, Sparse Loss: 29.8371, Cell Loss: 2.2770\n"
     ]
    },
    {
     "name": "stderr",
     "output_type": "stream",
     "text": [
      "Epoch 82/200: 100%|██████████| 200/200 [01:15<00:00,  2.63batch/s, attention_loss=0.03, cell_loss=2.26, loss=32.1, loss1=0.00372, sparse_loss=29.8]\n"
     ]
    },
    {
     "name": "stdout",
     "output_type": "stream",
     "text": [
      "Epoch [82/200], Average Loss: 32.1328, Loss1: 0.0037, Attention Loss: 0.0300, Sparse Loss: 29.8371, Cell Loss: 2.2620\n"
     ]
    },
    {
     "name": "stderr",
     "output_type": "stream",
     "text": [
      "Epoch 83/200: 100%|██████████| 200/200 [01:17<00:00,  2.58batch/s, attention_loss=0.03, cell_loss=2.29, loss=32.2, loss1=0.00372, sparse_loss=29.8]\n"
     ]
    },
    {
     "name": "stdout",
     "output_type": "stream",
     "text": [
      "Epoch [83/200], Average Loss: 32.1628, Loss1: 0.0037, Attention Loss: 0.0300, Sparse Loss: 29.8371, Cell Loss: 2.2920\n"
     ]
    },
    {
     "name": "stderr",
     "output_type": "stream",
     "text": [
      "Epoch 84/200: 100%|██████████| 200/200 [01:18<00:00,  2.56batch/s, attention_loss=0.03, cell_loss=2.24, loss=32.1, loss1=0.00372, sparse_loss=29.8]\n"
     ]
    },
    {
     "name": "stdout",
     "output_type": "stream",
     "text": [
      "Epoch [84/200], Average Loss: 32.1128, Loss1: 0.0037, Attention Loss: 0.0300, Sparse Loss: 29.8371, Cell Loss: 2.2420\n"
     ]
    },
    {
     "name": "stderr",
     "output_type": "stream",
     "text": [
      "Epoch 85/200: 100%|██████████| 200/200 [01:17<00:00,  2.58batch/s, attention_loss=0.03, cell_loss=2.24, loss=32.1, loss1=0.00371, sparse_loss=29.8]\n"
     ]
    },
    {
     "name": "stdout",
     "output_type": "stream",
     "text": [
      "Epoch [85/200], Average Loss: 32.1078, Loss1: 0.0037, Attention Loss: 0.0300, Sparse Loss: 29.8371, Cell Loss: 2.2370\n"
     ]
    },
    {
     "name": "stderr",
     "output_type": "stream",
     "text": [
      "Epoch 86/200: 100%|██████████| 200/200 [01:17<00:00,  2.58batch/s, attention_loss=0.03, cell_loss=2.24, loss=32.1, loss1=0.00372, sparse_loss=29.8]\n"
     ]
    },
    {
     "name": "stdout",
     "output_type": "stream",
     "text": [
      "Epoch [86/200], Average Loss: 32.1078, Loss1: 0.0037, Attention Loss: 0.0300, Sparse Loss: 29.8371, Cell Loss: 2.2370\n"
     ]
    },
    {
     "name": "stderr",
     "output_type": "stream",
     "text": [
      "Epoch 87/200: 100%|██████████| 200/200 [01:17<00:00,  2.57batch/s, attention_loss=0.03, cell_loss=2.26, loss=32.1, loss1=0.00372, sparse_loss=29.8]\n"
     ]
    },
    {
     "name": "stdout",
     "output_type": "stream",
     "text": [
      "Epoch [87/200], Average Loss: 32.1278, Loss1: 0.0037, Attention Loss: 0.0300, Sparse Loss: 29.8371, Cell Loss: 2.2570\n"
     ]
    },
    {
     "name": "stderr",
     "output_type": "stream",
     "text": [
      "Epoch 88/200: 100%|██████████| 200/200 [01:16<00:00,  2.61batch/s, attention_loss=0.03, cell_loss=2.23, loss=32.1, loss1=0.00372, sparse_loss=29.8]\n"
     ]
    },
    {
     "name": "stdout",
     "output_type": "stream",
     "text": [
      "Epoch [88/200], Average Loss: 32.1028, Loss1: 0.0037, Attention Loss: 0.0300, Sparse Loss: 29.8371, Cell Loss: 2.2320\n"
     ]
    },
    {
     "name": "stderr",
     "output_type": "stream",
     "text": [
      "Epoch 89/200: 100%|██████████| 200/200 [01:17<00:00,  2.60batch/s, attention_loss=0.03, cell_loss=2.26, loss=32.1, loss1=0.00372, sparse_loss=29.8]\n"
     ]
    },
    {
     "name": "stdout",
     "output_type": "stream",
     "text": [
      "Epoch [89/200], Average Loss: 32.1278, Loss1: 0.0037, Attention Loss: 0.0300, Sparse Loss: 29.8371, Cell Loss: 2.2570\n"
     ]
    },
    {
     "name": "stderr",
     "output_type": "stream",
     "text": [
      "Epoch 90/200: 100%|██████████| 200/200 [01:17<00:00,  2.58batch/s, attention_loss=0.03, cell_loss=2.25, loss=32.1, loss1=0.00372, sparse_loss=29.8]\n"
     ]
    },
    {
     "name": "stdout",
     "output_type": "stream",
     "text": [
      "Epoch [90/200], Average Loss: 32.1228, Loss1: 0.0037, Attention Loss: 0.0300, Sparse Loss: 29.8371, Cell Loss: 2.2520\n"
     ]
    },
    {
     "name": "stderr",
     "output_type": "stream",
     "text": [
      "Epoch 91/200: 100%|██████████| 200/200 [01:17<00:00,  2.57batch/s, attention_loss=0.03, cell_loss=2.27, loss=32.1, loss1=0.00372, sparse_loss=29.8]\n"
     ]
    },
    {
     "name": "stdout",
     "output_type": "stream",
     "text": [
      "Epoch [91/200], Average Loss: 32.1378, Loss1: 0.0037, Attention Loss: 0.0300, Sparse Loss: 29.8371, Cell Loss: 2.2670\n"
     ]
    },
    {
     "name": "stderr",
     "output_type": "stream",
     "text": [
      "Epoch 92/200: 100%|██████████| 200/200 [01:16<00:00,  2.61batch/s, attention_loss=0.03, cell_loss=2.29, loss=32.2, loss1=0.00372, sparse_loss=29.8]\n"
     ]
    },
    {
     "name": "stdout",
     "output_type": "stream",
     "text": [
      "Epoch [92/200], Average Loss: 32.1628, Loss1: 0.0037, Attention Loss: 0.0300, Sparse Loss: 29.8371, Cell Loss: 2.2920\n"
     ]
    },
    {
     "name": "stderr",
     "output_type": "stream",
     "text": [
      "Epoch 93/200: 100%|██████████| 200/200 [01:16<00:00,  2.61batch/s, attention_loss=0.03, cell_loss=2.25, loss=32.1, loss1=0.00371, sparse_loss=29.8]\n"
     ]
    },
    {
     "name": "stdout",
     "output_type": "stream",
     "text": [
      "Epoch [93/200], Average Loss: 32.1178, Loss1: 0.0037, Attention Loss: 0.0300, Sparse Loss: 29.8371, Cell Loss: 2.2470\n"
     ]
    },
    {
     "name": "stderr",
     "output_type": "stream",
     "text": [
      "Epoch 94/200: 100%|██████████| 200/200 [01:17<00:00,  2.57batch/s, attention_loss=0.03, cell_loss=2.25, loss=32.1, loss1=0.00372, sparse_loss=29.8]\n"
     ]
    },
    {
     "name": "stdout",
     "output_type": "stream",
     "text": [
      "Epoch [94/200], Average Loss: 32.1228, Loss1: 0.0037, Attention Loss: 0.0300, Sparse Loss: 29.8371, Cell Loss: 2.2520\n"
     ]
    },
    {
     "name": "stderr",
     "output_type": "stream",
     "text": [
      "Epoch 95/200: 100%|██████████| 200/200 [01:16<00:00,  2.60batch/s, attention_loss=0.03, cell_loss=2.28, loss=32.2, loss1=0.00373, sparse_loss=29.8]\n"
     ]
    },
    {
     "name": "stdout",
     "output_type": "stream",
     "text": [
      "Epoch [95/200], Average Loss: 32.1528, Loss1: 0.0037, Attention Loss: 0.0300, Sparse Loss: 29.8371, Cell Loss: 2.2820\n"
     ]
    },
    {
     "name": "stderr",
     "output_type": "stream",
     "text": [
      "Epoch 96/200: 100%|██████████| 200/200 [01:16<00:00,  2.62batch/s, attention_loss=0.03, cell_loss=2.25, loss=32.1, loss1=0.00372, sparse_loss=29.8]\n"
     ]
    },
    {
     "name": "stdout",
     "output_type": "stream",
     "text": [
      "Epoch [96/200], Average Loss: 32.1228, Loss1: 0.0037, Attention Loss: 0.0300, Sparse Loss: 29.8371, Cell Loss: 2.2520\n"
     ]
    },
    {
     "name": "stderr",
     "output_type": "stream",
     "text": [
      "Epoch 97/200: 100%|██████████| 200/200 [01:16<00:00,  2.61batch/s, attention_loss=0.03, cell_loss=2.25, loss=32.1, loss1=0.00371, sparse_loss=29.8]\n"
     ]
    },
    {
     "name": "stdout",
     "output_type": "stream",
     "text": [
      "Epoch [97/200], Average Loss: 32.1178, Loss1: 0.0037, Attention Loss: 0.0300, Sparse Loss: 29.8371, Cell Loss: 2.2470\n"
     ]
    },
    {
     "name": "stderr",
     "output_type": "stream",
     "text": [
      "Epoch 98/200: 100%|██████████| 200/200 [01:18<00:00,  2.56batch/s, attention_loss=0.03, cell_loss=2.25, loss=32.1, loss1=0.00372, sparse_loss=29.8]\n"
     ]
    },
    {
     "name": "stdout",
     "output_type": "stream",
     "text": [
      "Epoch [98/200], Average Loss: 32.1228, Loss1: 0.0037, Attention Loss: 0.0300, Sparse Loss: 29.8371, Cell Loss: 2.2520\n"
     ]
    },
    {
     "name": "stderr",
     "output_type": "stream",
     "text": [
      "Epoch 99/200: 100%|██████████| 200/200 [01:17<00:00,  2.59batch/s, attention_loss=0.03, cell_loss=2.23, loss=32.1, loss1=0.00372, sparse_loss=29.8]\n"
     ]
    },
    {
     "name": "stdout",
     "output_type": "stream",
     "text": [
      "Epoch [99/200], Average Loss: 32.0978, Loss1: 0.0037, Attention Loss: 0.0300, Sparse Loss: 29.8371, Cell Loss: 2.2270\n"
     ]
    },
    {
     "name": "stderr",
     "output_type": "stream",
     "text": [
      "Epoch 100/200: 100%|██████████| 200/200 [01:17<00:00,  2.57batch/s, attention_loss=0.03, cell_loss=2.24, loss=32.1, loss1=0.00372, sparse_loss=29.8]\n"
     ]
    },
    {
     "name": "stdout",
     "output_type": "stream",
     "text": [
      "Epoch [100/200], Average Loss: 32.1078, Loss1: 0.0037, Attention Loss: 0.0300, Sparse Loss: 29.8371, Cell Loss: 2.2370\n"
     ]
    },
    {
     "name": "stderr",
     "output_type": "stream",
     "text": [
      "Epoch 101/200: 100%|██████████| 200/200 [01:18<00:00,  2.55batch/s, attention_loss=0.03, cell_loss=2.25, loss=32.1, loss1=0.00372, sparse_loss=29.8]\n"
     ]
    },
    {
     "name": "stdout",
     "output_type": "stream",
     "text": [
      "Epoch [101/200], Average Loss: 32.1228, Loss1: 0.0037, Attention Loss: 0.0300, Sparse Loss: 29.8371, Cell Loss: 2.2520\n"
     ]
    },
    {
     "name": "stderr",
     "output_type": "stream",
     "text": [
      "Epoch 102/200: 100%|██████████| 200/200 [01:17<00:00,  2.59batch/s, attention_loss=0.03, cell_loss=2.26, loss=32.1, loss1=0.00372, sparse_loss=29.8]\n"
     ]
    },
    {
     "name": "stdout",
     "output_type": "stream",
     "text": [
      "Epoch [102/200], Average Loss: 32.1278, Loss1: 0.0037, Attention Loss: 0.0300, Sparse Loss: 29.8371, Cell Loss: 2.2570\n"
     ]
    },
    {
     "name": "stderr",
     "output_type": "stream",
     "text": [
      "Epoch 103/200: 100%|██████████| 200/200 [01:16<00:00,  2.60batch/s, attention_loss=0.03, cell_loss=2.27, loss=32.1, loss1=0.00372, sparse_loss=29.8]\n"
     ]
    },
    {
     "name": "stdout",
     "output_type": "stream",
     "text": [
      "Epoch [103/200], Average Loss: 32.1378, Loss1: 0.0037, Attention Loss: 0.0300, Sparse Loss: 29.8371, Cell Loss: 2.2670\n"
     ]
    },
    {
     "name": "stderr",
     "output_type": "stream",
     "text": [
      "Epoch 104/200: 100%|██████████| 200/200 [01:18<00:00,  2.56batch/s, attention_loss=0.03, cell_loss=2.29, loss=32.2, loss1=0.00372, sparse_loss=29.8]\n"
     ]
    },
    {
     "name": "stdout",
     "output_type": "stream",
     "text": [
      "Epoch [104/200], Average Loss: 32.1628, Loss1: 0.0037, Attention Loss: 0.0300, Sparse Loss: 29.8371, Cell Loss: 2.2920\n"
     ]
    },
    {
     "name": "stderr",
     "output_type": "stream",
     "text": [
      "Epoch 105/200: 100%|██████████| 200/200 [01:18<00:00,  2.56batch/s, attention_loss=0.03, cell_loss=2.3, loss=32.2, loss1=0.00372, sparse_loss=29.8] \n"
     ]
    },
    {
     "name": "stdout",
     "output_type": "stream",
     "text": [
      "Epoch [105/200], Average Loss: 32.1678, Loss1: 0.0037, Attention Loss: 0.0300, Sparse Loss: 29.8371, Cell Loss: 2.2970\n"
     ]
    },
    {
     "name": "stderr",
     "output_type": "stream",
     "text": [
      "Epoch 106/200: 100%|██████████| 200/200 [01:17<00:00,  2.58batch/s, attention_loss=0.03, cell_loss=2.04, loss=31.9, loss1=0.00421, sparse_loss=29.8]\n"
     ]
    },
    {
     "name": "stdout",
     "output_type": "stream",
     "text": [
      "Epoch [106/200], Average Loss: 31.9111, Loss1: 0.0042, Attention Loss: 0.0300, Sparse Loss: 29.8371, Cell Loss: 2.0398\n"
     ]
    },
    {
     "name": "stderr",
     "output_type": "stream",
     "text": [
      "Epoch 107/200: 100%|██████████| 200/200 [01:17<00:00,  2.59batch/s, attention_loss=0.03, cell_loss=1.49, loss=31.4, loss1=0.00486, sparse_loss=29.8]\n"
     ]
    },
    {
     "name": "stdout",
     "output_type": "stream",
     "text": [
      "Epoch [107/200], Average Loss: 31.3629, Loss1: 0.0049, Attention Loss: 0.0300, Sparse Loss: 29.8371, Cell Loss: 1.4909\n"
     ]
    },
    {
     "name": "stderr",
     "output_type": "stream",
     "text": [
      "Epoch 108/200: 100%|██████████| 200/200 [01:18<00:00,  2.53batch/s, attention_loss=0.03, cell_loss=1.49, loss=31.4, loss1=0.00429, sparse_loss=29.8]\n"
     ]
    },
    {
     "name": "stdout",
     "output_type": "stream",
     "text": [
      "Epoch [108/200], Average Loss: 31.3584, Loss1: 0.0043, Attention Loss: 0.0300, Sparse Loss: 29.8371, Cell Loss: 1.4870\n"
     ]
    },
    {
     "name": "stderr",
     "output_type": "stream",
     "text": [
      "Epoch 109/200: 100%|██████████| 200/200 [01:17<00:00,  2.57batch/s, attention_loss=0.03, cell_loss=1.46, loss=31.3, loss1=0.00399, sparse_loss=29.8]\n"
     ]
    },
    {
     "name": "stdout",
     "output_type": "stream",
     "text": [
      "Epoch [109/200], Average Loss: 31.3324, Loss1: 0.0040, Attention Loss: 0.0300, Sparse Loss: 29.8371, Cell Loss: 1.4613\n"
     ]
    },
    {
     "name": "stderr",
     "output_type": "stream",
     "text": [
      "Epoch 110/200: 100%|██████████| 200/200 [01:17<00:00,  2.59batch/s, attention_loss=0.03, cell_loss=1.45, loss=31.3, loss1=0.00376, sparse_loss=29.8]\n"
     ]
    },
    {
     "name": "stdout",
     "output_type": "stream",
     "text": [
      "Epoch [110/200], Average Loss: 31.3182, Loss1: 0.0038, Attention Loss: 0.0300, Sparse Loss: 29.8371, Cell Loss: 1.4473\n"
     ]
    },
    {
     "name": "stderr",
     "output_type": "stream",
     "text": [
      "Epoch 111/200: 100%|██████████| 200/200 [01:17<00:00,  2.57batch/s, attention_loss=0.03, cell_loss=1.43, loss=31.3, loss1=0.00375, sparse_loss=29.8]\n"
     ]
    },
    {
     "name": "stdout",
     "output_type": "stream",
     "text": [
      "Epoch [111/200], Average Loss: 31.3002, Loss1: 0.0037, Attention Loss: 0.0300, Sparse Loss: 29.8371, Cell Loss: 1.4294\n"
     ]
    },
    {
     "name": "stderr",
     "output_type": "stream",
     "text": [
      "Epoch 112/200: 100%|██████████| 200/200 [01:17<00:00,  2.59batch/s, attention_loss=0.03, cell_loss=1.44, loss=31.3, loss1=0.00377, sparse_loss=29.8]\n"
     ]
    },
    {
     "name": "stdout",
     "output_type": "stream",
     "text": [
      "Epoch [112/200], Average Loss: 31.3157, Loss1: 0.0038, Attention Loss: 0.0300, Sparse Loss: 29.8371, Cell Loss: 1.4449\n"
     ]
    },
    {
     "name": "stderr",
     "output_type": "stream",
     "text": [
      "Epoch 113/200: 100%|██████████| 200/200 [01:16<00:00,  2.62batch/s, attention_loss=0.03, cell_loss=1.45, loss=31.3, loss1=0.00373, sparse_loss=29.8]\n"
     ]
    },
    {
     "name": "stdout",
     "output_type": "stream",
     "text": [
      "Epoch [113/200], Average Loss: 31.3233, Loss1: 0.0037, Attention Loss: 0.0300, Sparse Loss: 29.8371, Cell Loss: 1.4525\n"
     ]
    },
    {
     "name": "stderr",
     "output_type": "stream",
     "text": [
      "Epoch 114/200: 100%|██████████| 200/200 [01:17<00:00,  2.58batch/s, attention_loss=0.03, cell_loss=1.46, loss=31.3, loss1=0.00377, sparse_loss=29.8]\n"
     ]
    },
    {
     "name": "stdout",
     "output_type": "stream",
     "text": [
      "Epoch [114/200], Average Loss: 31.3281, Loss1: 0.0038, Attention Loss: 0.0300, Sparse Loss: 29.8371, Cell Loss: 1.4572\n"
     ]
    },
    {
     "name": "stderr",
     "output_type": "stream",
     "text": [
      "Epoch 115/200: 100%|██████████| 200/200 [01:17<00:00,  2.57batch/s, attention_loss=0.03, cell_loss=1.46, loss=31.3, loss1=0.00374, sparse_loss=29.8]\n"
     ]
    },
    {
     "name": "stdout",
     "output_type": "stream",
     "text": [
      "Epoch [115/200], Average Loss: 31.3302, Loss1: 0.0037, Attention Loss: 0.0300, Sparse Loss: 29.8371, Cell Loss: 1.4593\n"
     ]
    },
    {
     "name": "stderr",
     "output_type": "stream",
     "text": [
      "Epoch 116/200: 100%|██████████| 200/200 [01:17<00:00,  2.58batch/s, attention_loss=0.03, cell_loss=1.46, loss=31.3, loss1=0.00373, sparse_loss=29.8]\n"
     ]
    },
    {
     "name": "stdout",
     "output_type": "stream",
     "text": [
      "Epoch [116/200], Average Loss: 31.3287, Loss1: 0.0037, Attention Loss: 0.0300, Sparse Loss: 29.8371, Cell Loss: 1.4579\n"
     ]
    },
    {
     "name": "stderr",
     "output_type": "stream",
     "text": [
      "Epoch 117/200: 100%|██████████| 200/200 [01:17<00:00,  2.57batch/s, attention_loss=0.03, cell_loss=1.44, loss=31.3, loss1=0.00372, sparse_loss=29.8]\n"
     ]
    },
    {
     "name": "stdout",
     "output_type": "stream",
     "text": [
      "Epoch [117/200], Average Loss: 31.3144, Loss1: 0.0037, Attention Loss: 0.0300, Sparse Loss: 29.8371, Cell Loss: 1.4436\n"
     ]
    },
    {
     "name": "stderr",
     "output_type": "stream",
     "text": [
      "Epoch 118/200: 100%|██████████| 200/200 [01:17<00:00,  2.57batch/s, attention_loss=0.03, cell_loss=1.44, loss=31.3, loss1=0.00373, sparse_loss=29.8]\n"
     ]
    },
    {
     "name": "stdout",
     "output_type": "stream",
     "text": [
      "Epoch [118/200], Average Loss: 31.3131, Loss1: 0.0037, Attention Loss: 0.0300, Sparse Loss: 29.8371, Cell Loss: 1.4422\n"
     ]
    },
    {
     "name": "stderr",
     "output_type": "stream",
     "text": [
      "Epoch 119/200: 100%|██████████| 200/200 [01:17<00:00,  2.58batch/s, attention_loss=0.03, cell_loss=1.44, loss=31.3, loss1=0.00373, sparse_loss=29.8]\n"
     ]
    },
    {
     "name": "stdout",
     "output_type": "stream",
     "text": [
      "Epoch [119/200], Average Loss: 31.3126, Loss1: 0.0037, Attention Loss: 0.0300, Sparse Loss: 29.8371, Cell Loss: 1.4418\n"
     ]
    },
    {
     "name": "stderr",
     "output_type": "stream",
     "text": [
      "Epoch 120/200: 100%|██████████| 200/200 [01:18<00:00,  2.56batch/s, attention_loss=0.03, cell_loss=1.44, loss=31.3, loss1=0.00372, sparse_loss=29.8]\n"
     ]
    },
    {
     "name": "stdout",
     "output_type": "stream",
     "text": [
      "Epoch [120/200], Average Loss: 31.3104, Loss1: 0.0037, Attention Loss: 0.0300, Sparse Loss: 29.8371, Cell Loss: 1.4396\n"
     ]
    },
    {
     "name": "stderr",
     "output_type": "stream",
     "text": [
      "Epoch 121/200: 100%|██████████| 200/200 [01:18<00:00,  2.56batch/s, attention_loss=0.03, cell_loss=1.45, loss=31.3, loss1=0.00375, sparse_loss=29.8]\n"
     ]
    },
    {
     "name": "stdout",
     "output_type": "stream",
     "text": [
      "Epoch [121/200], Average Loss: 31.3173, Loss1: 0.0037, Attention Loss: 0.0300, Sparse Loss: 29.8371, Cell Loss: 1.4464\n"
     ]
    },
    {
     "name": "stderr",
     "output_type": "stream",
     "text": [
      "Epoch 122/200: 100%|██████████| 200/200 [01:16<00:00,  2.60batch/s, attention_loss=0.03, cell_loss=1.47, loss=31.3, loss1=0.00375, sparse_loss=29.8]\n"
     ]
    },
    {
     "name": "stdout",
     "output_type": "stream",
     "text": [
      "Epoch [122/200], Average Loss: 31.3367, Loss1: 0.0037, Attention Loss: 0.0300, Sparse Loss: 29.8371, Cell Loss: 1.4658\n"
     ]
    },
    {
     "name": "stderr",
     "output_type": "stream",
     "text": [
      "Epoch 123/200: 100%|██████████| 200/200 [01:17<00:00,  2.57batch/s, attention_loss=0.03, cell_loss=1.48, loss=31.4, loss1=0.00384, sparse_loss=29.8]\n"
     ]
    },
    {
     "name": "stdout",
     "output_type": "stream",
     "text": [
      "Epoch [123/200], Average Loss: 31.3540, Loss1: 0.0038, Attention Loss: 0.0300, Sparse Loss: 29.8371, Cell Loss: 1.4830\n"
     ]
    },
    {
     "name": "stderr",
     "output_type": "stream",
     "text": [
      "Epoch 124/200: 100%|██████████| 200/200 [01:17<00:00,  2.59batch/s, attention_loss=0.03, cell_loss=1.45, loss=31.3, loss1=0.00376, sparse_loss=29.8]\n"
     ]
    },
    {
     "name": "stdout",
     "output_type": "stream",
     "text": [
      "Epoch [124/200], Average Loss: 31.3169, Loss1: 0.0038, Attention Loss: 0.0300, Sparse Loss: 29.8371, Cell Loss: 1.4460\n"
     ]
    },
    {
     "name": "stderr",
     "output_type": "stream",
     "text": [
      "Epoch 125/200: 100%|██████████| 200/200 [01:18<00:00,  2.54batch/s, attention_loss=0.03, cell_loss=1.44, loss=31.3, loss1=0.00373, sparse_loss=29.8]\n"
     ]
    },
    {
     "name": "stdout",
     "output_type": "stream",
     "text": [
      "Epoch [125/200], Average Loss: 31.3072, Loss1: 0.0037, Attention Loss: 0.0300, Sparse Loss: 29.8371, Cell Loss: 1.4364\n"
     ]
    },
    {
     "name": "stderr",
     "output_type": "stream",
     "text": [
      "Epoch 126/200: 100%|██████████| 200/200 [01:17<00:00,  2.57batch/s, attention_loss=0.03, cell_loss=1.43, loss=31.3, loss1=0.00372, sparse_loss=29.8]\n"
     ]
    },
    {
     "name": "stdout",
     "output_type": "stream",
     "text": [
      "Epoch [126/200], Average Loss: 31.3039, Loss1: 0.0037, Attention Loss: 0.0300, Sparse Loss: 29.8371, Cell Loss: 1.4330\n"
     ]
    },
    {
     "name": "stderr",
     "output_type": "stream",
     "text": [
      "Epoch 127/200: 100%|██████████| 200/200 [01:16<00:00,  2.60batch/s, attention_loss=0.03, cell_loss=1.46, loss=31.3, loss1=0.00372, sparse_loss=29.8]\n"
     ]
    },
    {
     "name": "stdout",
     "output_type": "stream",
     "text": [
      "Epoch [127/200], Average Loss: 31.3261, Loss1: 0.0037, Attention Loss: 0.0300, Sparse Loss: 29.8371, Cell Loss: 1.4552\n"
     ]
    },
    {
     "name": "stderr",
     "output_type": "stream",
     "text": [
      "Epoch 128/200: 100%|██████████| 200/200 [01:18<00:00,  2.55batch/s, attention_loss=0.03, cell_loss=1.42, loss=31.3, loss1=0.00372, sparse_loss=29.8]\n"
     ]
    },
    {
     "name": "stdout",
     "output_type": "stream",
     "text": [
      "Epoch [128/200], Average Loss: 31.2908, Loss1: 0.0037, Attention Loss: 0.0300, Sparse Loss: 29.8371, Cell Loss: 1.4200\n"
     ]
    },
    {
     "name": "stderr",
     "output_type": "stream",
     "text": [
      "Epoch 129/200: 100%|██████████| 200/200 [01:16<00:00,  2.61batch/s, attention_loss=0.03, cell_loss=1.44, loss=31.3, loss1=0.00373, sparse_loss=29.8]\n"
     ]
    },
    {
     "name": "stdout",
     "output_type": "stream",
     "text": [
      "Epoch [129/200], Average Loss: 31.3067, Loss1: 0.0037, Attention Loss: 0.0300, Sparse Loss: 29.8371, Cell Loss: 1.4358\n"
     ]
    },
    {
     "name": "stderr",
     "output_type": "stream",
     "text": [
      "Epoch 130/200: 100%|██████████| 200/200 [01:16<00:00,  2.60batch/s, attention_loss=0.03, cell_loss=1.46, loss=31.3, loss1=0.00373, sparse_loss=29.8]\n"
     ]
    },
    {
     "name": "stdout",
     "output_type": "stream",
     "text": [
      "Epoch [130/200], Average Loss: 31.3261, Loss1: 0.0037, Attention Loss: 0.0300, Sparse Loss: 29.8371, Cell Loss: 1.4552\n"
     ]
    },
    {
     "name": "stderr",
     "output_type": "stream",
     "text": [
      "Epoch 131/200: 100%|██████████| 200/200 [01:17<00:00,  2.58batch/s, attention_loss=0.03, cell_loss=1.43, loss=31.3, loss1=0.00372, sparse_loss=29.8]\n"
     ]
    },
    {
     "name": "stdout",
     "output_type": "stream",
     "text": [
      "Epoch [131/200], Average Loss: 31.3054, Loss1: 0.0037, Attention Loss: 0.0300, Sparse Loss: 29.8371, Cell Loss: 1.4345\n"
     ]
    },
    {
     "name": "stderr",
     "output_type": "stream",
     "text": [
      "Epoch 133/200: 100%|██████████| 200/200 [01:17<00:00,  2.59batch/s, attention_loss=0.03, cell_loss=1.45, loss=31.3, loss1=0.00374, sparse_loss=29.8]\n"
     ]
    },
    {
     "name": "stdout",
     "output_type": "stream",
     "text": [
      "Epoch [133/200], Average Loss: 31.3204, Loss1: 0.0037, Attention Loss: 0.0300, Sparse Loss: 29.8371, Cell Loss: 1.4496\n"
     ]
    },
    {
     "name": "stderr",
     "output_type": "stream",
     "text": [
      "Epoch 134/200: 100%|██████████| 200/200 [01:17<00:00,  2.58batch/s, attention_loss=0.03, cell_loss=1.44, loss=31.3, loss1=0.00372, sparse_loss=29.8]\n"
     ]
    },
    {
     "name": "stdout",
     "output_type": "stream",
     "text": [
      "Epoch [134/200], Average Loss: 31.3078, Loss1: 0.0037, Attention Loss: 0.0300, Sparse Loss: 29.8371, Cell Loss: 1.4370\n"
     ]
    },
    {
     "name": "stderr",
     "output_type": "stream",
     "text": [
      "Epoch 135/200: 100%|██████████| 200/200 [01:18<00:00,  2.56batch/s, attention_loss=0.03, cell_loss=1.44, loss=31.3, loss1=0.00372, sparse_loss=29.8]\n"
     ]
    },
    {
     "name": "stdout",
     "output_type": "stream",
     "text": [
      "Epoch [135/200], Average Loss: 31.3128, Loss1: 0.0037, Attention Loss: 0.0300, Sparse Loss: 29.8371, Cell Loss: 1.4420\n"
     ]
    },
    {
     "name": "stderr",
     "output_type": "stream",
     "text": [
      "Epoch 136/200: 100%|██████████| 200/200 [01:17<00:00,  2.59batch/s, attention_loss=0.03, cell_loss=1.42, loss=31.3, loss1=0.00373, sparse_loss=29.8]\n"
     ]
    },
    {
     "name": "stdout",
     "output_type": "stream",
     "text": [
      "Epoch [136/200], Average Loss: 31.2921, Loss1: 0.0037, Attention Loss: 0.0300, Sparse Loss: 29.8371, Cell Loss: 1.4212\n"
     ]
    },
    {
     "name": "stderr",
     "output_type": "stream",
     "text": [
      "Epoch 137/200: 100%|██████████| 200/200 [01:16<00:00,  2.60batch/s, attention_loss=0.03, cell_loss=1.42, loss=31.3, loss1=0.00372, sparse_loss=29.8]\n"
     ]
    },
    {
     "name": "stdout",
     "output_type": "stream",
     "text": [
      "Epoch [137/200], Average Loss: 31.2943, Loss1: 0.0037, Attention Loss: 0.0300, Sparse Loss: 29.8371, Cell Loss: 1.4234\n"
     ]
    },
    {
     "name": "stderr",
     "output_type": "stream",
     "text": [
      "Epoch 138/200: 100%|██████████| 200/200 [01:16<00:00,  2.62batch/s, attention_loss=0.03, cell_loss=1.45, loss=31.3, loss1=0.00373, sparse_loss=29.8]\n"
     ]
    },
    {
     "name": "stdout",
     "output_type": "stream",
     "text": [
      "Epoch [138/200], Average Loss: 31.3182, Loss1: 0.0037, Attention Loss: 0.0300, Sparse Loss: 29.8371, Cell Loss: 1.4473\n"
     ]
    },
    {
     "name": "stderr",
     "output_type": "stream",
     "text": [
      "Epoch 139/200: 100%|██████████| 200/200 [01:15<00:00,  2.63batch/s, attention_loss=0.03, cell_loss=1.47, loss=31.3, loss1=0.00372, sparse_loss=29.8]\n"
     ]
    },
    {
     "name": "stdout",
     "output_type": "stream",
     "text": [
      "Epoch [139/200], Average Loss: 31.3415, Loss1: 0.0037, Attention Loss: 0.0300, Sparse Loss: 29.8371, Cell Loss: 1.4707\n"
     ]
    },
    {
     "name": "stderr",
     "output_type": "stream",
     "text": [
      "Epoch 140/200: 100%|██████████| 200/200 [01:16<00:00,  2.62batch/s, attention_loss=0.03, cell_loss=1.44, loss=31.3, loss1=0.00372, sparse_loss=29.8]\n"
     ]
    },
    {
     "name": "stdout",
     "output_type": "stream",
     "text": [
      "Epoch [140/200], Average Loss: 31.3087, Loss1: 0.0037, Attention Loss: 0.0300, Sparse Loss: 29.8371, Cell Loss: 1.4378\n"
     ]
    },
    {
     "name": "stderr",
     "output_type": "stream",
     "text": [
      "Epoch 141/200: 100%|██████████| 200/200 [01:16<00:00,  2.62batch/s, attention_loss=0.03, cell_loss=1.48, loss=31.4, loss1=0.00372, sparse_loss=29.8]\n"
     ]
    },
    {
     "name": "stdout",
     "output_type": "stream",
     "text": [
      "Epoch [141/200], Average Loss: 31.3501, Loss1: 0.0037, Attention Loss: 0.0300, Sparse Loss: 29.8371, Cell Loss: 1.4792\n"
     ]
    },
    {
     "name": "stderr",
     "output_type": "stream",
     "text": [
      "Epoch 142/200: 100%|██████████| 200/200 [01:17<00:00,  2.59batch/s, attention_loss=0.03, cell_loss=1.51, loss=31.4, loss1=0.00374, sparse_loss=29.8]\n"
     ]
    },
    {
     "name": "stdout",
     "output_type": "stream",
     "text": [
      "Epoch [142/200], Average Loss: 31.3776, Loss1: 0.0037, Attention Loss: 0.0300, Sparse Loss: 29.8371, Cell Loss: 1.5067\n"
     ]
    },
    {
     "name": "stderr",
     "output_type": "stream",
     "text": [
      "Epoch 143/200: 100%|██████████| 200/200 [01:16<00:00,  2.60batch/s, attention_loss=0.03, cell_loss=1.46, loss=31.3, loss1=0.00373, sparse_loss=29.8]\n"
     ]
    },
    {
     "name": "stdout",
     "output_type": "stream",
     "text": [
      "Epoch [143/200], Average Loss: 31.3291, Loss1: 0.0037, Attention Loss: 0.0300, Sparse Loss: 29.8371, Cell Loss: 1.4583\n"
     ]
    },
    {
     "name": "stderr",
     "output_type": "stream",
     "text": [
      "Epoch 144/200: 100%|██████████| 200/200 [01:16<00:00,  2.62batch/s, attention_loss=0.03, cell_loss=1.45, loss=31.3, loss1=0.00372, sparse_loss=29.8]\n"
     ]
    },
    {
     "name": "stdout",
     "output_type": "stream",
     "text": [
      "Epoch [144/200], Average Loss: 31.3246, Loss1: 0.0037, Attention Loss: 0.0300, Sparse Loss: 29.8371, Cell Loss: 1.4537\n"
     ]
    },
    {
     "name": "stderr",
     "output_type": "stream",
     "text": [
      "Epoch 145/200: 100%|██████████| 200/200 [01:17<00:00,  2.60batch/s, attention_loss=0.03, cell_loss=1.42, loss=31.3, loss1=0.00373, sparse_loss=29.8]\n"
     ]
    },
    {
     "name": "stdout",
     "output_type": "stream",
     "text": [
      "Epoch [145/200], Average Loss: 31.2930, Loss1: 0.0037, Attention Loss: 0.0300, Sparse Loss: 29.8371, Cell Loss: 1.4221\n"
     ]
    },
    {
     "name": "stderr",
     "output_type": "stream",
     "text": [
      "Epoch 146/200: 100%|██████████| 200/200 [01:16<00:00,  2.61batch/s, attention_loss=0.03, cell_loss=1.41, loss=31.3, loss1=0.00372, sparse_loss=29.8]\n"
     ]
    },
    {
     "name": "stdout",
     "output_type": "stream",
     "text": [
      "Epoch [146/200], Average Loss: 31.2825, Loss1: 0.0037, Attention Loss: 0.0300, Sparse Loss: 29.8371, Cell Loss: 1.4117\n"
     ]
    },
    {
     "name": "stderr",
     "output_type": "stream",
     "text": [
      "Epoch 147/200: 100%|██████████| 200/200 [01:16<00:00,  2.61batch/s, attention_loss=0.03, cell_loss=1.44, loss=31.3, loss1=0.00373, sparse_loss=29.8]\n"
     ]
    },
    {
     "name": "stdout",
     "output_type": "stream",
     "text": [
      "Epoch [147/200], Average Loss: 31.3125, Loss1: 0.0037, Attention Loss: 0.0300, Sparse Loss: 29.8371, Cell Loss: 1.4416\n"
     ]
    },
    {
     "name": "stderr",
     "output_type": "stream",
     "text": [
      "Epoch 148/200: 100%|██████████| 200/200 [01:15<00:00,  2.64batch/s, attention_loss=0.03, cell_loss=1.47, loss=31.3, loss1=0.00373, sparse_loss=29.8]\n"
     ]
    },
    {
     "name": "stdout",
     "output_type": "stream",
     "text": [
      "Epoch [148/200], Average Loss: 31.3426, Loss1: 0.0037, Attention Loss: 0.0300, Sparse Loss: 29.8371, Cell Loss: 1.4718\n"
     ]
    },
    {
     "name": "stderr",
     "output_type": "stream",
     "text": [
      "Epoch 149/200: 100%|██████████| 200/200 [01:16<00:00,  2.60batch/s, attention_loss=0.03, cell_loss=1.44, loss=31.3, loss1=0.00373, sparse_loss=29.8]\n"
     ]
    },
    {
     "name": "stdout",
     "output_type": "stream",
     "text": [
      "Epoch [149/200], Average Loss: 31.3121, Loss1: 0.0037, Attention Loss: 0.0300, Sparse Loss: 29.8371, Cell Loss: 1.4412\n"
     ]
    },
    {
     "name": "stderr",
     "output_type": "stream",
     "text": [
      "Epoch 150/200: 100%|██████████| 200/200 [01:16<00:00,  2.61batch/s, attention_loss=0.03, cell_loss=1.5, loss=31.4, loss1=0.00372, sparse_loss=29.8] \n"
     ]
    },
    {
     "name": "stdout",
     "output_type": "stream",
     "text": [
      "Epoch [150/200], Average Loss: 31.3716, Loss1: 0.0037, Attention Loss: 0.0300, Sparse Loss: 29.8371, Cell Loss: 1.5008\n"
     ]
    },
    {
     "name": "stderr",
     "output_type": "stream",
     "text": [
      "Epoch 151/200: 100%|██████████| 200/200 [01:16<00:00,  2.61batch/s, attention_loss=0.03, cell_loss=1.44, loss=31.3, loss1=0.00372, sparse_loss=29.8]\n"
     ]
    },
    {
     "name": "stdout",
     "output_type": "stream",
     "text": [
      "Epoch [151/200], Average Loss: 31.3106, Loss1: 0.0037, Attention Loss: 0.0300, Sparse Loss: 29.8371, Cell Loss: 1.4398\n"
     ]
    },
    {
     "name": "stderr",
     "output_type": "stream",
     "text": [
      "Epoch 152/200: 100%|██████████| 200/200 [01:16<00:00,  2.61batch/s, attention_loss=0.03, cell_loss=1.46, loss=31.3, loss1=0.00372, sparse_loss=29.8]\n"
     ]
    },
    {
     "name": "stdout",
     "output_type": "stream",
     "text": [
      "Epoch [152/200], Average Loss: 31.3275, Loss1: 0.0037, Attention Loss: 0.0300, Sparse Loss: 29.8371, Cell Loss: 1.4566\n"
     ]
    },
    {
     "name": "stderr",
     "output_type": "stream",
     "text": [
      "Epoch 153/200: 100%|██████████| 200/200 [01:16<00:00,  2.61batch/s, attention_loss=0.03, cell_loss=1.44, loss=31.3, loss1=0.00372, sparse_loss=29.8]\n"
     ]
    },
    {
     "name": "stdout",
     "output_type": "stream",
     "text": [
      "Epoch [153/200], Average Loss: 31.3117, Loss1: 0.0037, Attention Loss: 0.0300, Sparse Loss: 29.8371, Cell Loss: 1.4408\n"
     ]
    },
    {
     "name": "stderr",
     "output_type": "stream",
     "text": [
      "Epoch 154/200: 100%|██████████| 200/200 [01:15<00:00,  2.65batch/s, attention_loss=0.03, cell_loss=1.45, loss=31.3, loss1=0.00372, sparse_loss=29.8]\n"
     ]
    },
    {
     "name": "stdout",
     "output_type": "stream",
     "text": [
      "Epoch [154/200], Average Loss: 31.3165, Loss1: 0.0037, Attention Loss: 0.0300, Sparse Loss: 29.8371, Cell Loss: 1.4456\n"
     ]
    },
    {
     "name": "stderr",
     "output_type": "stream",
     "text": [
      "Epoch 155/200: 100%|██████████| 200/200 [01:15<00:00,  2.64batch/s, attention_loss=0.03, cell_loss=1.44, loss=31.3, loss1=0.00375, sparse_loss=29.8]\n"
     ]
    },
    {
     "name": "stdout",
     "output_type": "stream",
     "text": [
      "Epoch [155/200], Average Loss: 31.3141, Loss1: 0.0038, Attention Loss: 0.0300, Sparse Loss: 29.8371, Cell Loss: 1.4432\n"
     ]
    },
    {
     "name": "stderr",
     "output_type": "stream",
     "text": [
      "Epoch 156/200: 100%|██████████| 200/200 [01:16<00:00,  2.63batch/s, attention_loss=0.03, cell_loss=1.45, loss=31.3, loss1=0.00373, sparse_loss=29.8]\n"
     ]
    },
    {
     "name": "stdout",
     "output_type": "stream",
     "text": [
      "Epoch [156/200], Average Loss: 31.3235, Loss1: 0.0037, Attention Loss: 0.0300, Sparse Loss: 29.8371, Cell Loss: 1.4526\n"
     ]
    },
    {
     "name": "stderr",
     "output_type": "stream",
     "text": [
      "Epoch 157/200: 100%|██████████| 200/200 [01:14<00:00,  2.70batch/s, attention_loss=0.03, cell_loss=1.43, loss=31.3, loss1=0.00372, sparse_loss=29.8]\n"
     ]
    },
    {
     "name": "stdout",
     "output_type": "stream",
     "text": [
      "Epoch [157/200], Average Loss: 31.2979, Loss1: 0.0037, Attention Loss: 0.0300, Sparse Loss: 29.8371, Cell Loss: 1.4271\n"
     ]
    },
    {
     "name": "stderr",
     "output_type": "stream",
     "text": [
      "Epoch 158/200: 100%|██████████| 200/200 [01:13<00:00,  2.74batch/s, attention_loss=0.03, cell_loss=1.46, loss=31.3, loss1=0.00372, sparse_loss=29.8]\n"
     ]
    },
    {
     "name": "stdout",
     "output_type": "stream",
     "text": [
      "Epoch [158/200], Average Loss: 31.3336, Loss1: 0.0037, Attention Loss: 0.0300, Sparse Loss: 29.8371, Cell Loss: 1.4628\n"
     ]
    },
    {
     "name": "stderr",
     "output_type": "stream",
     "text": [
      "Epoch 159/200: 100%|██████████| 200/200 [01:12<00:00,  2.74batch/s, attention_loss=0.03, cell_loss=1.47, loss=31.3, loss1=0.00374, sparse_loss=29.8]\n"
     ]
    },
    {
     "name": "stdout",
     "output_type": "stream",
     "text": [
      "Epoch [159/200], Average Loss: 31.3392, Loss1: 0.0037, Attention Loss: 0.0300, Sparse Loss: 29.8371, Cell Loss: 1.4684\n"
     ]
    },
    {
     "name": "stderr",
     "output_type": "stream",
     "text": [
      "Epoch 160/200: 100%|██████████| 200/200 [01:13<00:00,  2.72batch/s, attention_loss=0.03, cell_loss=1.43, loss=31.3, loss1=0.00372, sparse_loss=29.8]\n"
     ]
    },
    {
     "name": "stdout",
     "output_type": "stream",
     "text": [
      "Epoch [160/200], Average Loss: 31.2967, Loss1: 0.0037, Attention Loss: 0.0300, Sparse Loss: 29.8371, Cell Loss: 1.4258\n"
     ]
    },
    {
     "name": "stderr",
     "output_type": "stream",
     "text": [
      "Epoch 161/200: 100%|██████████| 200/200 [01:14<00:00,  2.68batch/s, attention_loss=0.03, cell_loss=1.44, loss=31.3, loss1=0.00373, sparse_loss=29.8]\n"
     ]
    },
    {
     "name": "stdout",
     "output_type": "stream",
     "text": [
      "Epoch [161/200], Average Loss: 31.3094, Loss1: 0.0037, Attention Loss: 0.0300, Sparse Loss: 29.8371, Cell Loss: 1.4386\n"
     ]
    },
    {
     "name": "stderr",
     "output_type": "stream",
     "text": [
      "Epoch 162/200: 100%|██████████| 200/200 [01:14<00:00,  2.68batch/s, attention_loss=0.03, cell_loss=1.41, loss=31.3, loss1=0.00372, sparse_loss=29.8]\n"
     ]
    },
    {
     "name": "stdout",
     "output_type": "stream",
     "text": [
      "Epoch [162/200], Average Loss: 31.2855, Loss1: 0.0037, Attention Loss: 0.0300, Sparse Loss: 29.8371, Cell Loss: 1.4147\n"
     ]
    },
    {
     "name": "stderr",
     "output_type": "stream",
     "text": [
      "Epoch 163/200: 100%|██████████| 200/200 [01:16<00:00,  2.62batch/s, attention_loss=0.03, cell_loss=1.44, loss=31.3, loss1=0.00374, sparse_loss=29.8]\n"
     ]
    },
    {
     "name": "stdout",
     "output_type": "stream",
     "text": [
      "Epoch [163/200], Average Loss: 31.3072, Loss1: 0.0037, Attention Loss: 0.0300, Sparse Loss: 29.8371, Cell Loss: 1.4364\n"
     ]
    },
    {
     "name": "stderr",
     "output_type": "stream",
     "text": [
      "Epoch 164/200: 100%|██████████| 200/200 [01:13<00:00,  2.71batch/s, attention_loss=0.03, cell_loss=1.41, loss=31.3, loss1=0.00373, sparse_loss=29.8]\n"
     ]
    },
    {
     "name": "stdout",
     "output_type": "stream",
     "text": [
      "Epoch [164/200], Average Loss: 31.2761, Loss1: 0.0037, Attention Loss: 0.0300, Sparse Loss: 29.8371, Cell Loss: 1.4052\n"
     ]
    },
    {
     "name": "stderr",
     "output_type": "stream",
     "text": [
      "Epoch 165/200: 100%|██████████| 200/200 [01:14<00:00,  2.68batch/s, attention_loss=0.03, cell_loss=1.49, loss=31.4, loss1=0.00373, sparse_loss=29.8]\n"
     ]
    },
    {
     "name": "stdout",
     "output_type": "stream",
     "text": [
      "Epoch [165/200], Average Loss: 31.3580, Loss1: 0.0037, Attention Loss: 0.0300, Sparse Loss: 29.8371, Cell Loss: 1.4872\n"
     ]
    },
    {
     "name": "stderr",
     "output_type": "stream",
     "text": [
      "Epoch 166/200: 100%|██████████| 200/200 [01:12<00:00,  2.78batch/s, attention_loss=0.03, cell_loss=1.42, loss=31.3, loss1=0.00372, sparse_loss=29.8]\n"
     ]
    },
    {
     "name": "stdout",
     "output_type": "stream",
     "text": [
      "Epoch [166/200], Average Loss: 31.2929, Loss1: 0.0037, Attention Loss: 0.0300, Sparse Loss: 29.8371, Cell Loss: 1.4220\n"
     ]
    },
    {
     "name": "stderr",
     "output_type": "stream",
     "text": [
      "Epoch 167/200: 100%|██████████| 200/200 [01:14<00:00,  2.67batch/s, attention_loss=0.03, cell_loss=1.45, loss=31.3, loss1=0.00372, sparse_loss=29.8]\n"
     ]
    },
    {
     "name": "stdout",
     "output_type": "stream",
     "text": [
      "Epoch [167/200], Average Loss: 31.3205, Loss1: 0.0037, Attention Loss: 0.0300, Sparse Loss: 29.8371, Cell Loss: 1.4496\n"
     ]
    },
    {
     "name": "stderr",
     "output_type": "stream",
     "text": [
      "Epoch 168/200: 100%|██████████| 200/200 [01:12<00:00,  2.77batch/s, attention_loss=0.03, cell_loss=1.44, loss=31.3, loss1=0.00372, sparse_loss=29.8]\n"
     ]
    },
    {
     "name": "stdout",
     "output_type": "stream",
     "text": [
      "Epoch [168/200], Average Loss: 31.3140, Loss1: 0.0037, Attention Loss: 0.0300, Sparse Loss: 29.8371, Cell Loss: 1.4432\n"
     ]
    },
    {
     "name": "stderr",
     "output_type": "stream",
     "text": [
      "Epoch 169/200: 100%|██████████| 200/200 [01:04<00:00,  3.10batch/s, attention_loss=0.03, cell_loss=1.47, loss=31.3, loss1=0.00373, sparse_loss=29.8]\n"
     ]
    },
    {
     "name": "stdout",
     "output_type": "stream",
     "text": [
      "Epoch [169/200], Average Loss: 31.3386, Loss1: 0.0037, Attention Loss: 0.0300, Sparse Loss: 29.8371, Cell Loss: 1.4677\n"
     ]
    },
    {
     "name": "stderr",
     "output_type": "stream",
     "text": [
      "Epoch 170/200: 100%|██████████| 200/200 [01:04<00:00,  3.11batch/s, attention_loss=0.03, cell_loss=1.46, loss=31.3, loss1=0.00373, sparse_loss=29.8]\n"
     ]
    },
    {
     "name": "stdout",
     "output_type": "stream",
     "text": [
      "Epoch [170/200], Average Loss: 31.3357, Loss1: 0.0037, Attention Loss: 0.0300, Sparse Loss: 29.8371, Cell Loss: 1.4649\n"
     ]
    },
    {
     "name": "stderr",
     "output_type": "stream",
     "text": [
      "Epoch 171/200: 100%|██████████| 200/200 [01:06<00:00,  3.02batch/s, attention_loss=0.03, cell_loss=1.42, loss=31.3, loss1=0.00373, sparse_loss=29.8]\n"
     ]
    },
    {
     "name": "stdout",
     "output_type": "stream",
     "text": [
      "Epoch [171/200], Average Loss: 31.2923, Loss1: 0.0037, Attention Loss: 0.0300, Sparse Loss: 29.8371, Cell Loss: 1.4215\n"
     ]
    },
    {
     "name": "stderr",
     "output_type": "stream",
     "text": [
      "Epoch 172/200: 100%|██████████| 200/200 [01:13<00:00,  2.71batch/s, attention_loss=0.03, cell_loss=1.41, loss=31.3, loss1=0.00372, sparse_loss=29.8]\n"
     ]
    },
    {
     "name": "stdout",
     "output_type": "stream",
     "text": [
      "Epoch [172/200], Average Loss: 31.2817, Loss1: 0.0037, Attention Loss: 0.0300, Sparse Loss: 29.8371, Cell Loss: 1.4109\n"
     ]
    },
    {
     "name": "stderr",
     "output_type": "stream",
     "text": [
      "Epoch 173/200: 100%|██████████| 200/200 [01:13<00:00,  2.73batch/s, attention_loss=0.03, cell_loss=1.42, loss=31.3, loss1=0.00372, sparse_loss=29.8]\n"
     ]
    },
    {
     "name": "stdout",
     "output_type": "stream",
     "text": [
      "Epoch [173/200], Average Loss: 31.2906, Loss1: 0.0037, Attention Loss: 0.0300, Sparse Loss: 29.8371, Cell Loss: 1.4198\n"
     ]
    },
    {
     "name": "stderr",
     "output_type": "stream",
     "text": [
      "Epoch 174/200: 100%|██████████| 200/200 [01:13<00:00,  2.73batch/s, attention_loss=0.03, cell_loss=1.43, loss=31.3, loss1=0.00372, sparse_loss=29.8]\n"
     ]
    },
    {
     "name": "stdout",
     "output_type": "stream",
     "text": [
      "Epoch [174/200], Average Loss: 31.2989, Loss1: 0.0037, Attention Loss: 0.0300, Sparse Loss: 29.8371, Cell Loss: 1.4280\n"
     ]
    },
    {
     "name": "stderr",
     "output_type": "stream",
     "text": [
      "Epoch 175/200: 100%|██████████| 200/200 [01:17<00:00,  2.59batch/s, attention_loss=0.03, cell_loss=1.47, loss=31.3, loss1=0.00373, sparse_loss=29.8]\n"
     ]
    },
    {
     "name": "stdout",
     "output_type": "stream",
     "text": [
      "Epoch [175/200], Average Loss: 31.3375, Loss1: 0.0037, Attention Loss: 0.0300, Sparse Loss: 29.8371, Cell Loss: 1.4667\n"
     ]
    },
    {
     "name": "stderr",
     "output_type": "stream",
     "text": [
      "Epoch 176/200: 100%|██████████| 200/200 [01:23<00:00,  2.40batch/s, attention_loss=0.03, cell_loss=1.44, loss=31.3, loss1=0.00372, sparse_loss=29.8]\n"
     ]
    },
    {
     "name": "stdout",
     "output_type": "stream",
     "text": [
      "Epoch [176/200], Average Loss: 31.3121, Loss1: 0.0037, Attention Loss: 0.0300, Sparse Loss: 29.8371, Cell Loss: 1.4413\n"
     ]
    },
    {
     "name": "stderr",
     "output_type": "stream",
     "text": [
      "Epoch 177/200: 100%|██████████| 200/200 [01:18<00:00,  2.56batch/s, attention_loss=0.03, cell_loss=1.42, loss=31.3, loss1=0.00372, sparse_loss=29.8]\n"
     ]
    },
    {
     "name": "stdout",
     "output_type": "stream",
     "text": [
      "Epoch [177/200], Average Loss: 31.2899, Loss1: 0.0037, Attention Loss: 0.0300, Sparse Loss: 29.8371, Cell Loss: 1.4190\n"
     ]
    },
    {
     "name": "stderr",
     "output_type": "stream",
     "text": [
      "Epoch 178/200: 100%|██████████| 200/200 [01:17<00:00,  2.58batch/s, attention_loss=0.03, cell_loss=1.45, loss=31.3, loss1=0.00373, sparse_loss=29.8]\n"
     ]
    },
    {
     "name": "stdout",
     "output_type": "stream",
     "text": [
      "Epoch [178/200], Average Loss: 31.3179, Loss1: 0.0037, Attention Loss: 0.0300, Sparse Loss: 29.8371, Cell Loss: 1.4470\n"
     ]
    },
    {
     "name": "stderr",
     "output_type": "stream",
     "text": [
      "Epoch 179/200: 100%|██████████| 200/200 [01:17<00:00,  2.57batch/s, attention_loss=0.03, cell_loss=1.42, loss=31.3, loss1=0.00373, sparse_loss=29.8]\n"
     ]
    },
    {
     "name": "stdout",
     "output_type": "stream",
     "text": [
      "Epoch [179/200], Average Loss: 31.2947, Loss1: 0.0037, Attention Loss: 0.0300, Sparse Loss: 29.8371, Cell Loss: 1.4238\n"
     ]
    },
    {
     "name": "stderr",
     "output_type": "stream",
     "text": [
      "Epoch 180/200: 100%|██████████| 200/200 [01:17<00:00,  2.57batch/s, attention_loss=0.03, cell_loss=1.46, loss=31.3, loss1=0.00372, sparse_loss=29.8]\n"
     ]
    },
    {
     "name": "stdout",
     "output_type": "stream",
     "text": [
      "Epoch [180/200], Average Loss: 31.3326, Loss1: 0.0037, Attention Loss: 0.0300, Sparse Loss: 29.8371, Cell Loss: 1.4618\n"
     ]
    },
    {
     "name": "stderr",
     "output_type": "stream",
     "text": [
      "Epoch 181/200: 100%|██████████| 200/200 [01:18<00:00,  2.56batch/s, attention_loss=0.03, cell_loss=1.49, loss=31.4, loss1=0.00372, sparse_loss=29.8]\n"
     ]
    },
    {
     "name": "stdout",
     "output_type": "stream",
     "text": [
      "Epoch [181/200], Average Loss: 31.3601, Loss1: 0.0037, Attention Loss: 0.0300, Sparse Loss: 29.8371, Cell Loss: 1.4892\n"
     ]
    },
    {
     "name": "stderr",
     "output_type": "stream",
     "text": [
      "Epoch 182/200: 100%|██████████| 200/200 [02:00<00:00,  1.66batch/s, attention_loss=0.03, cell_loss=1.44, loss=31.3, loss1=0.00373, sparse_loss=29.8]\n"
     ]
    },
    {
     "name": "stdout",
     "output_type": "stream",
     "text": [
      "Epoch [182/200], Average Loss: 31.3149, Loss1: 0.0037, Attention Loss: 0.0300, Sparse Loss: 29.8371, Cell Loss: 1.4440\n"
     ]
    },
    {
     "name": "stderr",
     "output_type": "stream",
     "text": [
      "Epoch 183/200: 100%|██████████| 200/200 [03:48<00:00,  1.14s/batch, attention_loss=0.03, cell_loss=1.49, loss=31.4, loss1=0.00374, sparse_loss=29.8]\n"
     ]
    },
    {
     "name": "stdout",
     "output_type": "stream",
     "text": [
      "Epoch [183/200], Average Loss: 31.3642, Loss1: 0.0037, Attention Loss: 0.0300, Sparse Loss: 29.8371, Cell Loss: 1.4933\n"
     ]
    },
    {
     "name": "stderr",
     "output_type": "stream",
     "text": [
      "Epoch 184/200: 100%|██████████| 200/200 [03:48<00:00,  1.14s/batch, attention_loss=0.03, cell_loss=1.48, loss=31.3, loss1=0.00373, sparse_loss=29.8]\n"
     ]
    },
    {
     "name": "stdout",
     "output_type": "stream",
     "text": [
      "Epoch [184/200], Average Loss: 31.3499, Loss1: 0.0037, Attention Loss: 0.0300, Sparse Loss: 29.8371, Cell Loss: 1.4791\n"
     ]
    },
    {
     "name": "stderr",
     "output_type": "stream",
     "text": [
      "Epoch 185/200: 100%|██████████| 200/200 [03:46<00:00,  1.13s/batch, attention_loss=0.03, cell_loss=1.44, loss=31.3, loss1=0.00373, sparse_loss=29.8]\n"
     ]
    },
    {
     "name": "stdout",
     "output_type": "stream",
     "text": [
      "Epoch [185/200], Average Loss: 31.3121, Loss1: 0.0037, Attention Loss: 0.0300, Sparse Loss: 29.8371, Cell Loss: 1.4413\n"
     ]
    },
    {
     "name": "stderr",
     "output_type": "stream",
     "text": [
      "Epoch 186/200: 100%|██████████| 200/200 [02:44<00:00,  1.22batch/s, attention_loss=0.03, cell_loss=1.42, loss=31.3, loss1=0.00373, sparse_loss=29.8]\n"
     ]
    },
    {
     "name": "stdout",
     "output_type": "stream",
     "text": [
      "Epoch [186/200], Average Loss: 31.2867, Loss1: 0.0037, Attention Loss: 0.0300, Sparse Loss: 29.8371, Cell Loss: 1.4159\n"
     ]
    },
    {
     "name": "stderr",
     "output_type": "stream",
     "text": [
      "Epoch 187/200: 100%|██████████| 200/200 [01:18<00:00,  2.55batch/s, attention_loss=0.03, cell_loss=1.41, loss=31.3, loss1=0.00373, sparse_loss=29.8]\n"
     ]
    },
    {
     "name": "stdout",
     "output_type": "stream",
     "text": [
      "Epoch [187/200], Average Loss: 31.2818, Loss1: 0.0037, Attention Loss: 0.0300, Sparse Loss: 29.8371, Cell Loss: 1.4109\n"
     ]
    },
    {
     "name": "stderr",
     "output_type": "stream",
     "text": [
      "Epoch 188/200: 100%|██████████| 200/200 [01:18<00:00,  2.56batch/s, attention_loss=0.03, cell_loss=1.41, loss=31.3, loss1=0.00373, sparse_loss=29.8]\n"
     ]
    },
    {
     "name": "stdout",
     "output_type": "stream",
     "text": [
      "Epoch [188/200], Average Loss: 31.2844, Loss1: 0.0037, Attention Loss: 0.0300, Sparse Loss: 29.8371, Cell Loss: 1.4136\n"
     ]
    },
    {
     "name": "stderr",
     "output_type": "stream",
     "text": [
      "Epoch 189/200: 100%|██████████| 200/200 [01:19<00:00,  2.52batch/s, attention_loss=0.03, cell_loss=1.46, loss=31.3, loss1=0.00374, sparse_loss=29.8]\n"
     ]
    },
    {
     "name": "stdout",
     "output_type": "stream",
     "text": [
      "Epoch [189/200], Average Loss: 31.3266, Loss1: 0.0037, Attention Loss: 0.0300, Sparse Loss: 29.8371, Cell Loss: 1.4558\n"
     ]
    },
    {
     "name": "stderr",
     "output_type": "stream",
     "text": [
      "Epoch 190/200: 100%|██████████| 200/200 [01:17<00:00,  2.57batch/s, attention_loss=0.03, cell_loss=1.44, loss=31.3, loss1=0.00373, sparse_loss=29.8]\n"
     ]
    },
    {
     "name": "stdout",
     "output_type": "stream",
     "text": [
      "Epoch [190/200], Average Loss: 31.3144, Loss1: 0.0037, Attention Loss: 0.0300, Sparse Loss: 29.8371, Cell Loss: 1.4436\n"
     ]
    },
    {
     "name": "stderr",
     "output_type": "stream",
     "text": [
      "Epoch 191/200: 100%|██████████| 200/200 [01:18<00:00,  2.56batch/s, attention_loss=0.03, cell_loss=1.45, loss=31.3, loss1=0.00373, sparse_loss=29.8]\n"
     ]
    },
    {
     "name": "stdout",
     "output_type": "stream",
     "text": [
      "Epoch [191/200], Average Loss: 31.3212, Loss1: 0.0037, Attention Loss: 0.0300, Sparse Loss: 29.8371, Cell Loss: 1.4503\n"
     ]
    },
    {
     "name": "stderr",
     "output_type": "stream",
     "text": [
      "Epoch 192/200: 100%|██████████| 200/200 [01:17<00:00,  2.57batch/s, attention_loss=0.03, cell_loss=1.41, loss=31.3, loss1=0.00372, sparse_loss=29.8]\n"
     ]
    },
    {
     "name": "stdout",
     "output_type": "stream",
     "text": [
      "Epoch [192/200], Average Loss: 31.2764, Loss1: 0.0037, Attention Loss: 0.0300, Sparse Loss: 29.8371, Cell Loss: 1.4056\n"
     ]
    },
    {
     "name": "stderr",
     "output_type": "stream",
     "text": [
      "Epoch 193/200: 100%|██████████| 200/200 [01:17<00:00,  2.57batch/s, attention_loss=0.03, cell_loss=1.43, loss=31.3, loss1=0.00372, sparse_loss=29.8]\n"
     ]
    },
    {
     "name": "stdout",
     "output_type": "stream",
     "text": [
      "Epoch [193/200], Average Loss: 31.3058, Loss1: 0.0037, Attention Loss: 0.0300, Sparse Loss: 29.8371, Cell Loss: 1.4350\n"
     ]
    },
    {
     "name": "stderr",
     "output_type": "stream",
     "text": [
      "Epoch 194/200: 100%|██████████| 200/200 [01:19<00:00,  2.51batch/s, attention_loss=0.03, cell_loss=1.42, loss=31.3, loss1=0.00373, sparse_loss=29.8]\n"
     ]
    },
    {
     "name": "stdout",
     "output_type": "stream",
     "text": [
      "Epoch [194/200], Average Loss: 31.2904, Loss1: 0.0037, Attention Loss: 0.0300, Sparse Loss: 29.8371, Cell Loss: 1.4195\n"
     ]
    },
    {
     "name": "stderr",
     "output_type": "stream",
     "text": [
      "Epoch 195/200: 100%|██████████| 200/200 [01:16<00:00,  2.60batch/s, attention_loss=0.03, cell_loss=1.42, loss=31.3, loss1=0.00372, sparse_loss=29.8]\n"
     ]
    },
    {
     "name": "stdout",
     "output_type": "stream",
     "text": [
      "Epoch [195/200], Average Loss: 31.2866, Loss1: 0.0037, Attention Loss: 0.0300, Sparse Loss: 29.8371, Cell Loss: 1.4158\n"
     ]
    },
    {
     "name": "stderr",
     "output_type": "stream",
     "text": [
      "Epoch 196/200: 100%|██████████| 200/200 [01:17<00:00,  2.58batch/s, attention_loss=0.03, cell_loss=1.45, loss=31.3, loss1=0.00373, sparse_loss=29.8]\n"
     ]
    },
    {
     "name": "stdout",
     "output_type": "stream",
     "text": [
      "Epoch [196/200], Average Loss: 31.3221, Loss1: 0.0037, Attention Loss: 0.0300, Sparse Loss: 29.8371, Cell Loss: 1.4513\n"
     ]
    },
    {
     "name": "stderr",
     "output_type": "stream",
     "text": [
      "Epoch 197/200: 100%|██████████| 200/200 [01:18<00:00,  2.55batch/s, attention_loss=0.03, cell_loss=1.43, loss=31.3, loss1=0.00373, sparse_loss=29.8]\n"
     ]
    },
    {
     "name": "stdout",
     "output_type": "stream",
     "text": [
      "Epoch [197/200], Average Loss: 31.3045, Loss1: 0.0037, Attention Loss: 0.0300, Sparse Loss: 29.8371, Cell Loss: 1.4336\n"
     ]
    },
    {
     "name": "stderr",
     "output_type": "stream",
     "text": [
      "Epoch 198/200: 100%|██████████| 200/200 [01:19<00:00,  2.51batch/s, attention_loss=0.03, cell_loss=1.45, loss=31.3, loss1=0.00372, sparse_loss=29.8]\n"
     ]
    },
    {
     "name": "stdout",
     "output_type": "stream",
     "text": [
      "Epoch [198/200], Average Loss: 31.3196, Loss1: 0.0037, Attention Loss: 0.0300, Sparse Loss: 29.8371, Cell Loss: 1.4488\n"
     ]
    },
    {
     "name": "stderr",
     "output_type": "stream",
     "text": [
      "Epoch 199/200: 100%|██████████| 200/200 [01:19<00:00,  2.52batch/s, attention_loss=0.03, cell_loss=1.43, loss=31.3, loss1=0.00373, sparse_loss=29.8]\n"
     ]
    },
    {
     "name": "stdout",
     "output_type": "stream",
     "text": [
      "Epoch [199/200], Average Loss: 31.2986, Loss1: 0.0037, Attention Loss: 0.0300, Sparse Loss: 29.8371, Cell Loss: 1.4277\n"
     ]
    },
    {
     "name": "stderr",
     "output_type": "stream",
     "text": [
      "Epoch 200/200: 100%|██████████| 200/200 [01:18<00:00,  2.55batch/s, attention_loss=0.03, cell_loss=1.48, loss=31.3, loss1=0.00373, sparse_loss=29.8]"
     ]
    },
    {
     "name": "stdout",
     "output_type": "stream",
     "text": [
      "Epoch [200/200], Average Loss: 31.3473, Loss1: 0.0037, Attention Loss: 0.0300, Sparse Loss: 29.8371, Cell Loss: 1.4765\n"
     ]
    },
    {
     "name": "stderr",
     "output_type": "stream",
     "text": [
      "\n"
     ]
    }
   ],
   "source": [
    "import torch\n",
    "import random\n",
    "from tqdm import tqdm\n",
    "\n",
    "gene_num = len(sample.y_exp)\n",
    "device = 'cuda:0'\n",
    "model.to(device)\n",
    "loss_exp = torch.nn.KLDivLoss(reduction='batchmean')\n",
    "# loss_exp = torch.nn.MSELoss()\n",
    "optimizer = torch.optim.Adam(model.parameters(), lr=0.001)\n",
    "num_epoch = 200\n",
    "drop_edge_rate = 0.1\n",
    "attention_reg_weight = 0.01\n",
    "sparse_loss_weight = 0.0001\n",
    "batch_size = 1\n",
    "criterion_sparse = EdgeSparsityLoss(alpha=1.0, beta=1.0, gamma=5.0, threshold=0.1)\n",
    "criterion2 = torch.nn.CrossEntropyLoss()\n",
    "max_grad_norm = 1.0\n",
    "\n",
    "def drop_edges(edge_index, drop_rate=0.1):\n",
    "    \"\"\"随机丢弃边，依据设定的丢弃比例。\n",
    "    Args:\n",
    "        edge_index (torch.Tensor): 边的张量，形状为 (2, num_edges)。\n",
    "        drop_rate (float): 要丢弃的边的比例。\n",
    "    Returns:\n",
    "        torch.Tensor: 丢弃部分边后的 edge_index。\n",
    "    \"\"\"\n",
    "    num_edges = edge_index.size(1)\n",
    "    mask = torch.rand(num_edges) > drop_rate\n",
    "    return edge_index[:, mask]\n",
    "\n",
    "for epoch in range(num_epoch):\n",
    "    model.train()\n",
    "    running_loss = 0.0\n",
    "    running_loss1 = 0.0\n",
    "    running_attention_loss = 0.0  # 记录 attention 正则化损失\n",
    "    running_sparse_loss = 0.0  # 记录稀疏损失\n",
    "    running_cell_loss = 0.0  # 记录 loss_cell\n",
    "\n",
    "    random.shuffle(train_graph)\n",
    "    train_loader = DataLoader(train_graph[:200], batch_size=batch_size, shuffle=True)\n",
    "    progress_bar = tqdm(train_loader, desc=f\"Epoch {epoch+1}/{num_epoch}\", unit=\"batch\")\n",
    "    for idx, sample in enumerate(progress_bar):\n",
    "        gene_num = sample.y_exp.shape[0]\n",
    "        optimizer.zero_grad()\n",
    "        edge_index_dropped = sample.edge_index\n",
    "        gene_pre, atten, cell_pre = model(\n",
    "            sample.seq_data.to(device),\n",
    "            sample.x.to(device),\n",
    "            sample.edge_index.to(device),\n",
    "            sample.edge_tf.T.to(device),\n",
    "            sample.batch.to(device), gene_num\n",
    "        )\n",
    "        index = torch.where(sample.id_vec == 1)[0]\n",
    "        loss1 = -loss_exp(gene_pre.flatten(), sample.y_exp.to(device))\n",
    "        loss_cell = criterion2(cell_pre.unsqueeze(0), sample.y.to(device))\n",
    "        attention_variance = torch.var(atten[1], dim=1).mean()\n",
    "        attention_loss = attention_reg_weight * (3.0 - attention_variance)  # 鼓励方差\n",
    "        edge_temp = model.edge.flatten()\n",
    "        loss2 = sparse_loss_weight * criterion_sparse(edge_temp)\n",
    "        loss = loss1 + attention_loss + loss_cell + loss2\n",
    "        loss.backward()\n",
    "        torch.nn.utils.clip_grad_norm_(model.parameters(), max_grad_norm)\n",
    "        optimizer.step()\n",
    "\n",
    "        # 更新运行中的损失\n",
    "        running_loss += loss.item()\n",
    "        running_loss1 += loss1.item()\n",
    "        running_attention_loss += attention_loss.item()  # 记录注意力正则化损失\n",
    "        running_sparse_loss += loss2.item()  # 记录稀疏损失\n",
    "        running_cell_loss += loss_cell.item()  # 记录 loss_cell\n",
    "\n",
    "        # 更新进度条，显示平均损失\n",
    "        progress_bar.set_postfix(\n",
    "            loss=running_loss / (progress_bar.n + 1),\n",
    "            loss1=running_loss1 / (progress_bar.n + 1),\n",
    "            attention_loss=running_attention_loss / (progress_bar.n + 1),\n",
    "            sparse_loss=running_sparse_loss / (progress_bar.n + 1),\n",
    "            cell_loss=running_cell_loss / (progress_bar.n + 1)\n",
    "        )\n",
    "\n",
    "        # 清空 CUDA 缓存，管理显存\n",
    "        torch.cuda.empty_cache()\n",
    "\n",
    "    print(f\"Epoch [{epoch+1}/{num_epoch}], Average Loss: {running_loss / len(train_loader):.4f}, \"\n",
    "          f\"Loss1: {running_loss1 / len(train_loader):.4f}, Attention Loss: {running_attention_loss / len(train_loader):.4f}, \"\n",
    "          f\"Sparse Loss: {running_sparse_loss / len(train_loader):.4f}, Cell Loss: {running_cell_loss / len(train_loader):.4f}\")\n"
   ]
  },
  {
   "cell_type": "code",
   "execution_count": 23,
   "id": "ccf8131b",
   "metadata": {},
   "outputs": [
    {
     "name": "stderr",
     "output_type": "stream",
     "text": [
      "Processing Batches: 100%|██████████| 3529/3529 [17:32<00:00,  3.35it/s]\n"
     ]
    }
   ],
   "source": [
    "test_loader = DataLoader(test_graph, batch_size=1, shuffle=False, pin_memory=True)\n",
    "model.eval()\n",
    "test_loss = 0.0 \n",
    "\n",
    "device = 'cuda:0'\n",
    "model.to(device)\n",
    "\n",
    "cell_type = []\n",
    "test_barcodes = []\n",
    "with torch.no_grad():\n",
    "    cell_link_atten = []\n",
    "    cell_link_activity = []\n",
    "    cell_link_edge = []\n",
    "    cell_link_enhancer = []\n",
    "    for idx, sample in tqdm(enumerate(test_loader), total=len(test_loader), desc=\"Processing Batches\"):\n",
    "        gene_pre, atten, _ = model(sample.seq_data.to(device),\n",
    "                                sample.x.to(device), \n",
    "                                sample.edge_index.to(device), \n",
    "                                sample.edge_tf.T.to(device), \n",
    "                                sample.batch.to(device), gene_num)\n",
    "        test_barcodes.append(sample.cell)\n",
    "        cell_type.append(sample.y.item())\n",
    "        import torch\n",
    "\n",
    "        # 对 model.edge.flatten() 进行 0-1 缩放\n",
    "        edge_flattened = model.edge.flatten().to('cpu')\n",
    "        min_val = torch.min(edge_flattened)\n",
    "        max_val = torch.max(edge_flattened)\n",
    "        normalized_edge = (edge_flattened - min_val) / (max_val - min_val + 1e-10)  # 防止除以 0\n",
    "\n",
    "        # 将归一化后的张量添加到 cell_link_edge\n",
    "        cell_link_edge.append(normalized_edge)\n",
    "\n",
    "\n",
    "        flattened_sample_x = sample.to(device).x[atten[0][1].cpu()].flatten()\n",
    "        flattened_sample_enhancer = sample.to(device).x[atten[0][0].cpu()].flatten()\n",
    "        atten1_max = torch.mean(atten[1], dim=1).to('cpu')\n",
    "        cell_link_activity.append(flattened_sample_x.to('cpu'))\n",
    "        cell_link_atten.append(atten1_max)\n",
    "        cell_link_enhancer.append(flattened_sample_enhancer.to('cpu'))\n",
    "#         edges = model.edge.flatten().cpu().numpy()\n",
    "        torch.cuda.empty_cache()"
   ]
  },
  {
   "cell_type": "code",
   "execution_count": 24,
   "id": "8094899d",
   "metadata": {},
   "outputs": [],
   "source": [
    "cell_link_atten = torch.stack(cell_link_atten)\n",
    "cell_link_edge = torch.stack(cell_link_edge)\n",
    "cell_link_activity = torch.stack(cell_link_activity)\n",
    "cell_link_enhancer = torch.stack(cell_link_enhancer)"
   ]
  },
  {
   "cell_type": "code",
   "execution_count": 137,
   "id": "727a5d94",
   "metadata": {},
   "outputs": [
    {
     "name": "stderr",
     "output_type": "stream",
     "text": [
      " UserWarning:/root/anaconda3/envs/HT2VEC/lib/python3.8/site-packages/scanpy/preprocessing/_simple.py:843: Received a view of an AnnData. Making a copy.\n",
      " UserWarning:/root/anaconda3/envs/HT2VEC/lib/python3.8/site-packages/scanpy/plotting/_tools/scatterplots.py:394: No data for colormapping provided via 'c'. Parameters 'cmap' will be ignored\n"
     ]
    },
    {
     "data": {
      "image/png": "[encoded data removed]",
      "text/plain": [
       "<Figure size 640x480 with 1 Axes>"
      ]
     },
     "metadata": {},
     "output_type": "display_data"
    }
   ],
   "source": [
    "data_np = cell_link_activity.cpu().numpy()\n",
    "\n",
    "import numpy as np\n",
    "adata_edge = ad.AnnData(\n",
    "    X=data_np, obs=dataset_atac.adata.obs.loc[np.concatenate(test_barcodes)])\n",
    "adata = adata_edge\n",
    "sc.pp.highly_variable_genes(adata, n_top_genes=10000, flavor='seurat')\n",
    "adata = adata[:, adata.var.highly_variable]\n",
    "sc.pp.scale(adata, max_value=10)\n",
    "sc.tl.pca(adata, svd_solver='arpack', n_comps=20)\n",
    "sc.pp.neighbors(adata, n_neighbors=15, n_pcs=20, metric=\"cosine\")\n",
    "sc.tl.umap(adata, min_dist=0.5)\n",
    "sc.pl.umap(adata, color=['celltype'], wspace=0.4,frameon=False)"
   ]
  },
  {
   "cell_type": "code",
   "execution_count": 138,
   "id": "7c68562e",
   "metadata": {},
   "outputs": [
    {
     "name": "stderr",
     "output_type": "stream",
     "text": [
      " UserWarning:/root/anaconda3/envs/HT2VEC/lib/python3.8/site-packages/scanpy/preprocessing/_simple.py:843: Received a view of an AnnData. Making a copy.\n",
      " UserWarning:/root/anaconda3/envs/HT2VEC/lib/python3.8/site-packages/scanpy/plotting/_tools/scatterplots.py:394: No data for colormapping provided via 'c'. Parameters 'cmap' will be ignored\n"
     ]
    },
    {
     "data": {
      "image/png": "[encoded data removed]",
      "text/plain": [
       "<Figure size 640x480 with 1 Axes>"
      ]
     },
     "metadata": {},
     "output_type": "display_data"
    }
   ],
   "source": [
    "data_np = cell_link_enhancer.cpu().numpy()\n",
    "\n",
    "import numpy as np\n",
    "adata_edge = ad.AnnData(\n",
    "    X=data_np, obs=dataset_atac.adata.obs.loc[np.concatenate(test_barcodes)])\n",
    "adata = adata_edge\n",
    "sc.pp.highly_variable_genes(adata, n_top_genes=10000, flavor='seurat')\n",
    "adata = adata[:, adata.var.highly_variable]\n",
    "sc.pp.scale(adata, max_value=10)\n",
    "sc.tl.pca(adata, svd_solver='arpack', n_comps=20)\n",
    "sc.pp.neighbors(adata, n_neighbors=15, n_pcs=20, metric=\"cosine\")\n",
    "sc.tl.umap(adata, min_dist=0.5)\n",
    "sc.pl.umap(adata, color=['celltype'], wspace=0.4,frameon=False)"
   ]
  },
  {
   "cell_type": "code",
   "execution_count": 139,
   "id": "13bad451",
   "metadata": {},
   "outputs": [
    {
     "name": "stderr",
     "output_type": "stream",
     "text": [
      " UserWarning:/root/anaconda3/envs/HT2VEC/lib/python3.8/site-packages/scanpy/preprocessing/_simple.py:843: Received a view of an AnnData. Making a copy.\n",
      " UserWarning:/root/anaconda3/envs/HT2VEC/lib/python3.8/site-packages/scanpy/plotting/_tools/scatterplots.py:394: No data for colormapping provided via 'c'. Parameters 'cmap' will be ignored\n"
     ]
    },
    {
     "data": {
      "image/png": "[encoded data removed]",
      "text/plain": [
       "<Figure size 640x480 with 1 Axes>"
      ]
     },
     "metadata": {},
     "output_type": "display_data"
    }
   ],
   "source": [
    "# Attention\n",
    "data_np = cell_link_atten.cpu().numpy()\n",
    "\n",
    "import numpy as np\n",
    "adata_edge = ad.AnnData(\n",
    "    X=data_np, obs=dataset_atac.adata.obs.loc[np.concatenate(test_barcodes)])\n",
    "adata = adata_edge\n",
    "sc.pp.highly_variable_genes(adata, n_top_genes=10000, flavor='seurat')\n",
    "adata = adata[:, adata.var.highly_variable]\n",
    "sc.pp.scale(adata, max_value=10)\n",
    "sc.tl.pca(adata, svd_solver='arpack', n_comps=20)\n",
    "sc.pp.neighbors(adata, n_neighbors=15, n_pcs=20, metric=\"cosine\")\n",
    "sc.tl.umap(adata, min_dist=0.5)\n",
    "sc.pl.umap(adata, color=['celltype'], wspace=0.4,frameon=False)"
   ]
  },
  {
   "cell_type": "code",
   "execution_count": 125,
   "id": "61abcf7c",
   "metadata": {},
   "outputs": [],
   "source": [
    "torch.save(cell_link_enhancer, 'cell_link_enhancer.pt')"
   ]
  },
  {
   "cell_type": "code",
   "execution_count": 123,
   "id": "bda2dd4e",
   "metadata": {},
   "outputs": [],
   "source": [
    "torch.save(cell_link_atten, 'cell_link_atten.pt')"
   ]
  },
  {
   "cell_type": "code",
   "execution_count": 120,
   "id": "6398cae9",
   "metadata": {},
   "outputs": [
    {
     "data": {
      "text/html": [
       "<div>\n",
       "<style scoped>\n",
       "    .dataframe tbody tr th:only-of-type {\n",
       "        vertical-align: middle;\n",
       "    }\n",
       "\n",
       "    .dataframe tbody tr th {\n",
       "        vertical-align: top;\n",
       "    }\n",
       "\n",
       "    .dataframe thead th {\n",
       "        text-align: right;\n",
       "    }\n",
       "</style>\n",
       "<table border=\"1\" class=\"dataframe\">\n",
       "  <thead>\n",
       "    <tr style=\"text-align: right;\">\n",
       "      <th></th>\n",
       "      <th>chr1\\t831895\\t848168\\tchr1:831895-848168\\tUBE2J2</th>\n",
       "    </tr>\n",
       "  </thead>\n",
       "  <tbody>\n",
       "    <tr>\n",
       "      <th>0</th>\n",
       "      <td>chr1\\t831895\\t848168\\tchr1:831895-848168\\tSAMD11</td>\n",
       "    </tr>\n",
       "    <tr>\n",
       "      <th>1</th>\n",
       "      <td>chr1\\t848169\\t850618\\tchr1:848169-850618\\tPUSL1</td>\n",
       "    </tr>\n",
       "    <tr>\n",
       "      <th>2</th>\n",
       "      <td>chr1\\t848169\\t850618\\tchr1:848169-850618\\tNOC2L</td>\n",
       "    </tr>\n",
       "    <tr>\n",
       "      <th>3</th>\n",
       "      <td>chr1\\t848169\\t850618\\tchr1:848169-850618\\tUBE2J2</td>\n",
       "    </tr>\n",
       "    <tr>\n",
       "      <th>4</th>\n",
       "      <td>chr1\\t874082\\t876091\\tchr1:874082-876091\\tSDF4</td>\n",
       "    </tr>\n",
       "    <tr>\n",
       "      <th>...</th>\n",
       "      <td>...</td>\n",
       "    </tr>\n",
       "    <tr>\n",
       "      <th>136820</th>\n",
       "      <td>chrY\\t59014054\\t59017708\\tchrY:59014054-590177...</td>\n",
       "    </tr>\n",
       "    <tr>\n",
       "      <th>136821</th>\n",
       "      <td>chrY\\t59017709\\t59017981\\tchrY:59017709-590179...</td>\n",
       "    </tr>\n",
       "    <tr>\n",
       "      <th>136822</th>\n",
       "      <td>chrY\\t59017709\\t59017981\\tchrY:59017709-590179...</td>\n",
       "    </tr>\n",
       "    <tr>\n",
       "      <th>136823</th>\n",
       "      <td>chrY\\t59017982\\t59029526\\tchrY:59017982-590295...</td>\n",
       "    </tr>\n",
       "    <tr>\n",
       "      <th>136824</th>\n",
       "      <td>chrY\\t59029556\\t59035651\\tchrY:59029556-590356...</td>\n",
       "    </tr>\n",
       "  </tbody>\n",
       "</table>\n",
       "<p>136825 rows × 1 columns</p>\n",
       "</div>"
      ],
      "text/plain": [
       "         chr1\\t831895\\t848168\\tchr1:831895-848168\\tUBE2J2\n",
       "0        chr1\\t831895\\t848168\\tchr1:831895-848168\\tSAMD11\n",
       "1         chr1\\t848169\\t850618\\tchr1:848169-850618\\tPUSL1\n",
       "2         chr1\\t848169\\t850618\\tchr1:848169-850618\\tNOC2L\n",
       "3        chr1\\t848169\\t850618\\tchr1:848169-850618\\tUBE2J2\n",
       "4          chr1\\t874082\\t876091\\tchr1:874082-876091\\tSDF4\n",
       "...                                                   ...\n",
       "136820  chrY\\t59014054\\t59017708\\tchrY:59014054-590177...\n",
       "136821  chrY\\t59017709\\t59017981\\tchrY:59017709-590179...\n",
       "136822  chrY\\t59017709\\t59017981\\tchrY:59017709-590179...\n",
       "136823  chrY\\t59017982\\t59029526\\tchrY:59017982-590295...\n",
       "136824  chrY\\t59029556\\t59035651\\tchrY:59029556-590356...\n",
       "\n",
       "[136825 rows x 1 columns]"
      ]
     },
     "execution_count": 120,
     "metadata": {},
     "output_type": "execute_result"
    }
   ],
   "source": [
    "pd.read_csv('../test_fast/CRC_cellline_PO.txt', sep='\\t', )"
   ]
  },
  {
   "cell_type": "code",
   "execution_count": 71,
   "id": "060f9003",
   "metadata": {},
   "outputs": [
    {
     "name": "stdout",
     "output_type": "stream",
     "text": [
      "                   Gene                     Location\n",
      "1 \"('A2M'      1 \"('A2M     chr12-8709390-8709890')\"\n",
      "2 \"('A2M'      2 \"('A2M     chr12-8709390-8709890')\"\n",
      "3 \"('ABCA1'  3 \"('ABCA1  chr9-107918652-107919152')\"\n",
      "4 \"('ABCA1'  4 \"('ABCA1  chr9-107929677-107930177')\"\n",
      "5 \"('ABCA1'  5 \"('ABCA1  chr9-107999805-108000305')\"\n"
     ]
    },
    {
     "data": {
      "text/html": [
       "<div>\n",
       "<style scoped>\n",
       "    .dataframe tbody tr th:only-of-type {\n",
       "        vertical-align: middle;\n",
       "    }\n",
       "\n",
       "    .dataframe tbody tr th {\n",
       "        vertical-align: top;\n",
       "    }\n",
       "\n",
       "    .dataframe thead th {\n",
       "        text-align: right;\n",
       "    }\n",
       "</style>\n",
       "<table border=\"1\" class=\"dataframe\">\n",
       "  <thead>\n",
       "    <tr style=\"text-align: right;\">\n",
       "      <th></th>\n",
       "      <th>gene</th>\n",
       "      <th>peak</th>\n",
       "    </tr>\n",
       "  </thead>\n",
       "  <tbody>\n",
       "    <tr>\n",
       "      <th>0</th>\n",
       "      <td>A2M</td>\n",
       "      <td>chr12-8709390-8709890</td>\n",
       "    </tr>\n",
       "    <tr>\n",
       "      <th>1</th>\n",
       "      <td>A2M</td>\n",
       "      <td>chr12-8709390-8709890</td>\n",
       "    </tr>\n",
       "    <tr>\n",
       "      <th>2</th>\n",
       "      <td>ABCA1</td>\n",
       "      <td>chr9-107918652-107919152</td>\n",
       "    </tr>\n",
       "    <tr>\n",
       "      <th>3</th>\n",
       "      <td>ABCA1</td>\n",
       "      <td>chr9-107929677-107930177</td>\n",
       "    </tr>\n",
       "    <tr>\n",
       "      <th>4</th>\n",
       "      <td>ABCA1</td>\n",
       "      <td>chr9-107999805-108000305</td>\n",
       "    </tr>\n",
       "  </tbody>\n",
       "</table>\n",
       "</div>"
      ],
      "text/plain": [
       "    gene                      peak\n",
       "0    A2M     chr12-8709390-8709890\n",
       "1    A2M     chr12-8709390-8709890\n",
       "2  ABCA1  chr9-107918652-107919152\n",
       "3  ABCA1  chr9-107929677-107930177\n",
       "4  ABCA1  chr9-107999805-108000305"
      ]
     },
     "execution_count": 71,
     "metadata": {},
     "output_type": "execute_result"
    }
   ],
   "source": [
    "temp_df = pd.read_csv('../test_fast//intersect_CRC_cellline_link.txt')\n",
    "\n",
    "# Define a function to clean up the gene and chromosome location\n",
    "def clean_location(entry):\n",
    "    # Remove any unwanted characters\n",
    "    return entry.strip(\"')\")\n",
    "\n",
    "# Clean the index and data\n",
    "temp_df['Gene'] = temp_df.index.str.strip(\"('\")\n",
    "temp_df['Location'] = temp_df['x'].apply(clean_location)\n",
    "\n",
    "# Drop the original 'x' column\n",
    "temp_df = temp_df.drop(columns=['x'])\n",
    "\n",
    "# Display the cleaned DataFrame\n",
    "print(temp_df.head())\n",
    "gene_list = [t.split('\\'')[-1] for t in temp_df['Gene'].values]\n",
    "peak_list = [t.split('\\'')[0] for t in temp_df['Location'].values]\n",
    "df = pd.DataFrame({'gene':gene_list, 'peak':peak_list})\n",
    "df.head()"
   ]
  },
  {
   "cell_type": "code",
   "execution_count": 73,
   "id": "52de3c71",
   "metadata": {},
   "outputs": [],
   "source": [
    "pos_dict = dict()\n",
    "pos_dict_int = dict()\n",
    "for idx, t in enumerate(dataset_atac.array_peak):\n",
    "    pos_dict[t] = idx\n",
    "    pos_dict_int[idx] = t\n",
    "    \n",
    "str_lists = []\n",
    "for t in range(atten[0].shape[1]):\n",
    "    str_lists.append(pos_dict_int[atten[0][1][t].item()] +  '-'  + pos_dict_int[atten[0][0][t].item()]) "
   ]
  },
  {
   "cell_type": "code",
   "execution_count": 74,
   "id": "da57aea0",
   "metadata": {},
   "outputs": [],
   "source": [
    "target_links = []\n",
    "for t in df.values:\n",
    "    target_links.append(t[0] + '-' + t[1])"
   ]
  },
  {
   "cell_type": "code",
   "execution_count": 92,
   "id": "ac1f70ca",
   "metadata": {},
   "outputs": [],
   "source": [
    "map_index = []\n",
    "for t in target_links:\n",
    "    try:\n",
    "        map_index.append(str_lists.index(t))\n",
    "    except:\n",
    "        continue"
   ]
  },
  {
   "cell_type": "code",
   "execution_count": 100,
   "id": "b2cecc83",
   "metadata": {},
   "outputs": [],
   "source": [
    "map_index = torch.tensor(map_index)"
   ]
  },
  {
   "cell_type": "code",
   "execution_count": 85,
   "id": "048c7d10",
   "metadata": {},
   "outputs": [],
   "source": [
    "cell_type_cpu = dataset_atac.adata.obs.loc[np.concatenate(test_barcodes)]['celltype'].values"
   ]
  },
  {
   "cell_type": "code",
   "execution_count": 87,
   "id": "4576d4c1",
   "metadata": {},
   "outputs": [],
   "source": [
    "unique_celltype = np.unique(cell_type), np.unique(cell_type_cpu, return_counts=True)"
   ]
  },
  {
   "cell_type": "code",
   "execution_count": 110,
   "id": "c3e6e365",
   "metadata": {},
   "outputs": [],
   "source": [
    "unique_celltype = dataset_atac.array_celltype"
   ]
  },
  {
   "cell_type": "code",
   "execution_count": 119,
   "id": "e55d800a",
   "metadata": {},
   "outputs": [
    {
     "data": {
      "image/png": "[encoded data removed]",
      "text/plain": [
       "<Figure size 800x600 with 1 Axes>"
      ]
     },
     "metadata": {},
     "output_type": "display_data"
    }
   ],
   "source": [
    "import pandas as pd\n",
    "import numpy as np\n",
    "import matplotlib.pyplot as plt\n",
    "import seaborn as sns\n",
    "\n",
    "# 获取numpy数组\n",
    "temp_normalized = cell_link_atten[:, map_index].cpu().numpy()\n",
    "\n",
    "# 计算每个细胞类型组的均值\n",
    "means = [np.mean(temp_normalized[cell_type_cpu == unique_celltype[i], :], axis=0) for i in range(len(unique_celltype))]\n",
    "\n",
    "# 创建数据框并按均值排序\n",
    "mean_data = {'Group': ['Type ' + str(i) for i in range(len(unique_celltype))],\n",
    "             'Mean': [np.mean(m) for m in means]}\n",
    "mean_df = pd.DataFrame(mean_data).sort_values(by='Mean')\n",
    "\n",
    "# 准备用于绘图的数据\n",
    "sorted_means = [means[int(group.split(' ')[1])] for group in mean_df['Group']]\n",
    "data = {'Group': np.repeat(mean_df['Group'], [len(m) for m in sorted_means]),\n",
    "        'Values': np.concatenate(sorted_means)}\n",
    "df = pd.DataFrame(data)\n",
    "\n",
    "# 创建箱线图\n",
    "plt.figure(figsize=(8, 6))\n",
    "sns.boxplot(x='Group', y='Values', data=df, order=mean_df['Group'])\n",
    "plt.title(\"Grouped Box Plot of Means by Cell Type\")\n",
    "plt.ylabel(\"Mean Values\")\n",
    "plt.xlabel(\"Cell Type\")\n",
    "plt.grid(True, linestyle='--', alpha=0.5)\n",
    "plt.show()\n"
   ]
  },
  {
   "cell_type": "code",
   "execution_count": 112,
   "id": "15a8ceda",
   "metadata": {},
   "outputs": [
    {
     "data": {
      "text/plain": [
       "array(['B cells', 'Mast cells', 'Myeloids', 'N_Epithelial',\n",
       "       'P_Epithelial', 'Plasma', 'Stromal cells', 'TNKILC',\n",
       "       'T_Epithelial'], dtype=object)"
      ]
     },
     "execution_count": 112,
     "metadata": {},
     "output_type": "execute_result"
    }
   ],
   "source": [
    "unique_celltype"
   ]
  },
  {
   "cell_type": "code",
   "execution_count": 29,
   "id": "4073e5d8",
   "metadata": {},
   "outputs": [],
   "source": []
  },
  {
   "cell_type": "code",
   "execution_count": 54,
   "id": "f773415e",
   "metadata": {},
   "outputs": [],
   "source": []
  },
  {
   "cell_type": "code",
   "execution_count": null,
   "id": "8fea33c5",
   "metadata": {},
   "outputs": [],
   "source": []
  }
 ],
 "metadata": {
  "kernelspec": {
   "display_name": "Python 3 (ipykernel)",
   "language": "python",
   "name": "python3"
  },
  "language_info": {
   "codemirror_mode": {
    "name": "ipython",
    "version": 3
   },
   "file_extension": ".py",
   "mimetype": "text/x-python",
   "name": "python",
   "nbconvert_exporter": "python",
   "pygments_lexer": "ipython3",
   "version": "3.8.17"
  }
 },
 "nbformat": 4,
 "nbformat_minor": 5
}
