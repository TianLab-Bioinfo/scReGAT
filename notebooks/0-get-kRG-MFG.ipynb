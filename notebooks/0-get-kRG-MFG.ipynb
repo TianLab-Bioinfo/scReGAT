{
 "cells": [
  {
   "cell_type": "code",
   "execution_count": 1,
   "id": "fb3dd537-1408-40aa-a3fa-89db4203004f",
   "metadata": {},
   "outputs": [],
   "source": [
    "import os\n",
    "import sys\n",
    "sys.path.append('..')  \n",
    "import random\n",
    "import pickle"
   ]
  },
  {
   "cell_type": "code",
   "execution_count": 2,
   "id": "1e449760-1085-4979-9914-e0aa87044beb",
   "metadata": {},
   "outputs": [],
   "source": [
    "import numpy as np\n",
    "import pandas as pd\n",
    "import seaborn as sns\n",
    "import matplotlib.pyplot as plt"
   ]
  },
  {
   "cell_type": "code",
   "execution_count": 3,
   "id": "10632d5f-9079-4d67-8d4e-ad8f137a810d",
   "metadata": {},
   "outputs": [],
   "source": [
    "from scipy.stats import hypergeom"
   ]
  },
  {
   "cell_type": "code",
   "execution_count": 4,
   "id": "a9d083c8-8dec-4e27-8a9b-f0c8bfb5809c",
   "metadata": {},
   "outputs": [
    {
     "name": "stderr",
     "output_type": "stream",
     "text": [
      "/root/miniconda3/envs/scReGAT/lib/python3.8/site-packages/torch_geometric/typing.py:68: UserWarning: An issue occurred while importing 'pyg-lib'. Disabling its usage. Stacktrace: /lib/x86_64-linux-gnu/libm.so.6: version `GLIBC_2.29' not found (required by /root/miniconda3/envs/scReGAT/lib/python3.8/site-packages/libpyg.so)\n",
      "  warnings.warn(f\"An issue occurred while importing 'pyg-lib'. \"\n",
      "/root/miniconda3/envs/scReGAT/lib/python3.8/site-packages/torch_geometric/typing.py:124: UserWarning: An issue occurred while importing 'torch-sparse'. Disabling its usage. Stacktrace: /lib/x86_64-linux-gnu/libm.so.6: version `GLIBC_2.29' not found (required by /root/miniconda3/envs/scReGAT/lib/python3.8/site-packages/libpyg.so)\n",
      "  warnings.warn(f\"An issue occurred while importing 'torch-sparse'. \"\n"
     ]
    }
   ],
   "source": [
    "from scregat.data_process import prepare_model_input, sum_counts, plot_edge, ATACGraphDataset\n",
    "from run_scReGAT import *"
   ]
  },
  {
   "cell_type": "code",
   "execution_count": 5,
   "id": "aa199b73-b178-4658-8a5a-39d9e8466861",
   "metadata": {},
   "outputs": [],
   "source": [
    "ATAC_h5ad_file = \"../data/scATAC_MFG.h5ad\"\n",
    "RNA_h5ad_file = \"../data/scRNA_MFG.h5ad\""
   ]
  },
  {
   "cell_type": "code",
   "execution_count": 6,
   "id": "b9bcfc9e-cd31-47c9-b5f5-be7e6e9d3eff",
   "metadata": {},
   "outputs": [
    {
     "data": {
      "text/plain": [
       "AnnData object with n_obs × n_vars = 2174 × 292156\n",
       "    obs: 'celltype', 'celltype_rna'\n",
       "    var: 'peak'"
      ]
     },
     "execution_count": 6,
     "metadata": {},
     "output_type": "execute_result"
    }
   ],
   "source": [
    "adata_atac = sc.read_h5ad(ATAC_h5ad_file)\n",
    "adata_atac"
   ]
  },
  {
   "cell_type": "code",
   "execution_count": 7,
   "id": "239e30c6-ff9e-4097-b680-446f372b5ed0",
   "metadata": {},
   "outputs": [
    {
     "data": {
      "text/plain": [
       "AnnData object with n_obs × n_vars = 15603 × 50281\n",
       "    obs: 'orig.ident', 'nCount_RNA', 'nFeature_RNA', 'cluster', 'class', 'brain_subregion', 'donor', 'sex', 'facs_sort_criteria', 'seq_batch', 'total_reads', 'percent_reads_unique', 'celltype'"
      ]
     },
     "execution_count": 7,
     "metadata": {},
     "output_type": "execute_result"
    }
   ],
   "source": [
    "adata_rna = sc.read_h5ad(RNA_h5ad_file)\n",
    "adata_rna"
   ]
  },
  {
   "cell_type": "code",
   "execution_count": 8,
   "id": "9ba13fbd-fb68-4cf9-bc22-9c2de4f8aaf1",
   "metadata": {},
   "outputs": [
    {
     "data": {
      "text/plain": [
       "['inhibitory_neuron', 'oligodendrocytes', 'microglia', 'excitatory_neuron', 'astrocyte', 'polydendrocytes']\n",
       "Categories (6, object): ['astrocyte', 'excitatory_neuron', 'inhibitory_neuron', 'microglia', 'oligodendrocytes', 'polydendrocytes']"
      ]
     },
     "execution_count": 8,
     "metadata": {},
     "output_type": "execute_result"
    }
   ],
   "source": [
    "adata_atac.obs.celltype.unique()"
   ]
  },
  {
   "cell_type": "code",
   "execution_count": 9,
   "id": "4a79381a-d1e8-4906-8a41-65d70e5f2e8a",
   "metadata": {},
   "outputs": [
    {
     "data": {
      "text/plain": [
       "['inhibitory_neuron', 'excitatory_neuron', 'oligodendrocytes', 'OPC', 'astrocyte', 'microglia', 'polydendrocytes']\n",
       "Categories (7, object): ['OPC', 'astrocyte', 'excitatory_neuron', 'inhibitory_neuron', 'microglia', 'oligodendrocytes', 'polydendrocytes']"
      ]
     },
     "execution_count": 9,
     "metadata": {},
     "output_type": "execute_result"
    }
   ],
   "source": [
    "adata_rna.obs.celltype.unique()"
   ]
  },
  {
   "cell_type": "code",
   "execution_count": 10,
   "id": "b3911baa-5413-4974-8580-e005a5ae5a51",
   "metadata": {},
   "outputs": [
    {
     "name": "stdout",
     "output_type": "stream",
     "text": [
      "**finished identifying marker genes by COSG**\n"
     ]
    }
   ],
   "source": [
    "adata_rna.obs['celltype'] = adata_rna.obs['celltype'].astype('object')\n",
    "df_rna = sum_counts(adata_rna,by = 'celltype',marker_gene_num=300)"
   ]
  },
  {
   "cell_type": "code",
   "execution_count": 11,
   "id": "0547be00-d6f7-450e-aec7-429c46a55193",
   "metadata": {},
   "outputs": [
    {
     "data": {
      "text/html": [
       "<div>\n",
       "<style scoped>\n",
       "    .dataframe tbody tr th:only-of-type {\n",
       "        vertical-align: middle;\n",
       "    }\n",
       "\n",
       "    .dataframe tbody tr th {\n",
       "        vertical-align: top;\n",
       "    }\n",
       "\n",
       "    .dataframe thead th {\n",
       "        text-align: right;\n",
       "    }\n",
       "</style>\n",
       "<table border=\"1\" class=\"dataframe\">\n",
       "  <thead>\n",
       "    <tr style=\"text-align: right;\">\n",
       "      <th></th>\n",
       "      <th>KHDRBS2</th>\n",
       "      <th>GRIK1-AS2</th>\n",
       "      <th>EBI3</th>\n",
       "      <th>RBFOX3</th>\n",
       "      <th>FSTL4</th>\n",
       "      <th>CLMN</th>\n",
       "      <th>HLA-DRA</th>\n",
       "      <th>SLC31A2</th>\n",
       "      <th>LINC00693</th>\n",
       "      <th>SMAD6</th>\n",
       "      <th>...</th>\n",
       "      <th>MMP16</th>\n",
       "      <th>LMO2</th>\n",
       "      <th>ZIC2</th>\n",
       "      <th>S1PR1</th>\n",
       "      <th>SLC24A3</th>\n",
       "      <th>MATN2</th>\n",
       "      <th>LOC105371450</th>\n",
       "      <th>LOC100289473</th>\n",
       "      <th>MALRD1</th>\n",
       "      <th>LOC105375946</th>\n",
       "    </tr>\n",
       "    <tr>\n",
       "      <th>celltype</th>\n",
       "      <th></th>\n",
       "      <th></th>\n",
       "      <th></th>\n",
       "      <th></th>\n",
       "      <th></th>\n",
       "      <th></th>\n",
       "      <th></th>\n",
       "      <th></th>\n",
       "      <th></th>\n",
       "      <th></th>\n",
       "      <th></th>\n",
       "      <th></th>\n",
       "      <th></th>\n",
       "      <th></th>\n",
       "      <th></th>\n",
       "      <th></th>\n",
       "      <th></th>\n",
       "      <th></th>\n",
       "      <th></th>\n",
       "      <th></th>\n",
       "      <th></th>\n",
       "    </tr>\n",
       "  </thead>\n",
       "  <tbody>\n",
       "    <tr>\n",
       "      <th>OPC</th>\n",
       "      <td>204.413307</td>\n",
       "      <td>25.355736</td>\n",
       "      <td>0.118630</td>\n",
       "      <td>3.951372</td>\n",
       "      <td>13.118019</td>\n",
       "      <td>8.731940</td>\n",
       "      <td>0.160989</td>\n",
       "      <td>10.183867</td>\n",
       "      <td>141.483908</td>\n",
       "      <td>0.289306</td>\n",
       "      <td>...</td>\n",
       "      <td>734.481218</td>\n",
       "      <td>12.977100</td>\n",
       "      <td>1.189517</td>\n",
       "      <td>0.632859</td>\n",
       "      <td>390.729394</td>\n",
       "      <td>158.011564</td>\n",
       "      <td>0.446021</td>\n",
       "      <td>2.449428</td>\n",
       "      <td>110.235446</td>\n",
       "      <td>0.005007</td>\n",
       "    </tr>\n",
       "    <tr>\n",
       "      <th>astrocyte</th>\n",
       "      <td>15.935032</td>\n",
       "      <td>0.005369</td>\n",
       "      <td>0.306355</td>\n",
       "      <td>17.003299</td>\n",
       "      <td>15.536367</td>\n",
       "      <td>95.553408</td>\n",
       "      <td>1.783011</td>\n",
       "      <td>11.943250</td>\n",
       "      <td>199.376715</td>\n",
       "      <td>18.062374</td>\n",
       "      <td>...</td>\n",
       "      <td>24.333656</td>\n",
       "      <td>39.471486</td>\n",
       "      <td>33.008490</td>\n",
       "      <td>54.069509</td>\n",
       "      <td>244.056471</td>\n",
       "      <td>29.233064</td>\n",
       "      <td>39.901926</td>\n",
       "      <td>154.940513</td>\n",
       "      <td>57.955775</td>\n",
       "      <td>0.005844</td>\n",
       "    </tr>\n",
       "    <tr>\n",
       "      <th>excitatory_neuron</th>\n",
       "      <td>30441.438663</td>\n",
       "      <td>26.970255</td>\n",
       "      <td>41.331078</td>\n",
       "      <td>15538.866045</td>\n",
       "      <td>15677.835472</td>\n",
       "      <td>621.224506</td>\n",
       "      <td>38.114010</td>\n",
       "      <td>451.525416</td>\n",
       "      <td>1770.539696</td>\n",
       "      <td>19.737002</td>\n",
       "      <td>...</td>\n",
       "      <td>19761.874766</td>\n",
       "      <td>73.867485</td>\n",
       "      <td>2.126392</td>\n",
       "      <td>6.050989</td>\n",
       "      <td>534.205947</td>\n",
       "      <td>1136.859327</td>\n",
       "      <td>83.222972</td>\n",
       "      <td>432.758441</td>\n",
       "      <td>801.517704</td>\n",
       "      <td>3.393977</td>\n",
       "    </tr>\n",
       "    <tr>\n",
       "      <th>inhibitory_neuron</th>\n",
       "      <td>7450.173362</td>\n",
       "      <td>943.230022</td>\n",
       "      <td>7.470723</td>\n",
       "      <td>4392.758670</td>\n",
       "      <td>756.419344</td>\n",
       "      <td>425.239518</td>\n",
       "      <td>10.876037</td>\n",
       "      <td>156.341741</td>\n",
       "      <td>3110.245013</td>\n",
       "      <td>14.016254</td>\n",
       "      <td>...</td>\n",
       "      <td>4018.684764</td>\n",
       "      <td>148.976759</td>\n",
       "      <td>0.375682</td>\n",
       "      <td>10.579516</td>\n",
       "      <td>4693.369108</td>\n",
       "      <td>602.001001</td>\n",
       "      <td>10.722428</td>\n",
       "      <td>88.373405</td>\n",
       "      <td>187.004622</td>\n",
       "      <td>2.663826</td>\n",
       "    </tr>\n",
       "    <tr>\n",
       "      <th>microglia</th>\n",
       "      <td>4.720456</td>\n",
       "      <td>0.006326</td>\n",
       "      <td>11.719547</td>\n",
       "      <td>0.501443</td>\n",
       "      <td>2.513341</td>\n",
       "      <td>2.532980</td>\n",
       "      <td>88.713636</td>\n",
       "      <td>0.556713</td>\n",
       "      <td>0.189775</td>\n",
       "      <td>11.052461</td>\n",
       "      <td>...</td>\n",
       "      <td>1.490889</td>\n",
       "      <td>20.653181</td>\n",
       "      <td>0.000000</td>\n",
       "      <td>0.005577</td>\n",
       "      <td>2.496617</td>\n",
       "      <td>1.170771</td>\n",
       "      <td>0.000000</td>\n",
       "      <td>1.102326</td>\n",
       "      <td>3.935479</td>\n",
       "      <td>13.484683</td>\n",
       "    </tr>\n",
       "    <tr>\n",
       "      <th>oligodendrocytes</th>\n",
       "      <td>69.578624</td>\n",
       "      <td>3.469668</td>\n",
       "      <td>0.862455</td>\n",
       "      <td>11.141468</td>\n",
       "      <td>16.277593</td>\n",
       "      <td>610.536332</td>\n",
       "      <td>4.084310</td>\n",
       "      <td>339.729936</td>\n",
       "      <td>17.202339</td>\n",
       "      <td>1.092756</td>\n",
       "      <td>...</td>\n",
       "      <td>19.026296</td>\n",
       "      <td>2.189157</td>\n",
       "      <td>0.200800</td>\n",
       "      <td>0.010993</td>\n",
       "      <td>8.541102</td>\n",
       "      <td>166.326730</td>\n",
       "      <td>0.760266</td>\n",
       "      <td>5.022869</td>\n",
       "      <td>22.311059</td>\n",
       "      <td>0.075826</td>\n",
       "    </tr>\n",
       "    <tr>\n",
       "      <th>polydendrocytes</th>\n",
       "      <td>3.151151</td>\n",
       "      <td>0.004475</td>\n",
       "      <td>0.000000</td>\n",
       "      <td>0.078543</td>\n",
       "      <td>0.560613</td>\n",
       "      <td>5.565757</td>\n",
       "      <td>0.086239</td>\n",
       "      <td>2.482783</td>\n",
       "      <td>2.527658</td>\n",
       "      <td>4.781364</td>\n",
       "      <td>...</td>\n",
       "      <td>0.637749</td>\n",
       "      <td>6.528295</td>\n",
       "      <td>2.625542</td>\n",
       "      <td>1.142909</td>\n",
       "      <td>0.006362</td>\n",
       "      <td>3.687775</td>\n",
       "      <td>0.013367</td>\n",
       "      <td>0.000000</td>\n",
       "      <td>0.044306</td>\n",
       "      <td>0.000000</td>\n",
       "    </tr>\n",
       "  </tbody>\n",
       "</table>\n",
       "<p>7 rows × 2031 columns</p>\n",
       "</div>"
      ],
      "text/plain": [
       "                        KHDRBS2   GRIK1-AS2       EBI3        RBFOX3  \\\n",
       "celltype                                                               \n",
       "OPC                  204.413307   25.355736   0.118630      3.951372   \n",
       "astrocyte             15.935032    0.005369   0.306355     17.003299   \n",
       "excitatory_neuron  30441.438663   26.970255  41.331078  15538.866045   \n",
       "inhibitory_neuron   7450.173362  943.230022   7.470723   4392.758670   \n",
       "microglia              4.720456    0.006326  11.719547      0.501443   \n",
       "oligodendrocytes      69.578624    3.469668   0.862455     11.141468   \n",
       "polydendrocytes        3.151151    0.004475   0.000000      0.078543   \n",
       "\n",
       "                          FSTL4        CLMN    HLA-DRA     SLC31A2  \\\n",
       "celltype                                                             \n",
       "OPC                   13.118019    8.731940   0.160989   10.183867   \n",
       "astrocyte             15.536367   95.553408   1.783011   11.943250   \n",
       "excitatory_neuron  15677.835472  621.224506  38.114010  451.525416   \n",
       "inhibitory_neuron    756.419344  425.239518  10.876037  156.341741   \n",
       "microglia              2.513341    2.532980  88.713636    0.556713   \n",
       "oligodendrocytes      16.277593  610.536332   4.084310  339.729936   \n",
       "polydendrocytes        0.560613    5.565757   0.086239    2.482783   \n",
       "\n",
       "                     LINC00693      SMAD6  ...         MMP16        LMO2  \\\n",
       "celltype                                   ...                             \n",
       "OPC                 141.483908   0.289306  ...    734.481218   12.977100   \n",
       "astrocyte           199.376715  18.062374  ...     24.333656   39.471486   \n",
       "excitatory_neuron  1770.539696  19.737002  ...  19761.874766   73.867485   \n",
       "inhibitory_neuron  3110.245013  14.016254  ...   4018.684764  148.976759   \n",
       "microglia             0.189775  11.052461  ...      1.490889   20.653181   \n",
       "oligodendrocytes     17.202339   1.092756  ...     19.026296    2.189157   \n",
       "polydendrocytes       2.527658   4.781364  ...      0.637749    6.528295   \n",
       "\n",
       "                        ZIC2      S1PR1      SLC24A3        MATN2  \\\n",
       "celltype                                                            \n",
       "OPC                 1.189517   0.632859   390.729394   158.011564   \n",
       "astrocyte          33.008490  54.069509   244.056471    29.233064   \n",
       "excitatory_neuron   2.126392   6.050989   534.205947  1136.859327   \n",
       "inhibitory_neuron   0.375682  10.579516  4693.369108   602.001001   \n",
       "microglia           0.000000   0.005577     2.496617     1.170771   \n",
       "oligodendrocytes    0.200800   0.010993     8.541102   166.326730   \n",
       "polydendrocytes     2.625542   1.142909     0.006362     3.687775   \n",
       "\n",
       "                   LOC105371450  LOC100289473      MALRD1  LOC105375946  \n",
       "celltype                                                                 \n",
       "OPC                    0.446021      2.449428  110.235446      0.005007  \n",
       "astrocyte             39.901926    154.940513   57.955775      0.005844  \n",
       "excitatory_neuron     83.222972    432.758441  801.517704      3.393977  \n",
       "inhibitory_neuron     10.722428     88.373405  187.004622      2.663826  \n",
       "microglia              0.000000      1.102326    3.935479     13.484683  \n",
       "oligodendrocytes       0.760266      5.022869   22.311059      0.075826  \n",
       "polydendrocytes        0.013367      0.000000    0.044306      0.000000  \n",
       "\n",
       "[7 rows x 2031 columns]"
      ]
     },
     "execution_count": 11,
     "metadata": {},
     "output_type": "execute_result"
    }
   ],
   "source": [
    "df_rna"
   ]
  },
  {
   "cell_type": "code",
   "execution_count": 12,
   "id": "9fb2dd1b-e944-45cc-8da1-78c4cea11412",
   "metadata": {},
   "outputs": [
    {
     "name": "stdout",
     "output_type": "stream",
     "text": [
      "only dataset_obj ...\n",
      "processing Hi-C ...\n"
     ]
    },
    {
     "name": "stderr",
     "output_type": "stream",
     "text": [
      " SettingWithCopyWarning:/root/miniconda3/envs/scReGAT/lib/python3.8/site-packages/scregat/data_process.py:438: \n",
      "A value is trying to be set on a copy of a slice from a DataFrame.\n",
      "Try using .loc[row_indexer,col_indexer] = value instead\n",
      "\n",
      "See the caveats in the documentation: https://pandas.pydata.org/pandas-docs/stable/user_guide/indexing.html#returning-a-view-versus-a-copy\n"
     ]
    },
    {
     "name": "stdout",
     "output_type": "stream",
     "text": [
      "processing TF ...\n",
      "additional TF...\n",
      "total candidate tf-gene:  28054\n"
     ]
    },
    {
     "name": "stderr",
     "output_type": "stream",
     "text": [
      " UserWarning:/root/miniconda3/envs/scReGAT/lib/python3.8/site-packages/scregat/data_process.py:525: Creating a tensor from a list of numpy.ndarrays is extremely slow. Please consider converting the list to a single numpy.ndarray with numpy.array() before converting to a tensor. (Triggered internally at ../torch/csrc/utils/tensor_new.cpp:245.)\n"
     ]
    }
   ],
   "source": [
    "dataset_atac = prepare_model_input(\n",
    "    adata_atac=adata_atac,\n",
    "    path_data_root = './' ,\n",
    "    file_atac = ATAC_h5ad_file, \n",
    "    df_rna_celltype = df_rna,\n",
    "    path_eqtl = '../data/all_tissue_SNP_Gene.txt',\n",
    "    Hi_C_file_suffix = \"_\" + \"brain\",\n",
    "    hg19tohg38 = False, min_percent = 0.01, use_additional_tf=True, tissue_cuttof=10)"
   ]
  },
  {
   "cell_type": "code",
   "execution_count": 13,
   "id": "d59afde4-4629-46a4-9638-db037fba7eca",
   "metadata": {},
   "outputs": [
    {
     "data": {
      "text/plain": [
       "Data(x=[61528, 1], edge_index=[2, 69180], y=[1], edge_tf=[155, 2], y_exp=[1348], cell='TCCATACCAATGATGCGGCATTCT')"
      ]
     },
     "execution_count": 13,
     "metadata": {},
     "output_type": "execute_result"
    }
   ],
   "source": [
    "dataset_atac.list_graph[0]"
   ]
  },
  {
   "cell_type": "code",
   "execution_count": 15,
   "id": "349ec6c4-1f9f-45f0-8e86-f0154693aee6",
   "metadata": {},
   "outputs": [],
   "source": [
    "file_atac_test = os.path.join('../data/', 'dataset_atac_core_MFG.pkl')\n",
    "with open(file_atac_test, 'wb') as w_pkl:\n",
    "    str_pkl = pickle.dumps(dataset_atac)\n",
    "    w_pkl.write(str_pkl)"
   ]
  },
  {
   "cell_type": "code",
   "execution_count": null,
   "id": "096c7e54-1725-4ee4-90c5-eaa20d15f2b3",
   "metadata": {},
   "outputs": [],
   "source": []
  },
  {
   "cell_type": "markdown",
   "id": "b04091b3-b7a2-434d-9011-85d981595cf0",
   "metadata": {},
   "source": [
    "### Add Tissue-specific TF-gene "
   ]
  },
  {
   "cell_type": "code",
   "execution_count": 16,
   "id": "1500f9b2-6f2d-4d44-84fd-044ad9e1919d",
   "metadata": {},
   "outputs": [],
   "source": [
    "df = pd.read_csv(\"../data/TF_Gene_tissue_Brain.csv\", index_col=0)\n",
    "df.columns = ['TF', 'TargetGene', 'tissue_count']"
   ]
  },
  {
   "cell_type": "code",
   "execution_count": 17,
   "id": "31165329-593d-47cf-9144-f5d9901cbaac",
   "metadata": {},
   "outputs": [],
   "source": [
    "df_tf = df"
   ]
  },
  {
   "cell_type": "code",
   "execution_count": 18,
   "id": "19a1b659-1105-47f8-be1e-5d5c906a8b87",
   "metadata": {},
   "outputs": [],
   "source": [
    "gene_list = list(dataset_atac.df_rna.columns)"
   ]
  },
  {
   "cell_type": "code",
   "execution_count": 19,
   "id": "2ddd073c-5552-4cfe-9ac4-2da08f6ae00b",
   "metadata": {},
   "outputs": [],
   "source": [
    "import itertools"
   ]
  },
  {
   "cell_type": "code",
   "execution_count": 20,
   "id": "712cf730-c6e4-4a50-af45-31351798ddae",
   "metadata": {},
   "outputs": [],
   "source": [
    "set_gene = set(gene_list)\n",
    "tf_base_filtered = df_tf[df_tf['TF'].isin(set_gene) & df_tf['TargetGene'].isin(set_gene)]\n",
    "connections = [pair for pair in itertools.product(set_gene, set_gene) ]\n",
    "gene_pair_base = connections\n",
    "tf_map_gene = set(tf_base_filtered['TF'].unique())\n",
    "target_map_gene = set(tf_base_filtered['TargetGene'].unique())\n",
    "tf_base_tuples = set(zip(tf_base_filtered['TF'], tf_base_filtered['TargetGene']))\n",
    "map_pair = tf_base_tuples.intersection(gene_pair_base)\n",
    "map_pair_list = list(map_pair)\n",
    "df_tf_new = pd.DataFrame(map_pair_list, columns=['TF', 'TargetGene'])\n",
    "df_tf_all = pd.concat([df_tf_new, dataset_atac.df_tf])\n",
    "df_tf_all = df_tf_all.drop_duplicates()"
   ]
  },
  {
   "cell_type": "code",
   "execution_count": 21,
   "id": "30b60595-ef2c-41b9-b864-9ecc4ec2e664",
   "metadata": {},
   "outputs": [],
   "source": [
    "dataset_atac.df_tf = df_tf_all"
   ]
  },
  {
   "cell_type": "code",
   "execution_count": 22,
   "id": "34c2f980-02db-4f92-ab5c-c93035da7ed4",
   "metadata": {},
   "outputs": [],
   "source": [
    "# Create a dictionary to store the index of each element in dataset_atac.array_peak\n",
    "peak_index_dict = {peak: idx for idx, peak in enumerate(dataset_atac.array_peak)}\n",
    "\n",
    "# Initialize lists to store indices\n",
    "index_1 = []\n",
    "index_2 = []\n",
    "\n",
    "# Iterate over 'TF' and 'TargetGene' columns in dataset_atac.df_tf\n",
    "for k1, k2 in zip(dataset_atac.df_tf['TF'].values, dataset_atac.df_tf['TargetGene'].values):\n",
    "    # Use the dictionary to quickly retrieve indices\n",
    "    index_1.append(peak_index_dict[k1])\n",
    "    index_2.append(peak_index_dict[k2])\n",
    "\n",
    "# Stack the two index lists column-wise and convert to a PyTorch tensor\n",
    "tf_edge_vec = torch.tensor(np.vstack([index_1, index_2]).T)\n",
    "\n",
    "# Assign the TF edge tensor to the edge_tf attribute of each graph in the list\n",
    "for t in dataset_atac.list_graph:\n",
    "    t.edge_tf = tf_edge_vec\n"
   ]
  },
  {
   "cell_type": "code",
   "execution_count": 23,
   "id": "7e53cc59-9e4f-4d83-9524-3f86dfcccc1a",
   "metadata": {},
   "outputs": [
    {
     "data": {
      "text/plain": [
       "Data(x=[61528, 1], edge_index=[2, 69180], y=[1], edge_tf=[4036, 2], y_exp=[1348], cell='TCCATACCAATGATGCGGCATTCT')"
      ]
     },
     "execution_count": 23,
     "metadata": {},
     "output_type": "execute_result"
    }
   ],
   "source": [
    "dataset_atac.list_graph[0]"
   ]
  },
  {
   "cell_type": "code",
   "execution_count": 24,
   "id": "1a5f2b55-653e-48ce-ae6a-d24fab1f4ae4",
   "metadata": {},
   "outputs": [],
   "source": [
    "file_atac_test = os.path.join('../data/', 'dataset_atac_core_MFG.pkl')\n",
    "with open(file_atac_test, 'wb') as w_pkl:\n",
    "    str_pkl = pickle.dumps(dataset_atac)\n",
    "    w_pkl.write(str_pkl)"
   ]
  },
  {
   "cell_type": "code",
   "execution_count": null,
   "id": "76b59479-8f2e-450a-a13c-d21a72393fe7",
   "metadata": {},
   "outputs": [],
   "source": []
  }
 ],
 "metadata": {
  "kernelspec": {
   "display_name": "Python 3 (ipykernel)",
   "language": "python",
   "name": "python3"
  },
  "language_info": {
   "codemirror_mode": {
    "name": "ipython",
    "version": 3
   },
   "file_extension": ".py",
   "mimetype": "text/x-python",
   "name": "python",
   "nbconvert_exporter": "python",
   "pygments_lexer": "ipython3",
   "version": "3.8.20"
  }
 },
 "nbformat": 4,
 "nbformat_minor": 5
}
