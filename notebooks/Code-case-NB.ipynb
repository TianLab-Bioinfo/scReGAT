{
 "cells": [
  {
   "cell_type": "code",
   "execution_count": 1,
   "id": "8308b1ba-c807-4db0-bbc1-db3cc5c619a6",
   "metadata": {},
   "outputs": [],
   "source": [
    "import os\n",
    "import sys\n",
    "sys.path.append('..')  \n",
    "import random\n",
    "import pickle"
   ]
  },
  {
   "cell_type": "code",
   "execution_count": 2,
   "id": "2679a081-4f69-413b-9c41-56cbfdb6ae70",
   "metadata": {},
   "outputs": [],
   "source": [
    "import numpy as np\n",
    "import pandas as pd\n",
    "import seaborn as sns\n",
    "import matplotlib.pyplot as plt"
   ]
  },
  {
   "cell_type": "code",
   "execution_count": 3,
   "id": "0407767f-c38b-4251-bff1-2d499e5515bb",
   "metadata": {},
   "outputs": [],
   "source": [
    "import torch\n",
    "import torch.nn as nn\n",
    "import torch.nn.functional as F"
   ]
  },
  {
   "cell_type": "code",
   "execution_count": 4,
   "id": "0fc62725-3fd8-4cb2-b812-c7ba64c11863",
   "metadata": {},
   "outputs": [],
   "source": [
    "from scipy.stats import zscore\n",
    "from scipy.stats import spearmanr\n",
    "from scipy.stats import ranksums\n",
    "from statsmodels.stats.multitest import multipletests\n",
    "from scipy.stats import ks_2samp, rankdata\n",
    "from joblib import Parallel, delayed"
   ]
  },
  {
   "cell_type": "code",
   "execution_count": 5,
   "id": "3d29ec39-d98e-4356-8708-27a28c2a0d33",
   "metadata": {},
   "outputs": [
    {
     "name": "stderr",
     "output_type": "stream",
     "text": [
      "/root/miniconda3/envs/scReGAT/lib/python3.8/site-packages/torch_geometric/typing.py:68: UserWarning: An issue occurred while importing 'pyg-lib'. Disabling its usage. Stacktrace: /lib/x86_64-linux-gnu/libm.so.6: version `GLIBC_2.29' not found (required by /root/miniconda3/envs/scReGAT/lib/python3.8/site-packages/libpyg.so)\n",
      "  warnings.warn(f\"An issue occurred while importing 'pyg-lib'. \"\n",
      "/root/miniconda3/envs/scReGAT/lib/python3.8/site-packages/torch_geometric/typing.py:124: UserWarning: An issue occurred while importing 'torch-sparse'. Disabling its usage. Stacktrace: /lib/x86_64-linux-gnu/libm.so.6: version `GLIBC_2.29' not found (required by /root/miniconda3/envs/scReGAT/lib/python3.8/site-packages/libpyg.so)\n",
      "  warnings.warn(f\"An issue occurred while importing 'torch-sparse'. \"\n"
     ]
    }
   ],
   "source": [
    "from scregat.data_process import prepare_model_input, sum_counts, plot_edge, ATACGraphDataset\n",
    "from run_scReGAT import *"
   ]
  },
  {
   "cell_type": "code",
   "execution_count": 6,
   "id": "326a7dfd-0db7-4634-9f52-ec6f6a5cf9e2",
   "metadata": {},
   "outputs": [],
   "source": [
    "# load graph"
   ]
  },
  {
   "cell_type": "code",
   "execution_count": 7,
   "id": "819d7523-97d6-46f1-afef-a45c83138b37",
   "metadata": {},
   "outputs": [],
   "source": [
    "with open('../data/dataset_atac_core_NB.pkl', 'rb') as f:\n",
    "    dataset_atac = pickle.load(f)"
   ]
  },
  {
   "cell_type": "code",
   "execution_count": 8,
   "id": "38fa5ab6-5d68-4715-a8bd-1155cf22a67e",
   "metadata": {},
   "outputs": [
    {
     "data": {
      "text/plain": [
       "Data(x=[73543, 1], edge_index=[2, 207089], y=[1], edge_tf=[80301, 2], y_exp=[7335], cell='CCTGCTACATGATCGT-1')"
      ]
     },
     "execution_count": 8,
     "metadata": {},
     "output_type": "execute_result"
    }
   ],
   "source": [
    "dataset_atac.list_graph[0]"
   ]
  },
  {
   "cell_type": "code",
   "execution_count": 9,
   "id": "caee5a45-5df1-4669-9be2-7c690495e2ef",
   "metadata": {},
   "outputs": [],
   "source": [
    "device = torch.device('cuda:1' if torch.cuda.is_available() else 'cpu')"
   ]
  },
  {
   "cell_type": "code",
   "execution_count": 10,
   "id": "fc22c25f-a93e-4f57-97d8-69fa9aa1b9b2",
   "metadata": {},
   "outputs": [],
   "source": [
    "seed = 1255\n",
    "set_seed(seed)\n",
    "random.seed(seed)\n",
    "np.random.seed(seed)\n",
    "torch.manual_seed(seed)\n",
    "if torch.cuda.is_available():\n",
    "    torch.cuda.manual_seed(seed)\n",
    "    torch.cuda.manual_seed_all(seed)\n",
    "\n",
    "    \n",
    "torch.backends.cudnn.deterministic = True\n",
    "torch.backends.cudnn.benchmark = False"
   ]
  },
  {
   "cell_type": "code",
   "execution_count": 11,
   "id": "b56ffbbb-bce4-4f21-af69-ed27a6e37680",
   "metadata": {},
   "outputs": [],
   "source": [
    "model = SCReGAT()"
   ]
  },
  {
   "cell_type": "code",
   "execution_count": 12,
   "id": "b1259d15-9f1f-4273-b2d4-a491100f0333",
   "metadata": {},
   "outputs": [],
   "source": [
    "cells = dataset_atac.adata.obs_names.values"
   ]
  },
  {
   "cell_type": "code",
   "execution_count": 13,
   "id": "67262f13-89aa-422c-aa29-f30e9039e530",
   "metadata": {},
   "outputs": [],
   "source": [
    "test_cell = random.sample(list(cells),int(len(cells) *0.5))"
   ]
  },
  {
   "cell_type": "code",
   "execution_count": 14,
   "id": "5f0bc2ce-9ecc-4c92-a9f5-a7abe29b0f4a",
   "metadata": {},
   "outputs": [],
   "source": [
    "num_epoch = 4\n",
    "leanring_rate = 1e-4"
   ]
  },
  {
   "cell_type": "code",
   "execution_count": 15,
   "id": "260a5bbd-f867-4781-86ee-e057bfe58f20",
   "metadata": {},
   "outputs": [
    {
     "name": "stdout",
     "output_type": "stream",
     "text": [
      "Preprocess Start!\n"
     ]
    },
    {
     "name": "stderr",
     "output_type": "stream",
     "text": [
      "\n",
      "rocessing samples: 100%|██████████| 7649/7649 [00:00<00:00, 14043.22it/s]"
     ]
    },
    {
     "name": "stdout",
     "output_type": "stream",
     "text": [
      "train_graph: 3825\n",
      "test_graph: 3824\n",
      "random max_values: 10.903339385986328\n"
     ]
    },
    {
     "name": "stderr",
     "output_type": "stream",
     "text": [
      "Processing samples: 0it [00:00, ?it/s]"
     ]
    },
    {
     "name": "stdout",
     "output_type": "stream",
     "text": [
      "adding random nodes...: 0\n"
     ]
    },
    {
     "name": "stderr",
     "output_type": "stream",
     "text": [
      "\n"
     ]
    }
   ],
   "source": [
    "balanced_train_graph, test_graph = preprocess_graph(dataset_atac, test_cell, max_random_sample=0, seed=seed, if_test=False,is_balances=False)"
   ]
  },
  {
   "cell_type": "code",
   "execution_count": 16,
   "id": "876c1bdd-cb6c-4672-b013-a8db28445c1c",
   "metadata": {},
   "outputs": [
    {
     "name": "stderr",
     "output_type": "stream",
     "text": [
      "\n",
      "poch 1/4: 100%|██████████| 957/957 [03:42<00:00,  4.30batch/s, loss=0.207, loss1=0.0664, sparse_loss=0.141]"
     ]
    },
    {
     "name": "stdout",
     "output_type": "stream",
     "text": [
      "Epoch [1/4], Average Loss: 0.2074, Loss1: 0.0664, Sparse Loss: 0.1410\n"
     ]
    },
    {
     "name": "stderr",
     "output_type": "stream",
     "text": [
      "\n",
      "poch 2/4: 100%|██████████| 957/957 [03:20<00:00,  4.77batch/s, loss=0.14, loss1=0.000307, sparse_loss=0.14]"
     ]
    },
    {
     "name": "stdout",
     "output_type": "stream",
     "text": [
      "Epoch [2/4], Average Loss: 0.1400, Loss1: 0.0003, Sparse Loss: 0.1397\n"
     ]
    },
    {
     "name": "stderr",
     "output_type": "stream",
     "text": [
      "\n",
      "poch 3/4: 100%|██████████| 957/957 [02:28<00:00,  6.45batch/s, loss=0.139, loss1=0.000107, sparse_loss=0.139]"
     ]
    },
    {
     "name": "stdout",
     "output_type": "stream",
     "text": [
      "Epoch [3/4], Average Loss: 0.1394, Loss1: 0.0001, Sparse Loss: 0.1393\n"
     ]
    },
    {
     "name": "stderr",
     "output_type": "stream",
     "text": [
      "Epoch 4/4: 100%|██████████| 957/957 [03:01<00:00,  5.26batch/s, loss=0.139, loss1=4.97e-5, sparse_loss=0.139]"
     ]
    },
    {
     "name": "stdout",
     "output_type": "stream",
     "text": [
      "Epoch [4/4], Average Loss: 0.1390, Loss1: 0.0000, Sparse Loss: 0.1390\n"
     ]
    },
    {
     "name": "stderr",
     "output_type": "stream",
     "text": [
      "\n"
     ]
    }
   ],
   "source": [
    "model = train_model(model, balanced_train_graph, num_epoch=num_epoch, batch_size=4, lr=leanring_rate, max_grad_norm=1.0, sparse_loss_weight=0.1,\n",
    "                    if_zero=False,use_device=device)"
   ]
  },
  {
   "cell_type": "code",
   "execution_count": 17,
   "id": "080b790d-34fe-4714-8521-9f62fddc8a18",
   "metadata": {},
   "outputs": [],
   "source": [
    "# add edge_tf"
   ]
  },
  {
   "cell_type": "code",
   "execution_count": 18,
   "id": "c69921da-ff47-4af3-8fef-5b3f71517008",
   "metadata": {},
   "outputs": [],
   "source": [
    "base_edge = dataset_atac.list_graph[0].edge_index\n",
    "gene_edge = dataset_atac.list_graph[0].edge_tf"
   ]
  },
  {
   "cell_type": "code",
   "execution_count": 19,
   "id": "01d78644-33c8-45d3-a4fc-eb6aab9e1c3f",
   "metadata": {},
   "outputs": [
    {
     "data": {
      "text/plain": [
       "torch.Size([2, 287379])"
      ]
     },
     "execution_count": 19,
     "metadata": {},
     "output_type": "execute_result"
    }
   ],
   "source": [
    "indices_not_equal = torch.nonzero(gene_edge[:, 0] != gene_edge[:, 1]).squeeze()\n",
    "gene_edge = gene_edge[indices_not_equal, ].T\n",
    "all_edges = torch.vstack((base_edge.T, gene_edge.T)).T\n",
    "all_edges.shape "
   ]
  },
  {
   "cell_type": "code",
   "execution_count": 20,
   "id": "446ac60f-fa60-4db2-a3fd-895b5633669f",
   "metadata": {},
   "outputs": [],
   "source": [
    "for t in dataset_atac.list_graph:\n",
    "    t.edge_index = all_edges"
   ]
  },
  {
   "cell_type": "code",
   "execution_count": 21,
   "id": "79fcd278-d57f-45e5-861d-432a1adc91a9",
   "metadata": {},
   "outputs": [
    {
     "data": {
      "text/plain": [
       "Data(x=[73543, 1], edge_index=[2, 287379], y=[1], edge_tf=[80301, 2], y_exp=[7335], cell='CCTGCTACATGATCGT-1')"
      ]
     },
     "execution_count": 21,
     "metadata": {},
     "output_type": "execute_result"
    }
   ],
   "source": [
    "dataset_atac.list_graph[0]"
   ]
  },
  {
   "cell_type": "code",
   "execution_count": 22,
   "id": "676702f1-fca4-4e53-a072-0cf6ba914e4e",
   "metadata": {},
   "outputs": [
    {
     "name": "stderr",
     "output_type": "stream",
     "text": [
      "\n",
      "rocessing Batches: 100%|██████████| 765/765 [14:19<00:00,  1.12s/it]"
     ]
    }
   ],
   "source": [
    "res_edge, test_barcodes = test_model(dataset_atac, model, dataset_atac.list_graph, batch_size=10, device=device, if_test=False)"
   ]
  },
  {
   "cell_type": "code",
   "execution_count": 23,
   "id": "261702d1-b1ce-461c-b3a7-6623a0357948",
   "metadata": {},
   "outputs": [],
   "source": [
    "# save h5ad"
   ]
  },
  {
   "cell_type": "code",
   "execution_count": 24,
   "id": "e41daf4f-186d-4b54-a952-6845ff8967f0",
   "metadata": {},
   "outputs": [],
   "source": [
    "adata_edge = ad.AnnData(X=res_edge, obs=dataset_atac.adata.obs.loc[test_barcodes,])"
   ]
  },
  {
   "cell_type": "code",
   "execution_count": 25,
   "id": "a54e2827-f6d6-41be-b7a4-6e7a46546400",
   "metadata": {},
   "outputs": [
    {
     "data": {
      "text/plain": [
       "AnnData object with n_obs × n_vars = 7649 × 287379\n",
       "    obs: 'nCount_RNA', 'nFeature_RNA', 'barcode_suffix', 'X_umap1', 'X_umap2', 'balancing_weight', 'cells', 'barcode', 'sample', 'celltype', 'celltype_rna', 'nb_features'"
      ]
     },
     "execution_count": 25,
     "metadata": {},
     "output_type": "execute_result"
    }
   ],
   "source": [
    "adata_edge"
   ]
  },
  {
   "cell_type": "code",
   "execution_count": 24,
   "id": "4ef4814a-1a43-488e-bdf6-88429f1b5e11",
   "metadata": {},
   "outputs": [],
   "source": [
    "edge_info = get_edge_info(dataset_atac)\n",
    "edge_info['edge'] = edge_info['peak'] + \"_\" + edge_info['gene']"
   ]
  },
  {
   "cell_type": "code",
   "execution_count": 25,
   "id": "6c18e936-a4fb-4db3-bcfe-45af72d436dc",
   "metadata": {},
   "outputs": [],
   "source": [
    "adata_edge.var_names = edge_info.edge.values"
   ]
  },
  {
   "cell_type": "code",
   "execution_count": 26,
   "id": "1a72b2d1-d7b6-42cc-be83-9e73cdbe52b7",
   "metadata": {},
   "outputs": [],
   "source": [
    "adata_edge.write_h5ad(\"../data/scRP_NB.h5ad\")"
   ]
  },
  {
   "cell_type": "code",
   "execution_count": null,
   "id": "ac6269ed-5bd7-47a3-bdb3-8bdea934ce68",
   "metadata": {},
   "outputs": [],
   "source": []
  },
  {
   "cell_type": "markdown",
   "id": "b1f14388-c935-4bd4-9a0c-17ade7006dfa",
   "metadata": {},
   "source": [
    "# 2. 差异分析（RP、RNA、ATAC）"
   ]
  },
  {
   "cell_type": "code",
   "execution_count": 27,
   "id": "17fee93e-f637-4fc2-ae82-2436e65fbea4",
   "metadata": {},
   "outputs": [],
   "source": [
    "with open('../data/dataset_atac_core_NB.pkl', 'rb') as f:\n",
    "    dataset_atac = pickle.load(f)"
   ]
  },
  {
   "cell_type": "code",
   "execution_count": 28,
   "id": "a35b67f3-8cf7-4fa6-8670-c082bf4d716c",
   "metadata": {},
   "outputs": [],
   "source": [
    "base_edge = dataset_atac.list_graph[0].edge_index\n",
    "gene_edge = dataset_atac.list_graph[0].edge_tf\n",
    "indices_not_equal = torch.nonzero(gene_edge[:, 0] != gene_edge[:, 1]).squeeze()\n",
    "gene_edge = gene_edge[indices_not_equal, ].T\n",
    "all_edges = torch.vstack((base_edge.T, gene_edge.T)).T\n",
    "all_edges.shape \n",
    "for t in dataset_atac.list_graph:\n",
    "    t.edge_index = all_edges"
   ]
  },
  {
   "cell_type": "code",
   "execution_count": 29,
   "id": "b6a68cdd-4184-4752-90c2-726eb25b59b9",
   "metadata": {},
   "outputs": [
    {
     "data": {
      "text/plain": [
       "Data(x=[73543, 1], edge_index=[2, 287379], y=[1], edge_tf=[80301, 2], y_exp=[7335], cell='CCTGCTACATGATCGT-1')"
      ]
     },
     "execution_count": 29,
     "metadata": {},
     "output_type": "execute_result"
    }
   ],
   "source": [
    "dataset_atac.list_graph[0]"
   ]
  },
  {
   "cell_type": "code",
   "execution_count": 30,
   "id": "478a65c1-435b-422c-884f-7e09a79ebd79",
   "metadata": {},
   "outputs": [
    {
     "data": {
      "text/plain": [
       "AnnData object with n_obs × n_vars = 7649 × 287379\n",
       "    obs: 'nCount_RNA', 'nFeature_RNA', 'barcode_suffix', 'X_umap1', 'X_umap2', 'balancing_weight', 'cells', 'barcode', 'sample', 'celltype', 'celltype_rna', 'nb_features'"
      ]
     },
     "execution_count": 30,
     "metadata": {},
     "output_type": "execute_result"
    }
   ],
   "source": [
    "adata_edge = sc.read_h5ad(\"../data/scRP_NB.h5ad\")\n",
    "adata_edge"
   ]
  },
  {
   "cell_type": "code",
   "execution_count": 31,
   "id": "c0b3395c-1964-448a-bf52-e75e3bfda5e6",
   "metadata": {},
   "outputs": [
    {
     "name": "stderr",
     "output_type": "stream",
     "text": [
      " RuntimeWarning:/root/miniconda3/envs/scReGAT/lib/python3.8/site-packages/scanpy/tools/_rank_genes_groups.py:422: invalid value encountered in log2\n"
     ]
    }
   ],
   "source": [
    "adata_edge.obs.celltype = adata_edge.obs.celltype.to_numpy()\n",
    "sc.tl.rank_genes_groups(adata_edge, 'celltype', method='wilcoxon', groups=['NB_M'],reference=\"NB_S\")\n",
    "select_edges_M = sc.get.rank_genes_groups_df(adata_edge, group='NB_M')"
   ]
  },
  {
   "cell_type": "code",
   "execution_count": 32,
   "id": "537894fc-ca0b-4b88-8943-9a24f1207991",
   "metadata": {},
   "outputs": [],
   "source": [
    "select_edges_M[['peak', 'gene']] = select_edges_M['names'].str.split('_', expand=True)"
   ]
  },
  {
   "cell_type": "code",
   "execution_count": 33,
   "id": "17b7d5f9-5bd9-464f-8b56-692f38207701",
   "metadata": {},
   "outputs": [],
   "source": [
    "select_edges_temp = select_edges_M[select_edges_M['peak'].str.startswith('chr')]\n",
    "select_edges_temp = select_edges_temp.dropna(subset=['logfoldchanges'])"
   ]
  },
  {
   "cell_type": "code",
   "execution_count": null,
   "id": "d0ea2667-9aba-4b4a-a6f5-624f5946f182",
   "metadata": {},
   "outputs": [],
   "source": []
  },
  {
   "cell_type": "code",
   "execution_count": 34,
   "id": "4d2e5ee0-e24a-4614-85f6-692ac23b807b",
   "metadata": {},
   "outputs": [
    {
     "data": {
      "text/plain": [
       "AnnData object with n_obs × n_vars = 4925 × 33538\n",
       "    obs: 'nCount_RNA', 'nFeature_RNA', 'barcode_suffix', 'X_umap1', 'X_umap2', 'balancing_weight', 'cells', 'barcode', 'sample', 'celltype'\n",
       "    var: 'name'"
      ]
     },
     "execution_count": 34,
     "metadata": {},
     "output_type": "execute_result"
    }
   ],
   "source": [
    "adata_rna = sc.read_h5ad(\"../data/scRNA_NB.h5ad\")\n",
    "adata_rna"
   ]
  },
  {
   "cell_type": "code",
   "execution_count": 35,
   "id": "49d59e78-f604-480e-b087-232428edb3dc",
   "metadata": {},
   "outputs": [],
   "source": [
    "# Normalizing to median total counts\n",
    "sc.pp.normalize_total(adata_rna)\n",
    "# Logarithmize the data\n",
    "sc.pp.log1p(adata_rna)\n",
    "sc.tl.rank_genes_groups(adata_rna, 'celltype', method='wilcoxon', groups=['NB_M'],reference=\"NB_S\")\n",
    "select_genes_M = sc.get.rank_genes_groups_df(adata_rna, group='NB_M')"
   ]
  },
  {
   "cell_type": "code",
   "execution_count": null,
   "id": "af513c32-05e6-489b-bb80-785c9df09967",
   "metadata": {},
   "outputs": [],
   "source": []
  },
  {
   "cell_type": "code",
   "execution_count": 36,
   "id": "1c22f49d-9d01-416d-83c4-424d5975bb1f",
   "metadata": {},
   "outputs": [
    {
     "data": {
      "text/plain": [
       "View of AnnData object with n_obs × n_vars = 7649 × 66140\n",
       "    obs: 'nCount_RNA', 'nFeature_RNA', 'barcode_suffix', 'X_umap1', 'X_umap2', 'balancing_weight', 'cells', 'barcode', 'sample', 'celltype', 'celltype_rna'\n",
       "    var: 'name'"
      ]
     },
     "execution_count": 36,
     "metadata": {},
     "output_type": "execute_result"
    }
   ],
   "source": [
    "adata_atac = sc.read_h5ad(\"../data/scATAC_NB.h5ad\")\n",
    "adata_atac = adata_atac[dataset_atac.adata.obs_names,select_edges_temp.peak.unique()]\n",
    "adata_atac"
   ]
  },
  {
   "cell_type": "code",
   "execution_count": 37,
   "id": "43aff12a-8a87-42d7-ac76-295361ad6f19",
   "metadata": {},
   "outputs": [
    {
     "name": "stderr",
     "output_type": "stream",
     "text": [
      " ImplicitModificationWarning:/root/miniconda3/envs/scReGAT/lib/python3.8/site-packages/pandas/core/generic.py:5931: Trying to modify attribute `.obs` of view, initializing view as actual.\n"
     ]
    },
    {
     "name": "stdout",
     "output_type": "stream",
     "text": [
      "WARNING: It seems you use rank_genes_groups on the raw count data. Please logarithmize your data before calling rank_genes_groups.\n"
     ]
    }
   ],
   "source": [
    "adata_atac.obs.celltype = adata_atac.obs.celltype.to_numpy()\n",
    "sc.tl.rank_genes_groups(adata_atac, 'celltype', method='wilcoxon', groups=['NB_M'],reference=\"NB_S\")\n",
    "select_peaks_M = sc.get.rank_genes_groups_df(adata_atac, group='NB_M')"
   ]
  },
  {
   "cell_type": "code",
   "execution_count": null,
   "id": "1e4b3d6b-72ff-4163-aa62-5b866ad102d9",
   "metadata": {},
   "outputs": [],
   "source": []
  },
  {
   "cell_type": "code",
   "execution_count": null,
   "id": "980a923c-6cc1-44df-bc4a-fe136ac08dde",
   "metadata": {},
   "outputs": [],
   "source": []
  },
  {
   "cell_type": "markdown",
   "id": "462fd958-0f33-454a-80a4-c2925d6103e8",
   "metadata": {},
   "source": [
    "# 3. RP和Expression、Accessibility的Rank 相关性分析"
   ]
  },
  {
   "cell_type": "code",
   "execution_count": 38,
   "id": "3dbf7031-843f-47f4-9ce9-45a8610107c8",
   "metadata": {},
   "outputs": [],
   "source": [
    "def calculate_gene_p_values(df, n_jobs=-1):\n",
    "    \"\"\"\n",
    "    Perform KS-test on gene logFC values and return adjusted p-values.\n",
    "    \n",
    "    Args:\n",
    "        df (pd.DataFrame): Input dataframe containing 'names' and 'logfoldchanges' columns.\n",
    "        n_jobs (int): Number of parallel jobs to run (-1 means use all available cores).\n",
    "    \n",
    "    Returns:\n",
    "        pd.DataFrame: Results dataframe with columns:\n",
    "            - gene: Gene identifier\n",
    "            - pvalue: Raw KS-test p-value\n",
    "            - corrected_pvalue: FDR-adjusted p-value\n",
    "            - ks_stat: KS test statistic\n",
    "            Sorted by significance (corrected_pvalue)\n",
    "    \"\"\"\n",
    "    # Standardize column names\n",
    "    df.columns = ['gene', 'logfc']\n",
    "    \n",
    "    # Rank all logFC values (higher logFC gets better rank)\n",
    "    ranks = rankdata(-df['logfc'].values)\n",
    "    \n",
    "    # Group ranks by gene\n",
    "    gene_ranks = {}\n",
    "    for gene, r in zip(df['gene'], ranks):\n",
    "        gene_ranks.setdefault(gene, []).append(r)\n",
    "\n",
    "    def ks_test(gene, granks):\n",
    "        \"\"\"Helper function to perform KS test for a single gene\"\"\"\n",
    "        ks_stat, p = ks_2samp(granks, ranks, alternative='greater')\n",
    "        return gene, p, ks_stat\n",
    "\n",
    "    # Parallel execution of KS tests across genes\n",
    "    results = Parallel(n_jobs=n_jobs)(\n",
    "        delayed(ks_test)(g, gr) for g, gr in tqdm(gene_ranks.items(), desc=\"Performing KS tests\")\n",
    "    )\n",
    "\n",
    "    # Create results dataframe\n",
    "    res_df = pd.DataFrame(results, columns=['gene', 'pvalue', 'ks_stat'])\n",
    "    \n",
    "    # Apply FDR correction\n",
    "    res_df['corrected_pvalue'] = multipletests(res_df['pvalue'], method='fdr_bh')[1]\n",
    "    \n",
    "    # Sort by significance and reset index\n",
    "    return res_df.sort_values('corrected_pvalue').reset_index(drop=True)"
   ]
  },
  {
   "cell_type": "markdown",
   "id": "05646325-fa8f-40ce-bfdc-6a00ff5b300e",
   "metadata": {},
   "source": [
    "### Rank的相关性"
   ]
  },
  {
   "cell_type": "code",
   "execution_count": 39,
   "id": "84b53491-1e3e-40a7-a22f-3a59d860171b",
   "metadata": {},
   "outputs": [],
   "source": [
    "ris = np.mean(adata_edge[:, select_edges_temp.names].X, axis=0)\n",
    "select_edges_temp['mean_ris'] = ris"
   ]
  },
  {
   "cell_type": "code",
   "execution_count": 40,
   "id": "8561fba3-fd31-4c7f-8db2-88dd1ada076f",
   "metadata": {},
   "outputs": [
    {
     "name": "stderr",
     "output_type": "stream",
     "text": [
      "\n",
      "erforming KS tests: 100%|██████████| 66140/66140 [02:14<00:00, 492.34it/s]"
     ]
    }
   ],
   "source": [
    "df_peak = select_edges_temp.loc[:, ['peak', 'mean_ris']].sort_values('mean_ris',ascending=False).reset_index(drop=True)\n",
    "df_ris_peak  = calculate_gene_p_values(df_peak,n_jobs=30)\n",
    "df_ris_peak['peak'] = df_ris_peak['gene']"
   ]
  },
  {
   "cell_type": "code",
   "execution_count": 41,
   "id": "0d0d0cd2-8e50-4ea0-8f8d-15b07948402c",
   "metadata": {},
   "outputs": [],
   "source": [
    "df_atac = (\n",
    "    pd.DataFrame({\n",
    "        \"peak\": adata_atac.var_names,\n",
    "        \"mean_access\": np.mean(adata_atac.X.toarray(), axis=0)\n",
    "    })\n",
    "    .sort_values(\"mean_access\", ascending=False)\n",
    "    .reset_index(drop=True)\n",
    ")"
   ]
  },
  {
   "cell_type": "code",
   "execution_count": 42,
   "id": "109761b0-c5ac-4b50-ba11-8fb56da43241",
   "metadata": {},
   "outputs": [
    {
     "name": "stderr",
     "output_type": "stream",
     "text": [
      "\n",
      "erforming KS tests: 100%|██████████| 7334/7334 [00:13<00:00, 538.40it/s]"
     ]
    }
   ],
   "source": [
    "df_gene = select_edges_temp.loc[:, ['gene', 'mean_ris']].sort_values('mean_ris',ascending=False).reset_index(drop=True)\n",
    "df_ris_gene  = calculate_gene_p_values(df_gene,n_jobs=30)"
   ]
  },
  {
   "cell_type": "code",
   "execution_count": 43,
   "id": "70c59512-97cb-4297-ad4d-34575595ef68",
   "metadata": {},
   "outputs": [],
   "source": [
    "df_rna = (\n",
    "    pd.DataFrame({\n",
    "        \"gene\": adata_rna.var_names,\n",
    "        \"mean_exp\": np.mean(adata_rna.X.toarray(), axis=0)\n",
    "    })\n",
    "    .sort_values(\"mean_exp\", ascending=False)\n",
    "    .reset_index(drop=True)\n",
    ")"
   ]
  },
  {
   "cell_type": "code",
   "execution_count": 44,
   "id": "c31aceab-cc78-4498-a91b-56a01c3954f7",
   "metadata": {},
   "outputs": [
    {
     "name": "stdout",
     "output_type": "stream",
     "text": [
      "Spearman correlation: 0.229, p-value: 0.000e+00\n"
     ]
    }
   ],
   "source": [
    "# Add ranking columns and merge the DataFrames\n",
    "df_merged_peak = (\n",
    "    df_atac.assign(rank_atac=df_atac['mean_access'].rank(ascending=False))  # Rank ATAC-seq peaks by mean accessibility (higher accessibility = better rank)\n",
    "          .merge(\n",
    "              df_ris_peak.assign(rank_ris=df_ris_peak['corrected_pvalue'].rank(ascending=True)),  # Rank RIS peaks by corrected p-value (more significant = better rank)\n",
    "              on='peak'  # Merge on peak identifier\n",
    "          )\n",
    ")\n",
    "\n",
    "# Calculate Spearman correlation between the two ranking systems\n",
    "corr, p = spearmanr(df_merged_peak['rank_atac'], df_merged_peak['rank_ris'])\n",
    "print(f\"Spearman correlation: {corr:.3f}, p-value: {p:.3e}\")"
   ]
  },
  {
   "cell_type": "code",
   "execution_count": 45,
   "id": "bc9510b6-1f79-4231-b586-520d94cf374d",
   "metadata": {},
   "outputs": [
    {
     "name": "stdout",
     "output_type": "stream",
     "text": [
      "Spearman correlation: 0.003, p-value: 7.669e-01\n"
     ]
    }
   ],
   "source": [
    "# Add ranking columns and merge the DataFrames\n",
    "df_merged_gene = (\n",
    "    df_rna.assign(rank_rna=df_rna['mean_exp'].rank(ascending=False))  # Rank genes by mean expression (higher expression = better rank)\n",
    "          .merge(\n",
    "              df_ris_gene.assign(rank_ris=df_ris_gene['corrected_pvalue'].rank(ascending=True)),  # Rank RIS genes by corrected p-value (more significant = better rank)\n",
    "              on='gene'  # Merge on gene identifier\n",
    "          )\n",
    ")\n",
    "\n",
    "# Calculate Spearman correlation between the two ranking systems\n",
    "corr, p = spearmanr(df_merged_gene['rank_rna'], df_merged_gene['rank_ris'])\n",
    "print(f\"Spearman correlation: {corr:.3f}, p-value: {p:.3e}\")"
   ]
  },
  {
   "cell_type": "markdown",
   "id": "f5d66124-5523-4579-8ab3-ac2ccdd51228",
   "metadata": {},
   "source": [
    "### Difference-Rank的相关性"
   ]
  },
  {
   "cell_type": "code",
   "execution_count": 46,
   "id": "72c0a81c-2096-4142-9659-8ebbe92e6384",
   "metadata": {},
   "outputs": [
    {
     "name": "stderr",
     "output_type": "stream",
     "text": [
      "\n",
      "erforming KS tests: 100%|██████████| 66140/66140 [02:00<00:00, 549.79it/s]"
     ]
    }
   ],
   "source": [
    "df_logFC_peak = select_edges_temp.loc[:, ['peak', 'logfoldchanges']].sort_values('logfoldchanges',ascending=False).reset_index(drop=True)\n",
    "df_ris_logFC_peak  = calculate_gene_p_values(df_logFC_peak,n_jobs=30)\n",
    "df_ris_logFC_peak['peak'] = df_ris_logFC_peak['gene']"
   ]
  },
  {
   "cell_type": "code",
   "execution_count": 47,
   "id": "ec59f745-7e41-4f3e-a3be-72ad80b192f3",
   "metadata": {},
   "outputs": [],
   "source": [
    "df_logFC_atac = (\n",
    "    select_peaks_M[['names', 'logfoldchanges']]\n",
    "    .rename(columns={'names': 'peak'})\n",
    "    .sort_values('logfoldchanges', ascending=False)\n",
    "    .reset_index(drop=True)\n",
    ")\n"
   ]
  },
  {
   "cell_type": "code",
   "execution_count": 48,
   "id": "8f7a48d5-759d-4246-94e9-6423a75a0fc9",
   "metadata": {},
   "outputs": [
    {
     "name": "stderr",
     "output_type": "stream",
     "text": [
      "\n",
      "erforming KS tests: 100%|██████████| 7334/7334 [00:13<00:00, 538.43it/s]"
     ]
    }
   ],
   "source": [
    "df_logFC_gene = select_edges_temp.loc[:, ['gene', 'logfoldchanges']].sort_values('logfoldchanges',ascending=False).reset_index(drop=True)\n",
    "df_ris_logFC_gene  = calculate_gene_p_values(df_logFC_gene,n_jobs=30)"
   ]
  },
  {
   "cell_type": "code",
   "execution_count": 49,
   "id": "7563efb2-cce8-4668-8934-3987d4b11ec1",
   "metadata": {},
   "outputs": [],
   "source": [
    "select_genes_M = select_genes_M.loc[select_genes_M.names.isin(select_edges_temp.gene.unique()),]\n",
    "df_logFC_rna = (\n",
    "    select_genes_M[['names', 'logfoldchanges']]\n",
    "    .rename(columns={'names': 'gene'})\n",
    "    .sort_values('logfoldchanges', ascending=False)\n",
    "    .reset_index(drop=True)\n",
    ")\n"
   ]
  },
  {
   "cell_type": "code",
   "execution_count": 50,
   "id": "55312be4-8141-41d8-993f-c1eb31b7c509",
   "metadata": {},
   "outputs": [
    {
     "name": "stdout",
     "output_type": "stream",
     "text": [
      "Spearman correlation: 0.146, p-value: 0.000e+00\n"
     ]
    }
   ],
   "source": [
    "# Add ranking columns and merge the DataFrames\n",
    "df_logFC_merged_peak = (\n",
    "    df_logFC_atac.assign(rank_atac=df_logFC_atac['logfoldchanges'].rank(ascending=False))  # Rank peaks by logFC values (higher logFC = better rank)\n",
    "          .merge(\n",
    "              df_ris_logFC_peak.assign(rank_ris=df_ris_logFC_peak['corrected_pvalue'].rank(ascending=True)),  # Rank RIS peaks by corrected p-value (more significant = better rank)\n",
    "              on='peak'  # Merge on peak identifier\n",
    "          )\n",
    ")\n",
    "\n",
    "# Calculate Spearman correlation between the two ranking systems\n",
    "corr, p = spearmanr(df_logFC_merged_peak['rank_atac'], df_logFC_merged_peak['rank_ris'])\n",
    "print(f\"Spearman correlation: {corr:.3f}, p-value: {p:.3e}\")"
   ]
  },
  {
   "cell_type": "code",
   "execution_count": 51,
   "id": "b0d5297f-9600-47c3-94e3-5132220e4406",
   "metadata": {},
   "outputs": [
    {
     "name": "stdout",
     "output_type": "stream",
     "text": [
      "Spearman correlation: -0.094, p-value: 7.363e-16\n"
     ]
    }
   ],
   "source": [
    "# Add ranking columns and merge the DataFrames\n",
    "df_logFC_merged_gene = (\n",
    "    df_logFC_rna.assign(rank_rna=df_logFC_rna['logfoldchanges'].rank(ascending=False))  # Rank genes by logFC values (higher fold change = better rank)\n",
    "          .merge(\n",
    "              df_ris_logFC_gene.assign(rank_ris=df_ris_logFC_gene['corrected_pvalue'].rank(ascending=True)),  # Rank RIS genes by significance (more significant = better rank)\n",
    "              on='gene'  # Merge on gene identifier\n",
    "          )\n",
    ")\n",
    "\n",
    "# Calculate Spearman's rank correlation between differential expression and regulatory significance\n",
    "corr, p = spearmanr(df_logFC_merged_gene['rank_rna'], df_logFC_merged_gene['rank_ris'])\n",
    "print(f\"Spearman correlation: {corr:.3f}, p-value: {p:.3e}\")"
   ]
  },
  {
   "cell_type": "code",
   "execution_count": null,
   "id": "57964fe9-cee6-4625-9b4f-146a3eca18d1",
   "metadata": {},
   "outputs": [],
   "source": []
  },
  {
   "cell_type": "markdown",
   "id": "1f2fc39a-0353-4f88-80ae-3c838c1755cc",
   "metadata": {},
   "source": [
    "# 4. 基因集富集分析（Top300）"
   ]
  },
  {
   "cell_type": "code",
   "execution_count": 52,
   "id": "55d91397-02b9-4e39-986f-3f98eb8c84df",
   "metadata": {},
   "outputs": [
    {
     "name": "stdout",
     "output_type": "stream",
     "text": [
      "['GO_Biological_Process_2021', 'GO_Biological_Process_2023', 'GO_Biological_Process_2025', 'GO_Cellular_Component_2021', 'GO_Cellular_Component_2023', 'GO_Cellular_Component_2025', 'GO_Molecular_Function_2021', 'GO_Molecular_Function_2023', 'GO_Molecular_Function_2025', 'KEGG_2013', 'KEGG_2015', 'KEGG_2016', 'KEGG_2019_Human', 'KEGG_2019_Mouse', 'KEGG_2021_Human', 'MSigDB_Computational', 'MSigDB_Hallmark_2020', 'MSigDB_Oncogenic_Signatures', 'Reactome_2022', 'Reactome_Pathways_2024', 'WikiPathway_2021_Human', 'WikiPathway_2023_Human', 'WikiPathways_2013', 'WikiPathways_2015', 'WikiPathways_2016', 'WikiPathways_2019_Human', 'WikiPathways_2019_Mouse', 'WikiPathways_2024_Human', 'WikiPathways_2024_Mouse']\n"
     ]
    }
   ],
   "source": [
    "import gseapy as gp\n",
    "\n",
    "# Get available gene set libraries\n",
    "gene_set_libraries = gp.get_library_name()\n",
    "\n",
    "# Filter for major pathway databases (KEGG, GO, WikiPathways, Reactome, MSigDB)\n",
    "pathway_libraries = [lib for lib in gene_set_libraries \n",
    "                    if lib.startswith(('KEGG', 'GO', 'Wiki', 'Reactome', 'MSigDB'))]\n",
    "\n",
    "print(pathway_libraries)  # Display filtered pathway databases"
   ]
  },
  {
   "cell_type": "code",
   "execution_count": 53,
   "id": "ae4934f3-5bd8-4b33-a62a-e9ce888c7158",
   "metadata": {},
   "outputs": [],
   "source": [
    "gene_set_library = 'MSigDB_Hallmark_2020'"
   ]
  },
  {
   "cell_type": "code",
   "execution_count": 54,
   "id": "4c9a91b4-0847-4db4-a023-48b6257484a3",
   "metadata": {},
   "outputs": [],
   "source": [
    "top_n = 300"
   ]
  },
  {
   "cell_type": "code",
   "execution_count": 55,
   "id": "daca4e8d-1986-40c3-a9f7-5d259a9c666d",
   "metadata": {},
   "outputs": [],
   "source": [
    "# Perform pathway enrichment analysis using Enrichr\n",
    "\n",
    "# Get top genes from RIS analysis\n",
    "top_ris_genes = df_ris_logFC_gene.head(top_n).gene.tolist()\n",
    "enrichr_results_ris = gp.enrichr(\n",
    "    gene_list=top_ris_genes,      # Gene list from differential regulation analysis\n",
    "    gene_sets=gene_set_library,   # Pathway database to test against \n",
    "    organism='human',             # Organism (human/mouse/yeast)\n",
    "    outdir=None,                  # Don't save output files\n",
    "    cutoff=0.05                   # FDR significance threshold\n",
    ")\n",
    "\n",
    "# Get top genes from RNA-seq differential expression \n",
    "top_de_genes = df_logFC_rna.head(top_n).gene.tolist()\n",
    "enrichr_results_rna = gp.enrichr(\n",
    "    gene_list=top_de_genes,       # Gene list from differential expression\n",
    "    gene_sets=gene_set_library,   # Same pathway database for comparison\n",
    "    organism='human',             # Keep consistent organism  \n",
    "    outdir=None,\n",
    "    cutoff=0.05\n",
    ")"
   ]
  },
  {
   "cell_type": "code",
   "execution_count": 56,
   "id": "cda7bfa4-99dc-4978-b995-6dc7dc12cb65",
   "metadata": {},
   "outputs": [
    {
     "data": {
      "text/html": [
       "<div>\n",
       "<style scoped>\n",
       "    .dataframe tbody tr th:only-of-type {\n",
       "        vertical-align: middle;\n",
       "    }\n",
       "\n",
       "    .dataframe tbody tr th {\n",
       "        vertical-align: top;\n",
       "    }\n",
       "\n",
       "    .dataframe thead th {\n",
       "        text-align: right;\n",
       "    }\n",
       "</style>\n",
       "<table border=\"1\" class=\"dataframe\">\n",
       "  <thead>\n",
       "    <tr style=\"text-align: right;\">\n",
       "      <th></th>\n",
       "      <th>Gene_set</th>\n",
       "      <th>Term</th>\n",
       "      <th>Overlap</th>\n",
       "      <th>P-value</th>\n",
       "      <th>Adjusted P-value</th>\n",
       "      <th>Old P-value</th>\n",
       "      <th>Old Adjusted P-value</th>\n",
       "      <th>Odds Ratio</th>\n",
       "      <th>Combined Score</th>\n",
       "      <th>Genes</th>\n",
       "    </tr>\n",
       "  </thead>\n",
       "  <tbody>\n",
       "    <tr>\n",
       "      <th>0</th>\n",
       "      <td>MSigDB_Hallmark_2020</td>\n",
       "      <td>Myc Targets V1</td>\n",
       "      <td>12/200</td>\n",
       "      <td>0.000052</td>\n",
       "      <td>0.002386</td>\n",
       "      <td>0</td>\n",
       "      <td>0</td>\n",
       "      <td>4.324468</td>\n",
       "      <td>42.668557</td>\n",
       "      <td>RANBP1;LSM7;SET;SF3B3;SSB;MCM7;POLD2;MRPS18B;T...</td>\n",
       "    </tr>\n",
       "    <tr>\n",
       "      <th>1</th>\n",
       "      <td>MSigDB_Hallmark_2020</td>\n",
       "      <td>PI3K/AKT/mTOR  Signaling</td>\n",
       "      <td>7/105</td>\n",
       "      <td>0.001035</td>\n",
       "      <td>0.023816</td>\n",
       "      <td>0</td>\n",
       "      <td>0</td>\n",
       "      <td>4.778645</td>\n",
       "      <td>32.843040</td>\n",
       "      <td>TIAM1;ARF1;PRKAR2A;CAMK4;CLTC;AKT1;GRB2</td>\n",
       "    </tr>\n",
       "  </tbody>\n",
       "</table>\n",
       "</div>"
      ],
      "text/plain": [
       "               Gene_set                      Term Overlap   P-value  \\\n",
       "0  MSigDB_Hallmark_2020            Myc Targets V1  12/200  0.000052   \n",
       "1  MSigDB_Hallmark_2020  PI3K/AKT/mTOR  Signaling   7/105  0.001035   \n",
       "\n",
       "   Adjusted P-value  Old P-value  Old Adjusted P-value  Odds Ratio  \\\n",
       "0          0.002386            0                     0    4.324468   \n",
       "1          0.023816            0                     0    4.778645   \n",
       "\n",
       "   Combined Score                                              Genes  \n",
       "0       42.668557  RANBP1;LSM7;SET;SF3B3;SSB;MCM7;POLD2;MRPS18B;T...  \n",
       "1       32.843040            TIAM1;ARF1;PRKAR2A;CAMK4;CLTC;AKT1;GRB2  "
      ]
     },
     "execution_count": 56,
     "metadata": {},
     "output_type": "execute_result"
    }
   ],
   "source": [
    "enrich_ris = enrichr_results_ris.results.loc[enrichr_results_ris.results['Adjusted P-value']<0.05]\n",
    "enrich_ris"
   ]
  },
  {
   "cell_type": "code",
   "execution_count": 57,
   "id": "4d066125-b966-458a-be9c-e91659d84b81",
   "metadata": {},
   "outputs": [
    {
     "data": {
      "text/html": [
       "<div>\n",
       "<style scoped>\n",
       "    .dataframe tbody tr th:only-of-type {\n",
       "        vertical-align: middle;\n",
       "    }\n",
       "\n",
       "    .dataframe tbody tr th {\n",
       "        vertical-align: top;\n",
       "    }\n",
       "\n",
       "    .dataframe thead th {\n",
       "        text-align: right;\n",
       "    }\n",
       "</style>\n",
       "<table border=\"1\" class=\"dataframe\">\n",
       "  <thead>\n",
       "    <tr style=\"text-align: right;\">\n",
       "      <th></th>\n",
       "      <th>Gene_set</th>\n",
       "      <th>Term</th>\n",
       "      <th>Overlap</th>\n",
       "      <th>P-value</th>\n",
       "      <th>Adjusted P-value</th>\n",
       "      <th>Old P-value</th>\n",
       "      <th>Old Adjusted P-value</th>\n",
       "      <th>Odds Ratio</th>\n",
       "      <th>Combined Score</th>\n",
       "      <th>Genes</th>\n",
       "    </tr>\n",
       "  </thead>\n",
       "  <tbody>\n",
       "    <tr>\n",
       "      <th>0</th>\n",
       "      <td>MSigDB_Hallmark_2020</td>\n",
       "      <td>mTORC1 Signaling</td>\n",
       "      <td>15/200</td>\n",
       "      <td>3.750519e-07</td>\n",
       "      <td>0.000017</td>\n",
       "      <td>0</td>\n",
       "      <td>0</td>\n",
       "      <td>5.551920</td>\n",
       "      <td>82.147331</td>\n",
       "      <td>IGFBP5;SLC2A1;TMEM97;SLC1A5;CDC25A;RRP9;HSPD1;...</td>\n",
       "    </tr>\n",
       "    <tr>\n",
       "      <th>1</th>\n",
       "      <td>MSigDB_Hallmark_2020</td>\n",
       "      <td>Myc Targets V1</td>\n",
       "      <td>12/200</td>\n",
       "      <td>5.186970e-05</td>\n",
       "      <td>0.001167</td>\n",
       "      <td>0</td>\n",
       "      <td>0</td>\n",
       "      <td>4.324468</td>\n",
       "      <td>42.668557</td>\n",
       "      <td>EXOSC7;EEF1B2;FBL;SNRPD2;CLNS1A;IMPDH2;RACK1;M...</td>\n",
       "    </tr>\n",
       "    <tr>\n",
       "      <th>2</th>\n",
       "      <td>MSigDB_Hallmark_2020</td>\n",
       "      <td>Adipogenesis</td>\n",
       "      <td>11/200</td>\n",
       "      <td>2.277105e-04</td>\n",
       "      <td>0.002050</td>\n",
       "      <td>0</td>\n",
       "      <td>0</td>\n",
       "      <td>3.929276</td>\n",
       "      <td>32.956551</td>\n",
       "      <td>JAGN1;PFKL;PFKFB3;CMBL;SLC1A5;DHCR7;TKT;HADH;D...</td>\n",
       "    </tr>\n",
       "    <tr>\n",
       "      <th>3</th>\n",
       "      <td>MSigDB_Hallmark_2020</td>\n",
       "      <td>E2F Targets</td>\n",
       "      <td>11/200</td>\n",
       "      <td>2.277105e-04</td>\n",
       "      <td>0.002050</td>\n",
       "      <td>0</td>\n",
       "      <td>0</td>\n",
       "      <td>3.929276</td>\n",
       "      <td>32.956551</td>\n",
       "      <td>MRE11;MTHFD2;CHEK1;CENPM;MCM5;TP53;LYAR;PAICS;...</td>\n",
       "    </tr>\n",
       "    <tr>\n",
       "      <th>4</th>\n",
       "      <td>MSigDB_Hallmark_2020</td>\n",
       "      <td>Myc Targets V2</td>\n",
       "      <td>6/58</td>\n",
       "      <td>2.277590e-04</td>\n",
       "      <td>0.002050</td>\n",
       "      <td>0</td>\n",
       "      <td>0</td>\n",
       "      <td>7.711146</td>\n",
       "      <td>64.675098</td>\n",
       "      <td>EXOSC5;MCM5;TMEM97;PPRC1;RRP9;HSPD1</td>\n",
       "    </tr>\n",
       "    <tr>\n",
       "      <th>5</th>\n",
       "      <td>MSigDB_Hallmark_2020</td>\n",
       "      <td>Unfolded Protein Response</td>\n",
       "      <td>8/113</td>\n",
       "      <td>3.060035e-04</td>\n",
       "      <td>0.002295</td>\n",
       "      <td>0</td>\n",
       "      <td>0</td>\n",
       "      <td>5.112851</td>\n",
       "      <td>41.372747</td>\n",
       "      <td>RPS14;NOP14;EXOSC5;MTHFD2;DDX10;BANF1;YIF1A;RRP9</td>\n",
       "    </tr>\n",
       "    <tr>\n",
       "      <th>6</th>\n",
       "      <td>MSigDB_Hallmark_2020</td>\n",
       "      <td>Cholesterol Homeostasis</td>\n",
       "      <td>6/74</td>\n",
       "      <td>8.534870e-04</td>\n",
       "      <td>0.005134</td>\n",
       "      <td>0</td>\n",
       "      <td>0</td>\n",
       "      <td>5.891957</td>\n",
       "      <td>41.633629</td>\n",
       "      <td>LGALS3;CHKA;SCD;ETHE1;TMEM97;DHCR7</td>\n",
       "    </tr>\n",
       "    <tr>\n",
       "      <th>7</th>\n",
       "      <td>MSigDB_Hallmark_2020</td>\n",
       "      <td>Epithelial Mesenchymal Transition</td>\n",
       "      <td>10/200</td>\n",
       "      <td>9.126382e-04</td>\n",
       "      <td>0.005134</td>\n",
       "      <td>0</td>\n",
       "      <td>0</td>\n",
       "      <td>3.540835</td>\n",
       "      <td>24.782909</td>\n",
       "      <td>LGALS1;ID2;ELN;TIMP3;PCOLCE;SLIT3;VIM;FSTL1;FG...</td>\n",
       "    </tr>\n",
       "  </tbody>\n",
       "</table>\n",
       "</div>"
      ],
      "text/plain": [
       "               Gene_set                               Term Overlap  \\\n",
       "0  MSigDB_Hallmark_2020                   mTORC1 Signaling  15/200   \n",
       "1  MSigDB_Hallmark_2020                     Myc Targets V1  12/200   \n",
       "2  MSigDB_Hallmark_2020                       Adipogenesis  11/200   \n",
       "3  MSigDB_Hallmark_2020                        E2F Targets  11/200   \n",
       "4  MSigDB_Hallmark_2020                     Myc Targets V2    6/58   \n",
       "5  MSigDB_Hallmark_2020          Unfolded Protein Response   8/113   \n",
       "6  MSigDB_Hallmark_2020            Cholesterol Homeostasis    6/74   \n",
       "7  MSigDB_Hallmark_2020  Epithelial Mesenchymal Transition  10/200   \n",
       "\n",
       "        P-value  Adjusted P-value  Old P-value  Old Adjusted P-value  \\\n",
       "0  3.750519e-07          0.000017            0                     0   \n",
       "1  5.186970e-05          0.001167            0                     0   \n",
       "2  2.277105e-04          0.002050            0                     0   \n",
       "3  2.277105e-04          0.002050            0                     0   \n",
       "4  2.277590e-04          0.002050            0                     0   \n",
       "5  3.060035e-04          0.002295            0                     0   \n",
       "6  8.534870e-04          0.005134            0                     0   \n",
       "7  9.126382e-04          0.005134            0                     0   \n",
       "\n",
       "   Odds Ratio  Combined Score  \\\n",
       "0    5.551920       82.147331   \n",
       "1    4.324468       42.668557   \n",
       "2    3.929276       32.956551   \n",
       "3    3.929276       32.956551   \n",
       "4    7.711146       64.675098   \n",
       "5    5.112851       41.372747   \n",
       "6    5.891957       41.633629   \n",
       "7    3.540835       24.782909   \n",
       "\n",
       "                                               Genes  \n",
       "0  IGFBP5;SLC2A1;TMEM97;SLC1A5;CDC25A;RRP9;HSPD1;...  \n",
       "1  EXOSC7;EEF1B2;FBL;SNRPD2;CLNS1A;IMPDH2;RACK1;M...  \n",
       "2  JAGN1;PFKL;PFKFB3;CMBL;SLC1A5;DHCR7;TKT;HADH;D...  \n",
       "3  MRE11;MTHFD2;CHEK1;CENPM;MCM5;TP53;LYAR;PAICS;...  \n",
       "4                EXOSC5;MCM5;TMEM97;PPRC1;RRP9;HSPD1  \n",
       "5   RPS14;NOP14;EXOSC5;MTHFD2;DDX10;BANF1;YIF1A;RRP9  \n",
       "6                 LGALS3;CHKA;SCD;ETHE1;TMEM97;DHCR7  \n",
       "7  LGALS1;ID2;ELN;TIMP3;PCOLCE;SLIT3;VIM;FSTL1;FG...  "
      ]
     },
     "execution_count": 57,
     "metadata": {},
     "output_type": "execute_result"
    }
   ],
   "source": [
    "enrich_rna = enrichr_results_rna.results.loc[enrichr_results_rna.results['Adjusted P-value']<0.05]\n",
    "enrich_rna"
   ]
  },
  {
   "cell_type": "code",
   "execution_count": null,
   "id": "60e7e866-2f46-4b40-83c4-29bb7e015493",
   "metadata": {},
   "outputs": [],
   "source": []
  },
  {
   "cell_type": "markdown",
   "id": "f17388e0-263e-45bf-9032-f038d17371d4",
   "metadata": {},
   "source": [
    "# 5. 生存分析（Top 300）"
   ]
  },
  {
   "cell_type": "code",
   "execution_count": 58,
   "id": "947174d8-ff29-49e1-8d22-5f62a6b82266",
   "metadata": {},
   "outputs": [],
   "source": [
    "sur = pd.read_csv(\"../data/NB_Survival.csv\",index_col=0)\n",
    "sur['group'] = \"Yes\"\n",
    "sur.loc[sur.hazard_ratio<1,\"group\"] = \"No\""
   ]
  },
  {
   "cell_type": "code",
   "execution_count": 59,
   "id": "41c3e88a-68cd-4fa5-9f62-2323b4a6e498",
   "metadata": {},
   "outputs": [],
   "source": [
    "sur = sur.loc[(sur.p_value<0.05) & (sur.group=='Yes')]"
   ]
  },
  {
   "cell_type": "code",
   "execution_count": 60,
   "id": "0dde1eba-8ed3-4346-be31-7408b4263aeb",
   "metadata": {},
   "outputs": [],
   "source": [
    "top_n = 300"
   ]
  },
  {
   "cell_type": "code",
   "execution_count": 61,
   "id": "e471a212-6736-4157-9962-5fdca8439f86",
   "metadata": {},
   "outputs": [
    {
     "data": {
      "text/plain": [
       "0.008640897252616202"
      ]
     },
     "execution_count": 61,
     "metadata": {},
     "output_type": "execute_result"
    }
   ],
   "source": [
    "np.mean(1/df_logFC_rna.head(top_n).loc[df_logFC_rna.gene.isin(sur.gene)].index) "
   ]
  },
  {
   "cell_type": "code",
   "execution_count": 62,
   "id": "7f7bb460-d346-4223-a7b8-794b99c53b40",
   "metadata": {},
   "outputs": [
    {
     "data": {
      "text/plain": [
       "0.037070072661554966"
      ]
     },
     "execution_count": 62,
     "metadata": {},
     "output_type": "execute_result"
    }
   ],
   "source": [
    "np.mean(1/df_ris_logFC_gene.head(top_n).loc[df_ris_logFC_gene.gene.isin(sur.gene)].index)"
   ]
  },
  {
   "cell_type": "code",
   "execution_count": null,
   "id": "e5efe6be-8300-479f-8fec-33196bf777da",
   "metadata": {},
   "outputs": [],
   "source": []
  }
 ],
 "metadata": {
  "kernelspec": {
   "display_name": "Python 3 (ipykernel)",
   "language": "python",
   "name": "python3"
  },
  "language_info": {
   "codemirror_mode": {
    "name": "ipython",
    "version": 3
   },
   "file_extension": ".py",
   "mimetype": "text/x-python",
   "name": "python",
   "nbconvert_exporter": "python",
   "pygments_lexer": "ipython3",
   "version": "3.8.20"
  }
 },
 "nbformat": 4,
 "nbformat_minor": 5
}
