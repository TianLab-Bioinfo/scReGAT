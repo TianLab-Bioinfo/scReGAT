{
 "cells": [
  {
   "cell_type": "code",
   "execution_count": 1,
   "id": "fb3dd537-1408-40aa-a3fa-89db4203004f",
   "metadata": {},
   "outputs": [],
   "source": [
    "import os\n",
    "import sys\n",
    "sys.path.append('..')  \n",
    "import random\n",
    "import pickle"
   ]
  },
  {
   "cell_type": "code",
   "execution_count": 2,
   "id": "1e449760-1085-4979-9914-e0aa87044beb",
   "metadata": {},
   "outputs": [],
   "source": [
    "import numpy as np\n",
    "import pandas as pd\n",
    "import seaborn as sns\n",
    "import matplotlib.pyplot as plt"
   ]
  },
  {
   "cell_type": "code",
   "execution_count": 3,
   "id": "10632d5f-9079-4d67-8d4e-ad8f137a810d",
   "metadata": {},
   "outputs": [],
   "source": [
    "from scipy.stats import hypergeom"
   ]
  },
  {
   "cell_type": "code",
   "execution_count": 4,
   "id": "a9d083c8-8dec-4e27-8a9b-f0c8bfb5809c",
   "metadata": {},
   "outputs": [],
   "source": [
    "from scregat.data_process import prepare_model_input, sum_counts, plot_edge, ATACGraphDataset\n",
    "from run_scReGAT import *"
   ]
  },
  {
   "cell_type": "code",
   "execution_count": 5,
   "id": "aa199b73-b178-4658-8a5a-39d9e8466861",
   "metadata": {},
   "outputs": [],
   "source": [
    "# load graph\n",
    "with open('../data/dataset_atac_core_MFG.pkl', 'rb') as f:\n",
    "    dataset_atac = pickle.load(f)"
   ]
  },
  {
   "cell_type": "code",
   "execution_count": 6,
   "id": "b9bcfc9e-cd31-47c9-b5f5-be7e6e9d3eff",
   "metadata": {},
   "outputs": [
    {
     "name": "stderr",
     "output_type": "stream",
     "text": [
      "Processing Graphs: 100%|██████████| 2130/2130 [00:00<00:00, 103126.72it/s]\n"
     ]
    }
   ],
   "source": [
    "peaks_list = [t for t in dataset_atac.array_peak if t.startswith('chr')]\n",
    "from tqdm import tqdm\n",
    "data_mt = []\n",
    "for t in tqdm(dataset_atac.list_graph, desc=\"Processing Graphs\"):\n",
    "    data_mt.append(torch.flatten(t.x).numpy())\n",
    "data_mt = np.stack(data_mt)"
   ]
  },
  {
   "cell_type": "code",
   "execution_count": 7,
   "id": "239e30c6-ff9e-4097-b680-446f372b5ed0",
   "metadata": {},
   "outputs": [],
   "source": [
    "def cosine_similarity_matrix(matrix):\n",
    "    norm_matrix = np.linalg.norm(matrix, axis=0)\n",
    "    normalized_matrix = matrix / norm_matrix\n",
    "    similarity_matrix = np.dot(normalized_matrix.T, normalized_matrix)\n",
    "    return similarity_matrix"
   ]
  },
  {
   "cell_type": "code",
   "execution_count": 8,
   "id": "9ba13fbd-fb68-4cf9-bc22-9c2de4f8aaf1",
   "metadata": {},
   "outputs": [],
   "source": [
    "similarity_matrix = cosine_similarity_matrix(data_mt)"
   ]
  },
  {
   "cell_type": "code",
   "execution_count": 9,
   "id": "4a79381a-d1e8-4906-8a41-65d70e5f2e8a",
   "metadata": {},
   "outputs": [
    {
     "data": {
      "text/plain": [
       "1348"
      ]
     },
     "execution_count": 9,
     "metadata": {},
     "output_type": "execute_result"
    }
   ],
   "source": [
    "top_samples = dataset_atac.list_graph[0].y_exp.shape[0]\n",
    "top_samples"
   ]
  },
  {
   "cell_type": "code",
   "execution_count": 10,
   "id": "b3911baa-5413-4974-8580-e005a5ae5a51",
   "metadata": {},
   "outputs": [],
   "source": [
    "edge_info = get_edge_info(dataset_atac)"
   ]
  },
  {
   "cell_type": "code",
   "execution_count": 11,
   "id": "0547be00-d6f7-450e-aec7-429c46a55193",
   "metadata": {},
   "outputs": [],
   "source": [
    "peak_count = edge_info.peak.value_counts()"
   ]
  },
  {
   "cell_type": "code",
   "execution_count": 12,
   "id": "9fb2dd1b-e944-45cc-8da1-78c4cea11412",
   "metadata": {},
   "outputs": [
    {
     "data": {
      "text/plain": [
       "(10698, 1)"
      ]
     },
     "execution_count": 12,
     "metadata": {},
     "output_type": "execute_result"
    }
   ],
   "source": [
    "edge_index = pd.read_csv(\"../data/Edge_index_with_Specifici_Hi-C.txt\",index_col=0)\n",
    "edge_index.shape"
   ]
  },
  {
   "cell_type": "code",
   "execution_count": 13,
   "id": "d59afde4-4629-46a4-9638-db037fba7eca",
   "metadata": {},
   "outputs": [],
   "source": [
    "raw_edge = dataset_atac.list_graph[0].edge_index"
   ]
  },
  {
   "cell_type": "code",
   "execution_count": 14,
   "id": "349ec6c4-1f9f-45f0-8e86-f0154693aee6",
   "metadata": {},
   "outputs": [],
   "source": [
    "edge_peak_count = edge_info.loc[~edge_info.index.isin(edge_index.iloc[:,0].values),].peak.value_counts()"
   ]
  },
  {
   "cell_type": "code",
   "execution_count": 15,
   "id": "82e21968-e26c-41f3-bc67-0e5d9d160b7b",
   "metadata": {},
   "outputs": [],
   "source": [
    "df_index = pd.DataFrame(dataset_atac.array_peak)\n",
    "peak_index = df_index.loc[df_index.iloc[:,0].isin(edge_peak_count.index.values)].index.values"
   ]
  },
  {
   "cell_type": "code",
   "execution_count": 16,
   "id": "4016ca1d-603b-4e0b-a1bc-751eae09acab",
   "metadata": {},
   "outputs": [
    {
     "name": "stderr",
     "output_type": "stream",
     "text": [
      "Building similarity pairs: 100%|██████████| 50976/50976 [00:05<00:00, 9818.30it/s] \n"
     ]
    }
   ],
   "source": [
    "pairs = []\n",
    "\n",
    "# Pre-fetch the peak names corresponding to the peak indices\n",
    "peak_names = dataset_atac.array_peak[peak_index].tolist()\n",
    "\n",
    "# Iterate over peak_index with tqdm for progress tracking\n",
    "for idx, i in tqdm(enumerate(peak_index), total=len(peak_index), desc=\"Building similarity pairs\"):\n",
    "    column_similarities = similarity_matrix[i, :top_samples]\n",
    "\n",
    "    # Get edgeN: the number of connections for the current peak\n",
    "    edgeN = edge_peak_count.loc[peak_names[idx]]\n",
    "\n",
    "    # Get the indices of the top edgeN similarities\n",
    "    top_sim_indices = np.argsort(-column_similarities)[:edgeN]\n",
    "\n",
    "    # Construct pairs (j, i), where i is the peak index, j is a top similar sample index\n",
    "    new_pairs = [(j, i) for j in top_sim_indices]\n",
    "    pairs.extend(new_pairs)\n"
   ]
  },
  {
   "cell_type": "code",
   "execution_count": 17,
   "id": "c71ab8c5-2bfe-4d0e-9714-de8dd88c9ac3",
   "metadata": {},
   "outputs": [],
   "source": [
    "index1 = [t[1] for t in pairs]\n",
    "index2 = [t[0] for t in pairs]\n",
    "new_edge = torch.tensor([index1, index2])\n",
    "new_edge = torch.cat([raw_edge[:,edge_index.iloc[:,0].values], new_edge], dim=1)"
   ]
  },
  {
   "cell_type": "code",
   "execution_count": 18,
   "id": "94fd6883-b6ac-4aac-aa6f-0e67778e96ef",
   "metadata": {},
   "outputs": [],
   "source": [
    "for t in dataset_atac.list_graph:\n",
    "    t.edge_index = new_edge"
   ]
  },
  {
   "cell_type": "code",
   "execution_count": 19,
   "id": "6780a2ae-3769-48b7-b3ea-62b823b99c29",
   "metadata": {},
   "outputs": [],
   "source": [
    "file_atac_test = os.path.join('../data/', 'dataset_atac_cosine_MFG.pkl')\n",
    "with open(file_atac_test, 'wb') as w_pkl:\n",
    "    str_pkl = pickle.dumps(dataset_atac)\n",
    "    w_pkl.write(str_pkl)"
   ]
  },
  {
   "cell_type": "code",
   "execution_count": null,
   "id": "25cfbf47-cbb0-4326-b129-1f08cfc18aa4",
   "metadata": {},
   "outputs": [],
   "source": []
  },
  {
   "cell_type": "code",
   "execution_count": null,
   "id": "1500f9b2-6f2d-4d44-84fd-044ad9e1919d",
   "metadata": {},
   "outputs": [],
   "source": []
  }
 ],
 "metadata": {
  "kernelspec": {
   "display_name": "Python 3 (ipykernel)",
   "language": "python",
   "name": "python3"
  },
  "language_info": {
   "codemirror_mode": {
    "name": "ipython",
    "version": 3
   },
   "file_extension": ".py",
   "mimetype": "text/x-python",
   "name": "python",
   "nbconvert_exporter": "python",
   "pygments_lexer": "ipython3",
   "version": "3.8.20"
  }
 },
 "nbformat": 4,
 "nbformat_minor": 5
}
