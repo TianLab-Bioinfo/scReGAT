{
 "cells": [
  {
   "cell_type": "code",
   "execution_count": 340,
   "id": "418c3867",
   "metadata": {},
   "outputs": [],
   "source": [
    "import os\n",
    "import pandas as pd\n",
    "import torch\n",
    "import anndata as ad\n",
    "from torch_geometric.loader import DataLoader\n",
    "import scanpy as sc\n",
    "from scregat.data_process import prepare_model_input,sum_counts,plot_edge, ATACGraphDataset\n",
    "import numpy as np\n",
    "from scregat.model import train_scregat, explain_model_ig\n",
    "import pickle"
   ]
  },
  {
   "cell_type": "code",
   "execution_count": null,
   "id": "7889621d",
   "metadata": {},
   "outputs": [],
   "source": []
  },
  {
   "cell_type": "code",
   "execution_count": null,
   "id": "5e861d86",
   "metadata": {},
   "outputs": [],
   "source": []
  },
  {
   "cell_type": "code",
   "execution_count": null,
   "id": "632b0e54",
   "metadata": {},
   "outputs": [],
   "source": []
  },
  {
   "cell_type": "code",
   "execution_count": null,
   "id": "8d5874e0",
   "metadata": {},
   "outputs": [],
   "source": []
  },
  {
   "cell_type": "code",
   "execution_count": 2,
   "id": "0221dcae",
   "metadata": {},
   "outputs": [],
   "source": [
    "import pickle\n",
    "with open('./dataset_atac.pkl', 'rb') as f:\n",
    "    dataset_atac = pickle.load(f)\n",
    "dataset_graph = ATACGraphDataset('./input_graph/')"
   ]
  },
  {
   "cell_type": "code",
   "execution_count": 3,
   "id": "430b63dc",
   "metadata": {},
   "outputs": [],
   "source": [
    "test_cell = pd.read_csv('./test_cell_name.txt')['x'].values"
   ]
  },
  {
   "cell_type": "code",
   "execution_count": 337,
   "id": "52c2967b",
   "metadata": {},
   "outputs": [
    {
     "name": "stderr",
     "output_type": "stream",
     "text": [
      "Processing samples: 100%|██████████| 8821/8821 [00:01<00:00, 7779.77it/s]\n"
     ]
    }
   ],
   "source": [
    "#import os\n",
    "import pandas as pd\n",
    "import torch\n",
    "import anndata as ad\n",
    "from torch_geometric.loader import DataLoader\n",
    "import scanpy as sc\n",
    "from scregat.data_process import prepare_model_input,sum_counts,plot_edge, ATACGraphDataset\n",
    "import numpy as np\n",
    "import pickle\n",
    "import random\n",
    "from tqdm import tqdm\n",
    "\n",
    "seq_vec = torch.load('./seq.pth')\n",
    "\n",
    "data = dataset_atac.array_peak\n",
    "torch_vector = torch.zeros(len(data))\n",
    "for idx, item in enumerate(data):\n",
    "    if item.startswith('chr'):\n",
    "        torch_vector[idx] = 0 \n",
    "    else:\n",
    "        torch_vector[idx] = 1 \n",
    "train_graph = []\n",
    "test_graph = []\n",
    "test_cell_type = []\n",
    "train_cell_type = []\n",
    "for i, sample in tqdm(enumerate(dataset_graph), total=len(dataset_graph), desc='Processing samples'):\n",
    "\n",
    "    seq_data = seq_vec\n",
    "    sample.seq_data = seq_data\n",
    "    sample.id_vec = torch_vector\n",
    "\n",
    "    \n",
    "    if sample.cell in test_cell:\n",
    "        test_graph.append(sample)\n",
    "        test_cell_type.append(sample.y.item())\n",
    "    else:\n",
    "        train_graph.append(sample)\n",
    "        train_cell_type.append(sample.y.item())\n",
    "\n"
   ]
  },
  {
   "cell_type": "code",
   "execution_count": 683,
   "id": "2b889c6d",
   "metadata": {},
   "outputs": [],
   "source": [
    "import torch\n",
    "import torch.nn as nn\n",
    "\n",
    "class EdgeDiversityLoss1(nn.Module):\n",
    "    def __init__(self, diversity_weight=1.0):\n",
    "        \"\"\"\n",
    "        自定义多样性损失函数\n",
    "        :param diversity_weight: 控制熵惩罚的权重\n",
    "        \"\"\"\n",
    "        super(EdgeDiversityLoss1, self).__init__()\n",
    "        self.diversity_weight = diversity_weight\n",
    "\n",
    "    def forward(self, edge_weights):\n",
    "        \"\"\"\n",
    "        计算自定义多样性损失\n",
    "        :param edge_weights: 模型生成的边权重矩阵 (torch.Tensor)，形状为 (batch_size, num_edges)\n",
    "        :return: 计算出的多样性损失 (torch.Tensor)\n",
    "        \"\"\"\n",
    "        # 计算概率分布\n",
    "        prob_distribution = torch.softmax(edge_weights, dim=0)\n",
    "\n",
    "        # 计算熵损失，增大熵\n",
    "        entropy_loss = -self.diversity_weight * torch.sum(prob_distribution * torch.log(prob_distribution + 1e-6), dim=0)\n",
    "\n",
    "        # 总损失：使用熵作为多样性损失\n",
    "        loss = torch.sum(entropy_loss)\n",
    "        return loss\n"
   ]
  },
  {
   "cell_type": "code",
   "execution_count": null,
   "id": "66c985b7",
   "metadata": {},
   "outputs": [],
   "source": []
  },
  {
   "cell_type": "code",
   "execution_count": 684,
   "id": "7b2c5701",
   "metadata": {},
   "outputs": [],
   "source": [
    "import torch\n",
    "import torch.nn as nn\n",
    "\n",
    "class EdgeDiversityLoss2(nn.Module):\n",
    "    def __init__(self, non_zero_penalty_weight=1.0):\n",
    "        \"\"\"\n",
    "        自定义多样性损失函数\n",
    "        :param non_zero_penalty_weight: 控制非零惩罚的权重\n",
    "        \"\"\"\n",
    "        super(EdgeDiversityLoss2, self).__init__()\n",
    "        self.non_zero_penalty_weight = non_zero_penalty_weight\n",
    "\n",
    "    def forward(self, edge_weights):\n",
    "        \"\"\"\n",
    "        计算自定义多样性损失\n",
    "        :param edge_weights: 模型生成的边权重矩阵 (torch.Tensor)，形状为 (batch_size, num_edges)\n",
    "        :return: 计算出的多样性损失 (torch.Tensor)\n",
    "        \"\"\"\n",
    "        # 筛选出非零元素\n",
    "        non_zero_weights = edge_weights[edge_weights != 0]\n",
    "\n",
    "        # 计算非零元素的方差并取负\n",
    "        variance_loss = -torch.var(non_zero_weights)\n",
    "\n",
    "        # 计算非零惩罚：惩罚零权重的数量\n",
    "        non_zero_penalty = self.non_zero_penalty_weight * torch.sum((edge_weights == 0).float())\n",
    "\n",
    "        # 总损失：使用负方差作为多样性损失和非零惩罚的组合\n",
    "        loss = variance_loss + non_zero_penalty\n",
    "        return loss\n"
   ]
  },
  {
   "cell_type": "code",
   "execution_count": 685,
   "id": "974fc5fe",
   "metadata": {},
   "outputs": [
    {
     "data": {
      "text/plain": [
       "tensor([[0.0000, 0.0168, 0.0000,  ..., 0.0169, 0.0000, 0.0168],\n",
       "        [0.0168, 0.0000, 0.0168,  ..., 0.0000, 0.0000, 0.0000],\n",
       "        [0.0167, 0.0171, 0.0172,  ..., 0.0000, 0.0162, 0.0168],\n",
       "        ...,\n",
       "        [0.0168, 0.0000, 0.0170,  ..., 0.0000, 0.0000, 0.0169],\n",
       "        [0.0000, 0.0168, 0.0000,  ..., 0.0169, 0.0000, 0.0168],\n",
       "        [0.0169, 0.0000, 0.0168,  ..., 0.0169, 0.0170, 0.0168]],\n",
       "       device='cuda:0', grad_fn=<NativeDropoutBackward0>)"
      ]
     },
     "execution_count": 685,
     "metadata": {},
     "output_type": "execute_result"
    }
   ],
   "source": [
    "atten[1]"
   ]
  },
  {
   "cell_type": "code",
   "execution_count": 686,
   "id": "a3422125",
   "metadata": {},
   "outputs": [
    {
     "data": {
      "text/plain": [
       "torch.Size([285709, 16])"
      ]
     },
     "execution_count": 686,
     "metadata": {},
     "output_type": "execute_result"
    }
   ],
   "source": [
    "atten[1].shape"
   ]
  },
  {
   "cell_type": "code",
   "execution_count": 704,
   "id": "b0625f7d",
   "metadata": {},
   "outputs": [],
   "source": [
    "def drop_edges(edge_index, drop_rate=0.1):\n",
    "    \"\"\"随机丢弃边，依据设定的丢弃比例。\n",
    "    Args:\n",
    "        edge_index (torch.Tensor): 边的张量，形状为 (2, num_edges)。\n",
    "        drop_rate (float): 要丢弃的边的比例。\n",
    "    Returns:\n",
    "        torch.Tensor: 丢弃部分边后的 edge_index。\n",
    "    \"\"\"\n",
    "    num_edges = edge_index.size(1)\n",
    "    mask = torch.rand(num_edges) > drop_rate\n",
    "    return edge_index[:, mask]"
   ]
  },
  {
   "cell_type": "code",
   "execution_count": 711,
   "id": "4fae8e0c",
   "metadata": {},
   "outputs": [],
   "source": [
    "import torch\n",
    "import torch.nn as nn\n",
    "import torch.nn.functional as F\n",
    "from torch_geometric.nn import GATConv\n",
    "\n",
    "class SCReGAT(torch.nn.Module):\n",
    "    def __init__(self,\n",
    "                 node_input_dim=2,\n",
    "                 node_output_dim=8,\n",
    "                 edge_embedding_dim=8,\n",
    "                 hidden_channels=16,  # 增加 hidden_channels\n",
    "                 gat_input_channels=8,\n",
    "                 gat_hidden_channels=8,  # 增加 GAT 隐藏通道\n",
    "                 seq_dim=768,\n",
    "                 seq2node_dim=1,\n",
    "                 max_tokens=1024,\n",
    "                 dropout=0.4,  # 增加 dropout\n",
    "                 num_head_1=16,  # 增加 GAT 头数\n",
    "                 num_head_2=16):  # 增加 GAT 头数\n",
    "        super(SCReGAT, self).__init__()\n",
    "\n",
    "        # Sequence transformation layer (currently commented out in forward)\n",
    "        self.NN_seq = nn.Sequential(\n",
    "            nn.Linear(seq_dim, 512),\n",
    "            nn.LayerNorm(512),\n",
    "            nn.LeakyReLU(),\n",
    "            nn.Linear(512, 128),\n",
    "            nn.LayerNorm(128),\n",
    "            nn.LeakyReLU(),\n",
    "            nn.Linear(128, seq2node_dim),\n",
    "        )\n",
    "\n",
    "        # Node feature transformation with BatchNorm\n",
    "        self.NN_node = nn.Sequential(\n",
    "            nn.Linear(node_input_dim, 128),\n",
    "            nn.LayerNorm(128),\n",
    "            nn.LeakyReLU(),\n",
    "            nn.Linear(128, 64),\n",
    "            nn.LayerNorm(64),\n",
    "            nn.LeakyReLU(),\n",
    "            nn.Linear(64, node_output_dim),\n",
    "        )\n",
    "\n",
    "        # Edge feature transformation with BatchNorm\n",
    "        self.NN_edge = nn.Sequential(\n",
    "            nn.Linear(3, 16),\n",
    "            nn.LayerNorm(16),\n",
    "            nn.LeakyReLU(),\n",
    "            nn.Linear(16, edge_embedding_dim),\n",
    "            nn.LeakyReLU()\n",
    "        )\n",
    "\n",
    "        # GAT layers with increased heads and self-loops\n",
    "        self.NN_conv1 = GATConv(node_output_dim, hidden_channels, heads=num_head_1, dropout=dropout, edge_dim=edge_embedding_dim, add_self_loops=False)\n",
    "        self.NN_flatten1 = nn.Linear(num_head_1 * hidden_channels, hidden_channels)\n",
    "\n",
    "        self.NN_conv2 = GATConv(hidden_channels, hidden_channels, heads=num_head_2, dropout=dropout, add_self_loops=False)\n",
    "        self.NN_flatten2 = nn.Linear(num_head_2 * hidden_channels, hidden_channels)\n",
    "\n",
    "        self.dropout = nn.Dropout(0.1)  \n",
    "        self.relu = nn.ReLU()\n",
    "        self.leaky = nn.LeakyReLU()\n",
    "        \n",
    "        self.NN_cell_type = nn.Sequential(\n",
    "            nn.Linear(1882, 128),\n",
    "            nn.LayerNorm(128),\n",
    "            nn.LeakyReLU(),\n",
    "            nn.Linear(128, 64),\n",
    "            nn.LayerNorm(64),\n",
    "            nn.LeakyReLU(),\n",
    "            nn.Linear(64, 9),\n",
    "            nn.Softmax()\n",
    "        )\n",
    "        \n",
    "\n",
    "    def forward(self, seq_data, raw_x, edge_index, edge_tf, batch, gene_num, gene_id_vec, is_test=False):\n",
    "        data = raw_x\n",
    "        seq_data = self.NN_seq(seq_data)\n",
    "        data = torch.cat((data, seq_data), dim=1)\n",
    "        data = self.NN_node(data)\n",
    "         \n",
    "        hidden_edge_input = torch.cat((raw_x[edge_index[0]] * raw_x[edge_index[1]], raw_x[edge_index[0]], raw_x[edge_index[1]]), dim=1)\n",
    "        hidden_edge = self.NN_edge(hidden_edge_input).sigmoid()\n",
    "        \n",
    "        model.edge = torch.median(hidden_edge, dim=1)[0]\n",
    "        data, atten_w1 = self.NN_conv1(data, edge_index, edge_attr=hidden_edge, return_attention_weights=True)\n",
    "        data_1 = self.leaky(self.NN_flatten1(data))\n",
    "\n",
    "        data_2, atten_w2 = self.NN_conv2(data_1, edge_tf, return_attention_weights=True)\n",
    "        data_2 = self.leaky(self.NN_flatten2(data_2))\n",
    "        \n",
    "        data = data_1 + data_2\n",
    "        self.data = data\n",
    "        if is_test == False:\n",
    "            cell_type = self.NN_cell_type(torch.mean(data[gene_id_vec==1], dim=1))\n",
    "        else:\n",
    "            cell_type = None\n",
    "            pass\n",
    "        gene_out = -F.log_softmax(data[gene_id_vec==1], dim=1)[:, 0]\n",
    "\n",
    "        return gene_out, atten_w1, cell_type\n",
    "\n",
    "import torch\n",
    "import torch.nn as nn"
   ]
  },
  {
   "cell_type": "code",
   "execution_count": 712,
   "id": "66087ba9",
   "metadata": {},
   "outputs": [
    {
     "data": {
      "text/plain": [
       "torch.Size([1882])"
      ]
     },
     "execution_count": 712,
     "metadata": {},
     "output_type": "execute_result"
    }
   ],
   "source": [
    "sample.y_exp.shape"
   ]
  },
  {
   "cell_type": "code",
   "execution_count": 713,
   "id": "9e9c3e3f",
   "metadata": {},
   "outputs": [],
   "source": [
    "def get_split(mt, batch_size):\n",
    "    edge_flattened = mt\n",
    "    if edge_flattened.size(0) % batch_size == 0:\n",
    "        split_edges = edge_flattened.split(edge_flattened.size(0) // batch_size)\n",
    "    else:\n",
    "        remainder = edge_flattened.size(0) % batch_size\n",
    "        edge_flattened = edge_flattened[:-remainder]  # Drop the remainder\n",
    "        split_edges = edge_flattened.split(edge_flattened.size(0) // batch_size)\n",
    "    return torch.vstack(split_edges)"
   ]
  },
  {
   "cell_type": "code",
   "execution_count": 714,
   "id": "b79270b7",
   "metadata": {},
   "outputs": [
    {
     "data": {
      "text/plain": [
       "9"
      ]
     },
     "execution_count": 714,
     "metadata": {},
     "output_type": "execute_result"
    }
   ],
   "source": [
    "len(dataset_atac.array_celltype)"
   ]
  },
  {
   "cell_type": "code",
   "execution_count": 717,
   "id": "c5224332",
   "metadata": {},
   "outputs": [],
   "source": [
    "model = SCReGAT()"
   ]
  },
  {
   "cell_type": "code",
   "execution_count": null,
   "id": "df5110b9",
   "metadata": {},
   "outputs": [],
   "source": []
  },
  {
   "cell_type": "code",
   "execution_count": null,
   "id": "c20a7dda",
   "metadata": {},
   "outputs": [
    {
     "name": "stderr",
     "output_type": "stream",
     "text": [
      "Epoch 1/50:   0%|          | 1/5292 [00:00<21:49,  4.04batch/s, attention_loss=1.83e+3, cell_loss=2.22, loss=1.83e+3, loss1=0.00519, sparse_loss=0.123]"
     ]
    },
    {
     "name": "stdout",
     "output_type": "stream",
     "text": [
      "tensor([2.6904, 2.7107, 2.6973,  ..., 2.7351, 2.7081, 2.6956], device='cuda:0',\n",
      "       grad_fn=<NegBackward0>) tensor([0.5280, 0.5280, 0.5280,  ..., 0.4997, 0.4994, 0.4994], device='cuda:0',\n",
      "       grad_fn=<MedianBackward1>) (tensor([[  1900,   1901,   1902,  ..., 206124, 206132, 206134],\n",
      "        [     0,      0,      0,  ...,   1881,   1881,   1881]],\n",
      "       device='cuda:0'), tensor([[0.0000, 0.0169, 0.0167,  ..., 0.0168, 0.0000, 0.0168],\n",
      "        [0.0000, 0.0169, 0.0167,  ..., 0.0000, 0.0000, 0.0168],\n",
      "        [0.0169, 0.0000, 0.0000,  ..., 0.0170, 0.0168, 0.0168],\n",
      "        ...,\n",
      "        [0.0167, 0.0000, 0.0170,  ..., 0.0167, 0.0168, 0.0168],\n",
      "        [0.0168, 0.0169, 0.0167,  ..., 0.0169, 0.0000, 0.0000],\n",
      "        [0.0000, 0.0166, 0.0000,  ..., 0.0000, 0.0168, 0.0000]],\n",
      "       device='cuda:0', grad_fn=<NativeDropoutBackward0>))\n",
      "gene_pre: tensor([2.6904, 2.7107, 2.6973,  ..., 2.7351, 2.7081, 2.6956], device='cuda:0',\n",
      "       grad_fn=<NegBackward0>), loss_cell: 2.2200124263763428, attention_loss: 1829.5970458984375, sparse_loss: 0.12311388552188873\n"
     ]
    },
    {
     "name": "stderr",
     "output_type": "stream",
     "text": [
      "Epoch 1/50:   2%|▏         | 101/5292 [00:29<25:19,  3.42batch/s, attention_loss=1.83e+3, cell_loss=2.21, loss=1.83e+3, loss1=0.00417, sparse_loss=0.123]"
     ]
    },
    {
     "name": "stdout",
     "output_type": "stream",
     "text": [
      "tensor([0.0004, 0.0003, 0.0044,  ..., 0.0001, 0.0013, 0.0002], device='cuda:0',\n",
      "       grad_fn=<NegBackward0>) tensor([0.7001, 0.7001, 0.7001,  ..., 0.5000, 0.5000, 0.4993], device='cuda:0',\n",
      "       grad_fn=<MedianBackward1>) (tensor([[  1900,   1901,   1902,  ..., 206124, 206132, 206134],\n",
      "        [     0,      0,      0,  ...,   1881,   1881,   1881]],\n",
      "       device='cuda:0'), tensor([[0.0168, 0.0168, 0.0168,  ..., 0.0168, 0.0166, 0.0168],\n",
      "        [0.0000, 0.0168, 0.0000,  ..., 0.0168, 0.0166, 0.0000],\n",
      "        [0.0168, 0.0168, 0.0167,  ..., 0.0000, 0.0166, 0.0000],\n",
      "        ...,\n",
      "        [0.0168, 0.0168, 0.0000,  ..., 0.0168, 0.0000, 0.0000],\n",
      "        [0.0168, 0.0000, 0.0168,  ..., 0.0000, 0.0168, 0.0000],\n",
      "        [0.0168, 0.0168, 0.0169,  ..., 0.0000, 0.0171, 0.0168]],\n",
      "       device='cuda:0', grad_fn=<NativeDropoutBackward0>))\n",
      "gene_pre: tensor([0.0004, 0.0003, 0.0044,  ..., 0.0001, 0.0013, 0.0002], device='cuda:0',\n",
      "       grad_fn=<NegBackward0>), loss_cell: 2.230832099914551, attention_loss: 1828.4261474609375, sparse_loss: 0.12303713709115982\n"
     ]
    },
    {
     "name": "stderr",
     "output_type": "stream",
     "text": [
      "Epoch 1/50:   4%|▍         | 201/5292 [00:58<24:04,  3.52batch/s, attention_loss=1.83e+3, cell_loss=2.2, loss=1.83e+3, loss1=0.00395, sparse_loss=0.123] "
     ]
    },
    {
     "name": "stdout",
     "output_type": "stream",
     "text": [
      "tensor([4.1049e-03, 7.9986e-05, 7.7602e-05,  ..., 1.4864e-04, 1.1883e-03,\n",
      "        1.9370e-04], device='cuda:0', grad_fn=<NegBackward0>) tensor([0.9223, 0.9223, 0.9223,  ..., 0.4999, 0.4999, 0.4986], device='cuda:0',\n",
      "       grad_fn=<MedianBackward1>) (tensor([[  1900,   1901,   1902,  ..., 206124, 206132, 206134],\n",
      "        [     0,      0,      0,  ...,   1881,   1881,   1881]],\n",
      "       device='cuda:0'), tensor([[0.0000, 0.0000, 0.0168,  ..., 0.0168, 0.0000, 0.0000],\n",
      "        [0.0168, 0.0168, 0.0168,  ..., 0.0168, 0.0164, 0.0168],\n",
      "        [0.0000, 0.0168, 0.0168,  ..., 0.0168, 0.0000, 0.0168],\n",
      "        ...,\n",
      "        [0.0168, 0.0168, 0.0168,  ..., 0.0000, 0.0168, 0.0000],\n",
      "        [0.0000, 0.0000, 0.0000,  ..., 0.0168, 0.0000, 0.0168],\n",
      "        [0.0168, 0.0000, 0.0000,  ..., 0.0000, 0.0000, 0.0000]],\n",
      "       device='cuda:0', grad_fn=<NativeDropoutBackward0>))\n",
      "gene_pre: tensor([4.1049e-03, 7.9986e-05, 7.7602e-05,  ..., 1.4864e-04, 1.1883e-03,\n",
      "        1.9370e-04], device='cuda:0', grad_fn=<NegBackward0>), loss_cell: 2.2129580974578857, attention_loss: 1827.134033203125, sparse_loss: 0.12290460616350174\n"
     ]
    },
    {
     "name": "stderr",
     "output_type": "stream",
     "text": [
      "Epoch 1/50:   6%|▌         | 301/5292 [01:27<23:42,  3.51batch/s, attention_loss=1.83e+3, cell_loss=2.2, loss=1.83e+3, loss1=0.00387, sparse_loss=0.123] "
     ]
    },
    {
     "name": "stdout",
     "output_type": "stream",
     "text": [
      "tensor([3.9934e-05, 3.2777e-04, 6.5174e-04,  ..., 4.0416e-04, 2.9820e-03,\n",
      "        2.6866e-04], device='cuda:0', grad_fn=<NegBackward0>) tensor([0.9686, 0.9686, 0.4983,  ..., 0.4999, 0.4999, 0.4982], device='cuda:0',\n",
      "       grad_fn=<MedianBackward1>) (tensor([[  1900,   1901,   1902,  ..., 206124, 206132, 206134],\n",
      "        [     0,      0,      0,  ...,   1881,   1881,   1881]],\n",
      "       device='cuda:0'), tensor([[0.0000, 0.0168, 0.0000,  ..., 0.0167, 0.0158, 0.0166],\n",
      "        [0.0000, 0.0168, 0.0171,  ..., 0.0000, 0.0158, 0.0166],\n",
      "        [0.0000, 0.0000, 0.0000,  ..., 0.0000, 0.0000, 0.0174],\n",
      "        ...,\n",
      "        [0.0000, 0.0169, 0.0168,  ..., 0.0168, 0.0168, 0.0000],\n",
      "        [0.0000, 0.0000, 0.0168,  ..., 0.0000, 0.0168, 0.0168],\n",
      "        [0.0168, 0.0000, 0.0168,  ..., 0.0169, 0.0171, 0.0000]],\n",
      "       device='cuda:0', grad_fn=<NativeDropoutBackward0>))\n",
      "gene_pre: tensor([3.9934e-05, 3.2777e-04, 6.5174e-04,  ..., 4.0416e-04, 2.9820e-03,\n",
      "        2.6866e-04], device='cuda:0', grad_fn=<NegBackward0>), loss_cell: 2.2154173851013184, attention_loss: 1828.1910400390625, sparse_loss: 0.12285584956407547\n"
     ]
    },
    {
     "name": "stderr",
     "output_type": "stream",
     "text": [
      "Epoch 1/50:   8%|▊         | 401/5292 [01:55<23:30,  3.47batch/s, attention_loss=1.83e+3, cell_loss=2.2, loss=1.83e+3, loss1=0.00384, sparse_loss=0.123]"
     ]
    },
    {
     "name": "stdout",
     "output_type": "stream",
     "text": [
      "tensor([1.0937e-03, 1.7701e-04, 2.9643e-04,  ..., 4.1126e-05, 1.4840e-04,\n",
      "        1.3136e-04], device='cuda:0', grad_fn=<NegBackward0>) tensor([0.4998, 0.4998, 0.4998,  ..., 0.4998, 0.4998, 0.4980], device='cuda:0',\n",
      "       grad_fn=<MedianBackward1>) (tensor([[  1900,   1901,   1902,  ..., 206124, 206132, 206134],\n",
      "        [     0,      0,      0,  ...,   1881,   1881,   1881]],\n",
      "       device='cuda:0'), tensor([[0.0000, 0.0168, 0.0000,  ..., 0.0168, 0.0169, 0.0000],\n",
      "        [0.0000, 0.0168, 0.0168,  ..., 0.0168, 0.0000, 0.0000],\n",
      "        [0.0000, 0.0000, 0.0168,  ..., 0.0168, 0.0000, 0.0000],\n",
      "        ...,\n",
      "        [0.0000, 0.0169, 0.0168,  ..., 0.0168, 0.0000, 0.0168],\n",
      "        [0.0168, 0.0169, 0.0168,  ..., 0.0000, 0.0000, 0.0000],\n",
      "        [0.0000, 0.0167, 0.0168,  ..., 0.0169, 0.0166, 0.0168]],\n",
      "       device='cuda:0', grad_fn=<NativeDropoutBackward0>))\n",
      "gene_pre: tensor([1.0937e-03, 1.7701e-04, 2.9643e-04,  ..., 4.1126e-05, 1.4840e-04,\n",
      "        1.3136e-04], device='cuda:0', grad_fn=<NegBackward0>), loss_cell: 2.2460286617279053, attention_loss: 1828.7210693359375, sparse_loss: 0.12284515053033829\n"
     ]
    },
    {
     "name": "stderr",
     "output_type": "stream",
     "text": [
      "Epoch 1/50:   9%|▉         | 501/5292 [02:24<23:48,  3.35batch/s, attention_loss=1.83e+3, cell_loss=2.2, loss=1.83e+3, loss1=0.00381, sparse_loss=0.123]"
     ]
    },
    {
     "name": "stdout",
     "output_type": "stream",
     "text": [
      "tensor([8.0601e-04, 1.3958e-04, 1.8547e-04,  ..., 5.2451e-05, 2.8804e-03,\n",
      "        6.4252e-05], device='cuda:0', grad_fn=<NegBackward0>) tensor([0.4995, 0.4969, 0.4995,  ..., 0.9908, 0.9908, 0.4957], device='cuda:0',\n",
      "       grad_fn=<MedianBackward1>) (tensor([[  1900,   1901,   1902,  ..., 206124, 206132, 206134],\n",
      "        [     0,      0,      0,  ...,   1881,   1881,   1881]],\n",
      "       device='cuda:0'), tensor([[0.0000, 0.0169, 0.0000,  ..., 0.0168, 0.0169, 0.0168],\n",
      "        [0.0168, 0.0167, 0.0168,  ..., 0.0000, 0.0166, 0.0000],\n",
      "        [0.0168, 0.0169, 0.0168,  ..., 0.0168, 0.0000, 0.0000],\n",
      "        ...,\n",
      "        [0.0000, 0.0168, 0.0165,  ..., 0.0167, 0.0168, 0.0165],\n",
      "        [0.0000, 0.0000, 0.0165,  ..., 0.0167, 0.0168, 0.0165],\n",
      "        [0.0166, 0.0170, 0.0000,  ..., 0.0171, 0.0174, 0.0178]],\n",
      "       device='cuda:0', grad_fn=<NativeDropoutBackward0>))\n",
      "gene_pre: tensor([8.0601e-04, 1.3958e-04, 1.8547e-04,  ..., 5.2451e-05, 2.8804e-03,\n",
      "        6.4252e-05], device='cuda:0', grad_fn=<NegBackward0>), loss_cell: 2.2401018142700195, attention_loss: 1828.8121337890625, sparse_loss: 0.1228366568684578\n"
     ]
    },
    {
     "name": "stderr",
     "output_type": "stream",
     "text": [
      "Epoch 1/50:  11%|█▏        | 601/5292 [02:52<21:47,  3.59batch/s, attention_loss=1.83e+3, cell_loss=2.2, loss=1.83e+3, loss1=0.0038, sparse_loss=0.123] "
     ]
    },
    {
     "name": "stdout",
     "output_type": "stream",
     "text": [
      "tensor([5.0663e-05, 1.8954e-05, 1.5549e-03,  ..., 2.3446e-04, 1.9073e-05,\n",
      "        2.7656e-05], device='cuda:0', grad_fn=<NegBackward0>) tensor([0.9936, 0.9936, 0.9936,  ..., 0.4989, 0.4989, 0.4989], device='cuda:0',\n",
      "       grad_fn=<MedianBackward1>) (tensor([[  1900,   1901,   1902,  ..., 206124, 206132, 206134],\n",
      "        [     0,      0,      0,  ...,   1881,   1881,   1881]],\n",
      "       device='cuda:0'), tensor([[0.0000, 0.0000, 0.0000,  ..., 0.0000, 0.0162, 0.0166],\n",
      "        [0.0000, 0.0168, 0.0170,  ..., 0.0168, 0.0000, 0.0000],\n",
      "        [0.0169, 0.0168, 0.0000,  ..., 0.0000, 0.0162, 0.0166],\n",
      "        ...,\n",
      "        [0.0000, 0.0169, 0.0000,  ..., 0.0168, 0.0169, 0.0000],\n",
      "        [0.0168, 0.0169, 0.0169,  ..., 0.0168, 0.0169, 0.0000],\n",
      "        [0.0168, 0.0000, 0.0000,  ..., 0.0168, 0.0000, 0.0168]],\n",
      "       device='cuda:0', grad_fn=<NativeDropoutBackward0>))\n",
      "gene_pre: tensor([5.0663e-05, 1.8954e-05, 1.5549e-03,  ..., 2.3446e-04, 1.9073e-05,\n",
      "        2.7656e-05], device='cuda:0', grad_fn=<NegBackward0>), loss_cell: 2.2611336708068848, attention_loss: 1830.1051025390625, sparse_loss: 0.12282458692789078\n"
     ]
    },
    {
     "name": "stderr",
     "output_type": "stream",
     "text": [
      "Epoch 1/50:  13%|█▎        | 701/5292 [03:20<22:39,  3.38batch/s, attention_loss=1.83e+3, cell_loss=2.2, loss=1.83e+3, loss1=0.00379, sparse_loss=0.123]"
     ]
    },
    {
     "name": "stdout",
     "output_type": "stream",
     "text": [
      "tensor([5.8412e-06, 4.0292e-05, 2.1610e-04,  ..., 1.3124e-04, 3.0398e-05,\n",
      "        2.6226e-06], device='cuda:0', grad_fn=<NegBackward0>) tensor([0.4902, 0.9956, 0.9956,  ..., 0.4969, 0.4969, 0.4969], device='cuda:0',\n",
      "       grad_fn=<MedianBackward1>) (tensor([[  1900,   1901,   1902,  ..., 206124, 206132, 206134],\n",
      "        [     0,      0,      0,  ...,   1881,   1881,   1881]],\n",
      "       device='cuda:0'), tensor([[0.0165, 0.0000, 0.0000,  ..., 0.0000, 0.0205, 0.0175],\n",
      "        [0.0170, 0.0000, 0.0000,  ..., 0.0000, 0.0155, 0.0000],\n",
      "        [0.0000, 0.0168, 0.0000,  ..., 0.0167, 0.0155, 0.0166],\n",
      "        ...,\n",
      "        [0.0168, 0.0000, 0.0000,  ..., 0.0168, 0.0000, 0.0168],\n",
      "        [0.0000, 0.0000, 0.0168,  ..., 0.0168, 0.0169, 0.0168],\n",
      "        [0.0000, 0.0000, 0.0000,  ..., 0.0000, 0.0000, 0.0168]],\n",
      "       device='cuda:0', grad_fn=<NativeDropoutBackward0>))\n",
      "gene_pre: tensor([5.8412e-06, 4.0292e-05, 2.1610e-04,  ..., 1.3124e-04, 3.0398e-05,\n",
      "        2.6226e-06], device='cuda:0', grad_fn=<NegBackward0>), loss_cell: 2.2425811290740967, attention_loss: 1827.24609375, sparse_loss: 0.12281759083271027\n"
     ]
    },
    {
     "name": "stderr",
     "output_type": "stream",
     "text": [
      "Epoch 1/50:  15%|█▌        | 801/5292 [03:49<20:40,  3.62batch/s, attention_loss=1.83e+3, cell_loss=2.2, loss=1.83e+3, loss1=0.00378, sparse_loss=0.123]"
     ]
    },
    {
     "name": "stdout",
     "output_type": "stream",
     "text": [
      "tensor([1.3471e-05, 2.6583e-05, 2.1815e-05,  ..., 1.9191e-04, 1.2398e-05,\n",
      "        7.6294e-06], device='cuda:0', grad_fn=<NegBackward0>) tensor([0.9966, 0.9966, 0.9966,  ..., 0.4939, 0.4939, 0.4939], device='cuda:0',\n",
      "       grad_fn=<MedianBackward1>) (tensor([[  1900,   1901,   1902,  ..., 206124, 206132, 206134],\n",
      "        [     0,      0,      0,  ...,   1881,   1881,   1881]],\n",
      "       device='cuda:0'), tensor([[0.0000, 0.0168, 0.0000,  ..., 0.0167, 0.0158, 0.0166],\n",
      "        [0.0000, 0.0168, 0.0000,  ..., 0.0168, 0.0158, 0.0000],\n",
      "        [0.0169, 0.0168, 0.0169,  ..., 0.0168, 0.0158, 0.0000],\n",
      "        ...,\n",
      "        [0.0168, 0.0000, 0.0000,  ..., 0.0168, 0.0000, 0.0000],\n",
      "        [0.0000, 0.0168, 0.0000,  ..., 0.0168, 0.0169, 0.0168],\n",
      "        [0.0000, 0.0168, 0.0168,  ..., 0.0000, 0.0000, 0.0168]],\n",
      "       device='cuda:0', grad_fn=<NativeDropoutBackward0>))\n",
      "gene_pre: tensor([1.3471e-05, 2.6583e-05, 2.1815e-05,  ..., 1.9191e-04, 1.2398e-05,\n",
      "        7.6294e-06], device='cuda:0', grad_fn=<NegBackward0>), loss_cell: 2.235837459564209, attention_loss: 1831.777099609375, sparse_loss: 0.12282075732946396\n"
     ]
    },
    {
     "name": "stderr",
     "output_type": "stream",
     "text": [
      "Epoch 1/50:  16%|█▌        | 831/5292 [03:57<20:51,  3.56batch/s, attention_loss=1.83e+3, cell_loss=2.2, loss=1.83e+3, loss1=0.00378, sparse_loss=0.123]"
     ]
    }
   ],
   "source": [
    "import torch\n",
    "import random\n",
    "from tqdm import tqdm\n",
    "\n",
    "gene_num = len(sample.y_exp)\n",
    "device = 'cuda:0'\n",
    "model.to(device)\n",
    "loss_exp = torch.nn.KLDivLoss(reduction='batchmean')\n",
    "# loss_exp = torch.nn.MSELoss()\n",
    "optimizer = torch.optim.Adam(model.parameters(), lr=0.001)\n",
    "num_epoch = 50\n",
    "drop_edge_rate = 0.1\n",
    "attention_reg_weight = 0.001\n",
    "sparse_loss_weight = 0.01\n",
    "batch_size = 1\n",
    "criterion_sparse1 = EdgeDiversityLoss1(diversity_weight=1.0)\n",
    "criterion_sparse2 = EdgeDiversityLoss2(non_zero_penalty_weight=1.0)\n",
    "criterion2 = torch.nn.CrossEntropyLoss()\n",
    "max_grad_norm = 1.0\n",
    "\n",
    "def drop_edges(edge_index, drop_rate=0.1):\n",
    "    \"\"\"随机丢弃边，依据设定的丢弃比例。\n",
    "    Args:\n",
    "        edge_index (torch.Tensor): 边的张量，形状为 (2, num_edges)。\n",
    "        drop_rate (float): 要丢弃的边的比例。\n",
    "    Returns:\n",
    "        torch.Tensor: 丢弃部分边后的 edge_index。\n",
    "    \"\"\"\n",
    "    num_edges = edge_index.size(1)\n",
    "    mask = torch.rand(num_edges) > drop_rate\n",
    "    return edge_index[:, mask]\n",
    "\n",
    "train_loader = DataLoader(train_graph, batch_size=batch_size, shuffle=True)\n",
    "for epoch in range(num_epoch):\n",
    "    model.train()\n",
    "    running_loss = 0.0\n",
    "    running_loss1 = 0.0\n",
    "    running_attention_loss = 0.0  # 记录 attention 正则化损失\n",
    "    running_sparse_loss = 0.0  # 记录稀疏损失\n",
    "    running_cell_loss = 0.0  # 记录 loss_cell\n",
    "    \n",
    "\n",
    "    progress_bar = tqdm(train_loader, desc=f\"Epoch {epoch+1}/{num_epoch}\", unit=\"batch\")\n",
    "    \n",
    "    for idx, sample in enumerate(progress_bar):\n",
    "        gene_num = sample.y_exp.shape[0]\n",
    "        optimizer.zero_grad()\n",
    "        edge_index_dropped = sample.edge_index\n",
    "        gene_pre, atten, cell_pre = model(\n",
    "            sample.seq_data.to(device),\n",
    "            sample.x.to(device),\n",
    "            sample.edge_index.to(device),\n",
    "            sample.edge_tf.T.to(device),\n",
    "            sample.batch.to(device), \n",
    "            gene_num, \n",
    "            sample.id_vec.to(device)\n",
    "        )\n",
    "        \n",
    "        index = torch.where(sample.id_vec == 1)[0]\n",
    "        loss1 = -loss_exp(gene_pre.flatten(), sample.y_exp.to(device))\n",
    "        loss_cell = criterion2(cell_pre.unsqueeze(0), sample.y.to(device))\n",
    "        # attention_variance = torch.var(atten[1]).mean()\n",
    "        # attention_loss = attention_reg_weight * (5.0 - attention_variance) \n",
    "                # 计算注意力得分的均值\n",
    "    \n",
    "\n",
    "        # 最终损失：包括多样性损失\n",
    "        attention_loss = attention_reg_weight * criterion_sparse2(atten[1])\n",
    "\n",
    "        edge_temp = model.edge.flatten()\n",
    "        # loss2 = attention_reg_weight * (5.0 - torch.var(edge_temp).mean())\n",
    "        loss2 = sparse_loss_weight * criterion_sparse1(edge_temp)\n",
    "        loss = loss1 + attention_loss + loss_cell + loss2\n",
    "        \n",
    "        \n",
    "        \n",
    "        loss.backward()\n",
    "        torch.nn.utils.clip_grad_norm_(model.parameters(), max_grad_norm)\n",
    "        optimizer.step()\n",
    "        \n",
    "        # 更新运行中的损失\n",
    "        running_loss += loss.item()\n",
    "        running_loss1 += loss1.item()\n",
    "        running_attention_loss += attention_loss.item()  # 记录注意力正则化损失\n",
    "        running_sparse_loss += loss2.item()  # 记录稀疏损失\n",
    "        running_cell_loss += loss_cell.item()  # 记录 loss_cell\n",
    "        \n",
    "        if idx % 100 == 0:\n",
    "            print(gene_pre, edge_temp, atten)\n",
    "            print(f\"gene_pre: {gene_pre}, loss_cell: {loss_cell.item()}, attention_loss: {attention_loss.item()}, sparse_loss: {loss2.item()}\")\n",
    "        \n",
    "        # 更新进度条，显示平均损失\n",
    "        progress_bar.set_postfix(\n",
    "            loss=running_loss / (progress_bar.n + 1),\n",
    "            loss1=running_loss1 / (progress_bar.n + 1),\n",
    "            attention_loss=running_attention_loss / (progress_bar.n + 1),\n",
    "            sparse_loss=running_sparse_loss / (progress_bar.n + 1),\n",
    "            cell_loss=running_cell_loss / (progress_bar.n + 1)\n",
    "        )\n",
    "        \n",
    "        # 清空 CUDA 缓存，管理显存\n",
    "        torch.cuda.empty_cache()\n",
    "    \n",
    "    print(f\"Epoch [{epoch+1}/{num_epoch}], Average Loss: {running_loss / len(train_loader):.4f}, \"\n",
    "          f\"Loss1: {running_loss1 / len(train_loader):.4f}, Attention Loss: {running_attention_loss / len(train_loader):.4f}, \"\n",
    "          f\"Sparse Loss: {running_sparse_loss / len(train_loader):.4f}, Cell Loss: {running_cell_loss / len(train_loader):.4f}\")\n"
   ]
  },
  {
   "cell_type": "code",
   "execution_count": 694,
   "id": "08f8c9f5",
   "metadata": {},
   "outputs": [
    {
     "data": {
      "text/plain": [
       "tensor([0.5213, 0.5213, 0.5213,  ..., 0.5213, 0.5213, 0.5213])"
      ]
     },
     "execution_count": 694,
     "metadata": {},
     "output_type": "execute_result"
    }
   ],
   "source": [
    "edge_flattened"
   ]
  },
  {
   "cell_type": "code",
   "execution_count": 526,
   "id": "492dccda",
   "metadata": {},
   "outputs": [
    {
     "data": {
      "text/plain": [
       "tensor([[ 0.0083,  0.0084,  0.0086,  ..., -0.0084, -0.0084, -0.0084],\n",
       "        [-0.0074, -0.0074,  0.0095,  ..., -0.0074,  0.0093,  0.0095],\n",
       "        [ 0.0085, -0.0085, -0.0085,  ..., -0.0085,  0.0085, -0.0085],\n",
       "        ...,\n",
       "        [ 0.0074,  0.0074, -0.0094,  ...,  0.0072,  0.0073,  0.0074],\n",
       "        [-0.0095,  0.0073, -0.0095,  ..., -0.0095,  0.0073,  0.0073],\n",
       "        [ 0.0054,  0.0053,  0.0050,  ...,  0.0050, -0.0117, -0.0117]],\n",
       "       grad_fn=<SubBackward0>)"
      ]
     },
     "execution_count": 526,
     "metadata": {},
     "output_type": "execute_result"
    }
   ],
   "source": []
  },
  {
   "cell_type": "code",
   "execution_count": null,
   "id": "2e74c311",
   "metadata": {},
   "outputs": [],
   "source": []
  },
  {
   "cell_type": "code",
   "execution_count": null,
   "id": "58278c71",
   "metadata": {},
   "outputs": [],
   "source": []
  },
  {
   "cell_type": "code",
   "execution_count": null,
   "id": "1a45bed6",
   "metadata": {},
   "outputs": [],
   "source": []
  },
  {
   "cell_type": "code",
   "execution_count": 496,
   "id": "0be52912",
   "metadata": {},
   "outputs": [
    {
     "name": "stderr",
     "output_type": "stream",
     "text": [
      "Processing Batches: 100%|██████████| 442/442 [12:32<00:00,  1.70s/it]\n"
     ]
    }
   ],
   "source": [
    "import torch\n",
    "from tqdm import tqdm\n",
    "\n",
    "batch_size = 8\n",
    "test_loader = DataLoader(test_graph, batch_size=batch_size, shuffle=True, pin_memory=True)\n",
    "model.eval()\n",
    "device = 'cuda:0'\n",
    "model.to(device)\n",
    "\n",
    "cell_type = []\n",
    "test_barcodes = []\n",
    "cell_link_atten = []\n",
    "cell_link_activity = []\n",
    "cell_link_edge = []\n",
    "cell_link_enhancer = []\n",
    "\n",
    "with torch.no_grad():\n",
    "    for idx, sample in tqdm(enumerate(test_loader), total=len(test_loader), desc=\"Processing Batches\"):\n",
    "        gene_num = sample.y_exp.shape[0]\n",
    "        gene_pre, atten, _ = model(\n",
    "            sample.seq_data.to(device),\n",
    "            sample.x.to(device), \n",
    "            sample.edge_index.to(device), \n",
    "            sample.edge_tf.T.to(device), \n",
    "            sample.batch.to(device), \n",
    "            gene_num, \n",
    "            sample.id_vec.to(device), \n",
    "            is_test=True\n",
    "        )\n",
    "        sample_size = len(sample.y)\n",
    "        test_barcodes.extend(sample.cell)  # Ensure on CPU\n",
    "        cell_type.extend(sample.y.cpu().numpy())\n",
    "\n",
    "        # Edge processing\n",
    "        edge_temp = model.edge.flatten().to('cpu')\n",
    "        edge_lists = edge_temp.split(edge_temp.size(0) // sample_size)\n",
    "\n",
    "        for edge in edge_lists:\n",
    "            min_val = edge.min()\n",
    "            max_val = edge.max()\n",
    "            normalized_edge = (edge - min_val) / (max_val - min_val + 1e-10)  # Prevent division by zero\n",
    "            cell_link_edge.append(normalized_edge)\n",
    "\n",
    "        # Flatten and process attention data\n",
    "        atten_x_indices = atten[0][1].cpu()\n",
    "        atten_enhancer_indices = atten[0][0].cpu()\n",
    "        flattened_sample_x = sample.x[atten_x_indices].flatten().to('cpu')\n",
    "        flattened_sample_enhancer = sample.x[atten_enhancer_indices].flatten().to('cpu')\n",
    "        atten1_max = atten[1].mean(dim=1).to('cpu')\n",
    "\n",
    "        # Split and collect\n",
    "        for x, enhancer, atten in zip(\n",
    "            flattened_sample_x.split(flattened_sample_x.size(0) // sample_size),\n",
    "            flattened_sample_enhancer.split(flattened_sample_enhancer.size(0) // sample_size),\n",
    "            atten1_max.split(atten1_max.size(0) // sample_size)\n",
    "        ):\n",
    "            cell_link_activity.append(x)\n",
    "            cell_link_atten.append(atten)\n",
    "            cell_link_enhancer.append(enhancer)\n",
    "\n",
    "        # Clear cache\n",
    "        torch.cuda.empty_cache()\n",
    "\n",
    "# Optionally return or further process the collected data\n"
   ]
  },
  {
   "cell_type": "code",
   "execution_count": 412,
   "id": "16710308",
   "metadata": {},
   "outputs": [
    {
     "data": {
      "text/plain": [
       "torch.Size([47618])"
      ]
     },
     "execution_count": 412,
     "metadata": {},
     "output_type": "execute_result"
    }
   ],
   "source": [
    "cell_link_activity[-1].shape"
   ]
  },
  {
   "cell_type": "code",
   "execution_count": 497,
   "id": "3f997365",
   "metadata": {},
   "outputs": [],
   "source": [
    "cell_link_atten = torch.stack(cell_link_atten)\n",
    "cell_link_edge = torch.stack(cell_link_edge)\n",
    "cell_link_activity = torch.stack(cell_link_activity)\n",
    "cell_link_enhancer = torch.stack(cell_link_enhancer)"
   ]
  },
  {
   "cell_type": "code",
   "execution_count": 609,
   "id": "cad27e30",
   "metadata": {},
   "outputs": [
    {
     "data": {
      "text/plain": [
       "torch.Size([285709])"
      ]
     },
     "execution_count": 609,
     "metadata": {},
     "output_type": "execute_result"
    }
   ],
   "source": [
    "atten[1][:, 0].shape"
   ]
  },
  {
   "cell_type": "code",
   "execution_count": 480,
   "id": "def17d78",
   "metadata": {},
   "outputs": [
    {
     "data": {
      "text/plain": [
       "tensor(0)"
      ]
     },
     "execution_count": 480,
     "metadata": {},
     "output_type": "execute_result"
    }
   ],
   "source": [
    "torch.sum(cell_link_atten[0] == 0)"
   ]
  },
  {
   "cell_type": "code",
   "execution_count": 613,
   "id": "cdedab2d",
   "metadata": {},
   "outputs": [
    {
     "data": {
      "image/png": "[encoded data removed]",
      "text/plain": [
       "<Figure size 800x600 with 1 Axes>"
      ]
     },
     "metadata": {},
     "output_type": "display_data"
    }
   ],
   "source": [
    "import torch\n",
    "import matplotlib.pyplot as plt\n",
    "\n",
    "\n",
    "# 将 tensor 转换为 numpy 数组以用于绘图\n",
    "edge_temp_np = atten[1][:, 0].cpu().detach().numpy()\n",
    "\n",
    "# 绘制分布图\n",
    "plt.figure(figsize=(8, 6))\n",
    "plt.hist(edge_temp_np, bins=300, alpha=0.7, color='blue')\n",
    "plt.title('Distribution of edge_temp')\n",
    "plt.xlabel('Value')\n",
    "plt.ylabel('Frequency')\n",
    "plt.grid(True, linestyle='--', alpha=0.5)\n",
    "plt.show()\n"
   ]
  },
  {
   "cell_type": "code",
   "execution_count": 404,
   "id": "250eefa4",
   "metadata": {},
   "outputs": [
    {
     "name": "stderr",
     "output_type": "stream",
     "text": [
      "Processing Batches:   0%|          | 0/3529 [00:00<?, ?it/s]\n"
     ]
    },
    {
     "ename": "TypeError",
     "evalue": "forward() missing 1 required positional argument: 'gene_id_vec'",
     "output_type": "error",
     "traceback": [
      "\u001b[0;31m---------------------------------------------------------------------------\u001b[0m",
      "\u001b[0;31mTypeError\u001b[0m                                 Traceback (most recent call last)",
      "Input \u001b[0;32mIn [404]\u001b[0m, in \u001b[0;36m<cell line: 10>\u001b[0;34m()\u001b[0m\n\u001b[1;32m     14\u001b[0m cell_link_enhancer \u001b[38;5;241m=\u001b[39m []\n\u001b[1;32m     15\u001b[0m \u001b[38;5;28;01mfor\u001b[39;00m idx, sample \u001b[38;5;129;01min\u001b[39;00m tqdm(\u001b[38;5;28menumerate\u001b[39m(test_loader), total\u001b[38;5;241m=\u001b[39m\u001b[38;5;28mlen\u001b[39m(test_loader), desc\u001b[38;5;241m=\u001b[39m\u001b[38;5;124m\"\u001b[39m\u001b[38;5;124mProcessing Batches\u001b[39m\u001b[38;5;124m\"\u001b[39m):\n\u001b[0;32m---> 16\u001b[0m     gene_pre, atten, _ \u001b[38;5;241m=\u001b[39m \u001b[43mmodel\u001b[49m\u001b[43m(\u001b[49m\u001b[43msample\u001b[49m\u001b[38;5;241;43m.\u001b[39;49m\u001b[43mseq_data\u001b[49m\u001b[38;5;241;43m.\u001b[39;49m\u001b[43mto\u001b[49m\u001b[43m(\u001b[49m\u001b[43mdevice\u001b[49m\u001b[43m)\u001b[49m\u001b[43m,\u001b[49m\n\u001b[1;32m     17\u001b[0m \u001b[43m                            \u001b[49m\u001b[43msample\u001b[49m\u001b[38;5;241;43m.\u001b[39;49m\u001b[43mx\u001b[49m\u001b[38;5;241;43m.\u001b[39;49m\u001b[43mto\u001b[49m\u001b[43m(\u001b[49m\u001b[43mdevice\u001b[49m\u001b[43m)\u001b[49m\u001b[43m,\u001b[49m\u001b[43m \u001b[49m\n\u001b[1;32m     18\u001b[0m \u001b[43m                            \u001b[49m\u001b[43msample\u001b[49m\u001b[38;5;241;43m.\u001b[39;49m\u001b[43medge_index\u001b[49m\u001b[38;5;241;43m.\u001b[39;49m\u001b[43mto\u001b[49m\u001b[43m(\u001b[49m\u001b[43mdevice\u001b[49m\u001b[43m)\u001b[49m\u001b[43m,\u001b[49m\u001b[43m \u001b[49m\n\u001b[1;32m     19\u001b[0m \u001b[43m                            \u001b[49m\u001b[43msample\u001b[49m\u001b[38;5;241;43m.\u001b[39;49m\u001b[43medge_tf\u001b[49m\u001b[38;5;241;43m.\u001b[39;49m\u001b[43mT\u001b[49m\u001b[38;5;241;43m.\u001b[39;49m\u001b[43mto\u001b[49m\u001b[43m(\u001b[49m\u001b[43mdevice\u001b[49m\u001b[43m)\u001b[49m\u001b[43m,\u001b[49m\u001b[43m \u001b[49m\n\u001b[1;32m     20\u001b[0m \u001b[43m                            \u001b[49m\u001b[43msample\u001b[49m\u001b[38;5;241;43m.\u001b[39;49m\u001b[43mbatch\u001b[49m\u001b[38;5;241;43m.\u001b[39;49m\u001b[43mto\u001b[49m\u001b[43m(\u001b[49m\u001b[43mdevice\u001b[49m\u001b[43m)\u001b[49m\u001b[43m,\u001b[49m\u001b[43m \u001b[49m\u001b[43mgene_num\u001b[49m\u001b[43m)\u001b[49m\n\u001b[1;32m     21\u001b[0m     test_barcodes\u001b[38;5;241m.\u001b[39mappend(sample\u001b[38;5;241m.\u001b[39mcell)\n\u001b[1;32m     22\u001b[0m     cell_type\u001b[38;5;241m.\u001b[39mappend(sample\u001b[38;5;241m.\u001b[39my\u001b[38;5;241m.\u001b[39mitem())\n",
      "File \u001b[0;32m~/anaconda3/envs/HT2VEC/lib/python3.8/site-packages/torch/nn/modules/module.py:1501\u001b[0m, in \u001b[0;36mModule._call_impl\u001b[0;34m(self, *args, **kwargs)\u001b[0m\n\u001b[1;32m   1496\u001b[0m \u001b[38;5;66;03m# If we don't have any hooks, we want to skip the rest of the logic in\u001b[39;00m\n\u001b[1;32m   1497\u001b[0m \u001b[38;5;66;03m# this function, and just call forward.\u001b[39;00m\n\u001b[1;32m   1498\u001b[0m \u001b[38;5;28;01mif\u001b[39;00m \u001b[38;5;129;01mnot\u001b[39;00m (\u001b[38;5;28mself\u001b[39m\u001b[38;5;241m.\u001b[39m_backward_hooks \u001b[38;5;129;01mor\u001b[39;00m \u001b[38;5;28mself\u001b[39m\u001b[38;5;241m.\u001b[39m_backward_pre_hooks \u001b[38;5;129;01mor\u001b[39;00m \u001b[38;5;28mself\u001b[39m\u001b[38;5;241m.\u001b[39m_forward_hooks \u001b[38;5;129;01mor\u001b[39;00m \u001b[38;5;28mself\u001b[39m\u001b[38;5;241m.\u001b[39m_forward_pre_hooks\n\u001b[1;32m   1499\u001b[0m         \u001b[38;5;129;01mor\u001b[39;00m _global_backward_pre_hooks \u001b[38;5;129;01mor\u001b[39;00m _global_backward_hooks\n\u001b[1;32m   1500\u001b[0m         \u001b[38;5;129;01mor\u001b[39;00m _global_forward_hooks \u001b[38;5;129;01mor\u001b[39;00m _global_forward_pre_hooks):\n\u001b[0;32m-> 1501\u001b[0m     \u001b[38;5;28;01mreturn\u001b[39;00m \u001b[43mforward_call\u001b[49m\u001b[43m(\u001b[49m\u001b[38;5;241;43m*\u001b[39;49m\u001b[43margs\u001b[49m\u001b[43m,\u001b[49m\u001b[43m \u001b[49m\u001b[38;5;241;43m*\u001b[39;49m\u001b[38;5;241;43m*\u001b[39;49m\u001b[43mkwargs\u001b[49m\u001b[43m)\u001b[49m\n\u001b[1;32m   1502\u001b[0m \u001b[38;5;66;03m# Do not call functions when jit is used\u001b[39;00m\n\u001b[1;32m   1503\u001b[0m full_backward_hooks, non_full_backward_hooks \u001b[38;5;241m=\u001b[39m [], []\n",
      "\u001b[0;31mTypeError\u001b[0m: forward() missing 1 required positional argument: 'gene_id_vec'"
     ]
    }
   ],
   "source": [
    "test_loader = DataLoader(test_graph, batch_size=1, shuffle=False, pin_memory=True)\n",
    "model.eval()\n",
    "test_loss = 0.0 \n",
    "\n",
    "device = 'cuda:0'\n",
    "model.to(device)\n",
    "\n",
    "cell_type = []\n",
    "test_barcodes = []\n",
    "with torch.no_grad():\n",
    "    cell_link_atten = []\n",
    "    cell_link_activity = []\n",
    "    cell_link_edge = []\n",
    "    cell_link_enhancer = []\n",
    "    for idx, sample in tqdm(enumerate(test_loader), total=len(test_loader), desc=\"Processing Batches\"):\n",
    "        gene_pre, atten, _ = model(sample.seq_data.to(device),\n",
    "                                sample.x.to(device), \n",
    "                                sample.edge_index.to(device), \n",
    "                                sample.edge_tf.T.to(device), \n",
    "                                sample.batch.to(device), gene_num)\n",
    "        test_barcodes.append(sample.cell)\n",
    "        cell_type.append(sample.y.item())\n",
    "        import torch\n",
    "\n",
    "        # 对 model.edge.flatten() 进行 0-1 缩放\n",
    "        edge_flattened = model.edge.flatten().to('cpu')\n",
    "        min_val = torch.min(edge_flattened)\n",
    "        max_val = torch.max(edge_flattened)\n",
    "        normalized_edge = (edge_flattened - min_val) / (max_val - min_val + 1e-10)  # 防止除以 0\n",
    "\n",
    "        # 将归一化后的张量添加到 cell_link_edge\n",
    "        cell_link_edge.append(normalized_edge)\n",
    "        print(atten)\n",
    "\n",
    "        flattened_sample_x = sample.to(device).x[atten[0][1].cpu()].flatten()\n",
    "        flattened_sample_enhancer = sample.to(device).x[atten[0][0].cpu()].flatten()\n",
    "        atten1_max = torch.mean(atten[1], dim=1).to('cpu')\n",
    "        cell_link_activity.append(flattened_sample_x.to('cpu'))\n",
    "        cell_link_atten.append(atten1_max)\n",
    "        cell_link_enhancer.append(flattened_sample_enhancer.to('cpu'))\n",
    "#         edges = model.edge.flatten().cpu().numpy()\n",
    "        torch.cuda.empty_cache()"
   ]
  },
  {
   "cell_type": "code",
   "execution_count": 312,
   "id": "1464c7a6",
   "metadata": {},
   "outputs": [
    {
     "data": {
      "text/plain": [
       "1"
      ]
     },
     "execution_count": 312,
     "metadata": {},
     "output_type": "execute_result"
    }
   ],
   "source": [
    "1"
   ]
  },
  {
   "cell_type": "code",
   "execution_count": null,
   "id": "a68154b9",
   "metadata": {},
   "outputs": [],
   "source": []
  },
  {
   "cell_type": "code",
   "execution_count": null,
   "id": "7fd56bf0",
   "metadata": {},
   "outputs": [],
   "source": []
  },
  {
   "cell_type": "code",
   "execution_count": 425,
   "id": "6ebe5ad2",
   "metadata": {},
   "outputs": [],
   "source": [
    "cell_link_enhancer = torch.stack(cell_link_enhancer)"
   ]
  },
  {
   "cell_type": "code",
   "execution_count": 214,
   "id": "23f70c82",
   "metadata": {},
   "outputs": [],
   "source": [
    "cell_link_atten = torch.stack(cell_link_atten)\n",
    "cell_link_edge = torch.stack(cell_link_edge)\n",
    "cell_link_activity = torch.stack(cell_link_activity)\n",
    "cell_link_enhancer = torch.stack(cell_link_enhancer)"
   ]
  },
  {
   "cell_type": "code",
   "execution_count": 349,
   "id": "d984ec85",
   "metadata": {
    "collapsed": true,
    "jupyter": {
     "outputs_hidden": true
    }
   },
   "outputs": [
    {
     "name": "stderr",
     "output_type": "stream",
     "text": [
      " UserWarning:/root/anaconda3/envs/HT2VEC/lib/python3.8/site-packages/scanpy/preprocessing/_simple.py:843: Received a view of an AnnData. Making a copy.\n"
     ]
    },
    {
     "ename": "KeyboardInterrupt",
     "evalue": "",
     "output_type": "error",
     "traceback": [
      "\u001b[0;31m---------------------------------------------------------------------------\u001b[0m",
      "\u001b[0;31mKeyboardInterrupt\u001b[0m                         Traceback (most recent call last)",
      "Input \u001b[0;32mIn [349]\u001b[0m, in \u001b[0;36m<cell line: 10>\u001b[0;34m()\u001b[0m\n\u001b[1;32m      8\u001b[0m adata \u001b[38;5;241m=\u001b[39m adata[:, adata\u001b[38;5;241m.\u001b[39mvar\u001b[38;5;241m.\u001b[39mhighly_variable]\n\u001b[1;32m      9\u001b[0m sc\u001b[38;5;241m.\u001b[39mpp\u001b[38;5;241m.\u001b[39mscale(adata, max_value\u001b[38;5;241m=\u001b[39m\u001b[38;5;241m10\u001b[39m)\n\u001b[0;32m---> 10\u001b[0m \u001b[43msc\u001b[49m\u001b[38;5;241;43m.\u001b[39;49m\u001b[43mtl\u001b[49m\u001b[38;5;241;43m.\u001b[39;49m\u001b[43mpca\u001b[49m\u001b[43m(\u001b[49m\u001b[43madata\u001b[49m\u001b[43m,\u001b[49m\u001b[43m \u001b[49m\u001b[43msvd_solver\u001b[49m\u001b[38;5;241;43m=\u001b[39;49m\u001b[38;5;124;43m'\u001b[39;49m\u001b[38;5;124;43marpack\u001b[39;49m\u001b[38;5;124;43m'\u001b[39;49m\u001b[43m,\u001b[49m\u001b[43m \u001b[49m\u001b[43mn_comps\u001b[49m\u001b[38;5;241;43m=\u001b[39;49m\u001b[38;5;241;43m20\u001b[39;49m\u001b[43m)\u001b[49m\n\u001b[1;32m     11\u001b[0m sc\u001b[38;5;241m.\u001b[39mpp\u001b[38;5;241m.\u001b[39mneighbors(adata, n_neighbors\u001b[38;5;241m=\u001b[39m\u001b[38;5;241m15\u001b[39m, n_pcs\u001b[38;5;241m=\u001b[39m\u001b[38;5;241m20\u001b[39m, metric\u001b[38;5;241m=\u001b[39m\u001b[38;5;124m\"\u001b[39m\u001b[38;5;124mcosine\u001b[39m\u001b[38;5;124m\"\u001b[39m)\n\u001b[1;32m     12\u001b[0m sc\u001b[38;5;241m.\u001b[39mtl\u001b[38;5;241m.\u001b[39mumap(adata, min_dist\u001b[38;5;241m=\u001b[39m\u001b[38;5;241m0.5\u001b[39m)\n",
      "File \u001b[0;32m~/anaconda3/envs/HT2VEC/lib/python3.8/site-packages/scanpy/preprocessing/_pca.py:188\u001b[0m, in \u001b[0;36mpca\u001b[0;34m(data, n_comps, zero_center, svd_solver, random_state, return_info, use_highly_variable, dtype, copy, chunked, chunk_size)\u001b[0m\n\u001b[1;32m    184\u001b[0m         X \u001b[38;5;241m=\u001b[39m X\u001b[38;5;241m.\u001b[39mtoarray()\n\u001b[1;32m    185\u001b[0m     pca_ \u001b[38;5;241m=\u001b[39m PCA(\n\u001b[1;32m    186\u001b[0m         n_components\u001b[38;5;241m=\u001b[39mn_comps, svd_solver\u001b[38;5;241m=\u001b[39msvd_solver, random_state\u001b[38;5;241m=\u001b[39mrandom_state\n\u001b[1;32m    187\u001b[0m     )\n\u001b[0;32m--> 188\u001b[0m     X_pca \u001b[38;5;241m=\u001b[39m \u001b[43mpca_\u001b[49m\u001b[38;5;241;43m.\u001b[39;49m\u001b[43mfit_transform\u001b[49m\u001b[43m(\u001b[49m\u001b[43mX\u001b[49m\u001b[43m)\u001b[49m\n\u001b[1;32m    189\u001b[0m \u001b[38;5;28;01melif\u001b[39;00m issparse(X) \u001b[38;5;129;01mand\u001b[39;00m zero_center:\n\u001b[1;32m    190\u001b[0m     \u001b[38;5;28;01mfrom\u001b[39;00m \u001b[38;5;21;01msklearn\u001b[39;00m\u001b[38;5;21;01m.\u001b[39;00m\u001b[38;5;21;01mdecomposition\u001b[39;00m \u001b[38;5;28;01mimport\u001b[39;00m PCA\n",
      "File \u001b[0;32m~/anaconda3/envs/HT2VEC/lib/python3.8/site-packages/sklearn/utils/_set_output.py:157\u001b[0m, in \u001b[0;36m_wrap_method_output.<locals>.wrapped\u001b[0;34m(self, X, *args, **kwargs)\u001b[0m\n\u001b[1;32m    155\u001b[0m \u001b[38;5;129m@wraps\u001b[39m(f)\n\u001b[1;32m    156\u001b[0m \u001b[38;5;28;01mdef\u001b[39;00m \u001b[38;5;21mwrapped\u001b[39m(\u001b[38;5;28mself\u001b[39m, X, \u001b[38;5;241m*\u001b[39margs, \u001b[38;5;241m*\u001b[39m\u001b[38;5;241m*\u001b[39mkwargs):\n\u001b[0;32m--> 157\u001b[0m     data_to_wrap \u001b[38;5;241m=\u001b[39m \u001b[43mf\u001b[49m\u001b[43m(\u001b[49m\u001b[38;5;28;43mself\u001b[39;49m\u001b[43m,\u001b[49m\u001b[43m \u001b[49m\u001b[43mX\u001b[49m\u001b[43m,\u001b[49m\u001b[43m \u001b[49m\u001b[38;5;241;43m*\u001b[39;49m\u001b[43margs\u001b[49m\u001b[43m,\u001b[49m\u001b[43m \u001b[49m\u001b[38;5;241;43m*\u001b[39;49m\u001b[38;5;241;43m*\u001b[39;49m\u001b[43mkwargs\u001b[49m\u001b[43m)\u001b[49m\n\u001b[1;32m    158\u001b[0m     \u001b[38;5;28;01mif\u001b[39;00m \u001b[38;5;28misinstance\u001b[39m(data_to_wrap, \u001b[38;5;28mtuple\u001b[39m):\n\u001b[1;32m    159\u001b[0m         \u001b[38;5;66;03m# only wrap the first output for cross decomposition\u001b[39;00m\n\u001b[1;32m    160\u001b[0m         return_tuple \u001b[38;5;241m=\u001b[39m (\n\u001b[1;32m    161\u001b[0m             _wrap_data_with_container(method, data_to_wrap[\u001b[38;5;241m0\u001b[39m], X, \u001b[38;5;28mself\u001b[39m),\n\u001b[1;32m    162\u001b[0m             \u001b[38;5;241m*\u001b[39mdata_to_wrap[\u001b[38;5;241m1\u001b[39m:],\n\u001b[1;32m    163\u001b[0m         )\n",
      "File \u001b[0;32m~/anaconda3/envs/HT2VEC/lib/python3.8/site-packages/sklearn/base.py:1152\u001b[0m, in \u001b[0;36m_fit_context.<locals>.decorator.<locals>.wrapper\u001b[0;34m(estimator, *args, **kwargs)\u001b[0m\n\u001b[1;32m   1145\u001b[0m     estimator\u001b[38;5;241m.\u001b[39m_validate_params()\n\u001b[1;32m   1147\u001b[0m \u001b[38;5;28;01mwith\u001b[39;00m config_context(\n\u001b[1;32m   1148\u001b[0m     skip_parameter_validation\u001b[38;5;241m=\u001b[39m(\n\u001b[1;32m   1149\u001b[0m         prefer_skip_nested_validation \u001b[38;5;129;01mor\u001b[39;00m global_skip_validation\n\u001b[1;32m   1150\u001b[0m     )\n\u001b[1;32m   1151\u001b[0m ):\n\u001b[0;32m-> 1152\u001b[0m     \u001b[38;5;28;01mreturn\u001b[39;00m \u001b[43mfit_method\u001b[49m\u001b[43m(\u001b[49m\u001b[43mestimator\u001b[49m\u001b[43m,\u001b[49m\u001b[43m \u001b[49m\u001b[38;5;241;43m*\u001b[39;49m\u001b[43margs\u001b[49m\u001b[43m,\u001b[49m\u001b[43m \u001b[49m\u001b[38;5;241;43m*\u001b[39;49m\u001b[38;5;241;43m*\u001b[39;49m\u001b[43mkwargs\u001b[49m\u001b[43m)\u001b[49m\n",
      "File \u001b[0;32m~/anaconda3/envs/HT2VEC/lib/python3.8/site-packages/sklearn/decomposition/_pca.py:460\u001b[0m, in \u001b[0;36mPCA.fit_transform\u001b[0;34m(self, X, y)\u001b[0m\n\u001b[1;32m    437\u001b[0m \u001b[38;5;129m@_fit_context\u001b[39m(prefer_skip_nested_validation\u001b[38;5;241m=\u001b[39m\u001b[38;5;28;01mTrue\u001b[39;00m)\n\u001b[1;32m    438\u001b[0m \u001b[38;5;28;01mdef\u001b[39;00m \u001b[38;5;21mfit_transform\u001b[39m(\u001b[38;5;28mself\u001b[39m, X, y\u001b[38;5;241m=\u001b[39m\u001b[38;5;28;01mNone\u001b[39;00m):\n\u001b[1;32m    439\u001b[0m \u001b[38;5;250m    \u001b[39m\u001b[38;5;124;03m\"\"\"Fit the model with X and apply the dimensionality reduction on X.\u001b[39;00m\n\u001b[1;32m    440\u001b[0m \n\u001b[1;32m    441\u001b[0m \u001b[38;5;124;03m    Parameters\u001b[39;00m\n\u001b[0;32m   (...)\u001b[0m\n\u001b[1;32m    458\u001b[0m \u001b[38;5;124;03m    C-ordered array, use 'np.ascontiguousarray'.\u001b[39;00m\n\u001b[1;32m    459\u001b[0m \u001b[38;5;124;03m    \"\"\"\u001b[39;00m\n\u001b[0;32m--> 460\u001b[0m     U, S, Vt \u001b[38;5;241m=\u001b[39m \u001b[38;5;28;43mself\u001b[39;49m\u001b[38;5;241;43m.\u001b[39;49m\u001b[43m_fit\u001b[49m\u001b[43m(\u001b[49m\u001b[43mX\u001b[49m\u001b[43m)\u001b[49m\n\u001b[1;32m    461\u001b[0m     U \u001b[38;5;241m=\u001b[39m U[:, : \u001b[38;5;28mself\u001b[39m\u001b[38;5;241m.\u001b[39mn_components_]\n\u001b[1;32m    463\u001b[0m     \u001b[38;5;28;01mif\u001b[39;00m \u001b[38;5;28mself\u001b[39m\u001b[38;5;241m.\u001b[39mwhiten:\n\u001b[1;32m    464\u001b[0m         \u001b[38;5;66;03m# X_new = X * V / S * sqrt(n_samples) = U * sqrt(n_samples)\u001b[39;00m\n",
      "File \u001b[0;32m~/anaconda3/envs/HT2VEC/lib/python3.8/site-packages/sklearn/decomposition/_pca.py:512\u001b[0m, in \u001b[0;36mPCA._fit\u001b[0;34m(self, X)\u001b[0m\n\u001b[1;32m    510\u001b[0m     \u001b[38;5;28;01mreturn\u001b[39;00m \u001b[38;5;28mself\u001b[39m\u001b[38;5;241m.\u001b[39m_fit_full(X, n_components)\n\u001b[1;32m    511\u001b[0m \u001b[38;5;28;01melif\u001b[39;00m \u001b[38;5;28mself\u001b[39m\u001b[38;5;241m.\u001b[39m_fit_svd_solver \u001b[38;5;129;01min\u001b[39;00m [\u001b[38;5;124m\"\u001b[39m\u001b[38;5;124marpack\u001b[39m\u001b[38;5;124m\"\u001b[39m, \u001b[38;5;124m\"\u001b[39m\u001b[38;5;124mrandomized\u001b[39m\u001b[38;5;124m\"\u001b[39m]:\n\u001b[0;32m--> 512\u001b[0m     \u001b[38;5;28;01mreturn\u001b[39;00m \u001b[38;5;28;43mself\u001b[39;49m\u001b[38;5;241;43m.\u001b[39;49m\u001b[43m_fit_truncated\u001b[49m\u001b[43m(\u001b[49m\u001b[43mX\u001b[49m\u001b[43m,\u001b[49m\u001b[43m \u001b[49m\u001b[43mn_components\u001b[49m\u001b[43m,\u001b[49m\u001b[43m \u001b[49m\u001b[38;5;28;43mself\u001b[39;49m\u001b[38;5;241;43m.\u001b[39;49m\u001b[43m_fit_svd_solver\u001b[49m\u001b[43m)\u001b[49m\n",
      "File \u001b[0;32m~/anaconda3/envs/HT2VEC/lib/python3.8/site-packages/sklearn/decomposition/_pca.py:607\u001b[0m, in \u001b[0;36mPCA._fit_truncated\u001b[0;34m(self, X, n_components, svd_solver)\u001b[0m\n\u001b[1;32m    605\u001b[0m \u001b[38;5;28;01mif\u001b[39;00m svd_solver \u001b[38;5;241m==\u001b[39m \u001b[38;5;124m\"\u001b[39m\u001b[38;5;124marpack\u001b[39m\u001b[38;5;124m\"\u001b[39m:\n\u001b[1;32m    606\u001b[0m     v0 \u001b[38;5;241m=\u001b[39m _init_arpack_v0(\u001b[38;5;28mmin\u001b[39m(X\u001b[38;5;241m.\u001b[39mshape), random_state)\n\u001b[0;32m--> 607\u001b[0m     U, S, Vt \u001b[38;5;241m=\u001b[39m \u001b[43msvds\u001b[49m\u001b[43m(\u001b[49m\u001b[43mX\u001b[49m\u001b[43m,\u001b[49m\u001b[43m \u001b[49m\u001b[43mk\u001b[49m\u001b[38;5;241;43m=\u001b[39;49m\u001b[43mn_components\u001b[49m\u001b[43m,\u001b[49m\u001b[43m \u001b[49m\u001b[43mtol\u001b[49m\u001b[38;5;241;43m=\u001b[39;49m\u001b[38;5;28;43mself\u001b[39;49m\u001b[38;5;241;43m.\u001b[39;49m\u001b[43mtol\u001b[49m\u001b[43m,\u001b[49m\u001b[43m \u001b[49m\u001b[43mv0\u001b[49m\u001b[38;5;241;43m=\u001b[39;49m\u001b[43mv0\u001b[49m\u001b[43m)\u001b[49m\n\u001b[1;32m    608\u001b[0m     \u001b[38;5;66;03m# svds doesn't abide by scipy.linalg.svd/randomized_svd\u001b[39;00m\n\u001b[1;32m    609\u001b[0m     \u001b[38;5;66;03m# conventions, so reverse its outputs.\u001b[39;00m\n\u001b[1;32m    610\u001b[0m     S \u001b[38;5;241m=\u001b[39m S[::\u001b[38;5;241m-\u001b[39m\u001b[38;5;241m1\u001b[39m]\n",
      "File \u001b[0;32m~/anaconda3/envs/HT2VEC/lib/python3.8/site-packages/scipy/sparse/linalg/_eigen/_svds.py:532\u001b[0m, in \u001b[0;36msvds\u001b[0;34m(A, k, ncv, tol, which, v0, maxiter, return_singular_vectors, solver, random_state, options)\u001b[0m\n\u001b[1;32m    530\u001b[0m \u001b[38;5;28;01mif\u001b[39;00m v0 \u001b[38;5;129;01mis\u001b[39;00m \u001b[38;5;28;01mNone\u001b[39;00m:\n\u001b[1;32m    531\u001b[0m     v0 \u001b[38;5;241m=\u001b[39m random_state\u001b[38;5;241m.\u001b[39mstandard_normal(size\u001b[38;5;241m=\u001b[39m(\u001b[38;5;28mmin\u001b[39m(A\u001b[38;5;241m.\u001b[39mshape),))\n\u001b[0;32m--> 532\u001b[0m _, eigvec \u001b[38;5;241m=\u001b[39m \u001b[43meigsh\u001b[49m\u001b[43m(\u001b[49m\u001b[43mXH_X\u001b[49m\u001b[43m,\u001b[49m\u001b[43m \u001b[49m\u001b[43mk\u001b[49m\u001b[38;5;241;43m=\u001b[39;49m\u001b[43mk\u001b[49m\u001b[43m,\u001b[49m\u001b[43m \u001b[49m\u001b[43mtol\u001b[49m\u001b[38;5;241;43m=\u001b[39;49m\u001b[43mtol\u001b[49m\u001b[43m \u001b[49m\u001b[38;5;241;43m*\u001b[39;49m\u001b[38;5;241;43m*\u001b[39;49m\u001b[43m \u001b[49m\u001b[38;5;241;43m2\u001b[39;49m\u001b[43m,\u001b[49m\u001b[43m \u001b[49m\u001b[43mmaxiter\u001b[49m\u001b[38;5;241;43m=\u001b[39;49m\u001b[43mmaxiter\u001b[49m\u001b[43m,\u001b[49m\n\u001b[1;32m    533\u001b[0m \u001b[43m                  \u001b[49m\u001b[43mncv\u001b[49m\u001b[38;5;241;43m=\u001b[39;49m\u001b[43mncv\u001b[49m\u001b[43m,\u001b[49m\u001b[43m \u001b[49m\u001b[43mwhich\u001b[49m\u001b[38;5;241;43m=\u001b[39;49m\u001b[43mwhich\u001b[49m\u001b[43m,\u001b[49m\u001b[43m \u001b[49m\u001b[43mv0\u001b[49m\u001b[38;5;241;43m=\u001b[39;49m\u001b[43mv0\u001b[49m\u001b[43m)\u001b[49m\n\u001b[1;32m    534\u001b[0m \u001b[38;5;66;03m# arpack do not guarantee exactly orthonormal eigenvectors\u001b[39;00m\n\u001b[1;32m    535\u001b[0m \u001b[38;5;66;03m# for clustered eigenvalues, especially in complex arithmetic\u001b[39;00m\n\u001b[1;32m    536\u001b[0m eigvec, _ \u001b[38;5;241m=\u001b[39m np\u001b[38;5;241m.\u001b[39mlinalg\u001b[38;5;241m.\u001b[39mqr(eigvec)\n",
      "File \u001b[0;32m~/anaconda3/envs/HT2VEC/lib/python3.8/site-packages/scipy/sparse/linalg/_eigen/arpack/arpack.py:1697\u001b[0m, in \u001b[0;36meigsh\u001b[0;34m(A, k, M, sigma, which, v0, ncv, maxiter, tol, return_eigenvectors, Minv, OPinv, mode)\u001b[0m\n\u001b[1;32m   1695\u001b[0m \u001b[38;5;28;01mwith\u001b[39;00m _ARPACK_LOCK:\n\u001b[1;32m   1696\u001b[0m     \u001b[38;5;28;01mwhile\u001b[39;00m \u001b[38;5;129;01mnot\u001b[39;00m params\u001b[38;5;241m.\u001b[39mconverged:\n\u001b[0;32m-> 1697\u001b[0m         \u001b[43mparams\u001b[49m\u001b[38;5;241;43m.\u001b[39;49m\u001b[43miterate\u001b[49m\u001b[43m(\u001b[49m\u001b[43m)\u001b[49m\n\u001b[1;32m   1699\u001b[0m     \u001b[38;5;28;01mreturn\u001b[39;00m params\u001b[38;5;241m.\u001b[39mextract(return_eigenvectors)\n",
      "File \u001b[0;32m~/anaconda3/envs/HT2VEC/lib/python3.8/site-packages/scipy/sparse/linalg/_eigen/arpack/arpack.py:537\u001b[0m, in \u001b[0;36m_SymmetricArpackParams.iterate\u001b[0;34m(self)\u001b[0m\n\u001b[1;32m    535\u001b[0m \u001b[38;5;28;01mdef\u001b[39;00m \u001b[38;5;21miterate\u001b[39m(\u001b[38;5;28mself\u001b[39m):\n\u001b[1;32m    536\u001b[0m     \u001b[38;5;28mself\u001b[39m\u001b[38;5;241m.\u001b[39mido, \u001b[38;5;28mself\u001b[39m\u001b[38;5;241m.\u001b[39mtol, \u001b[38;5;28mself\u001b[39m\u001b[38;5;241m.\u001b[39mresid, \u001b[38;5;28mself\u001b[39m\u001b[38;5;241m.\u001b[39mv, \u001b[38;5;28mself\u001b[39m\u001b[38;5;241m.\u001b[39miparam, \u001b[38;5;28mself\u001b[39m\u001b[38;5;241m.\u001b[39mipntr, \u001b[38;5;28mself\u001b[39m\u001b[38;5;241m.\u001b[39minfo \u001b[38;5;241m=\u001b[39m \\\n\u001b[0;32m--> 537\u001b[0m         \u001b[38;5;28;43mself\u001b[39;49m\u001b[38;5;241;43m.\u001b[39;49m\u001b[43m_arpack_solver\u001b[49m\u001b[43m(\u001b[49m\u001b[38;5;28;43mself\u001b[39;49m\u001b[38;5;241;43m.\u001b[39;49m\u001b[43mido\u001b[49m\u001b[43m,\u001b[49m\u001b[43m \u001b[49m\u001b[38;5;28;43mself\u001b[39;49m\u001b[38;5;241;43m.\u001b[39;49m\u001b[43mbmat\u001b[49m\u001b[43m,\u001b[49m\u001b[43m \u001b[49m\u001b[38;5;28;43mself\u001b[39;49m\u001b[38;5;241;43m.\u001b[39;49m\u001b[43mwhich\u001b[49m\u001b[43m,\u001b[49m\u001b[43m \u001b[49m\u001b[38;5;28;43mself\u001b[39;49m\u001b[38;5;241;43m.\u001b[39;49m\u001b[43mk\u001b[49m\u001b[43m,\u001b[49m\n\u001b[1;32m    538\u001b[0m \u001b[43m                            \u001b[49m\u001b[38;5;28;43mself\u001b[39;49m\u001b[38;5;241;43m.\u001b[39;49m\u001b[43mtol\u001b[49m\u001b[43m,\u001b[49m\u001b[43m \u001b[49m\u001b[38;5;28;43mself\u001b[39;49m\u001b[38;5;241;43m.\u001b[39;49m\u001b[43mresid\u001b[49m\u001b[43m,\u001b[49m\u001b[43m \u001b[49m\u001b[38;5;28;43mself\u001b[39;49m\u001b[38;5;241;43m.\u001b[39;49m\u001b[43mv\u001b[49m\u001b[43m,\u001b[49m\u001b[43m \u001b[49m\u001b[38;5;28;43mself\u001b[39;49m\u001b[38;5;241;43m.\u001b[39;49m\u001b[43miparam\u001b[49m\u001b[43m,\u001b[49m\n\u001b[1;32m    539\u001b[0m \u001b[43m                            \u001b[49m\u001b[38;5;28;43mself\u001b[39;49m\u001b[38;5;241;43m.\u001b[39;49m\u001b[43mipntr\u001b[49m\u001b[43m,\u001b[49m\u001b[43m \u001b[49m\u001b[38;5;28;43mself\u001b[39;49m\u001b[38;5;241;43m.\u001b[39;49m\u001b[43mworkd\u001b[49m\u001b[43m,\u001b[49m\u001b[43m \u001b[49m\u001b[38;5;28;43mself\u001b[39;49m\u001b[38;5;241;43m.\u001b[39;49m\u001b[43mworkl\u001b[49m\u001b[43m,\u001b[49m\u001b[43m \u001b[49m\u001b[38;5;28;43mself\u001b[39;49m\u001b[38;5;241;43m.\u001b[39;49m\u001b[43minfo\u001b[49m\u001b[43m)\u001b[49m\n\u001b[1;32m    541\u001b[0m     xslice \u001b[38;5;241m=\u001b[39m \u001b[38;5;28mslice\u001b[39m(\u001b[38;5;28mself\u001b[39m\u001b[38;5;241m.\u001b[39mipntr[\u001b[38;5;241m0\u001b[39m] \u001b[38;5;241m-\u001b[39m \u001b[38;5;241m1\u001b[39m, \u001b[38;5;28mself\u001b[39m\u001b[38;5;241m.\u001b[39mipntr[\u001b[38;5;241m0\u001b[39m] \u001b[38;5;241m-\u001b[39m \u001b[38;5;241m1\u001b[39m \u001b[38;5;241m+\u001b[39m \u001b[38;5;28mself\u001b[39m\u001b[38;5;241m.\u001b[39mn)\n\u001b[1;32m    542\u001b[0m     yslice \u001b[38;5;241m=\u001b[39m \u001b[38;5;28mslice\u001b[39m(\u001b[38;5;28mself\u001b[39m\u001b[38;5;241m.\u001b[39mipntr[\u001b[38;5;241m1\u001b[39m] \u001b[38;5;241m-\u001b[39m \u001b[38;5;241m1\u001b[39m, \u001b[38;5;28mself\u001b[39m\u001b[38;5;241m.\u001b[39mipntr[\u001b[38;5;241m1\u001b[39m] \u001b[38;5;241m-\u001b[39m \u001b[38;5;241m1\u001b[39m \u001b[38;5;241m+\u001b[39m \u001b[38;5;28mself\u001b[39m\u001b[38;5;241m.\u001b[39mn)\n",
      "\u001b[0;31mKeyboardInterrupt\u001b[0m: "
     ]
    }
   ],
   "source": [
    "data_np = cell_link_activity.cpu().numpy()\n",
    "\n",
    "import numpy as np\n",
    "adata_edge = ad.AnnData(\n",
    "    X=data_np, obs=dataset_atac.adata.obs.loc[test_barcodes])\n",
    "adata = adata_edge\n",
    "sc.pp.highly_variable_genes(adata, n_top_genes=10000, flavor='seurat')\n",
    "adata = adata[:, adata.var.highly_variable]\n",
    "sc.pp.scale(adata, max_value=10)\n",
    "sc.tl.pca(adata, svd_solver='arpack', n_comps=20)\n",
    "sc.pp.neighbors(adata, n_neighbors=15, n_pcs=20, metric=\"cosine\")\n",
    "sc.tl.umap(adata, min_dist=0.5)\n",
    "sc.pl.umap(adata, color=['celltype'], wspace=0.4,frameon=False)"
   ]
  },
  {
   "cell_type": "code",
   "execution_count": 184,
   "id": "37e0b6a7",
   "metadata": {},
   "outputs": [
    {
     "name": "stderr",
     "output_type": "stream",
     "text": [
      " UserWarning:/root/anaconda3/envs/HT2VEC/lib/python3.8/site-packages/scanpy/preprocessing/_simple.py:843: Received a view of an AnnData. Making a copy.\n",
      " UserWarning:/root/anaconda3/envs/HT2VEC/lib/python3.8/site-packages/scanpy/plotting/_tools/scatterplots.py:394: No data for colormapping provided via 'c'. Parameters 'cmap' will be ignored\n"
     ]
    },
    {
     "data": {
      "image/png": "[encoded data removed]",
      "text/plain": [
       "<Figure size 640x480 with 1 Axes>"
      ]
     },
     "metadata": {},
     "output_type": "display_data"
    }
   ],
   "source": [
    "data_np = cell_link_enhancer.cpu().numpy()\n",
    "\n",
    "import numpy as np\n",
    "adata_edge = ad.AnnData(\n",
    "    X=data_np, obs=dataset_atac.adata.obs.loc[np.concatenate(test_barcodes)])\n",
    "adata = adata_edge\n",
    "sc.pp.highly_variable_genes(adata, n_top_genes=10000, flavor='seurat')\n",
    "adata = adata[:, adata.var.highly_variable]\n",
    "sc.pp.scale(adata, max_value=10)\n",
    "sc.tl.pca(adata, svd_solver='arpack', n_comps=20)\n",
    "sc.pp.neighbors(adata, n_neighbors=15, n_pcs=20, metric=\"cosine\")\n",
    "sc.tl.umap(adata, min_dist=0.5)\n",
    "sc.pl.umap(adata, color=['celltype'], wspace=0.4,frameon=False)"
   ]
  },
  {
   "cell_type": "code",
   "execution_count": 499,
   "id": "35167df3",
   "metadata": {},
   "outputs": [
    {
     "name": "stderr",
     "output_type": "stream",
     "text": [
      " UserWarning:/root/anaconda3/envs/HT2VEC/lib/python3.8/site-packages/scanpy/preprocessing/_simple.py:843: Received a view of an AnnData. Making a copy.\n",
      " UserWarning:/root/anaconda3/envs/HT2VEC/lib/python3.8/site-packages/scanpy/plotting/_tools/scatterplots.py:394: No data for colormapping provided via 'c'. Parameters 'cmap' will be ignored\n"
     ]
    },
    {
     "data": {
      "image/png": "[encoded data removed]",
      "text/plain": [
       "<Figure size 640x480 with 1 Axes>"
      ]
     },
     "metadata": {},
     "output_type": "display_data"
    }
   ],
   "source": [
    "# Attention\n",
    "data_np = cell_link_atten.cpu().numpy()\n",
    "\n",
    "import numpy as np\n",
    "adata_edge = ad.AnnData(\n",
    "    X=data_np, obs=dataset_atac.adata.obs.loc[test_barcodes])\n",
    "adata = adata_edge\n",
    "sc.pp.highly_variable_genes(adata, n_top_genes=10000, flavor='seurat')\n",
    "adata = adata[:, adata.var.highly_variable]\n",
    "sc.pp.scale(adata, max_value=10)\n",
    "sc.tl.pca(adata, svd_solver='arpack', n_comps=20)\n",
    "sc.pp.neighbors(adata, n_neighbors=15, n_pcs=20, metric=\"cosine\")\n",
    "sc.tl.umap(adata, min_dist=0.5)\n",
    "sc.pl.umap(adata, color=['celltype'], wspace=0.4,frameon=False)"
   ]
  },
  {
   "cell_type": "code",
   "execution_count": null,
   "id": "14b9d632",
   "metadata": {},
   "outputs": [],
   "source": [
    "att"
   ]
  },
  {
   "cell_type": "code",
   "execution_count": 500,
   "id": "6cfd8c82",
   "metadata": {},
   "outputs": [
    {
     "name": "stderr",
     "output_type": "stream",
     "text": [
      " RuntimeWarning:/root/anaconda3/envs/HT2VEC/lib/python3.8/site-packages/scanpy/preprocessing/_highly_variable_genes.py:218: invalid value encountered in log\n",
      " UserWarning:/root/anaconda3/envs/HT2VEC/lib/python3.8/site-packages/scanpy/preprocessing/_simple.py:843: Received a view of an AnnData. Making a copy.\n",
      " UserWarning:/root/anaconda3/envs/HT2VEC/lib/python3.8/site-packages/scanpy/plotting/_tools/scatterplots.py:394: No data for colormapping provided via 'c'. Parameters 'cmap' will be ignored\n"
     ]
    },
    {
     "data": {
      "image/png": "[encoded data removed]",
      "text/plain": [
       "<Figure size 640x480 with 1 Axes>"
      ]
     },
     "metadata": {},
     "output_type": "display_data"
    }
   ],
   "source": [
    "data_np = cell_link_edge.cpu().numpy()\n",
    "\n",
    "import numpy as np\n",
    "adata_edge = ad.AnnData(\n",
    "    X=data_np, obs=dataset_atac.adata.obs.loc[test_barcodes])\n",
    "adata = adata_edge\n",
    "sc.pp.highly_variable_genes(adata, n_top_genes=10000, flavor='seurat')\n",
    "adata = adata[:, adata.var.highly_variable]\n",
    "sc.pp.scale(adata, max_value=10)\n",
    "sc.tl.pca(adata, svd_solver='arpack', n_comps=20)\n",
    "sc.pp.neighbors(adata, n_neighbors=15, n_pcs=20, metric=\"cosine\")\n",
    "sc.tl.umap(adata, min_dist=0.5)\n",
    "sc.pl.umap(adata, color=['celltype'], wspace=0.4,frameon=False)"
   ]
  },
  {
   "cell_type": "code",
   "execution_count": null,
   "id": "cd038f3b",
   "metadata": {},
   "outputs": [],
   "source": []
  },
  {
   "cell_type": "code",
   "execution_count": null,
   "id": "7079530f",
   "metadata": {},
   "outputs": [],
   "source": []
  },
  {
   "cell_type": "code",
   "execution_count": 189,
   "id": "593288a3",
   "metadata": {},
   "outputs": [
    {
     "data": {
      "text/plain": [
       "tensor(0.)"
      ]
     },
     "execution_count": 189,
     "metadata": {},
     "output_type": "execute_result"
    }
   ],
   "source": [
    "torch.max(cell_link_edge[0])"
   ]
  },
  {
   "cell_type": "code",
   "execution_count": 125,
   "id": "0f1901f4",
   "metadata": {},
   "outputs": [],
   "source": [
    "torch.save(cell_link_enhancer, 'cell_link_enhancer.pt')"
   ]
  },
  {
   "cell_type": "code",
   "execution_count": 123,
   "id": "ba58cd8e",
   "metadata": {},
   "outputs": [],
   "source": [
    "torch.save(cell_link_atten, 'cell_link_atten.pt')"
   ]
  },
  {
   "cell_type": "code",
   "execution_count": 433,
   "id": "ce046857",
   "metadata": {},
   "outputs": [],
   "source": [
    "cpc_loop_df = pd.read_csv('./CPC_loops_overlap.csv', index_col=0)"
   ]
  },
  {
   "cell_type": "code",
   "execution_count": 436,
   "id": "ba63adc8",
   "metadata": {},
   "outputs": [],
   "source": [
    "insoveled_genes = pd.read_csv('./select_gene.txt')"
   ]
  },
  {
   "cell_type": "code",
   "execution_count": 443,
   "id": "a2746fc1",
   "metadata": {},
   "outputs": [],
   "source": [
    "insoveled_genes = insoveled_genes[insoveled_genes['cluster']  == 'T_Epithelial']['gene'].values"
   ]
  },
  {
   "cell_type": "code",
   "execution_count": 444,
   "id": "c298f3ce",
   "metadata": {},
   "outputs": [],
   "source": [
    "cpc_loop_df = cpc_loop_df[cpc_loop_df['Interaction Gene'].isin(insoveled_genes)]"
   ]
  },
  {
   "cell_type": "code",
   "execution_count": 445,
   "id": "08cdcd19",
   "metadata": {},
   "outputs": [
    {
     "data": {
      "text/plain": [
       "array(['KIF1B-chr1-10398082-10398582', 'KIF1B-chr1-10398711-10399211',\n",
       "       'KIF1B-chr1-10399311-10399811', ...,\n",
       "       'RNF128-chrX-106042332-106042832',\n",
       "       'GABRE-chrX-151359989-151360489',\n",
       "       'BCAP31-chrX-153539405-153539905'], dtype=object)"
      ]
     },
     "execution_count": 445,
     "metadata": {},
     "output_type": "execute_result"
    }
   ],
   "source": [
    "cpc_loop_df['Gene_Chrom_Start_End'].values"
   ]
  },
  {
   "cell_type": "code",
   "execution_count": 71,
   "id": "b707c978",
   "metadata": {},
   "outputs": [
    {
     "name": "stdout",
     "output_type": "stream",
     "text": [
      "                   Gene                     Location\n",
      "1 \"('A2M'      1 \"('A2M     chr12-8709390-8709890')\"\n",
      "2 \"('A2M'      2 \"('A2M     chr12-8709390-8709890')\"\n",
      "3 \"('ABCA1'  3 \"('ABCA1  chr9-107918652-107919152')\"\n",
      "4 \"('ABCA1'  4 \"('ABCA1  chr9-107929677-107930177')\"\n",
      "5 \"('ABCA1'  5 \"('ABCA1  chr9-107999805-108000305')\"\n"
     ]
    },
    {
     "data": {
      "text/html": [
       "<div>\n",
       "<style scoped>\n",
       "    .dataframe tbody tr th:only-of-type {\n",
       "        vertical-align: middle;\n",
       "    }\n",
       "\n",
       "    .dataframe tbody tr th {\n",
       "        vertical-align: top;\n",
       "    }\n",
       "\n",
       "    .dataframe thead th {\n",
       "        text-align: right;\n",
       "    }\n",
       "</style>\n",
       "<table border=\"1\" class=\"dataframe\">\n",
       "  <thead>\n",
       "    <tr style=\"text-align: right;\">\n",
       "      <th></th>\n",
       "      <th>gene</th>\n",
       "      <th>peak</th>\n",
       "    </tr>\n",
       "  </thead>\n",
       "  <tbody>\n",
       "    <tr>\n",
       "      <th>0</th>\n",
       "      <td>A2M</td>\n",
       "      <td>chr12-8709390-8709890</td>\n",
       "    </tr>\n",
       "    <tr>\n",
       "      <th>1</th>\n",
       "      <td>A2M</td>\n",
       "      <td>chr12-8709390-8709890</td>\n",
       "    </tr>\n",
       "    <tr>\n",
       "      <th>2</th>\n",
       "      <td>ABCA1</td>\n",
       "      <td>chr9-107918652-107919152</td>\n",
       "    </tr>\n",
       "    <tr>\n",
       "      <th>3</th>\n",
       "      <td>ABCA1</td>\n",
       "      <td>chr9-107929677-107930177</td>\n",
       "    </tr>\n",
       "    <tr>\n",
       "      <th>4</th>\n",
       "      <td>ABCA1</td>\n",
       "      <td>chr9-107999805-108000305</td>\n",
       "    </tr>\n",
       "  </tbody>\n",
       "</table>\n",
       "</div>"
      ],
      "text/plain": [
       "    gene                      peak\n",
       "0    A2M     chr12-8709390-8709890\n",
       "1    A2M     chr12-8709390-8709890\n",
       "2  ABCA1  chr9-107918652-107919152\n",
       "3  ABCA1  chr9-107929677-107930177\n",
       "4  ABCA1  chr9-107999805-108000305"
      ]
     },
     "execution_count": 71,
     "metadata": {},
     "output_type": "execute_result"
    }
   ],
   "source": [
    "temp_df = pd.read_csv('../test_fast//intersect_CRC_cellline_link.txt')\n",
    "\n",
    "# Define a function to clean up the gene and chromosome location\n",
    "def clean_location(entry):\n",
    "    # Remove any unwanted characters\n",
    "    return entry.strip(\"')\")\n",
    "\n",
    "# Clean the index and data\n",
    "temp_df['Gene'] = temp_df.index.str.strip(\"('\")\n",
    "temp_df['Location'] = temp_df['x'].apply(clean_location)\n",
    "\n",
    "# Drop the original 'x' column\n",
    "temp_df = temp_df.drop(columns=['x'])\n",
    "\n",
    "# Display the cleaned DataFrame\n",
    "print(temp_df.head())\n",
    "gene_list = [t.split('\\'')[-1] for t in temp_df['Gene'].values]\n",
    "peak_list = [t.split('\\'')[0] for t in temp_df['Location'].values]\n",
    "df = pd.DataFrame({'gene':gene_list, 'peak':peak_list})\n",
    "df.head()"
   ]
  },
  {
   "cell_type": "code",
   "execution_count": 218,
   "id": "c2d23654",
   "metadata": {},
   "outputs": [],
   "source": [
    "pos_dict = dict()\n",
    "pos_dict_int = dict()\n",
    "for idx, t in enumerate(dataset_atac.array_peak):\n",
    "    pos_dict[t] = idx\n",
    "    pos_dict_int[idx] = t\n",
    "    \n",
    "str_lists = []\n",
    "for t in range(atten[0].shape[1]):\n",
    "    str_lists.append(pos_dict_int[atten[0][1][t].item()] +  '-'  + pos_dict_int[atten[0][0][t].item()]) "
   ]
  },
  {
   "cell_type": "code",
   "execution_count": 74,
   "id": "ecf24b27",
   "metadata": {},
   "outputs": [],
   "source": [
    "target_links = []\n",
    "for t in df.values:\n",
    "    target_links.append(t[0] + '-' + t[1])"
   ]
  },
  {
   "cell_type": "code",
   "execution_count": 447,
   "id": "25cc0a00",
   "metadata": {},
   "outputs": [
    {
     "name": "stderr",
     "output_type": "stream",
     "text": [
      "Processing: 100%|██████████| 8275/8275 [00:00<00:00, 639151.90it/s]\n"
     ]
    }
   ],
   "source": [
    "from tqdm import tqdm\n",
    "\n",
    "# Create a mapping of each string to its index\n",
    "str_lists_index = {s: i for i, s in enumerate(str_lists)}\n",
    "\n",
    "map_index = []\n",
    "for t in tqdm(cpc_loop_df['Gene_Chrom_Start_End'].values, desc=\"Processing\"):\n",
    "    if t in str_lists_index:\n",
    "        map_index.append(str_lists_index[t])\n"
   ]
  },
  {
   "cell_type": "code",
   "execution_count": 448,
   "id": "e5dae48c",
   "metadata": {},
   "outputs": [],
   "source": [
    "map_index = torch.tensor(map_index)"
   ]
  },
  {
   "cell_type": "code",
   "execution_count": 449,
   "id": "1bc26577",
   "metadata": {},
   "outputs": [
    {
     "data": {
      "text/plain": [
       "8204"
      ]
     },
     "execution_count": 449,
     "metadata": {},
     "output_type": "execute_result"
    }
   ],
   "source": [
    "len(map_index)"
   ]
  },
  {
   "cell_type": "code",
   "execution_count": 450,
   "id": "919be5a1",
   "metadata": {},
   "outputs": [],
   "source": [
    "cell_type_cpu = dataset_atac.adata.obs.loc[test_barcodes]['celltype'].values"
   ]
  },
  {
   "cell_type": "code",
   "execution_count": 451,
   "id": "42a69bb5",
   "metadata": {},
   "outputs": [],
   "source": [
    "unique_celltype = np.unique(cell_type), np.unique(cell_type_cpu, return_counts=True)"
   ]
  },
  {
   "cell_type": "code",
   "execution_count": 452,
   "id": "7043e7c6",
   "metadata": {},
   "outputs": [],
   "source": [
    "unique_celltype = dataset_atac.array_celltype"
   ]
  },
  {
   "cell_type": "code",
   "execution_count": 511,
   "id": "7cfdd973",
   "metadata": {},
   "outputs": [
    {
     "data": {
      "image/png": "[encoded data removed]",
      "text/plain": [
       "<Figure size 800x600 with 1 Axes>"
      ]
     },
     "metadata": {},
     "output_type": "display_data"
    }
   ],
   "source": [
    "import pandas as pd\n",
    "import numpy as np\n",
    "import matplotlib.pyplot as plt\n",
    "import seaborn as sns\n",
    "\n",
    "# 获取numpy数组\n",
    "temp_normalized = cell_link_atten[:, map_index].cpu().numpy() * cell_link_activity[:, map_index].cpu().numpy()\n",
    "\n",
    "# 计算每个细胞类型组的均值\n",
    "means = [np.mean(temp_normalized[cell_type_cpu == unique_celltype[i], :], axis=0) for i in range(len(unique_celltype))]\n",
    "\n",
    "# 创建数据框并按均值排序\n",
    "mean_data = {'Group': ['Type ' + str(i) for i in range(len(unique_celltype))],\n",
    "             'Mean': [np.mean(m) for m in means]}\n",
    "mean_df = pd.DataFrame(mean_data).sort_values(by='Mean')\n",
    "\n",
    "# 准备用于绘图的数据\n",
    "sorted_means = [means[int(group.split(' ')[1])] for group in mean_df['Group']]\n",
    "data = {'Group': np.repeat(mean_df['Group'], [len(m) for m in sorted_means]),\n",
    "        'Values': np.concatenate(sorted_means)}\n",
    "df = pd.DataFrame(data)\n",
    "\n",
    "# 创建箱线图\n",
    "plt.figure(figsize=(8, 6))\n",
    "sns.boxplot(x='Group', y='Values', data=df, order=mean_df['Group'])\n",
    "plt.title(\"Grouped Box Plot of Means by Cell Type\")\n",
    "plt.ylim(0, 0.01)\n",
    "plt.ylabel(\"Mean Values\")\n",
    "plt.xlabel(\"Cell Type\")\n",
    "plt.grid(True, linestyle='--', alpha=0.5)\n",
    "plt.show()\n"
   ]
  },
  {
   "cell_type": "code",
   "execution_count": 469,
   "id": "ea12c831",
   "metadata": {},
   "outputs": [
    {
     "data": {
      "text/plain": [
       "array(['B cells', 'Mast cells', 'Myeloids', 'N_Epithelial',\n",
       "       'P_Epithelial', 'Plasma', 'Stromal cells', 'TNKILC',\n",
       "       'T_Epithelial'], dtype=object)"
      ]
     },
     "execution_count": 469,
     "metadata": {},
     "output_type": "execute_result"
    }
   ],
   "source": [
    "dataset_atac.array_celltype"
   ]
  },
  {
   "cell_type": "code",
   "execution_count": 464,
   "id": "95f69e02",
   "metadata": {},
   "outputs": [
    {
     "data": {
      "text/plain": [
       "tensor([0.0077, 0.0077, 0.0077,  ..., 0.0081, 0.0081, 0.0081])"
      ]
     },
     "execution_count": 464,
     "metadata": {},
     "output_type": "execute_result"
    }
   ],
   "source": [
    "cell_link_atten[0] "
   ]
  },
  {
   "cell_type": "code",
   "execution_count": 470,
   "id": "e2c1b53e",
   "metadata": {},
   "outputs": [
    {
     "data": {
      "text/html": [
       "<div>\n",
       "<style scoped>\n",
       "    .dataframe tbody tr th:only-of-type {\n",
       "        vertical-align: middle;\n",
       "    }\n",
       "\n",
       "    .dataframe tbody tr th {\n",
       "        vertical-align: top;\n",
       "    }\n",
       "\n",
       "    .dataframe thead th {\n",
       "        text-align: right;\n",
       "    }\n",
       "</style>\n",
       "<table border=\"1\" class=\"dataframe\">\n",
       "  <thead>\n",
       "    <tr style=\"text-align: right;\">\n",
       "      <th></th>\n",
       "      <th>Chromosome</th>\n",
       "      <th>Start Site</th>\n",
       "      <th>End Site</th>\n",
       "      <th>Interaction Gene</th>\n",
       "      <th>Gene_Chrom_Start_End</th>\n",
       "    </tr>\n",
       "  </thead>\n",
       "  <tbody>\n",
       "    <tr>\n",
       "      <th>302</th>\n",
       "      <td>chr1</td>\n",
       "      <td>10398082</td>\n",
       "      <td>10398582</td>\n",
       "      <td>KIF1B</td>\n",
       "      <td>KIF1B-chr1-10398082-10398582</td>\n",
       "    </tr>\n",
       "    <tr>\n",
       "      <th>307</th>\n",
       "      <td>chr1</td>\n",
       "      <td>10398711</td>\n",
       "      <td>10399211</td>\n",
       "      <td>KIF1B</td>\n",
       "      <td>KIF1B-chr1-10398711-10399211</td>\n",
       "    </tr>\n",
       "    <tr>\n",
       "      <th>312</th>\n",
       "      <td>chr1</td>\n",
       "      <td>10399311</td>\n",
       "      <td>10399811</td>\n",
       "      <td>KIF1B</td>\n",
       "      <td>KIF1B-chr1-10399311-10399811</td>\n",
       "    </tr>\n",
       "    <tr>\n",
       "      <th>316</th>\n",
       "      <td>chr1</td>\n",
       "      <td>10399821</td>\n",
       "      <td>10400321</td>\n",
       "      <td>KIF1B</td>\n",
       "      <td>KIF1B-chr1-10399821-10400321</td>\n",
       "    </tr>\n",
       "    <tr>\n",
       "      <th>320</th>\n",
       "      <td>chr1</td>\n",
       "      <td>10400499</td>\n",
       "      <td>10400999</td>\n",
       "      <td>KIF1B</td>\n",
       "      <td>KIF1B-chr1-10400499-10400999</td>\n",
       "    </tr>\n",
       "    <tr>\n",
       "      <th>...</th>\n",
       "      <td>...</td>\n",
       "      <td>...</td>\n",
       "      <td>...</td>\n",
       "      <td>...</td>\n",
       "      <td>...</td>\n",
       "    </tr>\n",
       "    <tr>\n",
       "      <th>246275</th>\n",
       "      <td>chrX</td>\n",
       "      <td>106039877</td>\n",
       "      <td>106040377</td>\n",
       "      <td>RNF128</td>\n",
       "      <td>RNF128-chrX-106039877-106040377</td>\n",
       "    </tr>\n",
       "    <tr>\n",
       "      <th>246278</th>\n",
       "      <td>chrX</td>\n",
       "      <td>106039877</td>\n",
       "      <td>106040377</td>\n",
       "      <td>RNF128</td>\n",
       "      <td>RNF128-chrX-106039877-106040377</td>\n",
       "    </tr>\n",
       "    <tr>\n",
       "      <th>246279</th>\n",
       "      <td>chrX</td>\n",
       "      <td>106042332</td>\n",
       "      <td>106042832</td>\n",
       "      <td>RNF128</td>\n",
       "      <td>RNF128-chrX-106042332-106042832</td>\n",
       "    </tr>\n",
       "    <tr>\n",
       "      <th>247104</th>\n",
       "      <td>chrX</td>\n",
       "      <td>151359989</td>\n",
       "      <td>151360489</td>\n",
       "      <td>GABRE</td>\n",
       "      <td>GABRE-chrX-151359989-151360489</td>\n",
       "    </tr>\n",
       "    <tr>\n",
       "      <th>247146</th>\n",
       "      <td>chrX</td>\n",
       "      <td>153539405</td>\n",
       "      <td>153539905</td>\n",
       "      <td>BCAP31</td>\n",
       "      <td>BCAP31-chrX-153539405-153539905</td>\n",
       "    </tr>\n",
       "  </tbody>\n",
       "</table>\n",
       "<p>8275 rows × 5 columns</p>\n",
       "</div>"
      ],
      "text/plain": [
       "       Chromosome  Start Site   End Site Interaction Gene  \\\n",
       "302          chr1    10398082   10398582            KIF1B   \n",
       "307          chr1    10398711   10399211            KIF1B   \n",
       "312          chr1    10399311   10399811            KIF1B   \n",
       "316          chr1    10399821   10400321            KIF1B   \n",
       "320          chr1    10400499   10400999            KIF1B   \n",
       "...           ...         ...        ...              ...   \n",
       "246275       chrX   106039877  106040377           RNF128   \n",
       "246278       chrX   106039877  106040377           RNF128   \n",
       "246279       chrX   106042332  106042832           RNF128   \n",
       "247104       chrX   151359989  151360489            GABRE   \n",
       "247146       chrX   153539405  153539905           BCAP31   \n",
       "\n",
       "                   Gene_Chrom_Start_End  \n",
       "302        KIF1B-chr1-10398082-10398582  \n",
       "307        KIF1B-chr1-10398711-10399211  \n",
       "312        KIF1B-chr1-10399311-10399811  \n",
       "316        KIF1B-chr1-10399821-10400321  \n",
       "320        KIF1B-chr1-10400499-10400999  \n",
       "...                                 ...  \n",
       "246275  RNF128-chrX-106039877-106040377  \n",
       "246278  RNF128-chrX-106039877-106040377  \n",
       "246279  RNF128-chrX-106042332-106042832  \n",
       "247104   GABRE-chrX-151359989-151360489  \n",
       "247146  BCAP31-chrX-153539405-153539905  \n",
       "\n",
       "[8275 rows x 5 columns]"
      ]
     },
     "execution_count": 470,
     "metadata": {},
     "output_type": "execute_result"
    }
   ],
   "source": [
    "cpc_loop_df"
   ]
  },
  {
   "cell_type": "code",
   "execution_count": null,
   "id": "cf15dcc3",
   "metadata": {},
   "outputs": [],
   "source": []
  },
  {
   "cell_type": "code",
   "execution_count": 457,
   "id": "cc00026c",
   "metadata": {},
   "outputs": [
    {
     "data": {
      "text/plain": [
       "array(['B cells', 'Mast cells', 'Myeloids', 'N_Epithelial',\n",
       "       'P_Epithelial', 'Plasma', 'Stromal cells', 'TNKILC',\n",
       "       'T_Epithelial'], dtype=object)"
      ]
     },
     "execution_count": 457,
     "metadata": {},
     "output_type": "execute_result"
    }
   ],
   "source": [
    "dataset_atac.array_celltype"
   ]
  },
  {
   "cell_type": "code",
   "execution_count": null,
   "id": "a3ff4d5f",
   "metadata": {},
   "outputs": [],
   "source": []
  },
  {
   "cell_type": "code",
   "execution_count": 371,
   "id": "75f9cc69",
   "metadata": {},
   "outputs": [
    {
     "data": {
      "text/plain": [
       "tensor([0.0101, 0.0101, 0.0101,  ..., 0.0101, 0.0101, 0.0101])"
      ]
     },
     "execution_count": 371,
     "metadata": {},
     "output_type": "execute_result"
    }
   ],
   "source": [
    "atten"
   ]
  },
  {
   "cell_type": "code",
   "execution_count": 262,
   "id": "6f8f645b",
   "metadata": {},
   "outputs": [
    {
     "data": {
      "text/plain": [
       "array(['B cells', 'Mast cells', 'Myeloids', 'N_Epithelial',\n",
       "       'P_Epithelial', 'Plasma', 'Stromal cells', 'TNKILC',\n",
       "       'T_Epithelial'], dtype=object)"
      ]
     },
     "execution_count": 262,
     "metadata": {},
     "output_type": "execute_result"
    }
   ],
   "source": [
    "dataset_atac.array_celltype"
   ]
  },
  {
   "cell_type": "code",
   "execution_count": 81,
   "id": "c1cd2e87",
   "metadata": {},
   "outputs": [],
   "source": []
  },
  {
   "cell_type": "code",
   "execution_count": 83,
   "id": "67ac3248",
   "metadata": {},
   "outputs": [
    {
     "data": {
      "text/plain": [
       "tensor([7.2317e-07, 6.8812e-07, 6.7725e-07,  ..., 4.8886e-06, 4.8886e-06,\n",
       "        4.8886e-06], device='cuda:1', grad_fn=<DivBackward0>)"
      ]
     },
     "execution_count": 83,
     "metadata": {},
     "output_type": "execute_result"
    }
   ],
   "source": [
    "normalize_to_prob(model.data)"
   ]
  },
  {
   "cell_type": "code",
   "execution_count": 78,
   "id": "dc9d79ba",
   "metadata": {},
   "outputs": [
    {
     "data": {
      "text/plain": [
       "tensor([0.0252, 0.0240, 0.0236,  ..., 0.1704, 0.1704, 0.1704], device='cuda:1',\n",
       "       grad_fn=<MeanBackward1>)"
      ]
     },
     "execution_count": 78,
     "metadata": {},
     "output_type": "execute_result"
    }
   ],
   "source": [
    "model.data"
   ]
  },
  {
   "cell_type": "code",
   "execution_count": 80,
   "id": "ace899a3",
   "metadata": {},
   "outputs": [
    {
     "data": {
      "text/plain": [
       "tensor([4.7479e-04, 1.0063e-03, 3.2451e-04,  ..., 1.2609e-05, 2.2495e-04,\n",
       "        1.5094e-04])"
      ]
     },
     "execution_count": 80,
     "metadata": {},
     "output_type": "execute_result"
    }
   ],
   "source": [
    "sample.y_exp"
   ]
  }
 ],
 "metadata": {
  "kernelspec": {
   "display_name": "Python 3 (ipykernel)",
   "language": "python",
   "name": "python3"
  },
  "language_info": {
   "codemirror_mode": {
    "name": "ipython",
    "version": 3
   },
   "file_extension": ".py",
   "mimetype": "text/x-python",
   "name": "python",
   "nbconvert_exporter": "python",
   "pygments_lexer": "ipython3",
   "version": "3.8.17"
  }
 },
 "nbformat": 4,
 "nbformat_minor": 5
}
