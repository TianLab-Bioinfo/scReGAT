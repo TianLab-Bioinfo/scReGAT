{
 "cells": [
  {
   "cell_type": "code",
   "execution_count": 2,
   "id": "4d06f02b",
   "metadata": {},
   "outputs": [],
   "source": [
    "import os\n",
    "import pandas as pd\n",
    "import torch\n",
    "import anndata as ad\n",
    "from torch_geometric.loader import DataLoader\n",
    "import scanpy as sc\n",
    "from scregat.data_process import prepare_model_input,sum_counts,plot_edge, ATACGraphDataset\n",
    "import numpy as np\n",
    "from scregat.model import train_scregat, explain_model_ig\n",
    "import pickle"
   ]
  },
  {
   "cell_type": "code",
   "execution_count": 13,
   "id": "649038f4",
   "metadata": {},
   "outputs": [],
   "source": [
    "import joblib\n",
    "with open('./dataset_atac.pkl', 'rb') as f:\n",
    "    dataset_atac = joblib.load(f)"
   ]
  },
  {
   "cell_type": "code",
   "execution_count": 29,
   "id": "d66a8cd4",
   "metadata": {},
   "outputs": [],
   "source": [
    "\n",
    "dataset_graph = ATACGraphDataset('./input_graph/')"
   ]
  },
  {
   "cell_type": "code",
   "execution_count": 3,
   "id": "30d4ab80",
   "metadata": {},
   "outputs": [],
   "source": [
    "test_cell = pd.read_csv('./test_cell_name.txt')['x'].values"
   ]
  },
  {
   "cell_type": "code",
   "execution_count": 337,
   "id": "e3212e27",
   "metadata": {},
   "outputs": [
    {
     "name": "stderr",
     "output_type": "stream",
     "text": [
      "Processing samples: 100%|██████████| 8821/8821 [00:01<00:00, 7779.77it/s]\n"
     ]
    }
   ],
   "source": [
    "#import os\n",
    "import pandas as pd\n",
    "import torch\n",
    "import anndata as ad\n",
    "from torch_geometric.loader import DataLoader\n",
    "import scanpy as sc\n",
    "from scregat.data_process import prepare_model_input,sum_counts,plot_edge, ATACGraphDataset\n",
    "import numpy as np\n",
    "import pickle\n",
    "import random\n",
    "from tqdm import tqdm\n",
    "\n",
    "seq_vec = torch.load('./seq.pth')\n",
    "\n",
    "data = dataset_atac.array_peak\n",
    "torch_vector = torch.zeros(len(data))\n",
    "for idx, item in enumerate(data):\n",
    "    if item.startswith('chr'):\n",
    "        torch_vector[idx] = 0 \n",
    "    else:\n",
    "        torch_vector[idx] = 1 \n",
    "train_graph = []\n",
    "test_graph = []\n",
    "test_cell_type = []\n",
    "train_cell_type = []\n",
    "for i, sample in tqdm(enumerate(dataset_graph), total=len(dataset_graph), desc='Processing samples'):\n",
    "\n",
    "    seq_data = seq_vec\n",
    "    sample.seq_data = seq_data\n",
    "    sample.id_vec = torch_vector\n",
    "\n",
    "    \n",
    "    if sample.cell in test_cell:\n",
    "        test_graph.append(sample)\n",
    "        test_cell_type.append(sample.y.item())\n",
    "    else:\n",
    "        train_graph.append(sample)\n",
    "        train_cell_type.append(sample.y.item())\n",
    "\n"
   ]
  },
  {
   "cell_type": "code",
   "execution_count": 853,
   "id": "20f73170",
   "metadata": {},
   "outputs": [],
   "source": [
    "import torch\n",
    "import torch.nn as nn\n",
    "\n",
    "class EdgeDiversityLoss1(nn.Module):\n",
    "    def __init__(self, diversity_weight=1.0):\n",
    "        \"\"\"\n",
    "        自定义多样性损失函数\n",
    "        :param diversity_weight: 控制熵惩罚的权重\n",
    "        \"\"\"\n",
    "        super(EdgeDiversityLoss1, self).__init__()\n",
    "        self.diversity_weight = diversity_weight\n",
    "\n",
    "    def forward(self, edge_weights):\n",
    "        prob_distribution = torch.softmax(edge_weights, dim=0)\n",
    "        entropy_loss = -self.diversity_weight * torch.sum(prob_distribution * torch.log(prob_distribution + 1e-6), dim=0)\n",
    "        \n",
    "        # 添加均匀性损失\n",
    "        target_distribution = torch.full_like(prob_distribution, 1.0 / edge_weights.numel())\n",
    "        uniformity_loss = torch.sum((prob_distribution - target_distribution) ** 2)\n",
    "\n",
    "        # 总损失\n",
    "        loss = torch.sum(entropy_loss) + uniformity_loss\n",
    "        return loss\n"
   ]
  },
  {
   "cell_type": "code",
   "execution_count": null,
   "id": "0969df6e",
   "metadata": {},
   "outputs": [],
   "source": []
  },
  {
   "cell_type": "code",
   "execution_count": 854,
   "id": "e798bde5",
   "metadata": {},
   "outputs": [],
   "source": [
    "import torch\n",
    "import torch.nn as nn\n",
    "\n",
    "class EdgeDiversityLoss2(nn.Module):\n",
    "    def __init__(self, non_zero_penalty_weight=1.0):\n",
    "        \"\"\"\n",
    "        自定义多样性损失函数\n",
    "        :param non_zero_penalty_weight: 控制非零惩罚的权重\n",
    "        \"\"\"\n",
    "        super(EdgeDiversityLoss2, self).__init__()\n",
    "        self.non_zero_penalty_weight = non_zero_penalty_weight\n",
    "\n",
    "    def forward(self, edge_weights):\n",
    "        \"\"\"\n",
    "        计算自定义多样性损失\n",
    "        :param edge_weights: 模型生成的边权重矩阵 (torch.Tensor)，形状为 (batch_size, num_edges)\n",
    "        :return: 计算出的多样性损失 (torch.Tensor)\n",
    "        \"\"\"\n",
    "        # 筛选出非零元素\n",
    "        non_zero_weights = edge_weights[edge_weights != 0]\n",
    "\n",
    "        # 计算非零元素的方差并取负\n",
    "        variance_loss = -torch.var(non_zero_weights)\n",
    "\n",
    "        # 计算非零惩罚：惩罚零权重的数量\n",
    "        non_zero_penalty = self.non_zero_penalty_weight * torch.sum((edge_weights == 0).float())\n",
    "\n",
    "        # 总损失：使用负方差作为多样性损失和非零惩罚的组合\n",
    "        loss = variance_loss + non_zero_penalty\n",
    "        return loss\n"
   ]
  },
  {
   "cell_type": "code",
   "execution_count": 855,
   "id": "8a0064f6",
   "metadata": {},
   "outputs": [
    {
     "data": {
      "text/plain": [
       "tensor([[0.0168, 0.0168, 0.0000,  ..., 0.0168, 0.0000, 0.0000],\n",
       "        [0.0000, 0.0000, 0.0167,  ..., 0.0169, 0.0000, 0.0167],\n",
       "        [0.0000, 0.0000, 0.0000,  ..., 0.0000, 0.0168, 0.0000],\n",
       "        ...,\n",
       "        [0.0168, 0.0000, 0.0168,  ..., 0.0000, 0.0168, 0.0169],\n",
       "        [0.0168, 0.0000, 0.0168,  ..., 0.0000, 0.0168, 0.0000],\n",
       "        [0.0000, 0.0168, 0.0168,  ..., 0.0168, 0.0168, 0.0169]],\n",
       "       device='cuda:0', grad_fn=<NativeDropoutBackward0>)"
      ]
     },
     "execution_count": 855,
     "metadata": {},
     "output_type": "execute_result"
    }
   ],
   "source": [
    "atten[1]"
   ]
  },
  {
   "cell_type": "code",
   "execution_count": 856,
   "id": "7584e909",
   "metadata": {},
   "outputs": [
    {
     "data": {
      "text/plain": [
       "torch.Size([285709, 16])"
      ]
     },
     "execution_count": 856,
     "metadata": {},
     "output_type": "execute_result"
    }
   ],
   "source": [
    "atten[1].shape"
   ]
  },
  {
   "cell_type": "code",
   "execution_count": 857,
   "id": "49ea3cc9",
   "metadata": {},
   "outputs": [],
   "source": [
    "def drop_edges(edge_index, drop_rate=0.1):\n",
    "    \"\"\"随机丢弃边，依据设定的丢弃比例。\n",
    "    Args:\n",
    "        edge_index (torch.Tensor): 边的张量，形状为 (2, num_edges)。\n",
    "        drop_rate (float): 要丢弃的边的比例。\n",
    "    Returns:\n",
    "        torch.Tensor: 丢弃部分边后的 edge_index。\n",
    "    \"\"\"\n",
    "    num_edges = edge_index.size(1)\n",
    "    mask = torch.rand(num_edges) > drop_rate\n",
    "    return edge_index[:, mask]"
   ]
  },
  {
   "cell_type": "code",
   "execution_count": 858,
   "id": "8d078ad7",
   "metadata": {},
   "outputs": [],
   "source": [
    "import torch\n",
    "import torch.nn as nn\n",
    "import torch.nn.functional as F\n",
    "from torch_geometric.nn import GATConv\n",
    "\n",
    "class SCReGAT(torch.nn.Module):\n",
    "    def __init__(self,\n",
    "                 node_input_dim=2,\n",
    "                 node_output_dim=8,\n",
    "                 edge_embedding_dim=8,\n",
    "                 hidden_channels=16,  # 增加 hidden_channels\n",
    "                 gat_input_channels=8,\n",
    "                 gat_hidden_channels=8,  # 增加 GAT 隐藏通道\n",
    "                 seq_dim=768,\n",
    "                 seq2node_dim=1,\n",
    "                 max_tokens=1024,\n",
    "                 dropout=0.4,  # 增加 dropout\n",
    "                 num_head_1=16,  # 增加 GAT 头数\n",
    "                 num_head_2=16):  # 增加 GAT 头数\n",
    "        super(SCReGAT, self).__init__()\n",
    "\n",
    "        # Sequence transformation layer (currently commented out in forward)\n",
    "        self.NN_seq = nn.Sequential(\n",
    "            nn.Linear(seq_dim, 512),\n",
    "            nn.LayerNorm(512),\n",
    "            nn.LeakyReLU(),\n",
    "            nn.Linear(512, 128),\n",
    "            nn.LayerNorm(128),\n",
    "            nn.LeakyReLU(),\n",
    "            nn.Linear(128, seq2node_dim),\n",
    "        )\n",
    "\n",
    "        # Node feature transformation with BatchNorm\n",
    "        self.NN_node = nn.Sequential(\n",
    "            nn.Linear(node_input_dim, 128),\n",
    "            nn.LayerNorm(128),\n",
    "            nn.LeakyReLU(),\n",
    "            nn.Linear(128, 64),\n",
    "            nn.LayerNorm(64),\n",
    "            nn.LeakyReLU(),\n",
    "            nn.Linear(64, node_output_dim),\n",
    "        )\n",
    "\n",
    "        # Edge feature transformation with BatchNorm\n",
    "        self.NN_edge = nn.Sequential(\n",
    "            nn.Linear(3, 16),\n",
    "            nn.LayerNorm(16),\n",
    "            nn.LeakyReLU(),\n",
    "            nn.Linear(16, edge_embedding_dim),\n",
    "            nn.LeakyReLU()\n",
    "        )\n",
    "\n",
    "        # GAT layers with increased heads and self-loops\n",
    "        self.NN_conv1 = GATConv(node_output_dim, hidden_channels, heads=num_head_1, dropout=dropout, edge_dim=edge_embedding_dim, add_self_loops=False)\n",
    "        self.NN_flatten1 = nn.Linear(num_head_1 * hidden_channels, hidden_channels)\n",
    "\n",
    "        self.NN_conv2 = GATConv(hidden_channels, hidden_channels, heads=num_head_2, dropout=dropout, add_self_loops=False)\n",
    "        self.NN_flatten2 = nn.Linear(num_head_2 * hidden_channels, hidden_channels)\n",
    "\n",
    "        self.dropout = nn.Dropout(0.1)  \n",
    "        self.relu = nn.ReLU()\n",
    "        self.leaky = nn.LeakyReLU()\n",
    "        \n",
    "        self.NN_cell_type = nn.Sequential(\n",
    "            nn.Linear(1882, 128),\n",
    "            nn.LayerNorm(128),\n",
    "            nn.LeakyReLU(),\n",
    "            nn.Linear(128, 64),\n",
    "            nn.LayerNorm(64),\n",
    "            nn.LeakyReLU(),\n",
    "            nn.Linear(64, 9),\n",
    "            nn.Softmax()\n",
    "        )\n",
    "        \n",
    "\n",
    "    def forward(self, seq_data, raw_x, edge_index, edge_tf, batch, gene_num, gene_id_vec, is_test=False):\n",
    "        data = raw_x\n",
    "        seq_data = self.NN_seq(seq_data)\n",
    "        data = torch.cat((data, seq_data), dim=1)\n",
    "        data = self.NN_node(data)\n",
    "         \n",
    "        hidden_edge_input = torch.cat((raw_x[edge_index[0]] * raw_x[edge_index[1]], raw_x[edge_index[0]], raw_x[edge_index[1]]), dim=1)\n",
    "        hidden_edge = self.NN_edge(hidden_edge_input).sigmoid()\n",
    "        \n",
    "        model.edge = torch.median(hidden_edge, dim=1)[0]\n",
    "        data, atten_w1 = self.NN_conv1(data, edge_index, edge_attr=hidden_edge, return_attention_weights=True)\n",
    "        data_1 = self.leaky(self.NN_flatten1(data))\n",
    "\n",
    "        data_2, atten_w2 = self.NN_conv2(data_1, edge_tf, return_attention_weights=True)\n",
    "        data_2 = self.leaky(self.NN_flatten2(data_2))\n",
    "        \n",
    "        data = data_1 + data_2\n",
    "        self.data = data\n",
    "        if is_test == False:\n",
    "            cell_type = self.NN_cell_type(torch.mean(data[gene_id_vec==1], dim=1))\n",
    "        else:\n",
    "            cell_type = None\n",
    "            pass\n",
    "        gene_out = -F.log_softmax(data[gene_id_vec==1], dim=1)[:, 0]\n",
    "\n",
    "        return gene_out, atten_w1, cell_type\n",
    "\n",
    "import torch\n",
    "import torch.nn as nn"
   ]
  },
  {
   "cell_type": "code",
   "execution_count": 859,
   "id": "c22ea197",
   "metadata": {},
   "outputs": [
    {
     "data": {
      "text/plain": [
       "torch.Size([1882])"
      ]
     },
     "execution_count": 859,
     "metadata": {},
     "output_type": "execute_result"
    }
   ],
   "source": [
    "sample.y_exp.shape"
   ]
  },
  {
   "cell_type": "code",
   "execution_count": 860,
   "id": "622fdef7",
   "metadata": {},
   "outputs": [],
   "source": [
    "def get_split(mt, batch_size):\n",
    "    edge_flattened = mt\n",
    "    if edge_flattened.size(0) % batch_size == 0:\n",
    "        split_edges = edge_flattened.split(edge_flattened.size(0) // batch_size)\n",
    "    else:\n",
    "        remainder = edge_flattened.size(0) % batch_size\n",
    "        edge_flattened = edge_flattened[:-remainder]  # Drop the remainder\n",
    "        split_edges = edge_flattened.split(edge_flattened.size(0) // batch_size)\n",
    "    return torch.vstack(split_edges)"
   ]
  },
  {
   "cell_type": "code",
   "execution_count": 861,
   "id": "85890bdb",
   "metadata": {},
   "outputs": [
    {
     "data": {
      "text/plain": [
       "9"
      ]
     },
     "execution_count": 861,
     "metadata": {},
     "output_type": "execute_result"
    }
   ],
   "source": [
    "len(dataset_atac.array_celltype)"
   ]
  },
  {
   "cell_type": "code",
   "execution_count": 871,
   "id": "02b150d8",
   "metadata": {},
   "outputs": [],
   "source": [
    "model = SCReGAT()"
   ]
  },
  {
   "cell_type": "code",
   "execution_count": 873,
   "id": "5d8448b7",
   "metadata": {},
   "outputs": [
    {
     "name": "stderr",
     "output_type": "stream",
     "text": [
      "Epoch 1/20:   1%|          | 1/100 [00:00<00:23,  4.14batch/s, attention_loss=1.83, cell_loss=2.25, loss=4.21, loss1=0.00478, sparse_loss=0.123]"
     ]
    },
    {
     "name": "stdout",
     "output_type": "stream",
     "text": [
      "tensor([9.0833e-05, 2.0156e-04, 2.6378e-04,  ..., 9.6334e-04, 6.9892e-04,\n",
      "        6.1860e-02], device='cuda:0', grad_fn=<NegBackward0>) tensor([0.3951, 0.3951, 0.3951,  ..., 0.3951, 0.3951, 0.3951], device='cuda:0',\n",
      "       grad_fn=<MedianBackward1>) (tensor([[  1900,   1901,   1902,  ..., 206124, 206132, 206134],\n",
      "        [     0,      0,      0,  ...,   1881,   1881,   1881]],\n",
      "       device='cuda:0'), tensor([[0.0136, 0.0000, 0.0168,  ..., 0.0000, 0.0000, 0.0161],\n",
      "        [0.0000, 0.0164, 0.0000,  ..., 0.0000, 0.0000, 0.0000],\n",
      "        [0.0000, 0.0000, 0.0168,  ..., 0.0163, 0.0163, 0.0000],\n",
      "        ...,\n",
      "        [0.0000, 0.0163, 0.0167,  ..., 0.0000, 0.0161, 0.0000],\n",
      "        [0.0130, 0.0163, 0.0000,  ..., 0.0162, 0.0000, 0.0159],\n",
      "        [0.0000, 0.0163, 0.0168,  ..., 0.0000, 0.0000, 0.0000]],\n",
      "       device='cuda:0', grad_fn=<NativeDropoutBackward0>))\n",
      "gene_pre: tensor([9.0833e-05, 2.0156e-04, 2.6378e-04,  ..., 9.6334e-04, 6.9892e-04,\n",
      "        6.1860e-02], device='cuda:0', grad_fn=<NegBackward0>), loss_cell: 2.2538039684295654, attention_loss: 1.8277080059051514, sparse_loss: 0.12280315160751343\n"
     ]
    },
    {
     "name": "stderr",
     "output_type": "stream",
     "text": [
      "Epoch 1/20: 100%|██████████| 100/100 [00:28<00:00,  3.48batch/s, attention_loss=1.83, cell_loss=2.19, loss=4.15, loss1=0.0047, sparse_loss=0.123]\n"
     ]
    },
    {
     "name": "stdout",
     "output_type": "stream",
     "text": [
      "Epoch [1/20], Average Loss: 4.1480, Loss1: 0.0047, Attention Loss: 1.8284, Sparse Loss: 0.1228, Cell Loss: 2.1921\n"
     ]
    },
    {
     "name": "stderr",
     "output_type": "stream",
     "text": [
      "Epoch 2/20:   1%|          | 1/100 [00:00<00:29,  3.38batch/s, attention_loss=1.83, cell_loss=2.19, loss=4.14, loss1=0.00489, sparse_loss=0.123]"
     ]
    },
    {
     "name": "stdout",
     "output_type": "stream",
     "text": [
      "tensor([1.1921e-07, 8.0344e-05, 2.8610e-06,  ..., 1.1921e-07, 2.4557e-05,\n",
      "        6.4206e-03], device='cuda:0', grad_fn=<NegBackward0>) tensor([0.3824, 0.3824, 0.3824,  ..., 0.3882, 0.3882, 0.3882], device='cuda:0',\n",
      "       grad_fn=<MedianBackward1>) (tensor([[  1900,   1901,   1902,  ..., 206124, 206132, 206134],\n",
      "        [     0,      0,      0,  ...,   1881,   1881,   1881]],\n",
      "       device='cuda:0'), tensor([[1.5962e-03, 0.0000e+00, 2.5864e-03,  ..., 0.0000e+00, 6.8169e-03,\n",
      "         4.9254e-03],\n",
      "        [0.0000e+00, 6.7597e-03, 2.5713e-03,  ..., 6.9037e-03, 6.7946e-03,\n",
      "         4.9038e-03],\n",
      "        [0.0000e+00, 6.7546e-03, 2.5677e-03,  ..., 6.8935e-03, 0.0000e+00,\n",
      "         0.0000e+00],\n",
      "        ...,\n",
      "        [6.6939e-05, 0.0000e+00, 0.0000e+00,  ..., 6.9297e-03, 6.8277e-03,\n",
      "         0.0000e+00],\n",
      "        [6.6924e-05, 6.7659e-03, 0.0000e+00,  ..., 6.9292e-03, 6.8273e-03,\n",
      "         4.8372e-03],\n",
      "        [6.6772e-05, 6.7635e-03, 2.3971e-03,  ..., 6.9211e-03, 6.8236e-03,\n",
      "         4.8325e-03]], device='cuda:0', grad_fn=<NativeDropoutBackward0>))\n",
      "gene_pre: tensor([1.1921e-07, 8.0344e-05, 2.8610e-06,  ..., 1.1921e-07, 2.4557e-05,\n",
      "        6.4206e-03], device='cuda:0', grad_fn=<NegBackward0>), loss_cell: 2.185173511505127, attention_loss: 1.8281090259552002, sparse_loss: 0.12279515713453293\n"
     ]
    },
    {
     "name": "stderr",
     "output_type": "stream",
     "text": [
      "Epoch 2/20: 100%|██████████| 100/100 [00:28<00:00,  3.49batch/s, attention_loss=1.83, cell_loss=2.18, loss=4.14, loss1=0.0047, sparse_loss=0.123]\n"
     ]
    },
    {
     "name": "stdout",
     "output_type": "stream",
     "text": [
      "Epoch [2/20], Average Loss: 4.1393, Loss1: 0.0047, Attention Loss: 1.8285, Sparse Loss: 0.1228, Cell Loss: 2.1833\n"
     ]
    },
    {
     "name": "stderr",
     "output_type": "stream",
     "text": [
      "Epoch 3/20:   1%|          | 1/100 [00:00<00:28,  3.53batch/s, attention_loss=1.83, cell_loss=2.24, loss=4.2, loss1=0.00455, sparse_loss=0.123]"
     ]
    },
    {
     "name": "stdout",
     "output_type": "stream",
     "text": [
      "tensor([9.0714e-05, 2.4947e-04, 1.1921e-07,  ..., 4.0531e-06, 3.7550e-05,\n",
      "        2.4482e-01], device='cuda:0', grad_fn=<NegBackward0>) tensor([0.3808, 0.3808, 0.3808,  ..., 1.0000, 0.3808, 0.3808], device='cuda:0',\n",
      "       grad_fn=<MedianBackward1>) (tensor([[  1900,   1901,   1902,  ..., 206124, 206132, 206134],\n",
      "        [     0,      0,      0,  ...,   1881,   1881,   1881]],\n",
      "       device='cuda:0'), tensor([[0.0014, 0.0000, 0.0030,  ..., 0.0068, 0.0063, 0.0048],\n",
      "        [0.0014, 0.0000, 0.0029,  ..., 0.0000, 0.0000, 0.0047],\n",
      "        [0.0000, 0.0000, 0.0028,  ..., 0.0000, 0.0000, 0.0047],\n",
      "        ...,\n",
      "        [0.0537, 0.0496, 0.0507,  ..., 0.0000, 0.0507, 0.0530],\n",
      "        [0.0000, 0.0000, 0.0029,  ..., 0.0066, 0.0000, 0.0000],\n",
      "        [0.0014, 0.0000, 0.0029,  ..., 0.0066, 0.0000, 0.0047]],\n",
      "       device='cuda:0', grad_fn=<NativeDropoutBackward0>))\n",
      "gene_pre: tensor([9.0714e-05, 2.4947e-04, 1.1921e-07,  ..., 4.0531e-06, 3.7550e-05,\n",
      "        2.4482e-01], device='cuda:0', grad_fn=<NegBackward0>), loss_cell: 2.242556095123291, attention_loss: 1.8301960229873657, sparse_loss: 0.12288272380828857\n"
     ]
    },
    {
     "name": "stderr",
     "output_type": "stream",
     "text": [
      "Epoch 3/20:  69%|██████▉   | 69/100 [00:19<00:08,  3.50batch/s, attention_loss=1.83, cell_loss=2.18, loss=4.13, loss1=0.0047, sparse_loss=0.123] \n"
     ]
    },
    {
     "ename": "KeyboardInterrupt",
     "evalue": "",
     "output_type": "error",
     "traceback": [
      "\u001b[0;31m---------------------------------------------------------------------------\u001b[0m",
      "\u001b[0;31mKeyboardInterrupt\u001b[0m                         Traceback (most recent call last)",
      "Input \u001b[0;32mIn [873]\u001b[0m, in \u001b[0;36m<cell line: 34>\u001b[0;34m()\u001b[0m\n\u001b[1;32m     76\u001b[0m loss \u001b[38;5;241m=\u001b[39m loss1 \u001b[38;5;241m+\u001b[39m attention_loss \u001b[38;5;241m+\u001b[39m loss_cell \u001b[38;5;241m+\u001b[39m loss2\n\u001b[1;32m     80\u001b[0m loss\u001b[38;5;241m.\u001b[39mbackward()\n\u001b[0;32m---> 81\u001b[0m \u001b[43mtorch\u001b[49m\u001b[38;5;241;43m.\u001b[39;49m\u001b[43mnn\u001b[49m\u001b[38;5;241;43m.\u001b[39;49m\u001b[43mutils\u001b[49m\u001b[38;5;241;43m.\u001b[39;49m\u001b[43mclip_grad_norm_\u001b[49m\u001b[43m(\u001b[49m\u001b[43mmodel\u001b[49m\u001b[38;5;241;43m.\u001b[39;49m\u001b[43mparameters\u001b[49m\u001b[43m(\u001b[49m\u001b[43m)\u001b[49m\u001b[43m,\u001b[49m\u001b[43m \u001b[49m\u001b[43mmax_grad_norm\u001b[49m\u001b[43m)\u001b[49m\n\u001b[1;32m     82\u001b[0m optimizer\u001b[38;5;241m.\u001b[39mstep()\n\u001b[1;32m     84\u001b[0m \u001b[38;5;66;03m# 更新运行中的损失\u001b[39;00m\n",
      "File \u001b[0;32m~/anaconda3/envs/HT2VEC/lib/python3.8/site-packages/torch/nn/utils/clip_grad.py:76\u001b[0m, in \u001b[0;36mclip_grad_norm_\u001b[0;34m(parameters, max_norm, norm_type, error_if_nonfinite, foreach)\u001b[0m\n\u001b[1;32m     74\u001b[0m \u001b[38;5;28;01mfor\u001b[39;00m ((device, _), [grads]) \u001b[38;5;129;01min\u001b[39;00m grouped_grads\u001b[38;5;241m.\u001b[39mitems():\n\u001b[1;32m     75\u001b[0m     \u001b[38;5;28;01mif\u001b[39;00m (foreach \u001b[38;5;129;01mis\u001b[39;00m \u001b[38;5;28;01mNone\u001b[39;00m \u001b[38;5;129;01mor\u001b[39;00m foreach) \u001b[38;5;129;01mand\u001b[39;00m _has_foreach_support(grads, device\u001b[38;5;241m=\u001b[39mdevice):\n\u001b[0;32m---> 76\u001b[0m         \u001b[43mtorch\u001b[49m\u001b[38;5;241;43m.\u001b[39;49m\u001b[43m_foreach_mul_\u001b[49m\u001b[43m(\u001b[49m\u001b[43mgrads\u001b[49m\u001b[43m,\u001b[49m\u001b[43m \u001b[49m\u001b[43mclip_coef_clamped\u001b[49m\u001b[38;5;241;43m.\u001b[39;49m\u001b[43mto\u001b[49m\u001b[43m(\u001b[49m\u001b[43mdevice\u001b[49m\u001b[43m)\u001b[49m\u001b[43m)\u001b[49m  \u001b[38;5;66;03m# type: ignore[call-overload]\u001b[39;00m\n\u001b[1;32m     77\u001b[0m     \u001b[38;5;28;01melif\u001b[39;00m foreach:\n\u001b[1;32m     78\u001b[0m         \u001b[38;5;28;01mraise\u001b[39;00m \u001b[38;5;167;01mRuntimeError\u001b[39;00m(\u001b[38;5;124mf\u001b[39m\u001b[38;5;124m'\u001b[39m\u001b[38;5;124mforeach=True was passed, but can\u001b[39m\u001b[38;5;130;01m\\'\u001b[39;00m\u001b[38;5;124mt use the foreach API on \u001b[39m\u001b[38;5;132;01m{\u001b[39;00mdevice\u001b[38;5;241m.\u001b[39mtype\u001b[38;5;132;01m}\u001b[39;00m\u001b[38;5;124m tensors\u001b[39m\u001b[38;5;124m'\u001b[39m)\n",
      "\u001b[0;31mKeyboardInterrupt\u001b[0m: "
     ]
    }
   ],
   "source": [
    "c"
   ]
  },
  {
   "cell_type": "code",
   "execution_count": 874,
   "id": "f906f5db",
   "metadata": {},
   "outputs": [
    {
     "name": "stderr",
     "output_type": "stream",
     "text": [
      "Processing Batches: 100%|██████████| 883/883 [15:11<00:00,  1.03s/it]\n"
     ]
    }
   ],
   "source": [
    "import torch\n",
    "from tqdm import tqdm\n",
    "\n",
    "batch_size = 4\n",
    "test_loader = DataLoader(test_graph, batch_size=batch_size, shuffle=True, pin_memory=True)\n",
    "model.eval()\n",
    "device = 'cuda:3'\n",
    "model.to(device)\n",
    "\n",
    "cell_type = []\n",
    "test_barcodes = []\n",
    "cell_link_atten = []\n",
    "cell_link_activity = []\n",
    "cell_link_edge = []\n",
    "cell_link_enhancer = []\n",
    "\n",
    "with torch.no_grad():\n",
    "    for idx, sample in tqdm(enumerate(test_loader), total=len(test_loader), desc=\"Processing Batches\"):\n",
    "        gene_num = sample.y_exp.shape[0]\n",
    "        gene_pre, atten, _ = model(\n",
    "            sample.seq_data.to(device),\n",
    "            sample.x.to(device), \n",
    "            sample.edge_index.to(device), \n",
    "            sample.edge_tf.T.to(device), \n",
    "            sample.batch.to(device), \n",
    "            gene_num, \n",
    "            sample.id_vec.to(device), \n",
    "            is_test=True\n",
    "        )\n",
    "        sample_size = len(sample.y)\n",
    "        test_barcodes.extend(sample.cell)  # Ensure on CPU\n",
    "        cell_type.extend(sample.y.cpu().numpy())\n",
    "\n",
    "        # Edge processing\n",
    "        edge_temp = model.edge.flatten().to('cpu')\n",
    "        edge_lists = edge_temp.split(edge_temp.size(0) // sample_size)\n",
    "\n",
    "        for edge in edge_lists:\n",
    "            min_val = edge.min()\n",
    "            max_val = edge.max()\n",
    "            normalized_edge = (edge - min_val) / (max_val - min_val + 1e-10)  # Prevent division by zero\n",
    "            cell_link_edge.append(normalized_edge)\n",
    "\n",
    "        # Flatten and process attention data\n",
    "        atten_x_indices = atten[0][1].cpu()\n",
    "        atten_enhancer_indices = atten[0][0].cpu()\n",
    "        flattened_sample_x = sample.x[atten_x_indices].flatten().to('cpu')\n",
    "        flattened_sample_enhancer = sample.x[atten_enhancer_indices].flatten().to('cpu')\n",
    "        atten1_max = atten[1].mean(dim=1).to('cpu')\n",
    "\n",
    "        # Split and collect\n",
    "        for x, enhancer, atten_ in zip(\n",
    "            flattened_sample_x.split(flattened_sample_x.size(0) // sample_size),\n",
    "            flattened_sample_enhancer.split(flattened_sample_enhancer.size(0) // sample_size),\n",
    "            atten1_max.split(atten1_max.size(0) // sample_size)\n",
    "        ):\n",
    "            cell_link_activity.append(x)\n",
    "            cell_link_atten.append(atten_)\n",
    "            cell_link_enhancer.append(enhancer)\n",
    "\n",
    "        # Clear cache\n",
    "        torch.cuda.empty_cache()\n",
    "\n",
    "# Optionally return or further process the collected data\n"
   ]
  },
  {
   "cell_type": "code",
   "execution_count": null,
   "id": "069cf557",
   "metadata": {},
   "outputs": [],
   "source": [
    "cell_link_atten = torch.stack(cell_link_atten)\n",
    "cell_link_edge = torch.stack(cell_link_edge)\n",
    "cell_link_activity = torch.stack(cell_link_activity)\n",
    "cell_link_enhancer = torch.stack(cell_link_enhancer)"
   ]
  },
  {
   "cell_type": "code",
   "execution_count": 877,
   "id": "73a0b79c",
   "metadata": {},
   "outputs": [
    {
     "name": "stdout",
     "output_type": "stream",
     "text": [
      "模型和数据已保存为 model_and_data.pt\n"
     ]
    }
   ],
   "source": [
    "import torch\n",
    "\n",
    "\n",
    "\n",
    "\n",
    "torch.save({\n",
    "    'model_state_dict': model.state_dict(),\n",
    "    'cell_link_atten': cell_link_atten,\n",
    "    'cell_link_edge': cell_link_edge,\n",
    "    'cell_link_activity': cell_link_activity,\n",
    "    'cell_link_enhancer': cell_link_enhancer\n",
    "}, 'model_and_data.pt')\n",
    "\n",
    "print(\"模型和数据已保存为 model_and_data.pt\")\n"
   ]
  },
  {
   "cell_type": "code",
   "execution_count": null,
   "id": "2d0fd7c2",
   "metadata": {},
   "outputs": [],
   "source": [
    "torch.sum(cell_link_atten[0] == 0)"
   ]
  },
  {
   "cell_type": "code",
   "execution_count": 805,
   "id": "148907e4",
   "metadata": {},
   "outputs": [
    {
     "data": {
      "image/png": "[encoded data removed]",
      "text/plain": [
       "<Figure size 800x600 with 1 Axes>"
      ]
     },
     "metadata": {},
     "output_type": "display_data"
    }
   ],
   "source": [
    "import torch\n",
    "import matplotlib.pyplot as plt\n",
    "\n",
    "\n",
    "# 将 tensor 转换为 numpy 数组以用于绘图\n",
    "# edge_temp_np = atten[1][:, 0].cpu().detach().numpy()\n",
    "edge_temp_np = model.edge.cpu().detach().numpy()\n",
    "\n",
    "# 绘制分布图\n",
    "plt.figure(figsize=(8, 6))\n",
    "plt.hist(edge_temp_np, bins=300, alpha=0.7, color='blue')\n",
    "plt.title('Distribution of edge_temp')\n",
    "plt.xlabel('Value')\n",
    "plt.ylabel('Frequency')\n",
    "plt.grid(True, linestyle='--', alpha=0.5)\n",
    "plt.show()\n"
   ]
  },
  {
   "cell_type": "code",
   "execution_count": 767,
   "id": "9dc2a1bb",
   "metadata": {},
   "outputs": [
    {
     "data": {
      "text/plain": [
       "torch.Size([285709])"
      ]
     },
     "execution_count": 767,
     "metadata": {},
     "output_type": "execute_result"
    }
   ],
   "source": [
    "atten.shape"
   ]
  },
  {
   "cell_type": "code",
   "execution_count": null,
   "id": "f2f1cb08",
   "metadata": {},
   "outputs": [],
   "source": []
  },
  {
   "cell_type": "code",
   "execution_count": null,
   "id": "a21f373a",
   "metadata": {},
   "outputs": [],
   "source": []
  },
  {
   "cell_type": "code",
   "execution_count": 425,
   "id": "e96d9b8a",
   "metadata": {},
   "outputs": [],
   "source": [
    "cell_link_enhancer = torch.stack(cell_link_enhancer)"
   ]
  },
  {
   "cell_type": "code",
   "execution_count": 806,
   "id": "f487ab79",
   "metadata": {},
   "outputs": [],
   "source": [
    "cell_link_atten = torch.stack(cell_link_atten)\n",
    "cell_link_edge = torch.stack(cell_link_edge)\n",
    "cell_link_activity = torch.stack(cell_link_activity)\n",
    "cell_link_enhancer = torch.stack(cell_link_enhancer)"
   ]
  },
  {
   "cell_type": "code",
   "execution_count": 835,
   "id": "48272b9d",
   "metadata": {},
   "outputs": [
    {
     "data": {
      "text/plain": [
       "array([[0., 0., 0., ..., 0., 0., 0.],\n",
       "       [0., 0., 0., ..., 0., 0., 0.],\n",
       "       [0., 0., 0., ..., 0., 0., 0.],\n",
       "       ...,\n",
       "       [0., 0., 0., ..., 0., 0., 0.],\n",
       "       [0., 0., 0., ..., 0., 0., 0.],\n",
       "       [0., 0., 0., ..., 0., 0., 0.]], dtype=float32)"
      ]
     },
     "execution_count": 835,
     "metadata": {},
     "output_type": "execute_result"
    }
   ],
   "source": [
    " cell_link_edge.cpu().numpy()"
   ]
  },
  {
   "cell_type": "code",
   "execution_count": 834,
   "id": "76632769",
   "metadata": {},
   "outputs": [
    {
     "name": "stdout",
     "output_type": "stream",
     "text": [
      "[[0. 0. 0. ... 0. 0. 0.]\n",
      " [0. 0. 0. ... 0. 0. 0.]\n",
      " [0. 0. 0. ... 0. 0. 0.]\n",
      " ...\n",
      " [0. 0. 0. ... 0. 0. 0.]\n",
      " [0. 0. 0. ... 0. 0. 0.]\n",
      " [0. 0. 0. ... 0. 0. 0.]]\n"
     ]
    },
    {
     "name": "stderr",
     "output_type": "stream",
     "text": [
      " UserWarning:/root/anaconda3/envs/HT2VEC/lib/python3.8/site-packages/scanpy/preprocessing/_highly_variable_genes.py:279: `n_top_genes` > number of normalized dispersions, returning all genes with normalized dispersions.\n"
     ]
    },
    {
     "ename": "IndexError",
     "evalue": "index -1 is out of bounds for axis 0 with size 0",
     "output_type": "error",
     "traceback": [
      "\u001b[0;31m---------------------------------------------------------------------------\u001b[0m",
      "\u001b[0;31mIndexError\u001b[0m                                Traceback (most recent call last)",
      "Input \u001b[0;32mIn [834]\u001b[0m, in \u001b[0;36m<cell line: 16>\u001b[0;34m()\u001b[0m\n\u001b[1;32m     13\u001b[0m adata_edge \u001b[38;5;241m=\u001b[39m ad\u001b[38;5;241m.\u001b[39mAnnData(\n\u001b[1;32m     14\u001b[0m     X\u001b[38;5;241m=\u001b[39mdata_np, obs\u001b[38;5;241m=\u001b[39mdataset_atac\u001b[38;5;241m.\u001b[39madata\u001b[38;5;241m.\u001b[39mobs\u001b[38;5;241m.\u001b[39mloc[test_barcodes])\n\u001b[1;32m     15\u001b[0m adata \u001b[38;5;241m=\u001b[39m adata_edge\n\u001b[0;32m---> 16\u001b[0m \u001b[43msc\u001b[49m\u001b[38;5;241;43m.\u001b[39;49m\u001b[43mpp\u001b[49m\u001b[38;5;241;43m.\u001b[39;49m\u001b[43mhighly_variable_genes\u001b[49m\u001b[43m(\u001b[49m\u001b[43madata\u001b[49m\u001b[43m,\u001b[49m\u001b[43m \u001b[49m\u001b[43mn_top_genes\u001b[49m\u001b[38;5;241;43m=\u001b[39;49m\u001b[38;5;241;43m10000\u001b[39;49m\u001b[43m,\u001b[49m\u001b[43m \u001b[49m\u001b[43mflavor\u001b[49m\u001b[38;5;241;43m=\u001b[39;49m\u001b[38;5;124;43m'\u001b[39;49m\u001b[38;5;124;43mseurat\u001b[39;49m\u001b[38;5;124;43m'\u001b[39;49m\u001b[43m)\u001b[49m\n\u001b[1;32m     17\u001b[0m adata \u001b[38;5;241m=\u001b[39m adata[:, adata\u001b[38;5;241m.\u001b[39mvar\u001b[38;5;241m.\u001b[39mhighly_variable]\n\u001b[1;32m     18\u001b[0m sc\u001b[38;5;241m.\u001b[39mpp\u001b[38;5;241m.\u001b[39mscale(adata, max_value\u001b[38;5;241m=\u001b[39m\u001b[38;5;241m10\u001b[39m)\n",
      "File \u001b[0;32m~/anaconda3/envs/HT2VEC/lib/python3.8/site-packages/scanpy/preprocessing/_highly_variable_genes.py:453\u001b[0m, in \u001b[0;36mhighly_variable_genes\u001b[0;34m(adata, layer, n_top_genes, min_disp, max_disp, min_mean, max_mean, span, n_bins, flavor, subset, inplace, batch_key, check_values)\u001b[0m\n\u001b[1;32m    441\u001b[0m     \u001b[38;5;28;01mreturn\u001b[39;00m _highly_variable_genes_seurat_v3(\n\u001b[1;32m    442\u001b[0m         adata,\n\u001b[1;32m    443\u001b[0m         layer\u001b[38;5;241m=\u001b[39mlayer,\n\u001b[0;32m   (...)\u001b[0m\n\u001b[1;32m    449\u001b[0m         inplace\u001b[38;5;241m=\u001b[39minplace,\n\u001b[1;32m    450\u001b[0m     )\n\u001b[1;32m    452\u001b[0m \u001b[38;5;28;01mif\u001b[39;00m batch_key \u001b[38;5;129;01mis\u001b[39;00m \u001b[38;5;28;01mNone\u001b[39;00m:\n\u001b[0;32m--> 453\u001b[0m     df \u001b[38;5;241m=\u001b[39m \u001b[43m_highly_variable_genes_single_batch\u001b[49m\u001b[43m(\u001b[49m\n\u001b[1;32m    454\u001b[0m \u001b[43m        \u001b[49m\u001b[43madata\u001b[49m\u001b[43m,\u001b[49m\n\u001b[1;32m    455\u001b[0m \u001b[43m        \u001b[49m\u001b[43mlayer\u001b[49m\u001b[38;5;241;43m=\u001b[39;49m\u001b[43mlayer\u001b[49m\u001b[43m,\u001b[49m\n\u001b[1;32m    456\u001b[0m \u001b[43m        \u001b[49m\u001b[43mmin_disp\u001b[49m\u001b[38;5;241;43m=\u001b[39;49m\u001b[43mmin_disp\u001b[49m\u001b[43m,\u001b[49m\n\u001b[1;32m    457\u001b[0m \u001b[43m        \u001b[49m\u001b[43mmax_disp\u001b[49m\u001b[38;5;241;43m=\u001b[39;49m\u001b[43mmax_disp\u001b[49m\u001b[43m,\u001b[49m\n\u001b[1;32m    458\u001b[0m \u001b[43m        \u001b[49m\u001b[43mmin_mean\u001b[49m\u001b[38;5;241;43m=\u001b[39;49m\u001b[43mmin_mean\u001b[49m\u001b[43m,\u001b[49m\n\u001b[1;32m    459\u001b[0m \u001b[43m        \u001b[49m\u001b[43mmax_mean\u001b[49m\u001b[38;5;241;43m=\u001b[39;49m\u001b[43mmax_mean\u001b[49m\u001b[43m,\u001b[49m\n\u001b[1;32m    460\u001b[0m \u001b[43m        \u001b[49m\u001b[43mn_top_genes\u001b[49m\u001b[38;5;241;43m=\u001b[39;49m\u001b[43mn_top_genes\u001b[49m\u001b[43m,\u001b[49m\n\u001b[1;32m    461\u001b[0m \u001b[43m        \u001b[49m\u001b[43mn_bins\u001b[49m\u001b[38;5;241;43m=\u001b[39;49m\u001b[43mn_bins\u001b[49m\u001b[43m,\u001b[49m\n\u001b[1;32m    462\u001b[0m \u001b[43m        \u001b[49m\u001b[43mflavor\u001b[49m\u001b[38;5;241;43m=\u001b[39;49m\u001b[43mflavor\u001b[49m\u001b[43m,\u001b[49m\n\u001b[1;32m    463\u001b[0m \u001b[43m    \u001b[49m\u001b[43m)\u001b[49m\n\u001b[1;32m    464\u001b[0m \u001b[38;5;28;01melse\u001b[39;00m:\n\u001b[1;32m    465\u001b[0m     sanitize_anndata(adata)\n",
      "File \u001b[0;32m~/anaconda3/envs/HT2VEC/lib/python3.8/site-packages/scanpy/preprocessing/_highly_variable_genes.py:284\u001b[0m, in \u001b[0;36m_highly_variable_genes_single_batch\u001b[0;34m(adata, layer, min_disp, max_disp, min_mean, max_mean, n_top_genes, n_bins, flavor)\u001b[0m\n\u001b[1;32m    279\u001b[0m     warnings\u001b[38;5;241m.\u001b[39mwarn(\n\u001b[1;32m    280\u001b[0m         \u001b[38;5;124m\"\u001b[39m\u001b[38;5;124m`n_top_genes` > number of normalized dispersions, returning all genes with normalized dispersions.\u001b[39m\u001b[38;5;124m\"\u001b[39m,\n\u001b[1;32m    281\u001b[0m         \u001b[38;5;167;01mUserWarning\u001b[39;00m,\n\u001b[1;32m    282\u001b[0m     )\n\u001b[1;32m    283\u001b[0m     n_top_genes \u001b[38;5;241m=\u001b[39m dispersion_norm\u001b[38;5;241m.\u001b[39msize\n\u001b[0;32m--> 284\u001b[0m disp_cut_off \u001b[38;5;241m=\u001b[39m \u001b[43mdispersion_norm\u001b[49m\u001b[43m[\u001b[49m\u001b[43mn_top_genes\u001b[49m\u001b[43m \u001b[49m\u001b[38;5;241;43m-\u001b[39;49m\u001b[43m \u001b[49m\u001b[38;5;241;43m1\u001b[39;49m\u001b[43m]\u001b[49m\n\u001b[1;32m    285\u001b[0m gene_subset \u001b[38;5;241m=\u001b[39m np\u001b[38;5;241m.\u001b[39mnan_to_num(df[\u001b[38;5;124m\"\u001b[39m\u001b[38;5;124mdispersions_norm\u001b[39m\u001b[38;5;124m\"\u001b[39m]\u001b[38;5;241m.\u001b[39mvalues) \u001b[38;5;241m>\u001b[39m\u001b[38;5;241m=\u001b[39m disp_cut_off\n\u001b[1;32m    286\u001b[0m logg\u001b[38;5;241m.\u001b[39mdebug(\n\u001b[1;32m    287\u001b[0m     \u001b[38;5;124mf\u001b[39m\u001b[38;5;124m\"\u001b[39m\u001b[38;5;124mthe \u001b[39m\u001b[38;5;132;01m{\u001b[39;00mn_top_genes\u001b[38;5;132;01m}\u001b[39;00m\u001b[38;5;124m top genes correspond to a \u001b[39m\u001b[38;5;124m\"\u001b[39m\n\u001b[1;32m    288\u001b[0m     \u001b[38;5;124mf\u001b[39m\u001b[38;5;124m\"\u001b[39m\u001b[38;5;124mnormalized dispersion cutoff of \u001b[39m\u001b[38;5;132;01m{\u001b[39;00mdisp_cut_off\u001b[38;5;132;01m}\u001b[39;00m\u001b[38;5;124m\"\u001b[39m\n\u001b[1;32m    289\u001b[0m )\n",
      "\u001b[0;31mIndexError\u001b[0m: index -1 is out of bounds for axis 0 with size 0"
     ]
    }
   ],
   "source": [
    "import numpy as np\n",
    "\n",
    "# Assuming cell_link_edge is a torch tensor\n",
    "data_np = cell_link_edge.cpu().numpy()\n",
    "\n",
    "# Set values < 0.6 to 0\n",
    "data_np[data_np < 0.5] = 0\n",
    "\n",
    "print(data_np)\n",
    "\n",
    "\n",
    "import numpy as np\n",
    "adata_edge = ad.AnnData(\n",
    "    X=data_np, obs=dataset_atac.adata.obs.loc[test_barcodes])\n",
    "adata = adata_edge\n",
    "sc.pp.highly_variable_genes(adata, n_top_genes=10000, flavor='seurat')\n",
    "adata = adata[:, adata.var.highly_variable]\n",
    "sc.pp.scale(adata, max_value=10)\n",
    "sc.tl.pca(adata, svd_solver='arpack', n_comps=20)\n",
    "sc.pp.neighbors(adata, n_neighbors=15, n_pcs=20, metric=\"cosine\")\n",
    "sc.tl.umap(adata, min_dist=0.5)\n",
    "sc.pl.umap(adata, color=['celltype'], wspace=0.4,frameon=False)"
   ]
  },
  {
   "cell_type": "code",
   "execution_count": 816,
   "id": "3a1914cc",
   "metadata": {},
   "outputs": [
    {
     "data": {
      "text/plain": [
       "array([[0.       , 0.       , 0.       , ..., 0.       , 0.       ,\n",
       "        0.       ],\n",
       "       [0.       , 0.       , 0.       , ..., 0.       , 0.       ,\n",
       "        1.7569476],\n",
       "       [0.       , 0.       , 0.       , ..., 0.       , 0.       ,\n",
       "        0.9313355],\n",
       "       ...,\n",
       "       [0.       , 0.       , 0.       , ..., 0.       , 0.       ,\n",
       "        0.       ],\n",
       "       [0.       , 0.       , 0.       , ..., 0.       , 0.       ,\n",
       "        0.       ],\n",
       "       [0.       , 0.       , 0.       , ..., 0.       , 0.       ,\n",
       "        0.       ]], dtype=float32)"
      ]
     },
     "execution_count": 816,
     "metadata": {},
     "output_type": "execute_result"
    }
   ],
   "source": [
    "cell_link_enhancer.cpu().numpy()"
   ]
  },
  {
   "cell_type": "code",
   "execution_count": null,
   "id": "2081a9e3",
   "metadata": {},
   "outputs": [],
   "source": [
    "dataset_atac.adata.obs"
   ]
  },
  {
   "cell_type": "code",
   "execution_count": 881,
   "id": "1d25ff16",
   "metadata": {},
   "outputs": [
    {
     "name": "stderr",
     "output_type": "stream",
     "text": [
      " UserWarning:/root/anaconda3/envs/HT2VEC/lib/python3.8/site-packages/scanpy/preprocessing/_simple.py:843: Received a view of an AnnData. Making a copy.\n",
      " UserWarning:/root/anaconda3/envs/HT2VEC/lib/python3.8/site-packages/scanpy/plotting/_tools/scatterplots.py:394: No data for colormapping provided via 'c'. Parameters 'cmap' will be ignored\n"
     ]
    },
    {
     "data": {
      "image/png": "[encoded data removed]",
      "text/plain": [
       "<Figure size 640x480 with 1 Axes>"
      ]
     },
     "metadata": {},
     "output_type": "display_data"
    }
   ],
   "source": [
    "data_np = cell.cpu().numpy() \n",
    "import numpy as np\n",
    "adata_edge = ad.AnnData(\n",
    "    X=data_np, obs=dataset_atac.adata.obs.loc[test_barcodes])\n",
    "adata = adata_edge\n",
    "sc.pp.highly_variable_genes(adata, n_top_genes=10000, flavor='seurat')\n",
    "adata = adata[:, adata.var.highly_variable]\n",
    "sc.pp.scale(adata, max_value=10)\n",
    "sc.tl.pca(adata, svd_solver='arpack', n_comps=20)\n",
    "sc.pp.neighbors(adata, n_neighbors=15, n_pcs=20, metric=\"cosine\")\n",
    "sc.tl.umap(adata, min_dist=0.5)\n",
    "sc.pl.umap(adata, color=['celltype'], wspace=0.4,frameon=False)"
   ]
  },
  {
   "cell_type": "code",
   "execution_count": 15,
   "id": "e0f4d849",
   "metadata": {},
   "outputs": [],
   "source": [
    "cell_link_atten = data['cell_link_atten']"
   ]
  },
  {
   "cell_type": "code",
   "execution_count": 16,
   "id": "18122bd7",
   "metadata": {},
   "outputs": [
    {
     "name": "stderr",
     "output_type": "stream",
     "text": [
      " UserWarning:/root/anaconda3/envs/HT2VEC/lib/python3.8/site-packages/scanpy/preprocessing/_simple.py:843: Received a view of an AnnData. Making a copy.\n",
      " UserWarning:/root/anaconda3/envs/HT2VEC/lib/python3.8/site-packages/scanpy/plotting/_tools/scatterplots.py:394: No data for colormapping provided via 'c'. Parameters 'cmap' will be ignored\n"
     ]
    },
    {
     "data": {
      "image/png": "[encoded data removed]",
      "text/plain": [
       "<Figure size 640x480 with 1 Axes>"
      ]
     },
     "metadata": {},
     "output_type": "display_data"
    }
   ],
   "source": [
    "data_np = cell_link_atten.cpu().numpy()\n",
    "\n",
    "import numpy as np\n",
    "adata_edge = ad.AnnData(\n",
    "    X=data_np, obs=dataset_atac.adata.obs.loc[test_barcodes])\n",
    "adata = adata_edge\n",
    "sc.pp.highly_variable_genes(adata, n_top_genes=10000, flavor='seurat')\n",
    "adata = adata[:, adata.var.highly_variable]\n",
    "sc.pp.scale(adata, max_value=10)\n",
    "sc.tl.pca(adata, svd_solver='arpack', n_comps=20)\n",
    "sc.pp.neighbors(adata, n_neighbors=15, n_pcs=20, metric=\"cosine\")\n",
    "sc.tl.umap(adata, min_dist=0.5)\n",
    "sc.pl.umap(adata, color=['celltype'], wspace=0.4,frameon=False)"
   ]
  },
  {
   "cell_type": "code",
   "execution_count": null,
   "id": "cfd9addf",
   "metadata": {},
   "outputs": [],
   "source": []
  },
  {
   "cell_type": "code",
   "execution_count": null,
   "id": "a06d5d26",
   "metadata": {},
   "outputs": [],
   "source": []
  },
  {
   "cell_type": "code",
   "execution_count": null,
   "id": "38f549b5",
   "metadata": {},
   "outputs": [],
   "source": []
  },
  {
   "cell_type": "code",
   "execution_count": null,
   "id": "7f96f64c",
   "metadata": {},
   "outputs": [],
   "source": []
  },
  {
   "cell_type": "code",
   "execution_count": null,
   "id": "caf52885",
   "metadata": {},
   "outputs": [],
   "source": []
  },
  {
   "cell_type": "code",
   "execution_count": null,
   "id": "c3779e99",
   "metadata": {},
   "outputs": [],
   "source": []
  },
  {
   "cell_type": "code",
   "execution_count": 802,
   "id": "56857764",
   "metadata": {},
   "outputs": [
    {
     "ename": "ValueError",
     "evalue": "Observations annot. `obs` must have number of rows of `X` (448), but has 280 rows.",
     "output_type": "error",
     "traceback": [
      "\u001b[0;31m---------------------------------------------------------------------------\u001b[0m",
      "\u001b[0;31mValueError\u001b[0m                                Traceback (most recent call last)",
      "Input \u001b[0;32mIn [802]\u001b[0m, in \u001b[0;36m<cell line: 6>\u001b[0;34m()\u001b[0m\n\u001b[1;32m      4\u001b[0m data_np \u001b[38;5;241m=\u001b[39m cell_link_atten\u001b[38;5;241m.\u001b[39mcpu()\u001b[38;5;241m.\u001b[39mnumpy()\n\u001b[1;32m      5\u001b[0m \u001b[38;5;28;01mimport\u001b[39;00m \u001b[38;5;21;01mnumpy\u001b[39;00m \u001b[38;5;28;01mas\u001b[39;00m \u001b[38;5;21;01mnp\u001b[39;00m\n\u001b[0;32m----> 6\u001b[0m adata_edge \u001b[38;5;241m=\u001b[39m \u001b[43mad\u001b[49m\u001b[38;5;241;43m.\u001b[39;49m\u001b[43mAnnData\u001b[49m\u001b[43m(\u001b[49m\n\u001b[1;32m      7\u001b[0m \u001b[43m    \u001b[49m\u001b[43mX\u001b[49m\u001b[38;5;241;43m=\u001b[39;49m\u001b[43mcombined\u001b[49m\u001b[43m,\u001b[49m\u001b[43m \u001b[49m\u001b[43mobs\u001b[49m\u001b[38;5;241;43m=\u001b[39;49m\u001b[43mdataset_atac\u001b[49m\u001b[38;5;241;43m.\u001b[39;49m\u001b[43madata\u001b[49m\u001b[38;5;241;43m.\u001b[39;49m\u001b[43mobs\u001b[49m\u001b[38;5;241;43m.\u001b[39;49m\u001b[43mloc\u001b[49m\u001b[43m[\u001b[49m\u001b[43mtest_barcodes\u001b[49m\u001b[43m]\u001b[49m\u001b[43m)\u001b[49m\n\u001b[1;32m      8\u001b[0m adata \u001b[38;5;241m=\u001b[39m adata_edge\n\u001b[1;32m      9\u001b[0m sc\u001b[38;5;241m.\u001b[39mpp\u001b[38;5;241m.\u001b[39mhighly_variable_genes(adata, n_top_genes\u001b[38;5;241m=\u001b[39m\u001b[38;5;241m10000\u001b[39m, flavor\u001b[38;5;241m=\u001b[39m\u001b[38;5;124m'\u001b[39m\u001b[38;5;124mseurat\u001b[39m\u001b[38;5;124m'\u001b[39m)\n",
      "File \u001b[0;32m~/anaconda3/envs/HT2VEC/lib/python3.8/site-packages/anndata/_core/anndata.py:291\u001b[0m, in \u001b[0;36mAnnData.__init__\u001b[0;34m(self, X, obs, var, uns, obsm, varm, layers, raw, dtype, shape, filename, filemode, asview, obsp, varp, oidx, vidx)\u001b[0m\n\u001b[1;32m    289\u001b[0m     \u001b[38;5;28mself\u001b[39m\u001b[38;5;241m.\u001b[39m_init_as_view(X, oidx, vidx)\n\u001b[1;32m    290\u001b[0m \u001b[38;5;28;01melse\u001b[39;00m:\n\u001b[0;32m--> 291\u001b[0m     \u001b[38;5;28;43mself\u001b[39;49m\u001b[38;5;241;43m.\u001b[39;49m\u001b[43m_init_as_actual\u001b[49m\u001b[43m(\u001b[49m\n\u001b[1;32m    292\u001b[0m \u001b[43m        \u001b[49m\u001b[43mX\u001b[49m\u001b[38;5;241;43m=\u001b[39;49m\u001b[43mX\u001b[49m\u001b[43m,\u001b[49m\n\u001b[1;32m    293\u001b[0m \u001b[43m        \u001b[49m\u001b[43mobs\u001b[49m\u001b[38;5;241;43m=\u001b[39;49m\u001b[43mobs\u001b[49m\u001b[43m,\u001b[49m\n\u001b[1;32m    294\u001b[0m \u001b[43m        \u001b[49m\u001b[43mvar\u001b[49m\u001b[38;5;241;43m=\u001b[39;49m\u001b[43mvar\u001b[49m\u001b[43m,\u001b[49m\n\u001b[1;32m    295\u001b[0m \u001b[43m        \u001b[49m\u001b[43muns\u001b[49m\u001b[38;5;241;43m=\u001b[39;49m\u001b[43muns\u001b[49m\u001b[43m,\u001b[49m\n\u001b[1;32m    296\u001b[0m \u001b[43m        \u001b[49m\u001b[43mobsm\u001b[49m\u001b[38;5;241;43m=\u001b[39;49m\u001b[43mobsm\u001b[49m\u001b[43m,\u001b[49m\n\u001b[1;32m    297\u001b[0m \u001b[43m        \u001b[49m\u001b[43mvarm\u001b[49m\u001b[38;5;241;43m=\u001b[39;49m\u001b[43mvarm\u001b[49m\u001b[43m,\u001b[49m\n\u001b[1;32m    298\u001b[0m \u001b[43m        \u001b[49m\u001b[43mraw\u001b[49m\u001b[38;5;241;43m=\u001b[39;49m\u001b[43mraw\u001b[49m\u001b[43m,\u001b[49m\n\u001b[1;32m    299\u001b[0m \u001b[43m        \u001b[49m\u001b[43mlayers\u001b[49m\u001b[38;5;241;43m=\u001b[39;49m\u001b[43mlayers\u001b[49m\u001b[43m,\u001b[49m\n\u001b[1;32m    300\u001b[0m \u001b[43m        \u001b[49m\u001b[43mdtype\u001b[49m\u001b[38;5;241;43m=\u001b[39;49m\u001b[43mdtype\u001b[49m\u001b[43m,\u001b[49m\n\u001b[1;32m    301\u001b[0m \u001b[43m        \u001b[49m\u001b[43mshape\u001b[49m\u001b[38;5;241;43m=\u001b[39;49m\u001b[43mshape\u001b[49m\u001b[43m,\u001b[49m\n\u001b[1;32m    302\u001b[0m \u001b[43m        \u001b[49m\u001b[43mobsp\u001b[49m\u001b[38;5;241;43m=\u001b[39;49m\u001b[43mobsp\u001b[49m\u001b[43m,\u001b[49m\n\u001b[1;32m    303\u001b[0m \u001b[43m        \u001b[49m\u001b[43mvarp\u001b[49m\u001b[38;5;241;43m=\u001b[39;49m\u001b[43mvarp\u001b[49m\u001b[43m,\u001b[49m\n\u001b[1;32m    304\u001b[0m \u001b[43m        \u001b[49m\u001b[43mfilename\u001b[49m\u001b[38;5;241;43m=\u001b[39;49m\u001b[43mfilename\u001b[49m\u001b[43m,\u001b[49m\n\u001b[1;32m    305\u001b[0m \u001b[43m        \u001b[49m\u001b[43mfilemode\u001b[49m\u001b[38;5;241;43m=\u001b[39;49m\u001b[43mfilemode\u001b[49m\u001b[43m,\u001b[49m\n\u001b[1;32m    306\u001b[0m \u001b[43m    \u001b[49m\u001b[43m)\u001b[49m\n",
      "File \u001b[0;32m~/anaconda3/envs/HT2VEC/lib/python3.8/site-packages/anndata/_core/anndata.py:511\u001b[0m, in \u001b[0;36mAnnData._init_as_actual\u001b[0;34m(self, X, obs, var, uns, obsm, varm, varp, obsp, raw, layers, dtype, shape, filename, filemode)\u001b[0m\n\u001b[1;32m    508\u001b[0m \u001b[38;5;66;03m# Backwards compat for connectivities matrices in uns[\"neighbors\"]\u001b[39;00m\n\u001b[1;32m    509\u001b[0m _move_adj_mtx({\u001b[38;5;124m\"\u001b[39m\u001b[38;5;124muns\u001b[39m\u001b[38;5;124m\"\u001b[39m: \u001b[38;5;28mself\u001b[39m\u001b[38;5;241m.\u001b[39m_uns, \u001b[38;5;124m\"\u001b[39m\u001b[38;5;124mobsp\u001b[39m\u001b[38;5;124m\"\u001b[39m: \u001b[38;5;28mself\u001b[39m\u001b[38;5;241m.\u001b[39m_obsp})\n\u001b[0;32m--> 511\u001b[0m \u001b[38;5;28;43mself\u001b[39;49m\u001b[38;5;241;43m.\u001b[39;49m\u001b[43m_check_dimensions\u001b[49m\u001b[43m(\u001b[49m\u001b[43m)\u001b[49m\n\u001b[1;32m    512\u001b[0m \u001b[38;5;28mself\u001b[39m\u001b[38;5;241m.\u001b[39m_check_uniqueness()\n\u001b[1;32m    514\u001b[0m \u001b[38;5;28;01mif\u001b[39;00m \u001b[38;5;28mself\u001b[39m\u001b[38;5;241m.\u001b[39mfilename:\n",
      "File \u001b[0;32m~/anaconda3/envs/HT2VEC/lib/python3.8/site-packages/anndata/_core/anndata.py:1853\u001b[0m, in \u001b[0;36mAnnData._check_dimensions\u001b[0;34m(self, key)\u001b[0m\n\u001b[1;32m   1851\u001b[0m     key \u001b[38;5;241m=\u001b[39m {key}\n\u001b[1;32m   1852\u001b[0m \u001b[38;5;28;01mif\u001b[39;00m \u001b[38;5;124m\"\u001b[39m\u001b[38;5;124mobs\u001b[39m\u001b[38;5;124m\"\u001b[39m \u001b[38;5;129;01min\u001b[39;00m key \u001b[38;5;129;01mand\u001b[39;00m \u001b[38;5;28mlen\u001b[39m(\u001b[38;5;28mself\u001b[39m\u001b[38;5;241m.\u001b[39m_obs) \u001b[38;5;241m!=\u001b[39m \u001b[38;5;28mself\u001b[39m\u001b[38;5;241m.\u001b[39m_n_obs:\n\u001b[0;32m-> 1853\u001b[0m     \u001b[38;5;28;01mraise\u001b[39;00m \u001b[38;5;167;01mValueError\u001b[39;00m(\n\u001b[1;32m   1854\u001b[0m         \u001b[38;5;124m\"\u001b[39m\u001b[38;5;124mObservations annot. `obs` must have number of rows of `X`\u001b[39m\u001b[38;5;124m\"\u001b[39m\n\u001b[1;32m   1855\u001b[0m         \u001b[38;5;124mf\u001b[39m\u001b[38;5;124m\"\u001b[39m\u001b[38;5;124m (\u001b[39m\u001b[38;5;132;01m{\u001b[39;00m\u001b[38;5;28mself\u001b[39m\u001b[38;5;241m.\u001b[39m_n_obs\u001b[38;5;132;01m}\u001b[39;00m\u001b[38;5;124m), but has \u001b[39m\u001b[38;5;132;01m{\u001b[39;00m\u001b[38;5;28mself\u001b[39m\u001b[38;5;241m.\u001b[39m_obs\u001b[38;5;241m.\u001b[39mshape[\u001b[38;5;241m0\u001b[39m]\u001b[38;5;132;01m}\u001b[39;00m\u001b[38;5;124m rows.\u001b[39m\u001b[38;5;124m\"\u001b[39m\n\u001b[1;32m   1856\u001b[0m     )\n\u001b[1;32m   1857\u001b[0m \u001b[38;5;28;01mif\u001b[39;00m \u001b[38;5;124m\"\u001b[39m\u001b[38;5;124mvar\u001b[39m\u001b[38;5;124m\"\u001b[39m \u001b[38;5;129;01min\u001b[39;00m key \u001b[38;5;129;01mand\u001b[39;00m \u001b[38;5;28mlen\u001b[39m(\u001b[38;5;28mself\u001b[39m\u001b[38;5;241m.\u001b[39m_var) \u001b[38;5;241m!=\u001b[39m \u001b[38;5;28mself\u001b[39m\u001b[38;5;241m.\u001b[39m_n_vars:\n\u001b[1;32m   1858\u001b[0m     \u001b[38;5;28;01mraise\u001b[39;00m \u001b[38;5;167;01mValueError\u001b[39;00m(\n\u001b[1;32m   1859\u001b[0m         \u001b[38;5;124m\"\u001b[39m\u001b[38;5;124mVariables annot. `var` must have number of columns of `X`\u001b[39m\u001b[38;5;124m\"\u001b[39m\n\u001b[1;32m   1860\u001b[0m         \u001b[38;5;124mf\u001b[39m\u001b[38;5;124m\"\u001b[39m\u001b[38;5;124m (\u001b[39m\u001b[38;5;132;01m{\u001b[39;00m\u001b[38;5;28mself\u001b[39m\u001b[38;5;241m.\u001b[39m_n_vars\u001b[38;5;132;01m}\u001b[39;00m\u001b[38;5;124m), but has \u001b[39m\u001b[38;5;132;01m{\u001b[39;00m\u001b[38;5;28mself\u001b[39m\u001b[38;5;241m.\u001b[39m_var\u001b[38;5;241m.\u001b[39mshape[\u001b[38;5;241m0\u001b[39m]\u001b[38;5;132;01m}\u001b[39;00m\u001b[38;5;124m rows.\u001b[39m\u001b[38;5;124m\"\u001b[39m\n\u001b[1;32m   1861\u001b[0m     )\n",
      "\u001b[0;31mValueError\u001b[0m: Observations annot. `obs` must have number of rows of `X` (448), but has 280 rows."
     ]
    }
   ],
   "source": [
    "\n",
    "import numpy as np\n",
    "\n",
    "\n",
    "data_np = cell_link_atten.cpu().numpy()\n",
    "import numpy as np\n",
    "adata_edge = ad.AnnData(\n",
    "    X=combined, obs=dataset_atac.adata.obs.loc[test_barcodes])\n",
    "adata = adata_edge\n",
    "sc.pp.highly_variable_genes(adata, n_top_genes=10000, flavor='seurat')\n",
    "adata = adata[:, adata.var.highly_variable]\n",
    "sc.pp.scale(adata, max_value=10)\n",
    "sc.tl.pca(adata, svd_solver='arpack', n_comps=20)\n",
    "sc.pp.neighbors(adata, n_neighbors=15, n_pcs=20, metric=\"cosine\")\n",
    "sc.tl.umap(adata, min_dist=0.5)\n",
    "sc.pl.umap(adata, color=['celltype'], wspace=0.4,frameon=False)"
   ]
  },
  {
   "cell_type": "code",
   "execution_count": 3,
   "id": "01201f86",
   "metadata": {},
   "outputs": [],
   "source": [
    "data = torch.load('./model_and_data.pt')"
   ]
  },
  {
   "cell_type": "code",
   "execution_count": 5,
   "id": "fe02e2ea",
   "metadata": {},
   "outputs": [],
   "source": [
    "cell_link_edge = data['cell_link_edge']"
   ]
  },
  {
   "cell_type": "code",
   "execution_count": 11,
   "id": "8ce0ce87",
   "metadata": {},
   "outputs": [],
   "source": [
    "test_barcodes = pd.read_csv('./edge_ris_row.csv')['0'].values"
   ]
  },
  {
   "cell_type": "code",
   "execution_count": 12,
   "id": "d79be81c",
   "metadata": {},
   "outputs": [
    {
     "ename": "NameError",
     "evalue": "name 'dataset_atac' is not defined",
     "output_type": "error",
     "traceback": [
      "\u001b[0;31m---------------------------------------------------------------------------\u001b[0m",
      "\u001b[0;31mNameError\u001b[0m                                 Traceback (most recent call last)",
      "Input \u001b[0;32mIn [12]\u001b[0m, in \u001b[0;36m<cell line: 4>\u001b[0;34m()\u001b[0m\n\u001b[1;32m      1\u001b[0m data_np \u001b[38;5;241m=\u001b[39m cell_link_edge\u001b[38;5;241m.\u001b[39mcpu()\u001b[38;5;241m.\u001b[39mnumpy()\n\u001b[1;32m      3\u001b[0m \u001b[38;5;28;01mimport\u001b[39;00m \u001b[38;5;21;01mnumpy\u001b[39;00m \u001b[38;5;28;01mas\u001b[39;00m \u001b[38;5;21;01mnp\u001b[39;00m\n\u001b[1;32m      4\u001b[0m adata_edge \u001b[38;5;241m=\u001b[39m ad\u001b[38;5;241m.\u001b[39mAnnData(\n\u001b[0;32m----> 5\u001b[0m     X\u001b[38;5;241m=\u001b[39mdata_np, obs\u001b[38;5;241m=\u001b[39m\u001b[43mdataset_atac\u001b[49m\u001b[38;5;241m.\u001b[39madata\u001b[38;5;241m.\u001b[39mobs\u001b[38;5;241m.\u001b[39mloc[test_barcodes])\n\u001b[1;32m      6\u001b[0m adata \u001b[38;5;241m=\u001b[39m adata_edge\n\u001b[1;32m      7\u001b[0m sc\u001b[38;5;241m.\u001b[39mpp\u001b[38;5;241m.\u001b[39mhighly_variable_genes(adata, n_top_genes\u001b[38;5;241m=\u001b[39m\u001b[38;5;241m10000\u001b[39m, flavor\u001b[38;5;241m=\u001b[39m\u001b[38;5;124m'\u001b[39m\u001b[38;5;124mseurat\u001b[39m\u001b[38;5;124m'\u001b[39m)\n",
      "\u001b[0;31mNameError\u001b[0m: name 'dataset_atac' is not defined"
     ]
    }
   ],
   "source": [
    "data_np = cell_link_edge.cpu().numpy()\n",
    "\n",
    "import numpy as np\n",
    "adata_edge = ad.AnnData(\n",
    "    X=data_np, obs=dataset_atac.adata.obs.loc[test_barcodes])\n",
    "adata = adata_edge\n",
    "sc.pp.highly_variable_genes(adata, n_top_genes=10000, flavor='seurat')\n",
    "adata = adata[:, adata.var.highly_variable]\n",
    "sc.pp.scale(adata, max_value=10)\n",
    "sc.tl.pca(adata, svd_solver='arpack', n_comps=20)\n",
    "sc.pp.neighbors(adata, n_neighbors=15, n_pcs=20, metric=\"cosine\")\n",
    "sc.tl.umap(adata, min_dist=0.5)\n",
    "sc.pl.umap(adata, color=['celltype'], wspace=0.4,frameon=False)"
   ]
  },
  {
   "cell_type": "code",
   "execution_count": null,
   "id": "800799da",
   "metadata": {},
   "outputs": [],
   "source": []
  },
  {
   "cell_type": "code",
   "execution_count": null,
   "id": "3aa9f48f",
   "metadata": {},
   "outputs": [],
   "source": []
  },
  {
   "cell_type": "code",
   "execution_count": 189,
   "id": "633cf3b1",
   "metadata": {},
   "outputs": [
    {
     "data": {
      "text/plain": [
       "tensor(0.)"
      ]
     },
     "execution_count": 189,
     "metadata": {},
     "output_type": "execute_result"
    }
   ],
   "source": [
    "torch.max(cell_link_edge[0])"
   ]
  },
  {
   "cell_type": "code",
   "execution_count": 125,
   "id": "3cd079d4",
   "metadata": {},
   "outputs": [],
   "source": [
    "torch.save(cell_link_enhancer, 'cell_link_enhancer.pt')"
   ]
  },
  {
   "cell_type": "code",
   "execution_count": 123,
   "id": "e0a81358",
   "metadata": {},
   "outputs": [],
   "source": [
    "torch.save(cell_link_atten, 'cell_link_atten.pt')"
   ]
  },
  {
   "cell_type": "code",
   "execution_count": 7,
   "id": "df7eb574",
   "metadata": {},
   "outputs": [],
   "source": [
    "import pandas as pd"
   ]
  },
  {
   "cell_type": "code",
   "execution_count": 24,
   "id": "d080f351",
   "metadata": {},
   "outputs": [],
   "source": [
    "atten = [[]]"
   ]
  },
  {
   "cell_type": "code",
   "execution_count": 25,
   "id": "a0470ff6",
   "metadata": {},
   "outputs": [],
   "source": [
    " atten[0] =dataset_graph[0].edge_index"
   ]
  },
  {
   "cell_type": "code",
   "execution_count": 18,
   "id": "5ee2ffe4",
   "metadata": {},
   "outputs": [],
   "source": [
    "cpc_loop_df = pd.read_csv('./CPC_loops_overlap.csv', index_col=0)"
   ]
  },
  {
   "cell_type": "code",
   "execution_count": 19,
   "id": "e7519841",
   "metadata": {},
   "outputs": [],
   "source": [
    "insoveled_genes = pd.read_csv('./select_gene.txt')"
   ]
  },
  {
   "cell_type": "code",
   "execution_count": 20,
   "id": "967522ab",
   "metadata": {},
   "outputs": [],
   "source": [
    "insoveled_genes = insoveled_genes[insoveled_genes['cluster']  == 'T_Epithelial']['gene'].values"
   ]
  },
  {
   "cell_type": "code",
   "execution_count": 21,
   "id": "48963784",
   "metadata": {},
   "outputs": [],
   "source": [
    "cpc_loop_df = cpc_loop_df[cpc_loop_df['Interaction Gene'].isin(insoveled_genes)]"
   ]
  },
  {
   "cell_type": "code",
   "execution_count": 22,
   "id": "9aa2ca24",
   "metadata": {},
   "outputs": [
    {
     "data": {
      "text/plain": [
       "array(['KIF1B-chr1-10398082-10398582', 'KIF1B-chr1-10398711-10399211',\n",
       "       'KIF1B-chr1-10399311-10399811', ...,\n",
       "       'RNF128-chrX-106042332-106042832',\n",
       "       'GABRE-chrX-151359989-151360489',\n",
       "       'BCAP31-chrX-153539405-153539905'], dtype=object)"
      ]
     },
     "execution_count": 22,
     "metadata": {},
     "output_type": "execute_result"
    }
   ],
   "source": [
    "cpc_loop_df['Gene_Chrom_Start_End'].values"
   ]
  },
  {
   "cell_type": "code",
   "execution_count": 23,
   "id": "8a38d993",
   "metadata": {},
   "outputs": [
    {
     "name": "stdout",
     "output_type": "stream",
     "text": [
      "                   Gene                     Location\n",
      "1 \"('A2M'      1 \"('A2M     chr12-8709390-8709890')\"\n",
      "2 \"('A2M'      2 \"('A2M     chr12-8709390-8709890')\"\n",
      "3 \"('ABCA1'  3 \"('ABCA1  chr9-107918652-107919152')\"\n",
      "4 \"('ABCA1'  4 \"('ABCA1  chr9-107929677-107930177')\"\n",
      "5 \"('ABCA1'  5 \"('ABCA1  chr9-107999805-108000305')\"\n"
     ]
    },
    {
     "data": {
      "text/html": [
       "<div>\n",
       "<style scoped>\n",
       "    .dataframe tbody tr th:only-of-type {\n",
       "        vertical-align: middle;\n",
       "    }\n",
       "\n",
       "    .dataframe tbody tr th {\n",
       "        vertical-align: top;\n",
       "    }\n",
       "\n",
       "    .dataframe thead th {\n",
       "        text-align: right;\n",
       "    }\n",
       "</style>\n",
       "<table border=\"1\" class=\"dataframe\">\n",
       "  <thead>\n",
       "    <tr style=\"text-align: right;\">\n",
       "      <th></th>\n",
       "      <th>gene</th>\n",
       "      <th>peak</th>\n",
       "    </tr>\n",
       "  </thead>\n",
       "  <tbody>\n",
       "    <tr>\n",
       "      <th>0</th>\n",
       "      <td>A2M</td>\n",
       "      <td>chr12-8709390-8709890</td>\n",
       "    </tr>\n",
       "    <tr>\n",
       "      <th>1</th>\n",
       "      <td>A2M</td>\n",
       "      <td>chr12-8709390-8709890</td>\n",
       "    </tr>\n",
       "    <tr>\n",
       "      <th>2</th>\n",
       "      <td>ABCA1</td>\n",
       "      <td>chr9-107918652-107919152</td>\n",
       "    </tr>\n",
       "    <tr>\n",
       "      <th>3</th>\n",
       "      <td>ABCA1</td>\n",
       "      <td>chr9-107929677-107930177</td>\n",
       "    </tr>\n",
       "    <tr>\n",
       "      <th>4</th>\n",
       "      <td>ABCA1</td>\n",
       "      <td>chr9-107999805-108000305</td>\n",
       "    </tr>\n",
       "  </tbody>\n",
       "</table>\n",
       "</div>"
      ],
      "text/plain": [
       "    gene                      peak\n",
       "0    A2M     chr12-8709390-8709890\n",
       "1    A2M     chr12-8709390-8709890\n",
       "2  ABCA1  chr9-107918652-107919152\n",
       "3  ABCA1  chr9-107929677-107930177\n",
       "4  ABCA1  chr9-107999805-108000305"
      ]
     },
     "execution_count": 23,
     "metadata": {},
     "output_type": "execute_result"
    }
   ],
   "source": [
    "temp_df = pd.read_csv('../test_fast//intersect_CRC_cellline_link.txt')\n",
    "\n",
    "# Define a function to clean up the gene and chromosome location\n",
    "def clean_location(entry):\n",
    "    # Remove any unwanted characters\n",
    "    return entry.strip(\"')\")\n",
    "\n",
    "# Clean the index and data\n",
    "temp_df['Gene'] = temp_df.index.str.strip(\"('\")\n",
    "temp_df['Location'] = temp_df['x'].apply(clean_location)\n",
    "\n",
    "# Drop the original 'x' column\n",
    "temp_df = temp_df.drop(columns=['x'])\n",
    "\n",
    "# Display the cleaned DataFrame\n",
    "print(temp_df.head())\n",
    "gene_list = [t.split('\\'')[-1] for t in temp_df['Gene'].values]\n",
    "peak_list = [t.split('\\'')[0] for t in temp_df['Location'].values]\n",
    "df = pd.DataFrame({'gene':gene_list, 'peak':peak_list})\n",
    "df.head()"
   ]
  },
  {
   "cell_type": "code",
   "execution_count": 28,
   "id": "f884e53c",
   "metadata": {},
   "outputs": [
    {
     "data": {
      "text/plain": [
       "0            ('CCNL2','chr1-1397443-1397943')\n",
       "1            ('CCNL2','chr1-1398100-1398600')\n",
       "2            ('CCNL2','chr1-1398689-1399189')\n",
       "3            ('CCNL2','chr1-1399250-1399750')\n",
       "4            ('CCNL2','chr1-1399890-1400390')\n",
       "                         ...                 \n",
       "285704    ('FLNA','chrX-154444467-154444967')\n",
       "285705    ('FLNA','chrX-154458500-154459000')\n",
       "285706    ('FLNA','chrX-154459708-154460208')\n",
       "285707    ('FLNA','chrX-154485387-154485887')\n",
       "285708    ('FLNA','chrX-154486493-154486993')\n",
       "Name: 0, Length: 285709, dtype: object"
      ]
     },
     "execution_count": 28,
     "metadata": {},
     "output_type": "execute_result"
    }
   ],
   "source": [
    "pd.read_csv('./edge_ris_colume.csv')['0'].values"
   ]
  },
  {
   "cell_type": "code",
   "execution_count": 25,
   "id": "5989fe96",
   "metadata": {},
   "outputs": [
    {
     "ename": "TypeError",
     "evalue": "'ATACDataset' object is not subscriptable",
     "output_type": "error",
     "traceback": [
      "\u001b[0;31m---------------------------------------------------------------------------\u001b[0m",
      "\u001b[0;31mTypeError\u001b[0m                                 Traceback (most recent call last)",
      "Input \u001b[0;32mIn [25]\u001b[0m, in \u001b[0;36m<cell line: 1>\u001b[0;34m()\u001b[0m\n\u001b[0;32m----> 1\u001b[0m \u001b[43mdataset_atac\u001b[49m\u001b[43m[\u001b[49m\u001b[38;5;241;43m0\u001b[39;49m\u001b[43m]\u001b[49m\n",
      "\u001b[0;31mTypeError\u001b[0m: 'ATACDataset' object is not subscriptable"
     ]
    }
   ],
   "source": [
    "dataset_atac[0]"
   ]
  },
  {
   "cell_type": "code",
   "execution_count": 34,
   "id": "bf0a5dcf",
   "metadata": {},
   "outputs": [],
   "source": [
    "atten = [[]]\n",
    "\n",
    "atten[0] = dataset_graph[0].edge_index"
   ]
  },
  {
   "cell_type": "code",
   "execution_count": 35,
   "id": "894e1cb2",
   "metadata": {},
   "outputs": [],
   "source": [
    "pos_dict = dict()\n",
    "pos_dict_int = dict()\n",
    "for idx, t in enumerate(dataset_atac.array_peak):\n",
    "    pos_dict[t] = idx\n",
    "    pos_dict_int[idx] = t\n",
    "    \n",
    "str_lists = []\n",
    "for t in range(atten[0].shape[1]):\n",
    "    str_lists.append(pos_dict_int[atten[0][1][t].item()] +  '-'  + pos_dict_int[atten[0][0][t].item()]) "
   ]
  },
  {
   "cell_type": "code",
   "execution_count": 33,
   "id": "f62e366d",
   "metadata": {},
   "outputs": [
    {
     "data": {
      "text/plain": [
       "tensor([[  1900,   1901,   1902,  ..., 206124, 206132, 206134],\n",
       "        [     0,      0,      0,  ...,   1881,   1881,   1881]])"
      ]
     },
     "execution_count": 33,
     "metadata": {},
     "output_type": "execute_result"
    }
   ],
   "source": [
    "atten"
   ]
  },
  {
   "cell_type": "code",
   "execution_count": 36,
   "id": "733a3ae3",
   "metadata": {},
   "outputs": [],
   "source": [
    "target_links = []\n",
    "for t in df.values:\n",
    "    target_links.append(t[0] + '-' + t[1])"
   ]
  },
  {
   "cell_type": "code",
   "execution_count": 37,
   "id": "c88fdd39",
   "metadata": {},
   "outputs": [
    {
     "name": "stderr",
     "output_type": "stream",
     "text": [
      "Processing: 100%|██████████| 8275/8275 [00:00<00:00, 381614.79it/s]\n"
     ]
    }
   ],
   "source": [
    "from tqdm import tqdm\n",
    "\n",
    "# Create a mapping of each string to its index\n",
    "str_lists_index = {s: i for i, s in enumerate(str_lists)}\n",
    "\n",
    "map_index = []\n",
    "for t in tqdm(cpc_loop_df['Gene_Chrom_Start_End'].values, desc=\"Processing\"):\n",
    "    if t in str_lists_index:\n",
    "        map_index.append(str_lists_index[t])\n"
   ]
  },
  {
   "cell_type": "code",
   "execution_count": null,
   "id": "3d50e705",
   "metadata": {},
   "outputs": [],
   "source": []
  },
  {
   "cell_type": "code",
   "execution_count": 53,
   "id": "4e7b4fed",
   "metadata": {},
   "outputs": [],
   "source": [
    "t1 = dataset_atac.array_peak[atten[0][0].cpu().numpy()]\n",
    "t2 = dataset_atac.array_peak[atten[0][1].cpu().numpy()]\n",
    "\n",
    "colnames = []\n",
    "for i in range(len(t1)):\n",
    "    colnames.append(\"(\" + '\\'' + t2[i] + '\\'' + ',' + '\\'' + t1[i] + '\\'' + \")\")"
   ]
  },
  {
   "cell_type": "code",
   "execution_count": 59,
   "id": "fe230b70",
   "metadata": {},
   "outputs": [
    {
     "data": {
      "text/plain": [
       "array([\"('KIF1B','chr1-10398082-10398582')\",\n",
       "       \"('KIF1B','chr1-10398711-10399211')\",\n",
       "       \"('KIF1B','chr1-10399311-10399811')\", ...,\n",
       "       \"('RNF128','chrX-106042332-106042832')\",\n",
       "       \"('GABRE','chrX-151359989-151360489')\",\n",
       "       \"('BCAP31','chrX-153539405-153539905')\"], dtype='<U40')"
      ]
     },
     "execution_count": 59,
     "metadata": {},
     "output_type": "execute_result"
    }
   ],
   "source": [
    "np.array(colnames)[np.array(map_index)]"
   ]
  },
  {
   "cell_type": "code",
   "execution_count": 62,
   "id": "2a9b32a2",
   "metadata": {},
   "outputs": [
    {
     "data": {
      "text/plain": [
       "torch.Size([3529, 285709])"
      ]
     },
     "execution_count": 62,
     "metadata": {},
     "output_type": "execute_result"
    }
   ],
   "source": [
    "cell_link_edge.size()"
   ]
  },
  {
   "cell_type": "code",
   "execution_count": 60,
   "id": "054f698a",
   "metadata": {},
   "outputs": [
    {
     "data": {
      "text/html": [
       "<div>\n",
       "<style scoped>\n",
       "    .dataframe tbody tr th:only-of-type {\n",
       "        vertical-align: middle;\n",
       "    }\n",
       "\n",
       "    .dataframe tbody tr th {\n",
       "        vertical-align: top;\n",
       "    }\n",
       "\n",
       "    .dataframe thead th {\n",
       "        text-align: right;\n",
       "    }\n",
       "</style>\n",
       "<table border=\"1\" class=\"dataframe\">\n",
       "  <thead>\n",
       "    <tr style=\"text-align: right;\">\n",
       "      <th></th>\n",
       "      <th>0</th>\n",
       "    </tr>\n",
       "  </thead>\n",
       "  <tbody>\n",
       "    <tr>\n",
       "      <th>0</th>\n",
       "      <td>27132</td>\n",
       "    </tr>\n",
       "    <tr>\n",
       "      <th>1</th>\n",
       "      <td>27133</td>\n",
       "    </tr>\n",
       "    <tr>\n",
       "      <th>2</th>\n",
       "      <td>27134</td>\n",
       "    </tr>\n",
       "    <tr>\n",
       "      <th>3</th>\n",
       "      <td>27135</td>\n",
       "    </tr>\n",
       "    <tr>\n",
       "      <th>4</th>\n",
       "      <td>27136</td>\n",
       "    </tr>\n",
       "    <tr>\n",
       "      <th>...</th>\n",
       "      <td>...</td>\n",
       "    </tr>\n",
       "    <tr>\n",
       "      <th>8199</th>\n",
       "      <td>239807</td>\n",
       "    </tr>\n",
       "    <tr>\n",
       "      <th>8200</th>\n",
       "      <td>239807</td>\n",
       "    </tr>\n",
       "    <tr>\n",
       "      <th>8201</th>\n",
       "      <td>239808</td>\n",
       "    </tr>\n",
       "    <tr>\n",
       "      <th>8202</th>\n",
       "      <td>240396</td>\n",
       "    </tr>\n",
       "    <tr>\n",
       "      <th>8203</th>\n",
       "      <td>240408</td>\n",
       "    </tr>\n",
       "  </tbody>\n",
       "</table>\n",
       "<p>8204 rows × 1 columns</p>\n",
       "</div>"
      ],
      "text/plain": [
       "           0\n",
       "0      27132\n",
       "1      27133\n",
       "2      27134\n",
       "3      27135\n",
       "4      27136\n",
       "...      ...\n",
       "8199  239807\n",
       "8200  239807\n",
       "8201  239808\n",
       "8202  240396\n",
       "8203  240408\n",
       "\n",
       "[8204 rows x 1 columns]"
      ]
     },
     "execution_count": 60,
     "metadata": {},
     "output_type": "execute_result"
    }
   ],
   "source": [
    "pd.DataFrame(map_index).to_csv"
   ]
  },
  {
   "cell_type": "code",
   "execution_count": null,
   "id": "df73b1c6",
   "metadata": {},
   "outputs": [],
   "source": []
  },
  {
   "cell_type": "code",
   "execution_count": null,
   "id": "89ffb81b",
   "metadata": {},
   "outputs": [],
   "source": []
  },
  {
   "cell_type": "code",
   "execution_count": 917,
   "id": "7dc0185c",
   "metadata": {},
   "outputs": [],
   "source": [
    "edge_df = pd.DataFrame(cell_link_edge)"
   ]
  },
  {
   "cell_type": "code",
   "execution_count": 2,
   "id": "50bea729",
   "metadata": {},
   "outputs": [],
   "source": [
    "import torch "
   ]
  },
  {
   "cell_type": "code",
   "execution_count": 3,
   "id": "484e80d5",
   "metadata": {},
   "outputs": [],
   "source": [
    "data = torch.load('model_and_data.pt')"
   ]
  },
  {
   "cell_type": "code",
   "execution_count": 4,
   "id": "1dc235c5",
   "metadata": {},
   "outputs": [
    {
     "data": {
      "text/plain": [
       "dict_keys(['model_state_dict', 'cell_link_atten', 'cell_link_edge', 'cell_link_activity', 'cell_link_enhancer'])"
      ]
     },
     "execution_count": 4,
     "metadata": {},
     "output_type": "execute_result"
    }
   ],
   "source": [
    "data.keys()"
   ]
  },
  {
   "cell_type": "code",
   "execution_count": 32,
   "id": "7e976d0e",
   "metadata": {},
   "outputs": [],
   "source": [
    "cell_link_edge = data['cell_link_edge']"
   ]
  },
  {
   "cell_type": "code",
   "execution_count": 908,
   "id": "20337d82",
   "metadata": {},
   "outputs": [],
   "source": [
    "edge_df.columns = colnames"
   ]
  },
  {
   "cell_type": "code",
   "execution_count": 909,
   "id": "3d5cef5f",
   "metadata": {},
   "outputs": [],
   "source": [
    "edge_df.index = test_barcodes"
   ]
  },
  {
   "cell_type": "code",
   "execution_count": 920,
   "id": "56658fcd",
   "metadata": {},
   "outputs": [],
   "source": [
    "edge_df.to_csv('/remote-home/share/mdshare/temp/edge_ris.csv')"
   ]
  },
  {
   "cell_type": "code",
   "execution_count": 923,
   "id": "a435f39f",
   "metadata": {},
   "outputs": [],
   "source": [
    "pd.DataFrame(colnames).to_csv('/remote-home/share/mdshare/temp/edge_ris_colume.csv')"
   ]
  },
  {
   "cell_type": "code",
   "execution_count": 925,
   "id": "6df0d4f2",
   "metadata": {},
   "outputs": [],
   "source": [
    "pd.DataFrame(test_barcodes).to_csv('/remote-home/share/mdshare/temp/edge_ris_row.csv')"
   ]
  },
  {
   "cell_type": "code",
   "execution_count": null,
   "id": "f89e46b2",
   "metadata": {},
   "outputs": [],
   "source": []
  },
  {
   "cell_type": "code",
   "execution_count": 448,
   "id": "2d2228d7",
   "metadata": {},
   "outputs": [],
   "source": [
    "map_index = torch.tensor(map_index)"
   ]
  },
  {
   "cell_type": "code",
   "execution_count": 449,
   "id": "ef3cf549",
   "metadata": {},
   "outputs": [
    {
     "data": {
      "text/plain": [
       "8204"
      ]
     },
     "execution_count": 449,
     "metadata": {},
     "output_type": "execute_result"
    }
   ],
   "source": [
    "len(map_index)"
   ]
  },
  {
   "cell_type": "code",
   "execution_count": 792,
   "id": "2d7cc7d5",
   "metadata": {},
   "outputs": [],
   "source": [
    "cell_type_cpu = dataset_atac.adata.obs.loc[test_barcodes]['celltype'].values"
   ]
  },
  {
   "cell_type": "code",
   "execution_count": 793,
   "id": "1762b0f7",
   "metadata": {},
   "outputs": [],
   "source": [
    "unique_celltype = np.unique(cell_type), np.unique(cell_type_cpu, return_counts=True)"
   ]
  },
  {
   "cell_type": "code",
   "execution_count": 794,
   "id": "8875c847",
   "metadata": {},
   "outputs": [],
   "source": [
    "unique_celltype = dataset_atac.array_celltype"
   ]
  },
  {
   "cell_type": "code",
   "execution_count": 760,
   "id": "61211713",
   "metadata": {},
   "outputs": [
    {
     "data": {
      "text/plain": [
       "tensor([[0.0033, 0.0033, 0.0018,  ..., 0.0038, 0.0038, 0.0065],\n",
       "        [0.0028, 0.0028, 0.0028,  ..., 0.1360, 0.0031, 0.0031],\n",
       "        [0.0034, 0.0034, 0.0162,  ..., 0.0034, 0.0034, 0.0014],\n",
       "        ...,\n",
       "        [0.0029, 0.0029, 0.0029,  ..., 0.0032, 0.0032, 0.0032],\n",
       "        [0.0029, 0.0068, 0.0068,  ..., 0.0031, 0.0031, 0.0031],\n",
       "        [0.0030, 0.0030, 0.0030,  ..., 0.0031, 0.0232, 0.0693]])"
      ]
     },
     "execution_count": 760,
     "metadata": {},
     "output_type": "execute_result"
    }
   ],
   "source": [
    "cell_link_atten"
   ]
  },
  {
   "cell_type": "code",
   "execution_count": 786,
   "id": "92c53498",
   "metadata": {},
   "outputs": [
    {
     "data": {
      "text/plain": [
       "tensor([[  1900,   1901,   1902,  ..., 206124, 206132, 206134],\n",
       "        [     0,      0,      0,  ...,   1881,   1881,   1881]])"
      ]
     },
     "execution_count": 786,
     "metadata": {},
     "output_type": "execute_result"
    }
   ],
   "source": []
  },
  {
   "cell_type": "code",
   "execution_count": 787,
   "id": "3f1478a4",
   "metadata": {},
   "outputs": [],
   "source": [
    "import torch\n",
    "from tqdm import tqdm\n",
    "edge_index = sample.edge_index[:, :sample.edge_index.size(1)//4]\n",
    "n_edge = edge_index.size(1)\n",
    "edge_importance = cell_link_atten.clone()  \n",
    "gene_degrees = torch.bincount(edge_index[1])  "
   ]
  },
  {
   "cell_type": "code",
   "execution_count": 788,
   "id": "ee918b39",
   "metadata": {},
   "outputs": [
    {
     "name": "stderr",
     "output_type": "stream",
     "text": [
      "Normalizing edges by gene degree: 100%|██████████| 359/359 [00:00<00:00, 860.56it/s]\n"
     ]
    }
   ],
   "source": [
    "edge_degree_groups = {}\n",
    "for i in range(n_edge):\n",
    "    gene_node = edge_index[1, i]\n",
    "    degree = gene_degrees[gene_node]\n",
    "    if degree.item() not in edge_degree_groups:\n",
    "        edge_degree_groups[degree.item()] = []\n",
    "    edge_degree_groups[degree.item()].append(i)\n",
    "\n",
    "for degree, indices in tqdm(edge_degree_groups.items(), desc=\"Normalizing edges by gene degree\"):\n",
    "    values_tensor = edge_importance[:, indices] \n",
    "    min_val, max_val = values_tensor.min(dim=1, keepdim=True)[0], values_tensor.max(dim=1, keepdim=True)[0]\n",
    "    normalized_values = (values_tensor - min_val) / (max_val - min_val + 1e-10) \n",
    "    edge_importance[:, indices] = normalized_values  "
   ]
  },
  {
   "cell_type": "code",
   "execution_count": 39,
   "id": "0d32a0c2",
   "metadata": {},
   "outputs": [],
   "source": [
    "unique_celltype = dataset_atac.array_celltype"
   ]
  },
  {
   "cell_type": "code",
   "execution_count": 41,
   "id": "a359bfaa",
   "metadata": {},
   "outputs": [],
   "source": [
    "cell_type_cpu = pd.read_csv('/remote-home/share/mdshare/temp/edge_ris_row.csv')['0'].values"
   ]
  },
  {
   "cell_type": "code",
   "execution_count": 42,
   "id": "3a88ba1c",
   "metadata": {},
   "outputs": [],
   "source": [
    "cell_type_cpu = dataset_atac.adata.obs.loc[cell_type_cpu]['celltype'].values"
   ]
  },
  {
   "cell_type": "code",
   "execution_count": 43,
   "id": "0d290988",
   "metadata": {},
   "outputs": [
    {
     "data": {
      "text/plain": [
       "3529"
      ]
     },
     "execution_count": 43,
     "metadata": {},
     "output_type": "execute_result"
    }
   ],
   "source": [
    "len(cell_type_cpu)"
   ]
  },
  {
   "cell_type": "code",
   "execution_count": 44,
   "id": "38821951",
   "metadata": {},
   "outputs": [
    {
     "data": {
      "text/plain": [
       "array(['A002-C-204-D#ACAAGCTTCATCGCTC-1',\n",
       "       'A015-C-001-D#GGAACCCCATGCGTTA-1',\n",
       "       'CRC-2-15564-D#GCTTTCGCACAGCCAC-1', ...,\n",
       "       'A014-C-111-D#AGGCCTGGTATTCGCA-1',\n",
       "       'A014-C-111-D#AGCGTGCGTGGAAGCT-1',\n",
       "       'A002-C-106-D#TAATTCCCAGCGTGAA-1'], dtype=object)"
      ]
     },
     "execution_count": 44,
     "metadata": {},
     "output_type": "execute_result"
    }
   ],
   "source": [
    "cell_type_cpu"
   ]
  },
  {
   "cell_type": "code",
   "execution_count": null,
   "id": "41c29f7b",
   "metadata": {},
   "outputs": [],
   "source": []
  },
  {
   "cell_type": "code",
   "execution_count": 54,
   "id": "3c91fd40",
   "metadata": {},
   "outputs": [
    {
     "name": "stderr",
     "output_type": "stream",
     "text": [
      " FutureWarning:/tmp/ipykernel_158156/3721050692.py:33: \n",
      "\n",
      "Passing `palette` without assigning `hue` is deprecated and will be removed in v0.14.0. Assign the `x` variable to `hue` and set `legend=False` for the same effect.\n",
      "\n"
     ]
    },
    {
     "data": {
      "image/png": "[encoded data removed]",
      "text/plain": [
       "<Figure size 1000x600 with 1 Axes>"
      ]
     },
     "metadata": {},
     "output_type": "display_data"
    }
   ],
   "source": [
    "import pandas as pd\n",
    "import numpy as np\n",
    "import matplotlib.pyplot as plt\n",
    "import seaborn as sns\n",
    "\n",
    "# 获取numpy数组\n",
    "temp_normalized = cell_link_edge[:, map_index].cpu().numpy() \n",
    "\n",
    "# 计算每个细胞类型组的均值\n",
    "means = [np.mean(temp_normalized[cell_type_cpu == unique_celltype[i], :], axis=0) for i in range(len(unique_celltype))]\n",
    "\n",
    "# 创建数据框并按均值排序\n",
    "mean_data = {'Group': ['Type ' + str(i) for i in range(len(unique_celltype))],\n",
    "             'Mean': [np.mean(m) for m in means]}\n",
    "mean_df = pd.DataFrame(mean_data).sort_values(by='Mean')\n",
    "\n",
    "# 准备用于绘图的数据\n",
    "sorted_means = [means[int(group.split(' ')[1])] for group in mean_df['Group']]\n",
    "data = {'Group': np.repeat(mean_df['Group'], [len(m) for m in sorted_means]),\n",
    "        'Values': np.concatenate(sorted_means)}\n",
    "df = pd.DataFrame(data)\n",
    "mean_df['Group'] = [unique_celltype[int(group.split(' ')[1])] for group in mean_df['Group']]\n",
    "\n",
    "# 用更新的 Group 名字来替换 data 中的 Group\n",
    "df['Group'] = [unique_celltype[int(group.split(' ')[1])] for group in df['Group']]\n",
    "\n",
    "# 设置绘图风格\n",
    "sns.set(style=\"whitegrid\")  # 自然风格背景\n",
    "palette = sns.color_palette(\"viridis\", len(unique_celltype))  # 自然风格配色\n",
    "\n",
    "# 创建箱线图\n",
    "plt.figure(figsize=(10, 6))\n",
    "sns.boxplot(x='Group', y='Values', data=df, order=mean_df['Group'], palette=palette)\n",
    "plt.title(\"Grouped Box Plot of Means by Cell Type\")\n",
    "plt.ylabel(\"Mean Values\")\n",
    "plt.xlabel(\"Cell Type\")\n",
    "\n",
    "# 设置 x 轴标签旋转\n",
    "plt.xticks(rotation=45)\n",
    "plt.grid(True, linestyle='--', alpha=0.5)\n",
    "plt.show()\n"
   ]
  },
  {
   "cell_type": "code",
   "execution_count": 791,
   "id": "3bfb517d",
   "metadata": {},
   "outputs": [
    {
     "data": {
      "text/plain": [
       "torch.Size([280, 285709])"
      ]
     },
     "execution_count": 791,
     "metadata": {},
     "output_type": "execute_result"
    }
   ],
   "source": [
    "edge_importance.shape"
   ]
  },
  {
   "cell_type": "code",
   "execution_count": 464,
   "id": "fd93e454",
   "metadata": {},
   "outputs": [
    {
     "data": {
      "text/plain": [
       "tensor([0.0077, 0.0077, 0.0077,  ..., 0.0081, 0.0081, 0.0081])"
      ]
     },
     "execution_count": 464,
     "metadata": {},
     "output_type": "execute_result"
    }
   ],
   "source": [
    "cell_link_atten[0] "
   ]
  },
  {
   "cell_type": "code",
   "execution_count": 470,
   "id": "67098bec",
   "metadata": {},
   "outputs": [
    {
     "data": {
      "text/html": [
       "<div>\n",
       "<style scoped>\n",
       "    .dataframe tbody tr th:only-of-type {\n",
       "        vertical-align: middle;\n",
       "    }\n",
       "\n",
       "    .dataframe tbody tr th {\n",
       "        vertical-align: top;\n",
       "    }\n",
       "\n",
       "    .dataframe thead th {\n",
       "        text-align: right;\n",
       "    }\n",
       "</style>\n",
       "<table border=\"1\" class=\"dataframe\">\n",
       "  <thead>\n",
       "    <tr style=\"text-align: right;\">\n",
       "      <th></th>\n",
       "      <th>Chromosome</th>\n",
       "      <th>Start Site</th>\n",
       "      <th>End Site</th>\n",
       "      <th>Interaction Gene</th>\n",
       "      <th>Gene_Chrom_Start_End</th>\n",
       "    </tr>\n",
       "  </thead>\n",
       "  <tbody>\n",
       "    <tr>\n",
       "      <th>302</th>\n",
       "      <td>chr1</td>\n",
       "      <td>10398082</td>\n",
       "      <td>10398582</td>\n",
       "      <td>KIF1B</td>\n",
       "      <td>KIF1B-chr1-10398082-10398582</td>\n",
       "    </tr>\n",
       "    <tr>\n",
       "      <th>307</th>\n",
       "      <td>chr1</td>\n",
       "      <td>10398711</td>\n",
       "      <td>10399211</td>\n",
       "      <td>KIF1B</td>\n",
       "      <td>KIF1B-chr1-10398711-10399211</td>\n",
       "    </tr>\n",
       "    <tr>\n",
       "      <th>312</th>\n",
       "      <td>chr1</td>\n",
       "      <td>10399311</td>\n",
       "      <td>10399811</td>\n",
       "      <td>KIF1B</td>\n",
       "      <td>KIF1B-chr1-10399311-10399811</td>\n",
       "    </tr>\n",
       "    <tr>\n",
       "      <th>316</th>\n",
       "      <td>chr1</td>\n",
       "      <td>10399821</td>\n",
       "      <td>10400321</td>\n",
       "      <td>KIF1B</td>\n",
       "      <td>KIF1B-chr1-10399821-10400321</td>\n",
       "    </tr>\n",
       "    <tr>\n",
       "      <th>320</th>\n",
       "      <td>chr1</td>\n",
       "      <td>10400499</td>\n",
       "      <td>10400999</td>\n",
       "      <td>KIF1B</td>\n",
       "      <td>KIF1B-chr1-10400499-10400999</td>\n",
       "    </tr>\n",
       "    <tr>\n",
       "      <th>...</th>\n",
       "      <td>...</td>\n",
       "      <td>...</td>\n",
       "      <td>...</td>\n",
       "      <td>...</td>\n",
       "      <td>...</td>\n",
       "    </tr>\n",
       "    <tr>\n",
       "      <th>246275</th>\n",
       "      <td>chrX</td>\n",
       "      <td>106039877</td>\n",
       "      <td>106040377</td>\n",
       "      <td>RNF128</td>\n",
       "      <td>RNF128-chrX-106039877-106040377</td>\n",
       "    </tr>\n",
       "    <tr>\n",
       "      <th>246278</th>\n",
       "      <td>chrX</td>\n",
       "      <td>106039877</td>\n",
       "      <td>106040377</td>\n",
       "      <td>RNF128</td>\n",
       "      <td>RNF128-chrX-106039877-106040377</td>\n",
       "    </tr>\n",
       "    <tr>\n",
       "      <th>246279</th>\n",
       "      <td>chrX</td>\n",
       "      <td>106042332</td>\n",
       "      <td>106042832</td>\n",
       "      <td>RNF128</td>\n",
       "      <td>RNF128-chrX-106042332-106042832</td>\n",
       "    </tr>\n",
       "    <tr>\n",
       "      <th>247104</th>\n",
       "      <td>chrX</td>\n",
       "      <td>151359989</td>\n",
       "      <td>151360489</td>\n",
       "      <td>GABRE</td>\n",
       "      <td>GABRE-chrX-151359989-151360489</td>\n",
       "    </tr>\n",
       "    <tr>\n",
       "      <th>247146</th>\n",
       "      <td>chrX</td>\n",
       "      <td>153539405</td>\n",
       "      <td>153539905</td>\n",
       "      <td>BCAP31</td>\n",
       "      <td>BCAP31-chrX-153539405-153539905</td>\n",
       "    </tr>\n",
       "  </tbody>\n",
       "</table>\n",
       "<p>8275 rows × 5 columns</p>\n",
       "</div>"
      ],
      "text/plain": [
       "       Chromosome  Start Site   End Site Interaction Gene  \\\n",
       "302          chr1    10398082   10398582            KIF1B   \n",
       "307          chr1    10398711   10399211            KIF1B   \n",
       "312          chr1    10399311   10399811            KIF1B   \n",
       "316          chr1    10399821   10400321            KIF1B   \n",
       "320          chr1    10400499   10400999            KIF1B   \n",
       "...           ...         ...        ...              ...   \n",
       "246275       chrX   106039877  106040377           RNF128   \n",
       "246278       chrX   106039877  106040377           RNF128   \n",
       "246279       chrX   106042332  106042832           RNF128   \n",
       "247104       chrX   151359989  151360489            GABRE   \n",
       "247146       chrX   153539405  153539905           BCAP31   \n",
       "\n",
       "                   Gene_Chrom_Start_End  \n",
       "302        KIF1B-chr1-10398082-10398582  \n",
       "307        KIF1B-chr1-10398711-10399211  \n",
       "312        KIF1B-chr1-10399311-10399811  \n",
       "316        KIF1B-chr1-10399821-10400321  \n",
       "320        KIF1B-chr1-10400499-10400999  \n",
       "...                                 ...  \n",
       "246275  RNF128-chrX-106039877-106040377  \n",
       "246278  RNF128-chrX-106039877-106040377  \n",
       "246279  RNF128-chrX-106042332-106042832  \n",
       "247104   GABRE-chrX-151359989-151360489  \n",
       "247146  BCAP31-chrX-153539405-153539905  \n",
       "\n",
       "[8275 rows x 5 columns]"
      ]
     },
     "execution_count": 470,
     "metadata": {},
     "output_type": "execute_result"
    }
   ],
   "source": [
    "cpc_loop_df"
   ]
  },
  {
   "cell_type": "code",
   "execution_count": null,
   "id": "3fa90a12",
   "metadata": {},
   "outputs": [],
   "source": []
  },
  {
   "cell_type": "code",
   "execution_count": 457,
   "id": "1aee1c5d",
   "metadata": {},
   "outputs": [
    {
     "data": {
      "text/plain": [
       "array(['B cells', 'Mast cells', 'Myeloids', 'N_Epithelial',\n",
       "       'P_Epithelial', 'Plasma', 'Stromal cells', 'TNKILC',\n",
       "       'T_Epithelial'], dtype=object)"
      ]
     },
     "execution_count": 457,
     "metadata": {},
     "output_type": "execute_result"
    }
   ],
   "source": [
    "dataset_atac.array_celltype"
   ]
  },
  {
   "cell_type": "code",
   "execution_count": null,
   "id": "2b5e6be6",
   "metadata": {},
   "outputs": [],
   "source": []
  },
  {
   "cell_type": "code",
   "execution_count": 371,
   "id": "de281992",
   "metadata": {},
   "outputs": [
    {
     "data": {
      "text/plain": [
       "tensor([0.0101, 0.0101, 0.0101,  ..., 0.0101, 0.0101, 0.0101])"
      ]
     },
     "execution_count": 371,
     "metadata": {},
     "output_type": "execute_result"
    }
   ],
   "source": [
    "atten"
   ]
  },
  {
   "cell_type": "code",
   "execution_count": 262,
   "id": "c0af2292",
   "metadata": {},
   "outputs": [
    {
     "data": {
      "text/plain": [
       "array(['B cells', 'Mast cells', 'Myeloids', 'N_Epithelial',\n",
       "       'P_Epithelial', 'Plasma', 'Stromal cells', 'TNKILC',\n",
       "       'T_Epithelial'], dtype=object)"
      ]
     },
     "execution_count": 262,
     "metadata": {},
     "output_type": "execute_result"
    }
   ],
   "source": [
    "dataset_atac.array_celltype"
   ]
  },
  {
   "cell_type": "code",
   "execution_count": 81,
   "id": "1e1e8481",
   "metadata": {},
   "outputs": [],
   "source": []
  },
  {
   "cell_type": "code",
   "execution_count": 83,
   "id": "a6a228a0",
   "metadata": {},
   "outputs": [
    {
     "data": {
      "text/plain": [
       "tensor([7.2317e-07, 6.8812e-07, 6.7725e-07,  ..., 4.8886e-06, 4.8886e-06,\n",
       "        4.8886e-06], device='cuda:1', grad_fn=<DivBackward0>)"
      ]
     },
     "execution_count": 83,
     "metadata": {},
     "output_type": "execute_result"
    }
   ],
   "source": [
    "normalize_to_prob(model.data)"
   ]
  },
  {
   "cell_type": "code",
   "execution_count": 78,
   "id": "da899102",
   "metadata": {},
   "outputs": [
    {
     "data": {
      "text/plain": [
       "tensor([0.0252, 0.0240, 0.0236,  ..., 0.1704, 0.1704, 0.1704], device='cuda:1',\n",
       "       grad_fn=<MeanBackward1>)"
      ]
     },
     "execution_count": 78,
     "metadata": {},
     "output_type": "execute_result"
    }
   ],
   "source": [
    "model.data"
   ]
  },
  {
   "cell_type": "code",
   "execution_count": 80,
   "id": "3413d105",
   "metadata": {},
   "outputs": [
    {
     "data": {
      "text/plain": [
       "tensor([4.7479e-04, 1.0063e-03, 3.2451e-04,  ..., 1.2609e-05, 2.2495e-04,\n",
       "        1.5094e-04])"
      ]
     },
     "execution_count": 80,
     "metadata": {},
     "output_type": "execute_result"
    }
   ],
   "source": [
    "sample.y_exp"
   ]
  }
 ],
 "metadata": {
  "kernelspec": {
   "display_name": "Python 3 (ipykernel)",
   "language": "python",
   "name": "python3"
  },
  "language_info": {
   "codemirror_mode": {
    "name": "ipython",
    "version": 3
   },
   "file_extension": ".py",
   "mimetype": "text/x-python",
   "name": "python",
   "nbconvert_exporter": "python",
   "pygments_lexer": "ipython3",
   "version": "3.8.17"
  }
 },
 "nbformat": 4,
 "nbformat_minor": 5
}
