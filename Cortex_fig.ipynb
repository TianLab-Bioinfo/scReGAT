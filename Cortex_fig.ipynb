{
 "cells": [
  {
   "cell_type": "code",
   "execution_count": 1,
   "metadata": {},
   "outputs": [],
   "source": [
    "import os\n",
    "import pandas as pd\n",
    "import torch\n",
    "import anndata as ad\n",
    "from torch_geometric.loader import DataLoader\n",
    "import scanpy as sc\n",
    "from scregat.data_process import prepare_model_input,sum_counts,plot_edge, ATACGraphDataset\n",
    "import numpy as np\n",
    "from time import time\n",
    "import os\n",
    "import torch\n",
    "from torch_geometric.data import InMemoryDataset, Data\n",
    "from collections import defaultdict\n",
    "import episcanpy.api as epi\n",
    "import scanpy as sc\n",
    "import numpy as np\n",
    "import pandas as pd\n",
    "from pandas import DataFrame\n",
    "import anndata as ad\n",
    "from anndata import AnnData\n",
    "from typing import Optional, Mapping, List, Union\n",
    "from scipy import sparse\n",
    "import sklearn\n",
    "from statsmodels.distributions.empirical_distribution import ECDF\n",
    "import pickle\n",
    "import random\n",
    "import cosg\n"
   ]
  },
  {
   "cell_type": "code",
   "execution_count": 2,
   "metadata": {},
   "outputs": [],
   "source": [
    "with open('./dataset_atac.pkl', 'rb') as f:\n",
    "    dataset_atac = pickle.load(f)\n",
    "    \n",
    "graph = ATACGraphDataset('./input_graph/')"
   ]
  },
  {
   "cell_type": "code",
   "execution_count": 3,
   "metadata": {},
   "outputs": [],
   "source": [
    "import pandas as pd\n",
    "import numpy as np\n",
    "\n",
    "test_cell = pd.read_csv('./test_barcode.txt', header=None)[0].values"
   ]
  },
  {
   "cell_type": "code",
   "execution_count": 4,
   "metadata": {},
   "outputs": [],
   "source": [
    "# test_cell = sampled_indices\n",
    "dataset_graph = graph"
   ]
  },
  {
   "cell_type": "code",
   "execution_count": 5,
   "metadata": {},
   "outputs": [
    {
     "name": "stderr",
     "output_type": "stream",
     "text": [
      "Processing samples: 100%|██████████| 2130/2130 [00:00<00:00, 3433.98it/s]\n"
     ]
    }
   ],
   "source": [
    "#import os\n",
    "import pandas as pd\n",
    "import torch\n",
    "import anndata as ad\n",
    "from torch_geometric.loader import DataLoader\n",
    "import scanpy as sc\n",
    "from scregat.data_process import prepare_model_input,sum_counts,plot_edge, ATACGraphDataset\n",
    "import numpy as np\n",
    "import pickle\n",
    "import random\n",
    "from tqdm import tqdm\n",
    "\n",
    "\n",
    "data = dataset_atac.array_peak\n",
    "torch_vector = torch.zeros(len(data))\n",
    "for idx, item in enumerate(data):\n",
    "    if item.startswith('chr'):\n",
    "        torch_vector[idx] = 0 \n",
    "    else:\n",
    "        torch_vector[idx] = 1 \n",
    "train_graph = []\n",
    "test_graph = []\n",
    "test_cell_type = []\n",
    "train_cell_type = []\n",
    "for i, sample in tqdm(enumerate(dataset_graph), total=len(dataset_graph), desc='Processing samples'):\n",
    "    sample.id_vec = torch_vector\n",
    "    sample.seq_data = 1\n",
    "    if sample.cell in test_cell:\n",
    "        test_graph.append(sample)\n",
    "        test_cell_type.append(sample.y.item())\n",
    "    else:\n",
    "        train_graph.append(sample)\n",
    "        train_cell_type.append(sample.y.item())"
   ]
  },
  {
   "cell_type": "code",
   "execution_count": 6,
   "metadata": {},
   "outputs": [],
   "source": [
    "from collections import Counter\n",
    "from tqdm import tqdm\n",
    "\n",
    "# 计算每个类别的样本数量\n",
    "class_counts = Counter(train_cell_type)\n",
    "\n",
    "# 找到最多的类别样本数\n",
    "max_count = max(class_counts.values())\n",
    "\n",
    "# 复制样本以实现类别平衡\n",
    "balanced_train_graph = []\n",
    "\n",
    "for cell_type, count in class_counts.items():\n",
    "    # 找到对应的样本\n",
    "    samples = [sample for sample in train_graph if sample.y.item() == cell_type]\n",
    "\n",
    "    # 计算需要复制的样本数量\n",
    "    samples_to_add = max_count - count\n",
    "\n",
    "    # 复制样本并添加到平衡后的训练图中\n",
    "    balanced_train_graph.extend(samples)\n",
    "    balanced_train_graph.extend(random.choices(samples, k=samples_to_add))\n",
    "\n",
    "# 现在 balanced_train_graph 包含类别平衡的训练样本\n"
   ]
  },
  {
   "cell_type": "code",
   "execution_count": 7,
   "metadata": {},
   "outputs": [],
   "source": [
    "import torch\n",
    "import torch.nn as nn\n",
    "\n",
    "class EdgeDiversityLoss1(nn.Module):\n",
    "    def __init__(self, diversity_weight=1.0):\n",
    "        \"\"\"\n",
    "        自定义多样性损失函数\n",
    "        :param diversity_weight: 控制熵惩罚的权重\n",
    "        \"\"\"\n",
    "        super(EdgeDiversityLoss1, self).__init__()\n",
    "        self.diversity_weight = diversity_weight\n",
    "\n",
    "    def forward(self, edge_weights):\n",
    "        prob_distribution = torch.softmax(edge_weights, dim=0)\n",
    "        entropy_loss = -self.diversity_weight * torch.sum(prob_distribution * torch.log(prob_distribution + 1e-6), dim=0)\n",
    "        \n",
    "        # 添加均匀性损失\n",
    "        target_distribution = torch.full_like(prob_distribution, 1.0 / edge_weights.numel())\n",
    "        uniformity_loss = torch.sum((prob_distribution - target_distribution) ** 2)\n",
    "\n",
    "        # 总损失\n",
    "        loss = torch.sum(entropy_loss) + uniformity_loss\n",
    "        return loss\n",
    "\n",
    "class EdgeDiversityLoss2(nn.Module):\n",
    "    def __init__(self, non_zero_penalty_weight=1.0):\n",
    "        \"\"\"\n",
    "        自定义多样性损失函数\n",
    "        :param non_zero_penalty_weight: 控制非零惩罚的权重\n",
    "        \"\"\"\n",
    "        super(EdgeDiversityLoss2, self).__init__()\n",
    "        self.non_zero_penalty_weight = non_zero_penalty_weight\n",
    "\n",
    "    def forward(self, edge_weights):\n",
    "        \"\"\"\n",
    "        计算自定义多样性损失\n",
    "        :param edge_weights: 模型生成的边权重矩阵 (torch.Tensor)，形状为 (batch_size, num_edges)\n",
    "        :return: 计算出的多样性损失 (torch.Tensor)\n",
    "        \"\"\"\n",
    "        # 筛选出非零元素\n",
    "        non_zero_weights = edge_weights[edge_weights != 0]\n",
    "\n",
    "        # 计算非零元素的方差并取负\n",
    "        variance_loss = -torch.var(non_zero_weights)\n",
    "\n",
    "        # 计算非零惩罚：惩罚零权重的数量\n",
    "        non_zero_penalty = self.non_zero_penalty_weight * torch.sum((edge_weights == 0).float())\n",
    "\n",
    "        # 总损失：使用负方差作为多样性损失和非零惩罚的组合\n",
    "        loss = variance_loss + non_zero_penalty\n",
    "        return loss"
   ]
  },
  {
   "cell_type": "code",
   "execution_count": 8,
   "metadata": {},
   "outputs": [
    {
     "data": {
      "text/plain": [
       "(Data(x=[56044, 1], edge_index=[2, 65638], y=[1], edge_tf=[1577, 2], y_exp=[1530], cell='TCCATACCAATGATGCGGCATTCT'),\n",
       " 6)"
      ]
     },
     "execution_count": 8,
     "metadata": {},
     "output_type": "execute_result"
    }
   ],
   "source": [
    "graph[0], len(np.unique(dataset_atac.array_celltype))"
   ]
  },
  {
   "cell_type": "code",
   "execution_count": 9,
   "metadata": {},
   "outputs": [],
   "source": [
    "import torch\n",
    "import torch.nn as nn\n",
    "import torch.nn.functional as F\n",
    "from torch_geometric.nn import GATConv\n",
    "\n",
    "class SCReGAT(torch.nn.Module):\n",
    "    def __init__(self,\n",
    "                 node_input_dim=1,\n",
    "                 node_output_dim=8,\n",
    "                 edge_embedding_dim=8,\n",
    "                 hidden_channels=16,  # 增加 hidden_channels\n",
    "                 gat_input_channels=8,\n",
    "                 gat_hidden_channels=8,  # 增加 GAT 隐藏通道\n",
    "                 seq_dim=768,\n",
    "                 seq2node_dim=1,\n",
    "                 max_tokens=1024,\n",
    "                 dropout=0.2,  # 增加 dropout\n",
    "                 num_head_1=16,  # 增加 GAT 头数\n",
    "                 num_head_2=16):  # 增加 GAT 头数\n",
    "        super(SCReGAT, self).__init__()\n",
    "\n",
    "        # Sequence transformation layer (currently commented out in forward)\n",
    "        self.NN_seq = nn.Sequential(\n",
    "            nn.Linear(seq_dim, 512),\n",
    "            nn.LayerNorm(512),\n",
    "            nn.LeakyReLU(),\n",
    "            nn.Linear(512, 128),\n",
    "            nn.LayerNorm(128),\n",
    "            nn.LeakyReLU(),\n",
    "            nn.Linear(128, seq2node_dim),\n",
    "        )\n",
    "\n",
    "        # Node feature transformation with BatchNorm\n",
    "        self.NN_node = nn.Sequential(\n",
    "            nn.Linear(node_input_dim, 128),\n",
    "            nn.LayerNorm(128),\n",
    "            nn.LeakyReLU(),\n",
    "            nn.Linear(128, 64),\n",
    "            nn.LayerNorm(64),\n",
    "            nn.LeakyReLU(),\n",
    "            nn.Linear(64, node_output_dim),\n",
    "        )\n",
    "\n",
    "        # Edge feature transformation with BatchNorm\n",
    "        self.NN_edge = nn.Sequential(\n",
    "            nn.Linear(3, 16),\n",
    "            nn.LayerNorm(16),\n",
    "            nn.LeakyReLU(),\n",
    "            nn.Linear(16, edge_embedding_dim),\n",
    "            nn.LeakyReLU()\n",
    "        )\n",
    "\n",
    "        # GAT layers with increased heads and self-loops\n",
    "        self.NN_conv1 = GATConv(node_output_dim, hidden_channels, heads=num_head_1, dropout=dropout, edge_dim=edge_embedding_dim, add_self_loops=False)\n",
    "        self.NN_flatten1 = nn.Linear(num_head_1 * hidden_channels, hidden_channels)\n",
    "\n",
    "        self.NN_conv2 = GATConv(hidden_channels, hidden_channels, heads=num_head_2, dropout=dropout, add_self_loops=False)\n",
    "        self.NN_flatten2 = nn.Linear(num_head_2 * hidden_channels, hidden_channels)\n",
    "\n",
    "        self.dropout = nn.Dropout(0.1)  \n",
    "        self.relu = nn.ReLU()\n",
    "        self.leaky = nn.LeakyReLU()\n",
    "        \n",
    "        self.NN_cell_type = nn.Sequential(\n",
    "            nn.Linear(1530, 128),\n",
    "            nn.LayerNorm(128),\n",
    "            nn.LeakyReLU(),\n",
    "            nn.Linear(128, 64),\n",
    "            nn.LayerNorm(64),\n",
    "            nn.LeakyReLU(),\n",
    "            nn.Linear(64, 6),\n",
    "            nn.Softmax()\n",
    "        )\n",
    "        \n",
    "\n",
    "    def forward(self, seq_data, raw_x, edge_index, edge_tf, batch, gene_num, gene_id_vec, is_test=False):\n",
    "        data = raw_x\n",
    "        p_batch = batch.unique()\n",
    "        data = self.NN_node(data)\n",
    "        hidden_edge_input = torch.cat((raw_x[edge_index[0]] * raw_x[edge_index[1]], raw_x[edge_index[0]], raw_x[edge_index[1]]), dim=1)\n",
    "        self.data = data\n",
    "        hidden_edge = self.NN_edge(hidden_edge_input).tanh()\n",
    "        self.model_edge = hidden_edge\n",
    "        model.edge = torch.median(hidden_edge, dim=1)[0]\n",
    "        data, atten_w1 = self.NN_conv1(data, edge_index, edge_attr=hidden_edge, return_attention_weights=True)\n",
    "        data_1 = self.leaky(self.NN_flatten1(data))\n",
    "        data_2, atten_w2 = self.NN_conv2(data_1, edge_tf, return_attention_weights=True)\n",
    "        data_2 = self.leaky(self.NN_flatten2(data_2))\n",
    "        data = data_1 + data_2\n",
    "        self.data = data\n",
    "        if is_test == False:\n",
    "            cell_list = []\n",
    "            for t in p_batch:\n",
    "                cell_list.append(data[(batch == t) & (gene_id_vec == 1)])\n",
    "            temp = torch.mean(torch.stack(cell_list), dim=2)\n",
    "            cell_type = self.NN_cell_type(temp)\n",
    "        else:\n",
    "            cell_type = None\n",
    "            pass\n",
    "        gene_out = -F.log_softmax(data[gene_id_vec==1], dim=1)[:, 0]\n",
    "        return gene_out, atten_w1, cell_type\n",
    "\n",
    "import torch\n",
    "import torch.nn as nn"
   ]
  },
  {
   "cell_type": "code",
   "execution_count": 11,
   "metadata": {},
   "outputs": [],
   "source": [
    "model = SCReGAT()\n",
    "train_graph = balanced_train_graph"
   ]
  },
  {
   "cell_type": "code",
   "execution_count": 12,
   "metadata": {},
   "outputs": [
    {
     "name": "stdout",
     "output_type": "stream",
     "text": [
      "GPU is available\n",
      "Device name: GeForce RTX 3090\n"
     ]
    }
   ],
   "source": [
    "import torch\n",
    "\n",
    "# 检查GPU是否可用\n",
    "if torch.cuda.is_available():\n",
    "    print(\"GPU is available\")\n",
    "    print(\"Device name:\", torch.cuda.get_device_name(0))\n",
    "else:\n",
    "    print(\"GPU is not available\")\n"
   ]
  },
  {
   "cell_type": "code",
   "execution_count": 13,
   "metadata": {},
   "outputs": [],
   "source": [
    "import torch\n",
    "import random\n",
    "from tqdm import tqdm\n",
    "\n",
    "gene_num = len(sample.y_exp)\n",
    "device = 'cuda:0'\n",
    "model.to(device)\n",
    "loss_exp = torch.nn.KLDivLoss(reduction='batchmean')\n",
    "# loss_exp = torch.nn.MSELoss()\n",
    "optimizer = torch.optim.Adam(model.parameters(), lr=0.001)\n",
    "num_epoch = 10\n",
    "attention_reg_weight = 0.000001\n",
    "sparse_loss_weight = 0.0001\n",
    "info_weight = 0.01\n",
    "batch_size = 16\n",
    "criterion_sparse1 = EdgeDiversityLoss1(diversity_weight=1.0)\n",
    "criterion_sparse2 = EdgeDiversityLoss2(non_zero_penalty_weight=1.0)\n",
    "criterion2 = torch.nn.CrossEntropyLoss()\n",
    "max_grad_norm = 1.0\n"
   ]
  },
  {
   "cell_type": "code",
   "execution_count": 16,
   "metadata": {},
   "outputs": [
    {
     "name": "stderr",
     "output_type": "stream",
     "text": [
      "Epoch 1/10:   0%|          | 1/207 [00:00<00:51,  3.97batch/s, attention_loss=3.36, cell_loss=1.79, loss=7.02, loss1=0.00762, sparse_loss=1.86]"
     ]
    },
    {
     "name": "stdout",
     "output_type": "stream",
     "text": [
      "tensor([2.8074, 2.8113, 2.8116,  ..., 2.8118, 2.8121, 2.8098], device='cuda:0',\n",
      "       grad_fn=<NegBackward0>) tensor([-0.0022, -0.0025, -0.0025,  ..., -0.0025, -0.0025, -0.0012],\n",
      "       device='cuda:0', grad_fn=<MedianBackward1>) (tensor([[ 21068,  21083,  21084,  ..., 896674, 896701, 896703],\n",
      "        [     0,      1,      1,  ..., 842188, 842189, 842189]],\n",
      "       device='cuda:0'), tensor([[0.0000, 0.0219, 0.0215,  ..., 0.0218, 0.0226, 0.0218],\n",
      "        [0.0405, 0.0391, 0.0389,  ..., 0.0405, 0.0378, 0.0000],\n",
      "        [0.0405, 0.0391, 0.0389,  ..., 0.0405, 0.0000, 0.0000],\n",
      "        ...,\n",
      "        [0.0313, 0.0305, 0.0304,  ..., 0.0313, 0.0297, 0.0000],\n",
      "        [0.0761, 0.0736, 0.0733,  ..., 0.0761, 0.0000, 0.0733],\n",
      "        [0.0686, 0.0734, 0.0737,  ..., 0.0703, 0.0773, 0.0000]],\n",
      "       device='cuda:0', grad_fn=<NativeDropoutBackward0>))\n",
      "gene_pre: tensor([2.8074, 2.8113, 2.8116,  ..., 2.8118, 2.8121, 2.8098], device='cuda:0',\n",
      "       grad_fn=<NegBackward0>), loss_cell: 1.7932230234146118, attention_loss: 3.3624889850616455, sparse_loss: 1.8608838319778442\n"
     ]
    },
    {
     "name": "stderr",
     "output_type": "stream",
     "text": [
      "Epoch 1/10:  97%|█████████▋| 201/207 [00:57<00:01,  3.56batch/s, attention_loss=3.36, cell_loss=1.19, loss=6.4, loss1=0.00792, sparse_loss=1.85] "
     ]
    },
    {
     "name": "stdout",
     "output_type": "stream",
     "text": [
      "tensor([2.7738, 2.7741, 2.7747,  ..., 2.7745, 2.7744, 2.7741], device='cuda:0',\n",
      "       grad_fn=<NegBackward0>) tensor([-8.7324e-03, -6.2010e-03, -5.7487e-03,  ..., -4.2085e-05,\n",
      "         1.1203e-01, -7.9115e-04], device='cuda:0', grad_fn=<MedianBackward1>) (tensor([[ 21068,  21083,  21084,  ..., 896674, 896701, 896703],\n",
      "        [     0,      1,      1,  ..., 842188, 842189, 842189]],\n",
      "       device='cuda:0'), tensor([[0.0224, 0.0381, 0.0232,  ..., 0.0343, 0.0000, 0.0313],\n",
      "        [0.0393, 0.0000, 0.0394,  ..., 0.0000, 0.0394, 0.0398],\n",
      "        [0.0379, 0.0114, 0.0000,  ..., 0.0191, 0.0230, 0.0208],\n",
      "        ...,\n",
      "        [0.0230, 0.0197, 0.0218,  ..., 0.0238, 0.0162, 0.0279],\n",
      "        [0.0825, 0.1266, 0.0918,  ..., 0.0000, 0.0000, 0.0000],\n",
      "        [0.0684, 0.0471, 0.0000,  ..., 0.0559, 0.0576, 0.0666]],\n",
      "       device='cuda:0', grad_fn=<NativeDropoutBackward0>))\n",
      "gene_pre: tensor([2.7738, 2.7741, 2.7747,  ..., 2.7745, 2.7744, 2.7741], device='cuda:0',\n",
      "       grad_fn=<NegBackward0>), loss_cell: 1.050493597984314, attention_loss: 3.362257957458496, sparse_loss: 1.8355371952056885\n"
     ]
    },
    {
     "name": "stderr",
     "output_type": "stream",
     "text": [
      "Epoch 1/10: 100%|██████████| 207/207 [00:58<00:00,  3.53batch/s, attention_loss=3.35, cell_loss=1.18, loss=6.39, loss1=0.00792, sparse_loss=1.85]\n"
     ]
    },
    {
     "name": "stdout",
     "output_type": "stream",
     "text": [
      "Epoch [1/10], Average Loss: 6.3924, Loss1: 0.0079, Attention Loss: 3.3545, Sparse Loss: 1.8463, Cell Loss: 1.1837, InfoNCE Loss: 0.0000\n"
     ]
    },
    {
     "name": "stderr",
     "output_type": "stream",
     "text": [
      "Epoch 2/10:   0%|          | 1/207 [00:00<00:56,  3.68batch/s, attention_loss=3.36, cell_loss=1.05, loss=6.25, loss1=0.00755, sparse_loss=1.83]"
     ]
    },
    {
     "name": "stdout",
     "output_type": "stream",
     "text": [
      "tensor([2.7743, 2.7741, 2.7753,  ..., 2.7745, 2.7746, 2.7747], device='cuda:0',\n",
      "       grad_fn=<NegBackward0>) tensor([-0.0067, -0.0070, -0.0075,  ..., -0.0043,  0.9637,  0.9513],\n",
      "       device='cuda:0', grad_fn=<MedianBackward1>) (tensor([[ 21068,  21083,  21084,  ..., 896674, 896701, 896703],\n",
      "        [     0,      1,      1,  ..., 842188, 842189, 842189]],\n",
      "       device='cuda:0'), tensor([[0.0000, 0.0432, 0.0236,  ..., 0.0366, 0.0322, 0.0339],\n",
      "        [0.0402, 0.0759, 0.0420,  ..., 0.0000, 0.0560, 0.0595],\n",
      "        [0.0000, 0.0785, 0.0419,  ..., 0.0678, 0.0551, 0.0602],\n",
      "        ...,\n",
      "        [0.0298, 0.0116, 0.0285,  ..., 0.0171, 0.0201, 0.0000],\n",
      "        [0.0944, 0.1284, 0.0000,  ..., 0.1098, 0.1259, 0.0822],\n",
      "        [0.0857, 0.0609, 0.0711,  ..., 0.0646, 0.0750, 0.0739]],\n",
      "       device='cuda:0', grad_fn=<NativeDropoutBackward0>))\n",
      "gene_pre: tensor([2.7743, 2.7741, 2.7753,  ..., 2.7745, 2.7746, 2.7747], device='cuda:0',\n",
      "       grad_fn=<NegBackward0>), loss_cell: 1.050239086151123, attention_loss: 3.3587849140167236, sparse_loss: 1.8340026140213013\n"
     ]
    },
    {
     "name": "stderr",
     "output_type": "stream",
     "text": [
      "Epoch 2/10:  97%|█████████▋| 201/207 [00:55<00:01,  3.34batch/s, attention_loss=3.36, cell_loss=1.05, loss=6.24, loss1=0.00787, sparse_loss=1.82]"
     ]
    },
    {
     "name": "stdout",
     "output_type": "stream",
     "text": [
      "tensor([2.7707, 2.7709, 2.7718,  ..., 2.4789, 2.5034, 2.5275], device='cuda:0',\n",
      "       grad_fn=<NegBackward0>) tensor([ 0.9925,  0.9842,  0.9964,  ..., -0.0017,  0.9968, -0.0017],\n",
      "       device='cuda:0', grad_fn=<MedianBackward1>) (tensor([[ 21068,  21083,  21084,  ..., 896674, 896701, 896703],\n",
      "        [     0,      1,      1,  ..., 842188, 842189, 842189]],\n",
      "       device='cuda:0'), tensor([[0.0231, 0.0498, 0.0240,  ..., 0.0394, 0.0000, 0.0371],\n",
      "        [0.0366, 0.0247, 0.0000,  ..., 0.0312, 0.0282, 0.0358],\n",
      "        [0.0419, 0.0409, 0.0385,  ..., 0.0357, 0.0457, 0.0396],\n",
      "        ...,\n",
      "        [0.0000, 0.0274, 0.0265,  ..., 0.0277, 0.0244, 0.0292],\n",
      "        [0.0000, 0.0912, 0.0000,  ..., 0.0896, 0.1421, 0.0881],\n",
      "        [0.0674, 0.0686, 0.0000,  ..., 0.0000, 0.0627, 0.0000]],\n",
      "       device='cuda:0', grad_fn=<NativeDropoutBackward0>))\n",
      "gene_pre: tensor([2.7707, 2.7709, 2.7718,  ..., 2.4789, 2.5034, 2.5275], device='cuda:0',\n",
      "       grad_fn=<NegBackward0>), loss_cell: 1.0460073947906494, attention_loss: 3.361707925796509, sparse_loss: 1.8057668209075928\n"
     ]
    },
    {
     "name": "stderr",
     "output_type": "stream",
     "text": [
      "Epoch 2/10: 100%|██████████| 207/207 [00:56<00:00,  3.65batch/s, attention_loss=3.35, cell_loss=1.05, loss=6.23, loss1=0.00786, sparse_loss=1.81]\n"
     ]
    },
    {
     "name": "stdout",
     "output_type": "stream",
     "text": [
      "Epoch [2/10], Average Loss: 6.2274, Loss1: 0.0079, Attention Loss: 3.3546, Sparse Loss: 1.8145, Cell Loss: 1.0505, InfoNCE Loss: 0.0000\n"
     ]
    },
    {
     "name": "stderr",
     "output_type": "stream",
     "text": [
      "Epoch 3/10:   0%|          | 1/207 [00:00<00:58,  3.53batch/s, attention_loss=3.36, cell_loss=1.05, loss=6.22, loss1=0.00762, sparse_loss=1.81]"
     ]
    },
    {
     "name": "stdout",
     "output_type": "stream",
     "text": [
      "tensor([2.7706, 2.5036, 2.7705,  ..., 2.7701, 2.7711, 2.7719], device='cuda:0',\n",
      "       grad_fn=<NegBackward0>) tensor([ 0.9934, -0.0018, -0.0018,  ...,  0.9845,  0.9968,  0.9951],\n",
      "       device='cuda:0', grad_fn=<MedianBackward1>) (tensor([[ 21068,  21083,  21084,  ..., 896674, 896701, 896703],\n",
      "        [     0,      1,      1,  ..., 842188, 842189, 842189]],\n",
      "       device='cuda:0'), tensor([[0.0231, 0.0528, 0.0242,  ..., 0.0412, 0.0000, 0.0405],\n",
      "        [0.0290, 0.0328, 0.0313,  ..., 0.0341, 0.0265, 0.0355],\n",
      "        [0.0290, 0.0328, 0.0000,  ..., 0.0341, 0.0265, 0.0355],\n",
      "        ...,\n",
      "        [0.0298, 0.0000, 0.0237,  ..., 0.0271, 0.0224, 0.0287],\n",
      "        [0.0880, 0.0000, 0.0848,  ..., 0.0000, 0.0905, 0.0792],\n",
      "        [0.0798, 0.0642, 0.0000,  ..., 0.0000, 0.0608, 0.0720]],\n",
      "       device='cuda:0', grad_fn=<NativeDropoutBackward0>))\n",
      "gene_pre: tensor([2.7706, 2.5036, 2.7705,  ..., 2.7701, 2.7711, 2.7719], device='cuda:0',\n",
      "       grad_fn=<NegBackward0>), loss_cell: 1.0453126430511475, attention_loss: 3.360227108001709, sparse_loss: 1.8088905811309814\n"
     ]
    },
    {
     "name": "stderr",
     "output_type": "stream",
     "text": [
      "Epoch 3/10:  97%|█████████▋| 201/207 [00:56<00:01,  3.62batch/s, attention_loss=3.36, cell_loss=1.05, loss=6.22, loss1=0.00787, sparse_loss=1.81]"
     ]
    },
    {
     "name": "stdout",
     "output_type": "stream",
     "text": [
      "tensor([2.7706, 2.7742, 0.1483,  ..., 2.7731, 2.7732, 2.7734], device='cuda:0',\n",
      "       grad_fn=<NegBackward0>) tensor([ 0.9975, -0.0098,  0.9991,  ..., -0.0064,  0.9986, -0.0131],\n",
      "       device='cuda:0', grad_fn=<MedianBackward1>) (tensor([[ 21068,  21083,  21084,  ..., 896674, 896701, 896703],\n",
      "        [     0,      1,      1,  ..., 842188, 842189, 842189]],\n",
      "       device='cuda:0'), tensor([[0.0246, 0.0576, 0.0258,  ..., 0.0479, 0.0492, 0.0000],\n",
      "        [0.0269, 0.0126, 0.0233,  ..., 0.0169, 0.0119, 0.0266],\n",
      "        [0.0514, 0.0639, 0.0548,  ..., 0.0000, 0.0671, 0.0516],\n",
      "        ...,\n",
      "        [0.0172, 0.0129, 0.0133,  ..., 0.0134, 0.0092, 0.0256],\n",
      "        [0.0794, 0.1206, 0.0814,  ..., 0.1112, 0.1133, 0.1096],\n",
      "        [0.0000, 0.0000, 0.0625,  ..., 0.0000, 0.0173, 0.0215]],\n",
      "       device='cuda:0', grad_fn=<NativeDropoutBackward0>))\n",
      "gene_pre: tensor([2.7706, 2.7742, 0.1483,  ..., 2.7731, 2.7732, 2.7734], device='cuda:0',\n",
      "       grad_fn=<NegBackward0>), loss_cell: 1.0442800521850586, attention_loss: 3.362030029296875, sparse_loss: 1.8081285953521729\n"
     ]
    },
    {
     "name": "stderr",
     "output_type": "stream",
     "text": [
      "Epoch 3/10: 100%|██████████| 207/207 [00:58<00:00,  3.55batch/s, attention_loss=3.35, cell_loss=1.05, loss=6.22, loss1=0.00787, sparse_loss=1.81]\n"
     ]
    },
    {
     "name": "stdout",
     "output_type": "stream",
     "text": [
      "Epoch [3/10], Average Loss: 6.2163, Loss1: 0.0079, Attention Loss: 3.3547, Sparse Loss: 1.8054, Cell Loss: 1.0484, InfoNCE Loss: 0.0000\n"
     ]
    },
    {
     "name": "stderr",
     "output_type": "stream",
     "text": [
      "Epoch 4/10:   0%|          | 1/207 [00:00<00:57,  3.57batch/s, attention_loss=3.36, cell_loss=1.04, loss=6.22, loss1=0.00838, sparse_loss=1.81]"
     ]
    },
    {
     "name": "stdout",
     "output_type": "stream",
     "text": [
      "tensor([2.7717, 2.7724, 2.2866,  ..., 2.7718, 2.7714, 2.7747], device='cuda:0',\n",
      "       grad_fn=<NegBackward0>) tensor([ 0.9989,  0.9986, -0.0066,  ..., -0.0066,  0.9990,  0.9991],\n",
      "       device='cuda:0', grad_fn=<MedianBackward1>) (tensor([[ 21068,  21083,  21084,  ..., 896674, 896701, 896703],\n",
      "        [     0,      1,      1,  ..., 842188, 842189, 842189]],\n",
      "       device='cuda:0'), tensor([[0.0241, 0.0000, 0.0253,  ..., 0.0483, 0.0463, 0.0429],\n",
      "        [0.0467, 0.0343, 0.0448,  ..., 0.0351, 0.0465, 0.0417],\n",
      "        [0.0219, 0.0212, 0.0193,  ..., 0.0221, 0.0133, 0.0000],\n",
      "        ...,\n",
      "        [0.0192, 0.0157, 0.0157,  ..., 0.0164, 0.0112, 0.0266],\n",
      "        [0.0807, 0.1490, 0.0854,  ..., 0.1331, 0.1324, 0.0000],\n",
      "        [0.0776, 0.0490, 0.0000,  ..., 0.0000, 0.0669, 0.0717]],\n",
      "       device='cuda:0', grad_fn=<NativeDropoutBackward0>))\n",
      "gene_pre: tensor([2.7717, 2.7724, 2.2866,  ..., 2.7718, 2.7714, 2.7747], device='cuda:0',\n",
      "       grad_fn=<NegBackward0>), loss_cell: 1.0442663431167603, attention_loss: 3.3590800762176514, sparse_loss: 1.8063284158706665\n"
     ]
    },
    {
     "name": "stderr",
     "output_type": "stream",
     "text": [
      "Epoch 4/10:  97%|█████████▋| 201/207 [00:56<00:01,  3.50batch/s, attention_loss=3.36, cell_loss=1.05, loss=6.22, loss1=0.00726, sparse_loss=1.8] "
     ]
    },
    {
     "name": "stdout",
     "output_type": "stream",
     "text": [
      "tensor([0.0175, 0.2109, 0.0115,  ..., 0.8663, 1.1752, 0.6911], device='cuda:0',\n",
      "       grad_fn=<NegBackward0>) tensor([ 0.9994,  0.9993,  0.9993,  ..., -0.0140,  0.9996, -0.0320],\n",
      "       device='cuda:0', grad_fn=<MedianBackward1>) (tensor([[ 21068,  21083,  21084,  ..., 896674, 896701, 896703],\n",
      "        [     0,      1,      1,  ..., 842188, 842189, 842189]],\n",
      "       device='cuda:0'), tensor([[0.0220, 0.0000, 0.0229,  ..., 0.0273, 0.0366, 0.0000],\n",
      "        [0.0398, 0.0000, 0.0501,  ..., 0.0423, 0.0579, 0.0422],\n",
      "        [0.0398, 0.0511, 0.0501,  ..., 0.0423, 0.0576, 0.0421],\n",
      "        ...,\n",
      "        [0.0280, 0.0210, 0.0000,  ..., 0.0000, 0.0128, 0.0272],\n",
      "        [0.0738, 0.1580, 0.0784,  ..., 0.0860, 0.0000, 0.0908],\n",
      "        [0.0000, 0.0240, 0.0697,  ..., 0.0000, 0.0000, 0.0622]],\n",
      "       device='cuda:0', grad_fn=<NativeDropoutBackward0>))\n",
      "gene_pre: tensor([0.0175, 0.2109, 0.0115,  ..., 0.8663, 1.1752, 0.6911], device='cuda:0',\n",
      "       grad_fn=<NegBackward0>), loss_cell: 1.0568500757217407, attention_loss: 3.36257004737854, sparse_loss: 1.8059111833572388\n"
     ]
    },
    {
     "name": "stderr",
     "output_type": "stream",
     "text": [
      "Epoch 4/10: 100%|██████████| 207/207 [00:58<00:00,  3.54batch/s, attention_loss=3.35, cell_loss=1.05, loss=6.21, loss1=0.00722, sparse_loss=1.8]\n"
     ]
    },
    {
     "name": "stdout",
     "output_type": "stream",
     "text": [
      "Epoch [4/10], Average Loss: 6.2125, Loss1: 0.0072, Attention Loss: 3.3546, Sparse Loss: 1.8034, Cell Loss: 1.0473, InfoNCE Loss: 0.0000\n"
     ]
    },
    {
     "name": "stderr",
     "output_type": "stream",
     "text": [
      "Epoch 5/10:   0%|          | 1/207 [00:00<01:02,  3.30batch/s, attention_loss=3.36, cell_loss=1.04, loss=6.21, loss1=0.00634, sparse_loss=1.8]"
     ]
    },
    {
     "name": "stdout",
     "output_type": "stream",
     "text": [
      "tensor([0.7238, 0.9151, 2.5192,  ..., 2.1690, 2.1386, 1.6227], device='cuda:0',\n",
      "       grad_fn=<NegBackward0>) tensor([ 0.9995, -0.0546,  0.9991,  ..., -0.0143,  0.9995,  0.9995],\n",
      "       device='cuda:0', grad_fn=<MedianBackward1>) (tensor([[ 21068,  21083,  21084,  ..., 896674, 896701, 896703],\n",
      "        [     0,      1,      1,  ..., 842188, 842189, 842189]],\n",
      "       device='cuda:0'), tensor([[0.0223, 0.0407, 0.0000,  ..., 0.0000, 0.0000, 0.0000],\n",
      "        [0.0381, 0.0090, 0.0369,  ..., 0.0000, 0.0155, 0.0227],\n",
      "        [0.0000, 0.0716, 0.0000,  ..., 0.0504, 0.0591, 0.0541],\n",
      "        ...,\n",
      "        [0.0253, 0.0238, 0.0199,  ..., 0.0276, 0.0000, 0.0264],\n",
      "        [0.0813, 0.0926, 0.0000,  ..., 0.0000, 0.0000, 0.0843],\n",
      "        [0.0847, 0.0802, 0.0831,  ..., 0.0755, 0.0840, 0.0786]],\n",
      "       device='cuda:0', grad_fn=<NativeDropoutBackward0>))\n",
      "gene_pre: tensor([0.7238, 0.9151, 2.5192,  ..., 2.1690, 2.1386, 1.6227], device='cuda:0',\n",
      "       grad_fn=<NegBackward0>), loss_cell: 1.0444681644439697, attention_loss: 3.3582279682159424, sparse_loss: 1.8033640384674072\n"
     ]
    },
    {
     "name": "stderr",
     "output_type": "stream",
     "text": [
      "Epoch 5/10:  97%|█████████▋| 201/207 [00:58<00:01,  3.58batch/s, attention_loss=3.36, cell_loss=1.05, loss=6.21, loss1=0.00653, sparse_loss=1.8]"
     ]
    },
    {
     "name": "stdout",
     "output_type": "stream",
     "text": [
      "tensor([4.5418e-05, 5.1259e-05, 3.7288e-02,  ..., 2.0232e-01, 7.2877e-01,\n",
      "        1.2308e+00], device='cuda:0', grad_fn=<NegBackward0>) tensor([ 0.9998, -0.1282, -0.1282,  ..., -0.0865,  0.9997, -0.0234],\n",
      "       device='cuda:0', grad_fn=<MedianBackward1>) (tensor([[ 21068,  21083,  21084,  ..., 896674, 896701, 896703],\n",
      "        [     0,      1,      1,  ..., 842188, 842189, 842189]],\n",
      "       device='cuda:0'), tensor([[0.0247, 0.0960, 0.0000,  ..., 0.0242, 0.0592, 0.0444],\n",
      "        [0.0369, 0.0072, 0.0367,  ..., 0.0380, 0.0180, 0.0000],\n",
      "        [0.0369, 0.0000, 0.0000,  ..., 0.0380, 0.0180, 0.0263],\n",
      "        ...,\n",
      "        [0.0189, 0.0175, 0.0209,  ..., 0.0296, 0.0128, 0.0281],\n",
      "        [0.1126, 0.1044, 0.1372,  ..., 0.0829, 0.1473, 0.0873],\n",
      "        [0.0418, 0.0000, 0.0365,  ..., 0.0683, 0.0321, 0.0640]],\n",
      "       device='cuda:0', grad_fn=<NativeDropoutBackward0>))\n",
      "gene_pre: tensor([4.5418e-05, 5.1259e-05, 3.7288e-02,  ..., 2.0232e-01, 7.2877e-01,\n",
      "        1.2308e+00], device='cuda:0', grad_fn=<NegBackward0>), loss_cell: 1.0440529584884644, attention_loss: 3.35998797416687, sparse_loss: 1.7978456020355225\n"
     ]
    },
    {
     "name": "stderr",
     "output_type": "stream",
     "text": [
      "Epoch 5/10: 100%|██████████| 207/207 [00:59<00:00,  3.47batch/s, attention_loss=3.35, cell_loss=1.05, loss=6.21, loss1=0.0065, sparse_loss=1.8] \n"
     ]
    },
    {
     "name": "stdout",
     "output_type": "stream",
     "text": [
      "Epoch [5/10], Average Loss: 6.2058, Loss1: 0.0065, Attention Loss: 3.3545, Sparse Loss: 1.7993, Cell Loss: 1.0455, InfoNCE Loss: 0.0000\n"
     ]
    },
    {
     "name": "stderr",
     "output_type": "stream",
     "text": [
      "Epoch 6/10:   0%|          | 1/207 [00:00<00:55,  3.70batch/s, attention_loss=3.36, cell_loss=1.04, loss=6.21, loss1=0.00553, sparse_loss=1.8]"
     ]
    },
    {
     "name": "stdout",
     "output_type": "stream",
     "text": [
      "tensor([1.0514e-04, 2.2680e-03, 4.0440e-01,  ..., 8.1362e-01, 9.2417e-01,\n",
      "        1.0428e+00], device='cuda:0', grad_fn=<NegBackward0>) tensor([ 0.9998, -0.1312, -0.1312,  ..., -0.0238,  0.9997, -0.0238],\n",
      "       device='cuda:0', grad_fn=<MedianBackward1>) (tensor([[ 21068,  21083,  21084,  ..., 896674, 896701, 896703],\n",
      "        [     0,      1,      1,  ..., 842188, 842189, 842189]],\n",
      "       device='cuda:0'), tensor([[0.0241, 0.0731, 0.0253,  ..., 0.0000, 0.0501, 0.0404],\n",
      "        [0.0355, 0.0047, 0.0353,  ..., 0.0376, 0.0000, 0.0000],\n",
      "        [0.0000, 0.0047, 0.0353,  ..., 0.0000, 0.0131, 0.0221],\n",
      "        ...,\n",
      "        [0.0168, 0.0210, 0.0135,  ..., 0.0277, 0.0114, 0.0259],\n",
      "        [0.1025, 0.0956, 0.0000,  ..., 0.0000, 0.1197, 0.0838],\n",
      "        [0.0388, 0.0492, 0.0308,  ..., 0.0662, 0.0000, 0.0616]],\n",
      "       device='cuda:0', grad_fn=<NativeDropoutBackward0>))\n",
      "gene_pre: tensor([1.0514e-04, 2.2680e-03, 4.0440e-01,  ..., 8.1362e-01, 9.2417e-01,\n",
      "        1.0428e+00], device='cuda:0', grad_fn=<NegBackward0>), loss_cell: 1.0438504219055176, attention_loss: 3.36047101020813, sparse_loss: 1.799683690071106\n"
     ]
    },
    {
     "name": "stderr",
     "output_type": "stream",
     "text": [
      "Epoch 6/10:  97%|█████████▋| 201/207 [00:58<00:01,  3.63batch/s, attention_loss=3.36, cell_loss=1.05, loss=6.2, loss1=0.00543, sparse_loss=1.79] "
     ]
    },
    {
     "name": "stdout",
     "output_type": "stream",
     "text": [
      "tensor([2.8082e-04, 1.4137e-04, 3.4622e-02,  ..., 1.0498e+00, 1.2537e+00,\n",
      "        1.0164e+00], device='cuda:0', grad_fn=<NegBackward0>) tensor([ 1.0000, -0.2407, -0.2407,  ..., -0.2388,  0.9998, -0.2350],\n",
      "       device='cuda:0', grad_fn=<MedianBackward1>) (tensor([[ 21068,  21083,  21084,  ..., 896674, 896701, 896703],\n",
      "        [     0,      1,      1,  ..., 842188, 842189, 842189]],\n",
      "       device='cuda:0'), tensor([[0.0242, 0.0000, 0.0000,  ..., 0.0241, 0.0408, 0.0378],\n",
      "        [0.0000, 0.0035, 0.0354,  ..., 0.0367, 0.0134, 0.0199],\n",
      "        [0.0352, 0.0035, 0.0354,  ..., 0.0367, 0.0134, 0.0199],\n",
      "        ...,\n",
      "        [0.0000, 0.0213, 0.0167,  ..., 0.0290, 0.0000, 0.0272],\n",
      "        [0.0694, 0.0643, 0.0495,  ..., 0.0672, 0.0501, 0.0681],\n",
      "        [0.0443, 0.0559, 0.0000,  ..., 0.0709, 0.0429, 0.0679]],\n",
      "       device='cuda:0', grad_fn=<NativeDropoutBackward0>))\n",
      "gene_pre: tensor([2.8082e-04, 1.4137e-04, 3.4622e-02,  ..., 1.0498e+00, 1.2537e+00,\n",
      "        1.0164e+00], device='cuda:0', grad_fn=<NegBackward0>), loss_cell: 1.0439194440841675, attention_loss: 3.3616480827331543, sparse_loss: 1.7765414714813232\n"
     ]
    },
    {
     "name": "stderr",
     "output_type": "stream",
     "text": [
      "Epoch 6/10: 100%|██████████| 207/207 [00:59<00:00,  3.46batch/s, attention_loss=3.35, cell_loss=1.05, loss=6.19, loss1=0.00544, sparse_loss=1.79]\n"
     ]
    },
    {
     "name": "stdout",
     "output_type": "stream",
     "text": [
      "Epoch [6/10], Average Loss: 6.1938, Loss1: 0.0054, Attention Loss: 3.3546, Sparse Loss: 1.7878, Cell Loss: 1.0459, InfoNCE Loss: 0.0000\n"
     ]
    },
    {
     "name": "stderr",
     "output_type": "stream",
     "text": [
      "Epoch 7/10:   0%|          | 1/207 [00:00<00:56,  3.66batch/s, attention_loss=3.36, cell_loss=1.04, loss=6.19, loss1=0.00596, sparse_loss=1.78]"
     ]
    },
    {
     "name": "stdout",
     "output_type": "stream",
     "text": [
      "tensor([4.7893e-03, 9.6299e-04, 1.1921e-07,  ..., 1.0799e+00, 2.7620e+00,\n",
      "        3.5104e+00], device='cuda:0', grad_fn=<NegBackward0>) tensor([ 0.9999, -0.2448,  1.0000,  ..., -0.2407,  0.9999, -0.2407],\n",
      "       device='cuda:0', grad_fn=<MedianBackward1>) (tensor([[ 21068,  21083,  21084,  ..., 896674, 896701, 896703],\n",
      "        [     0,      1,      1,  ..., 842188, 842189, 842189]],\n",
      "       device='cuda:0'), tensor([[0.0275, 0.0667, 0.0280,  ..., 0.0283, 0.0468, 0.0000],\n",
      "        [0.0333, 0.0000, 0.0335,  ..., 0.0343, 0.0176, 0.0158],\n",
      "        [0.0448, 0.0395, 0.0431,  ..., 0.0382, 0.0513, 0.0472],\n",
      "        ...,\n",
      "        [0.0107, 0.0239, 0.0107,  ..., 0.0000, 0.0000, 0.0269],\n",
      "        [0.1998, 0.1091, 0.1951,  ..., 0.0847, 0.1502, 0.0930],\n",
      "        [0.0327, 0.0000, 0.0000,  ..., 0.0685, 0.0490, 0.0673]],\n",
      "       device='cuda:0', grad_fn=<NativeDropoutBackward0>))\n",
      "gene_pre: tensor([4.7893e-03, 9.6299e-04, 1.1921e-07,  ..., 1.0799e+00, 2.7620e+00,\n",
      "        3.5104e+00], device='cuda:0', grad_fn=<NegBackward0>), loss_cell: 1.04387629032135, attention_loss: 3.3607099056243896, sparse_loss: 1.7751524448394775\n"
     ]
    },
    {
     "name": "stderr",
     "output_type": "stream",
     "text": [
      "Epoch 7/10:  97%|█████████▋| 201/207 [00:58<00:01,  3.38batch/s, attention_loss=3.36, cell_loss=1.04, loss=6.18, loss1=0.00589, sparse_loss=1.77]"
     ]
    },
    {
     "name": "stdout",
     "output_type": "stream",
     "text": [
      "tensor([-0.0000, 0.0202, 0.0821,  ..., 1.1083, 1.2773, 3.7642],\n",
      "       device='cuda:0', grad_fn=<NegBackward0>) tensor([ 1.0000, -0.3457, -0.3457,  ...,  0.9999,  0.9999, -0.3457],\n",
      "       device='cuda:0', grad_fn=<MedianBackward1>) (tensor([[ 21068,  21083,  21084,  ..., 896674, 896701, 896703],\n",
      "        [     0,      1,      1,  ..., 842188, 842189, 842189]],\n",
      "       device='cuda:0'), tensor([[0.0299, 0.1089, 0.0000,  ..., 0.0255, 0.0634, 0.0797],\n",
      "        [0.0165, 0.0308, 0.0178,  ..., 0.0000, 0.0209, 0.0348],\n",
      "        [0.0165, 0.0308, 0.0000,  ..., 0.0354, 0.0209, 0.0000],\n",
      "        ...,\n",
      "        [0.0241, 0.0266, 0.0158,  ..., 0.0263, 0.0182, 0.0281],\n",
      "        [0.1274, 0.0930, 0.0000,  ..., 0.0739, 0.1055, 0.0847],\n",
      "        [0.0326, 0.0590, 0.0398,  ..., 0.0704, 0.0437, 0.0658]],\n",
      "       device='cuda:0', grad_fn=<NativeDropoutBackward0>))\n",
      "gene_pre: tensor([-0.0000, 0.0202, 0.0821,  ..., 1.1083, 1.2773, 3.7642],\n",
      "       device='cuda:0', grad_fn=<NegBackward0>), loss_cell: 1.0438346862792969, attention_loss: 3.358431100845337, sparse_loss: 1.7647039890289307\n"
     ]
    },
    {
     "name": "stderr",
     "output_type": "stream",
     "text": [
      "Epoch 7/10: 100%|██████████| 207/207 [01:00<00:00,  3.41batch/s, attention_loss=3.35, cell_loss=1.04, loss=6.17, loss1=0.00588, sparse_loss=1.77]\n"
     ]
    },
    {
     "name": "stdout",
     "output_type": "stream",
     "text": [
      "Epoch [7/10], Average Loss: 6.1743, Loss1: 0.0059, Attention Loss: 3.3545, Sparse Loss: 1.7692, Cell Loss: 1.0447, InfoNCE Loss: 0.0000\n"
     ]
    },
    {
     "name": "stderr",
     "output_type": "stream",
     "text": [
      "Epoch 8/10:   0%|          | 1/207 [00:00<00:58,  3.52batch/s, attention_loss=3.36, cell_loss=1.04, loss=6.17, loss1=0.00532, sparse_loss=1.76]"
     ]
    },
    {
     "name": "stdout",
     "output_type": "stream",
     "text": [
      "tensor([-0.0000, 0.1366, -0.0000,  ..., 0.7221, 1.5191, 2.0282],\n",
      "       device='cuda:0', grad_fn=<NegBackward0>) tensor([ 1.0000, -0.3489,  0.9999,  ...,  0.9999,  0.9999,  0.9999],\n",
      "       device='cuda:0', grad_fn=<MedianBackward1>) (tensor([[ 21068,  21083,  21084,  ..., 896674, 896701, 896703],\n",
      "        [     0,      1,      1,  ..., 842188, 842189, 842189]],\n",
      "       device='cuda:0'), tensor([[0.0279, 0.0972, 0.0000,  ..., 0.0255, 0.0551, 0.0678],\n",
      "        [0.0000, 0.0264, 0.0135,  ..., 0.0000, 0.0159, 0.0320],\n",
      "        [0.0836, 0.0600, 0.0000,  ..., 0.0514, 0.0808, 0.0504],\n",
      "        ...,\n",
      "        [0.0167, 0.0223, 0.0105,  ..., 0.0238, 0.0126, 0.0254],\n",
      "        [0.1463, 0.0000, 0.1472,  ..., 0.0919, 0.0000, 0.0930],\n",
      "        [0.1463, 0.1082, 0.0000,  ..., 0.0919, 0.1399, 0.0000]],\n",
      "       device='cuda:0', grad_fn=<NativeDropoutBackward0>))\n",
      "gene_pre: tensor([-0.0000, 0.1366, -0.0000,  ..., 0.7221, 1.5191, 2.0282],\n",
      "       device='cuda:0', grad_fn=<NegBackward0>), loss_cell: 1.04376220703125, attention_loss: 3.3597869873046875, sparse_loss: 1.763811707496643\n"
     ]
    },
    {
     "name": "stderr",
     "output_type": "stream",
     "text": [
      "Epoch 8/10:  97%|█████████▋| 201/207 [00:56<00:01,  3.66batch/s, attention_loss=3.36, cell_loss=1.04, loss=6.17, loss1=0.0054, sparse_loss=1.76] "
     ]
    },
    {
     "name": "stdout",
     "output_type": "stream",
     "text": [
      "tensor([-0.0000e+00, 2.4217e-03, 1.1921e-07,  ..., 3.9081e-01, 5.9637e-01,\n",
      "        4.1923e-01], device='cuda:0', grad_fn=<NegBackward0>) tensor([ 1.0000, -0.4316,  1.0000,  ..., -0.4318,  1.0000, -0.4316],\n",
      "       device='cuda:0', grad_fn=<MedianBackward1>) (tensor([[ 21068,  21083,  21084,  ..., 896674, 896701, 896703],\n",
      "        [     0,      1,      1,  ..., 842188, 842189, 842189]],\n",
      "       device='cuda:0'), tensor([[0.0260, 0.0613, 0.0260,  ..., 0.0242, 0.0453, 0.0000],\n",
      "        [0.0121, 0.0226, 0.0147,  ..., 0.0355, 0.0115, 0.0294],\n",
      "        [0.0346, 0.0000, 0.0250,  ..., 0.0347, 0.0243, 0.0368],\n",
      "        ...,\n",
      "        [0.0076, 0.0157, 0.0098,  ..., 0.0280, 0.0000, 0.0214],\n",
      "        [0.1267, 0.1076, 0.1340,  ..., 0.0000, 0.1410, 0.0000],\n",
      "        [0.0234, 0.0437, 0.0299,  ..., 0.0688, 0.0233, 0.0000]],\n",
      "       device='cuda:0', grad_fn=<NativeDropoutBackward0>))\n",
      "gene_pre: tensor([-0.0000e+00, 2.4217e-03, 1.1921e-07,  ..., 3.9081e-01, 5.9637e-01,\n",
      "        4.1923e-01], device='cuda:0', grad_fn=<NegBackward0>), loss_cell: 1.043700933456421, attention_loss: 3.3567070960998535, sparse_loss: 1.751909852027893\n"
     ]
    },
    {
     "name": "stderr",
     "output_type": "stream",
     "text": [
      "Epoch 8/10: 100%|██████████| 207/207 [00:58<00:00,  3.53batch/s, attention_loss=3.35, cell_loss=1.04, loss=6.16, loss1=0.0054, sparse_loss=1.76]\n"
     ]
    },
    {
     "name": "stdout",
     "output_type": "stream",
     "text": [
      "Epoch [8/10], Average Loss: 6.1610, Loss1: 0.0054, Attention Loss: 3.3546, Sparse Loss: 1.7564, Cell Loss: 1.0446, InfoNCE Loss: 0.0000\n"
     ]
    },
    {
     "name": "stderr",
     "output_type": "stream",
     "text": [
      "Epoch 9/10:   0%|          | 1/207 [00:00<00:57,  3.56batch/s, attention_loss=3.36, cell_loss=1.04, loss=6.15, loss1=0.00526, sparse_loss=1.75]"
     ]
    },
    {
     "name": "stdout",
     "output_type": "stream",
     "text": [
      "tensor([-0.0000e+00, -0.0000e+00, 2.8308e-04,  ..., 2.8761e-02, 2.6135e-02,\n",
      "        4.6866e-01], device='cuda:0', grad_fn=<NegBackward0>) tensor([ 1.0000, -0.4347,  1.0000,  ..., -0.4346,  1.0000, -0.4342],\n",
      "       device='cuda:0', grad_fn=<MedianBackward1>) (tensor([[ 21068,  21083,  21084,  ..., 896674, 896701, 896703],\n",
      "        [     0,      1,      1,  ..., 842188, 842189, 842189]],\n",
      "       device='cuda:0'), tensor([[0.0257, 0.0583, 0.0000,  ..., 0.0240, 0.0000, 0.0485],\n",
      "        [0.0328, 0.0010, 0.0000,  ..., 0.0368, 0.0111, 0.0065],\n",
      "        [0.0459, 0.0925, 0.0454,  ..., 0.0423, 0.0728, 0.0797],\n",
      "        ...,\n",
      "        [0.0000, 0.0012, 0.0256,  ..., 0.0287, 0.0000, 0.0000],\n",
      "        [0.1264, 0.1070, 0.1309,  ..., 0.0835, 0.0000, 0.0923],\n",
      "        [0.0234, 0.0000, 0.0293,  ..., 0.0682, 0.0226, 0.0000]],\n",
      "       device='cuda:0', grad_fn=<NativeDropoutBackward0>))\n",
      "gene_pre: tensor([-0.0000e+00, -0.0000e+00, 2.8308e-04,  ..., 2.8761e-02, 2.6135e-02,\n",
      "        4.6866e-01], device='cuda:0', grad_fn=<NegBackward0>), loss_cell: 1.043723702430725, attention_loss: 3.3561809062957764, sparse_loss: 1.7482218742370605\n"
     ]
    },
    {
     "name": "stderr",
     "output_type": "stream",
     "text": [
      "Epoch 9/10:  97%|█████████▋| 201/207 [00:57<00:01,  3.33batch/s, attention_loss=3.36, cell_loss=1.04, loss=6.16, loss1=0.00536, sparse_loss=1.75]"
     ]
    },
    {
     "name": "stdout",
     "output_type": "stream",
     "text": [
      "tensor([-0.0000e+00, 2.3842e-07, -0.0000e+00,  ..., 1.9009e-03, 1.2875e-01,\n",
      "        7.2460e-02], device='cuda:0', grad_fn=<NegBackward0>) tensor([ 1.0000, -0.5086, -0.5086,  ...,  1.0000,  1.0000,  1.0000],\n",
      "       device='cuda:0', grad_fn=<MedianBackward1>) (tensor([[ 21068,  21083,  21084,  ..., 896674, 896701, 896703],\n",
      "        [     0,      1,      1,  ..., 842188, 842189, 842189]],\n",
      "       device='cuda:0'), tensor([[0.0000, 0.0000, 0.0269,  ..., 0.0237, 0.0817, 0.0000],\n",
      "        [0.0228, 0.0306, 0.0264,  ..., 0.0382, 0.0197, 0.0347],\n",
      "        [0.0228, 0.0306, 0.0264,  ..., 0.0000, 0.0197, 0.0347],\n",
      "        ...,\n",
      "        [0.0271, 0.0258, 0.0191,  ..., 0.0000, 0.0172, 0.0280],\n",
      "        [0.0000, 0.0816, 0.0752,  ..., 0.0000, 0.0000, 0.0800],\n",
      "        [0.1287, 0.1107, 0.0000,  ..., 0.0000, 0.1485, 0.0944]],\n",
      "       device='cuda:0', grad_fn=<NativeDropoutBackward0>))\n",
      "gene_pre: tensor([-0.0000e+00, 2.3842e-07, -0.0000e+00,  ..., 1.9009e-03, 1.2875e-01,\n",
      "        7.2460e-02], device='cuda:0', grad_fn=<NegBackward0>), loss_cell: 1.0437531471252441, attention_loss: 3.3599228858947754, sparse_loss: 1.7390693426132202\n"
     ]
    },
    {
     "name": "stderr",
     "output_type": "stream",
     "text": [
      "Epoch 9/10: 100%|██████████| 207/207 [00:58<00:00,  3.51batch/s, attention_loss=3.35, cell_loss=1.04, loss=6.15, loss1=0.00536, sparse_loss=1.74]\n"
     ]
    },
    {
     "name": "stdout",
     "output_type": "stream",
     "text": [
      "Epoch [9/10], Average Loss: 6.1491, Loss1: 0.0054, Attention Loss: 3.3545, Sparse Loss: 1.7447, Cell Loss: 1.0446, InfoNCE Loss: 0.0000\n"
     ]
    },
    {
     "name": "stderr",
     "output_type": "stream",
     "text": [
      "Epoch 10/10:   0%|          | 1/207 [00:00<00:55,  3.73batch/s, attention_loss=3.36, cell_loss=1.04, loss=6.15, loss1=0.0056, sparse_loss=1.74]"
     ]
    },
    {
     "name": "stdout",
     "output_type": "stream",
     "text": [
      "tensor([1.4305e-05, 2.2411e-05, 1.5497e-06,  ..., 8.6708e-02, 1.2889e-02,\n",
      "        1.3814e-02], device='cuda:0', grad_fn=<NegBackward0>) tensor([-0.5109, -0.5109,  1.0000,  ..., -0.5113,  1.0000,  1.0000],\n",
      "       device='cuda:0', grad_fn=<MedianBackward1>) (tensor([[ 21068,  21083,  21084,  ..., 896674, 896701, 896703],\n",
      "        [     0,      1,      1,  ..., 842188, 842189, 842189]],\n",
      "       device='cuda:0'), tensor([[0.0000, 0.0142, 0.0118,  ..., 0.0214, 0.0077, 0.0175],\n",
      "        [0.0000, 0.0248, 0.0202,  ..., 0.0000, 0.0130, 0.0308],\n",
      "        [0.0752, 0.0617, 0.0712,  ..., 0.0000, 0.0824, 0.0000],\n",
      "        ...,\n",
      "        [0.0247, 0.0006, 0.0259,  ..., 0.0287, 0.0061, 0.0037],\n",
      "        [0.0820, 0.1308, 0.0000,  ..., 0.0772, 0.1149, 0.0000],\n",
      "        [0.0736, 0.0124, 0.0000,  ..., 0.0655, 0.0428, 0.0320]],\n",
      "       device='cuda:0', grad_fn=<NativeDropoutBackward0>))\n",
      "gene_pre: tensor([1.4305e-05, 2.2411e-05, 1.5497e-06,  ..., 8.6708e-02, 1.2889e-02,\n",
      "        1.3814e-02], device='cuda:0', grad_fn=<NegBackward0>), loss_cell: 1.0436770915985107, attention_loss: 3.362705945968628, sparse_loss: 1.737430214881897\n"
     ]
    },
    {
     "name": "stderr",
     "output_type": "stream",
     "text": [
      "Epoch 10/10:  97%|█████████▋| 201/207 [00:56<00:01,  3.55batch/s, attention_loss=3.36, cell_loss=1.04, loss=6.15, loss1=0.00535, sparse_loss=1.74]"
     ]
    },
    {
     "name": "stdout",
     "output_type": "stream",
     "text": [
      "tensor([-0.0000, -0.0000, -0.0000,  ..., 0.0369, 0.0014, 0.0315],\n",
      "       device='cuda:0', grad_fn=<NegBackward0>) tensor([ 1.0000, -0.5777, -0.5777,  ...,  1.0000,  1.0000, -0.5777],\n",
      "       device='cuda:0', grad_fn=<MedianBackward1>) (tensor([[ 21068,  21083,  21084,  ..., 896674, 896701, 896703],\n",
      "        [     0,      1,      1,  ..., 842188, 842189, 842189]],\n",
      "       device='cuda:0'), tensor([[0.0262, 0.0683, 0.0253,  ..., 0.0234, 0.0497, 0.0545],\n",
      "        [0.0181, 0.0000, 0.0000,  ..., 0.0382, 0.0000, 0.0320],\n",
      "        [0.0000, 0.0267, 0.0242,  ..., 0.0000, 0.0144, 0.0320],\n",
      "        ...,\n",
      "        [0.0359, 0.0766, 0.0344,  ..., 0.0319, 0.0636, 0.0680],\n",
      "        [0.0000, 0.0000, 0.1078,  ..., 0.0750, 0.1317, 0.0927],\n",
      "        [0.0000, 0.0456, 0.0407,  ..., 0.0717, 0.0000, 0.0570]],\n",
      "       device='cuda:0', grad_fn=<NativeDropoutBackward0>))\n",
      "gene_pre: tensor([-0.0000, -0.0000, -0.0000,  ..., 0.0369, 0.0014, 0.0315],\n",
      "       device='cuda:0', grad_fn=<NegBackward0>), loss_cell: 1.0436692237854004, attention_loss: 3.3592779636383057, sparse_loss: 1.7283210754394531\n"
     ]
    },
    {
     "name": "stderr",
     "output_type": "stream",
     "text": [
      "Epoch 10/10: 100%|██████████| 207/207 [00:57<00:00,  3.59batch/s, attention_loss=3.35, cell_loss=1.04, loss=6.14, loss1=0.00535, sparse_loss=1.73]"
     ]
    },
    {
     "name": "stdout",
     "output_type": "stream",
     "text": [
      "Epoch [10/10], Average Loss: 6.1380, Loss1: 0.0053, Attention Loss: 3.3544, Sparse Loss: 1.7337, Cell Loss: 1.0446, InfoNCE Loss: 0.0000\n"
     ]
    },
    {
     "name": "stderr",
     "output_type": "stream",
     "text": [
      "\n"
     ]
    }
   ],
   "source": [
    "def drop_edges(edge_index, drop_rate=0.1):\n",
    "    \"\"\"随机丢弃边，依据设定的丢弃比例。\n",
    "    Args:\n",
    "        edge_index (torch.Tensor): 边的张量，形状为 (2, num_edges)。\n",
    "        drop_rate (float): 要丢弃的边的比例。\n",
    "    Returns:\n",
    "        torch.Tensor: 丢弃部分边后的 edge_index。\n",
    "    \"\"\"\n",
    "    num_edges = edge_index.size(1)\n",
    "    mask = torch.rand(num_edges) > drop_rate\n",
    "    return edge_index[:, mask]\n",
    "\n",
    "\n",
    "for epoch in range(num_epoch):\n",
    "    train_loader = DataLoader(train_graph, batch_size=batch_size, shuffle=True)\n",
    "    model.train()\n",
    "    running_loss = 0.0\n",
    "    running_loss1 = 0.0\n",
    "    running_attention_loss = 0.0  # 记录 attention 正则化损失\n",
    "    running_sparse_loss = 0.0  # 记录稀疏损失\n",
    "    running_cell_loss = 0.0  # 记录 loss_cell\n",
    "\n",
    "    progress_bar = tqdm(train_loader, desc=f\"Epoch {epoch+1}/{num_epoch}\", unit=\"batch\")\n",
    "    \n",
    "    for idx, sample in enumerate(progress_bar):\n",
    "        gene_num = sample.y_exp.shape[0]\n",
    "        optimizer.zero_grad()\n",
    "        edge_index_dropped = sample.edge_index\n",
    "        gene_pre, atten, cell_pre = model(\n",
    "            sample.seq_data.to(device),\n",
    "            sample.x.to(device),\n",
    "            sample.edge_index.to(device),\n",
    "            sample.edge_tf.T.to(device),\n",
    "            sample.batch.to(device), \n",
    "            gene_num, \n",
    "            sample.id_vec.to(device)\n",
    "        )\n",
    "        edge_temp = model.edge\n",
    "        labels = sample.y.to(device)\n",
    "        index = torch.where(sample.x[sample.id_vec == 1] > 0)[0]\n",
    "        loss1 = -loss_exp(gene_pre.flatten()[index], sample.y_exp.to(device)[index]) \n",
    "        loss_cell = criterion2(cell_pre, labels)\n",
    "        temp_var_edge = torch.stack(torch.split(edge_temp, sample.edge_index.shape[1] // len(sample.y)))\n",
    "        temp_var_atten = torch.stack(torch.split(atten[1], sample.edge_index.shape[1] // len(sample.y)))\n",
    "        attention_loss = attention_reg_weight * criterion_sparse2(temp_var_atten)\n",
    "        # loss_infonce = info_weight * infonce_loss(temp_var_edge, labels, temperature=0.1)  # InfoNCE loss\n",
    "\n",
    "        loss2 = sparse_loss_weight * criterion_sparse1(temp_var_edge)\n",
    "        \n",
    "        loss = loss1 + attention_loss + loss2 + loss_cell \n",
    "  \n",
    "        loss.backward()\n",
    "        torch.nn.utils.clip_grad_norm_(model.parameters(), max_grad_norm)\n",
    "        optimizer.step()\n",
    "        \n",
    "        running_loss += loss.item()\n",
    "        running_loss1 += loss1.item()\n",
    "        running_attention_loss += attention_loss.item()  # 记录注意力正则化损失\n",
    "        running_sparse_loss += loss2.item()  # 记录稀疏损失\n",
    "        running_cell_loss += loss_cell.item()  # 记录 loss_cell\n",
    "     \n",
    "        \n",
    "        if idx % 200 == 0:\n",
    "            print(gene_pre, edge_temp, atten)\n",
    "            print(f\"gene_pre: {gene_pre}, loss_cell: {loss_cell.item()}, attention_loss: {attention_loss.item()}, sparse_loss: {loss2.item()}\")\n",
    "        \n",
    "        progress_bar.set_postfix(\n",
    "            loss=running_loss / (progress_bar.n + 1),\n",
    "            loss1=running_loss1 / (progress_bar.n + 1),\n",
    "            attention_loss=running_attention_loss / (progress_bar.n + 1),\n",
    "            sparse_loss=running_sparse_loss / (progress_bar.n + 1),\n",
    "            cell_loss=running_cell_loss / (progress_bar.n + 1)\n",
    "        )\n",
    "        \n",
    "        torch.cuda.empty_cache()\n",
    "    \n",
    "    print(f\"Epoch [{epoch+1}/{num_epoch}], Average Loss: {running_loss / len(train_loader):.4f}, \"\n",
    "          f\"Loss1: {running_loss1 / len(train_loader):.4f}, Attention Loss: {running_attention_loss / len(train_loader):.4f}, \"\n",
    "          f\"Sparse Loss: {running_sparse_loss / len(train_loader):.4f}, Cell Loss: {running_cell_loss / len(train_loader):.4f}\")\n"
   ]
  },
  {
   "cell_type": "code",
   "execution_count": null,
   "metadata": {},
   "outputs": [],
   "source": []
  },
  {
   "cell_type": "code",
   "execution_count": null,
   "metadata": {},
   "outputs": [],
   "source": []
  },
  {
   "cell_type": "code",
   "execution_count": null,
   "metadata": {},
   "outputs": [],
   "source": []
  },
  {
   "cell_type": "code",
   "execution_count": 17,
   "metadata": {},
   "outputs": [
    {
     "name": "stderr",
     "output_type": "stream",
     "text": [
      "Processing Batches: 100%|██████████| 132/132 [00:09<00:00, 14.25it/s]\n"
     ]
    }
   ],
   "source": [
    "import torch\n",
    "from tqdm import tqdm\n",
    "\n",
    "batch_size = 8\n",
    "test_loader = DataLoader(test_graph, batch_size=batch_size, shuffle=True, pin_memory=True)\n",
    "model.eval()\n",
    "device = 'cuda:0'\n",
    "model.to(device)\n",
    "\n",
    "cell_type = []\n",
    "test_barcodes = []\n",
    "cell_link_atten = []\n",
    "cell_link_activity = []\n",
    "cell_link_edge = []\n",
    "cell_link_enhancer = []\n",
    "\n",
    "with torch.no_grad():\n",
    "    for idx, sample in tqdm(enumerate(test_loader), total=len(test_loader), desc=\"Processing Batches\"):\n",
    "        gene_num = sample.y_exp.shape[0]\n",
    "        gene_pre, atten, _ = model(\n",
    "            sample.seq_data.to(device),\n",
    "            sample.x.to(device), \n",
    "            sample.edge_index.to(device), \n",
    "            sample.edge_tf.T.to(device), \n",
    "            sample.batch.to(device), \n",
    "            gene_num, \n",
    "            sample.id_vec.to(device), \n",
    "            is_test=True\n",
    "        )\n",
    "        sample_size = len(sample.y)\n",
    "        test_barcodes.extend(sample.cell)  # Ensure on CPU\n",
    "        cell_type.extend(sample.y.cpu().numpy())\n",
    "\n",
    "        # Edge processing\n",
    "        edge_temp = model.edge.flatten().to('cpu')\n",
    "        edge_lists = edge_temp.split(edge_temp.size(0) // sample_size)\n",
    "\n",
    "        for edge in edge_lists:\n",
    "            min_val = edge.min()\n",
    "            max_val = edge.max()\n",
    "            normalized_edge = (edge - min_val) / (max_val - min_val + 1e-10)  # Prevent division by zero\n",
    "            cell_link_edge.append(normalized_edge)\n",
    "\n",
    "        # Flatten and process attention data\n",
    "        atten_x_indices = atten[0][1].cpu()\n",
    "        atten_enhancer_indices = atten[0][0].cpu()\n",
    "        flattened_sample_x = sample.x[atten_x_indices].flatten().to('cpu')\n",
    "        flattened_sample_enhancer = sample.x[atten_enhancer_indices].flatten().to('cpu')\n",
    "        atten1_max = atten[1].mean(dim=1).to('cpu')\n",
    "\n",
    "        # Split and collect\n",
    "        for x, enhancer, atten_ in zip(\n",
    "            flattened_sample_x.split(flattened_sample_x.size(0) // sample_size),\n",
    "            flattened_sample_enhancer.split(flattened_sample_enhancer.size(0) // sample_size),\n",
    "            atten1_max.split(atten1_max.size(0) // sample_size)\n",
    "        ):\n",
    "            cell_link_activity.append(x)\n",
    "            cell_link_atten.append(atten_)\n",
    "            cell_link_enhancer.append(enhancer)\n",
    "\n",
    "        # Clear cache\n",
    "        torch.cuda.empty_cache()\n",
    "\n",
    "# Optionally return or further process the collected data\n"
   ]
  },
  {
   "cell_type": "code",
   "execution_count": null,
   "metadata": {},
   "outputs": [],
   "source": []
  },
  {
   "cell_type": "code",
   "execution_count": null,
   "metadata": {},
   "outputs": [],
   "source": []
  },
  {
   "cell_type": "code",
   "execution_count": null,
   "metadata": {},
   "outputs": [],
   "source": []
  },
  {
   "cell_type": "code",
   "execution_count": 18,
   "metadata": {},
   "outputs": [],
   "source": [
    "cell_link_atten = torch.stack(cell_link_atten)\n",
    "cell_link_edge = torch.stack(cell_link_edge)\n",
    "cell_link_activity = torch.stack(cell_link_activity)\n",
    "cell_link_enhancer = torch.stack(cell_link_enhancer)"
   ]
  },
  {
   "cell_type": "code",
   "execution_count": 19,
   "metadata": {},
   "outputs": [],
   "source": [
    "edge_names = pd.read_csv('oligodendrocyte_scores.txt', sep='\\t', index_col=0).index\n",
    "edge_list = []\n",
    "for t in edge_names:\n",
    "    split_res = t.split(\"'\")\n",
    "    gene_tag = split_res[1]\n",
    "    region = split_res[3]\n",
    "    edge_list.append(gene_tag + '-' + region)\n",
    "\n",
    "cols1 = dataset_graph[0].edge_index[0, :]\n",
    "cols2 = dataset_graph[0].edge_index[1, :]\n",
    "\n",
    "tag1 = [dataset_atac.array_peak[t] for t in cols2]\n",
    "tag2 = [dataset_atac.array_peak[t] for t in cols1]\n",
    "\n",
    "edge_names_anchors = [t1+'-'+t2 for t1, t2 in zip(tag1, tag2)]\n",
    "\n",
    "edge_index = []\n",
    "for t in edge_list:\n",
    "    try:\n",
    "        edge_index.append(edge_names_anchors.index(t))\n",
    "    except:\n",
    "        continue\n",
    "        \n"
   ]
  },
  {
   "cell_type": "code",
   "execution_count": 20,
   "metadata": {},
   "outputs": [],
   "source": [
    "cell_type_cpu = dataset_atac.adata.obs.loc[test_barcodes]['celltype'].values\n",
    "cell_type_cpu = np.array(cell_type_cpu)\n",
    "unique_celltype = list(dataset_atac.array_celltype)"
   ]
  },
  {
   "cell_type": "code",
   "execution_count": null,
   "metadata": {},
   "outputs": [],
   "source": []
  },
  {
   "cell_type": "code",
   "execution_count": null,
   "metadata": {},
   "outputs": [],
   "source": []
  },
  {
   "cell_type": "code",
   "execution_count": 21,
   "metadata": {},
   "outputs": [
    {
     "name": "stderr",
     "output_type": "stream",
     "text": [
      " FutureWarning:/tmp/ipykernel_47635/930888697.py:33: \n",
      "\n",
      "Passing `palette` without assigning `hue` is deprecated and will be removed in v0.14.0. Assign the `x` variable to `hue` and set `legend=False` for the same effect.\n",
      "\n"
     ]
    },
    {
     "data": {
      "image/png": "[encoded data removed]",
      "text/plain": [
       "<Figure size 1000x600 with 1 Axes>"
      ]
     },
     "metadata": {},
     "output_type": "display_data"
    }
   ],
   "source": [
    "import pandas as pd\n",
    "import numpy as np\n",
    "import matplotlib.pyplot as plt\n",
    "import seaborn as sns\n",
    "from scipy.stats import zscore\n",
    "\n",
    "# temp_normalized = cell_link_enhancer[:, edge_index].cpu().numpy() * cell_link_activity[:, edge_index].cpu().numpy()\n",
    "temp_normalized = cell_link_edge[:, edge_index].cpu().numpy()\n",
    "temp_normalized = zscore(temp_normalized, axis=0) \n",
    "\n",
    "# 计算每个细胞类型组的均值\n",
    "means = [np.mean(temp_normalized[cell_type_cpu == unique_celltype[i], :], axis=0) for i in range(len(unique_celltype))]\n",
    "\n",
    "# 创建数据框并按均值排序\n",
    "mean_data = {'Group': ['Type ' + str(i) for i in range(len(unique_celltype))],\n",
    "             'Mean': [np.median(m) for m in means]}\n",
    "mean_df = pd.DataFrame(mean_data).sort_values(by='Mean')\n",
    "\n",
    "# 准备用于绘图的数据\n",
    "sorted_means = [means[int(group.split(' ')[1])] for group in mean_df['Group']]\n",
    "data = {'Group': np.repeat(mean_df['Group'], [len(m) for m in sorted_means]),\n",
    "        'Values': np.concatenate(sorted_means)}\n",
    "df = pd.DataFrame(data)\n",
    "mean_df['Group'] = [unique_celltype[int(group.split(' ')[1])] for group in mean_df['Group']]\n",
    "\n",
    "# 用更新的 Group 名字来替换 data 中的 Group\n",
    "df['Group'] = [unique_celltype[int(group.split(' ')[1])] for group in df['Group']]\n",
    "\n",
    "sns.set(style=\"whitegrid\") \n",
    "palette = sns.color_palette(\"viridis\", len(unique_celltype))  \n",
    "\n",
    "plt.figure(figsize=(10, 6))\n",
    "sns.boxplot(x='Group', y='Values', data=df, order=mean_df['Group'], palette=palette)\n",
    "plt.title(\"B cell specific interactions\")\n",
    "plt.ylabel(\"Regulatory score\")\n",
    "plt.xlabel(\"Cell Type\")\n",
    "plt.ylim(-2.5, 2.5)\n",
    "\n",
    "plt.xticks(rotation=45)\n",
    "plt.grid(True, linestyle='--', alpha=0.5)\n",
    "\n",
    "# plt.savefig('./fig/B_cell.png')\n",
    "plt.show()"
   ]
  },
  {
   "cell_type": "code",
   "execution_count": 23,
   "metadata": {},
   "outputs": [
    {
     "name": "stderr",
     "output_type": "stream",
     "text": [
      " RuntimeWarning:/root/anaconda3/envs/HT2VEC/lib/python3.8/site-packages/scanpy/preprocessing/_highly_variable_genes.py:218: invalid value encountered in log\n",
      " UserWarning:/root/anaconda3/envs/HT2VEC/lib/python3.8/site-packages/scanpy/preprocessing/_simple.py:843: Received a view of an AnnData. Making a copy.\n",
      " UserWarning:/root/anaconda3/envs/HT2VEC/lib/python3.8/site-packages/scanpy/plotting/_tools/scatterplots.py:394: No data for colormapping provided via 'c'. Parameters 'cmap' will be ignored\n"
     ]
    },
    {
     "data": {
      "image/png": "[encoded data removed]",
      "text/plain": [
       "<Figure size 640x480 with 1 Axes>"
      ]
     },
     "metadata": {},
     "output_type": "display_data"
    }
   ],
   "source": [
    "data_np = cell_link_edge.cpu().numpy() \n",
    "import numpy as np\n",
    "adata_edge = ad.AnnData(\n",
    "    X=data_np, obs=dataset_atac.adata.obs.loc[test_barcodes])\n",
    "adata = adata_edge\n",
    "sc.pp.highly_variable_genes(adata, n_top_genes=10000, flavor='seurat')\n",
    "adata = adata[:, adata.var.highly_variable]\n",
    "sc.pp.scale(adata, max_value=10)\n",
    "sc.tl.pca(adata, svd_solver='arpack', n_comps=20)\n",
    "sc.pp.neighbors(adata, n_neighbors=15, n_pcs=20, metric=\"cosine\")\n",
    "sc.tl.umap(adata, min_dist=0.5)\n",
    "sc.pl.umap(adata, color=['celltype'], wspace=0.4,frameon=False)"
   ]
  },
  {
   "cell_type": "code",
   "execution_count": null,
   "metadata": {},
   "outputs": [],
   "source": []
  },
  {
   "cell_type": "code",
   "execution_count": null,
   "metadata": {},
   "outputs": [],
   "source": []
  }
 ],
 "metadata": {
  "kernelspec": {
   "display_name": "Python HT2VEC",
   "language": "python",
   "name": "ht2vec"
  },
  "language_info": {
   "codemirror_mode": {
    "name": "ipython",
    "version": 3
   },
   "file_extension": ".py",
   "mimetype": "text/x-python",
   "name": "python",
   "nbconvert_exporter": "python",
   "pygments_lexer": "ipython3",
   "version": "3.8.17"
  }
 },
 "nbformat": 4,
 "nbformat_minor": 4
}
